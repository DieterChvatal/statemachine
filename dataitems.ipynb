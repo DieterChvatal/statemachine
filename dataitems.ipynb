{
 "cells": [
  {
   "cell_type": "code",
   "execution_count": 1,
   "metadata": {},
   "outputs": [],
   "source": [
    "import arrow\n",
    "from pprint import pprint as pp\n",
    "import dmyplant2\n",
    "from dmyplant2 import MyPlant"
   ]
  },
  {
   "cell_type": "code",
   "execution_count": 4,
   "metadata": {},
   "outputs": [
    {
     "data": {
      "text/html": [
       "<div>\n",
       "<style scoped>\n",
       "    .dataframe tbody tr th:only-of-type {\n",
       "        vertical-align: middle;\n",
       "    }\n",
       "\n",
       "    .dataframe tbody tr th {\n",
       "        vertical-align: top;\n",
       "    }\n",
       "\n",
       "    .dataframe thead th {\n",
       "        text-align: right;\n",
       "    }\n",
       "</style>\n",
       "<table border=\"1\" class=\"dataframe\">\n",
       "  <thead>\n",
       "    <tr style=\"text-align: right;\">\n",
       "      <th></th>\n",
       "      <th>id</th>\n",
       "      <th>name</th>\n",
       "      <th>unit</th>\n",
       "      <th>myPlantName</th>\n",
       "    </tr>\n",
       "  </thead>\n",
       "  <tbody>\n",
       "    <tr>\n",
       "      <th>0</th>\n",
       "      <td>19088</td>\n",
       "      <td>Various_Values_SetPosTurboBypassA2</td>\n",
       "      <td>%</td>\n",
       "      <td>Compressor bypass valve W2 - A</td>\n",
       "    </tr>\n",
       "    <tr>\n",
       "      <th>1</th>\n",
       "      <td>16584</td>\n",
       "      <td>Various_Values_PosTurboBypassA1</td>\n",
       "      <td>%</td>\n",
       "      <td>Compressor bypass valve X1 - A</td>\n",
       "    </tr>\n",
       "    <tr>\n",
       "      <th>2</th>\n",
       "      <td>19090</td>\n",
       "      <td>Various_Values_SetPosTurboBypassB2</td>\n",
       "      <td>%</td>\n",
       "      <td>Compressor bypass valve W2 - B</td>\n",
       "    </tr>\n",
       "    <tr>\n",
       "      <th>3</th>\n",
       "      <td>1019866</td>\n",
       "      <td>Estimated_Compressor_Bypass_Position</td>\n",
       "      <td>%</td>\n",
       "      <td>Estimated Compressor Bypass Position</td>\n",
       "    </tr>\n",
       "    <tr>\n",
       "      <th>4</th>\n",
       "      <td>103</td>\n",
       "      <td>Various_Values_PosTurboBypass</td>\n",
       "      <td>%</td>\n",
       "      <td>Compressor bypass</td>\n",
       "    </tr>\n",
       "    <tr>\n",
       "      <th>5</th>\n",
       "      <td>16585</td>\n",
       "      <td>Various_Values_PosTurboBypassB1</td>\n",
       "      <td>%</td>\n",
       "      <td>Compressor bypass valve X1 - B</td>\n",
       "    </tr>\n",
       "    <tr>\n",
       "      <th>6</th>\n",
       "      <td>19089</td>\n",
       "      <td>Various_Values_SetPosTurboBypassB1</td>\n",
       "      <td>%</td>\n",
       "      <td>Compressor bypass valve W1 - B</td>\n",
       "    </tr>\n",
       "    <tr>\n",
       "      <th>7</th>\n",
       "      <td>10044363</td>\n",
       "      <td>manualdata_logbook_leanox_turbocharger_bypass_pos</td>\n",
       "      <td>%</td>\n",
       "      <td>Logbook: Turbocharger bypass position</td>\n",
       "    </tr>\n",
       "    <tr>\n",
       "      <th>8</th>\n",
       "      <td>16586</td>\n",
       "      <td>Various_Values_PosTurboBypassB2</td>\n",
       "      <td>%</td>\n",
       "      <td>Compressor bypass valve X1 - B</td>\n",
       "    </tr>\n",
       "    <tr>\n",
       "      <th>9</th>\n",
       "      <td>19087</td>\n",
       "      <td>Various_Values_SetPosTurboBypassA1</td>\n",
       "      <td>%</td>\n",
       "      <td>Compressor bypass valve W1 - A</td>\n",
       "    </tr>\n",
       "    <tr>\n",
       "      <th>10</th>\n",
       "      <td>16590</td>\n",
       "      <td>Various_Values_PosTurboBypassA2</td>\n",
       "      <td>%</td>\n",
       "      <td>Compressor bypass valve X2 - A</td>\n",
       "    </tr>\n",
       "  </tbody>\n",
       "</table>\n",
       "</div>"
      ],
      "text/plain": [
       "          id                                               name unit  \\\n",
       "0      19088                 Various_Values_SetPosTurboBypassA2    %   \n",
       "1      16584                    Various_Values_PosTurboBypassA1    %   \n",
       "2      19090                 Various_Values_SetPosTurboBypassB2    %   \n",
       "3    1019866               Estimated_Compressor_Bypass_Position    %   \n",
       "4        103                      Various_Values_PosTurboBypass    %   \n",
       "5      16585                    Various_Values_PosTurboBypassB1    %   \n",
       "6      19089                 Various_Values_SetPosTurboBypassB1    %   \n",
       "7   10044363  manualdata_logbook_leanox_turbocharger_bypass_pos    %   \n",
       "8      16586                    Various_Values_PosTurboBypassB2    %   \n",
       "9      19087                 Various_Values_SetPosTurboBypassA1    %   \n",
       "10     16590                    Various_Values_PosTurboBypassA2    %   \n",
       "\n",
       "                              myPlantName  \n",
       "0          Compressor bypass valve W2 - A  \n",
       "1          Compressor bypass valve X1 - A  \n",
       "2          Compressor bypass valve W2 - B  \n",
       "3    Estimated Compressor Bypass Position  \n",
       "4                       Compressor bypass  \n",
       "5          Compressor bypass valve X1 - B  \n",
       "6          Compressor bypass valve W1 - B  \n",
       "7   Logbook: Turbocharger bypass position  \n",
       "8          Compressor bypass valve X1 - B  \n",
       "9          Compressor bypass valve W1 - A  \n",
       "10         Compressor bypass valve X2 - A  "
      ]
     },
     "execution_count": 4,
     "metadata": {},
     "output_type": "execute_result"
    }
   ],
   "source": [
    "#erg = MyPlant.lookup_dataitems(lookup='alar',exclude='Para_')\n",
    "erg = MyPlant.lookup_dataitems(lookup='bypass',exclude='Para_')\n",
    "#erg = MyPlant.lookup_dataitems(lookup='Hyd_',exclude='Para_')\n",
    "erg"
   ]
  },
  {
   "cell_type": "code",
   "execution_count": 3,
   "metadata": {},
   "outputs": [
    {
     "name": "stdout",
     "output_type": "stream",
     "text": [
      "1402901 HKW Pforzheim M04\n"
     ]
    }
   ],
   "source": [
    "dmyplant2.cred()\n",
    "mp = dmyplant2.MyPlant(0)\n",
    "e=dmyplant2.Engine.from_sn(mp,1402901)\n",
    "print(e)"
   ]
  },
  {
   "cell_type": "code",
   "execution_count": 4,
   "metadata": {},
   "outputs": [
    {
     "name": "stderr",
     "output_type": "stream",
     "text": [
      "ERROR:root:Code: /asset/136558/history/batchdata?from=1642177386000&to=1642177387000&timeCycle=1&assetType=J-Engine&includeMinMax=false&forceDownSampling=false&dataItemIds=, 404, No data was found\n",
      "ERROR:root:Code: /asset/136558/history/batchdata?from=1642177386000&to=1642177387000&timeCycle=1&assetType=J-Engine&includeMinMax=false&forceDownSampling=false&dataItemIds=, 404, No data was found\n",
      "ERROR:root:Code: /asset/136558/history/batchdata?from=1642177386000&to=1642177387000&timeCycle=1&assetType=J-Engine&includeMinMax=false&forceDownSampling=false&dataItemIds=, 404, No data was found\n",
      "ERROR:root:Code: /asset/136558/history/batchdata?from=1642177386000&to=1642177387000&timeCycle=1&assetType=J-Engine&includeMinMax=false&forceDownSampling=false&dataItemIds=, 404, No data was found\n"
     ]
    },
    {
     "data": {
      "text/plain": [
       "[{'manualdata_logbook_generator_bearing_temp_as': True, 'value': -9999},\n",
       " {'Geno_BearingTempPrediction_NonDriveEnd': True, 'value': -9999},\n",
       " {'Geno_BearingTempPrediction_DriveEnd': True, 'value': -9999},\n",
       " {'manualdata_logbook_generator_bearing_temp_nas': True, 'value': -9999}]"
      ]
     },
     "execution_count": 4,
     "metadata": {},
     "output_type": "execute_result"
    }
   ],
   "source": [
    "e.assess_dataItems(list(erg['name']), arrow.get('2022-01-14 16:23:06'))"
   ]
  }
 ],
 "metadata": {
  "interpreter": {
   "hash": "00e7f18031541dc25b2d1c6c1f90e0b122a906b1440859c87878a4f6b4e1a002"
  },
  "kernelspec": {
   "display_name": "Python 3.8.5 ('base')",
   "language": "python",
   "name": "python3"
  },
  "language_info": {
   "codemirror_mode": {
    "name": "ipython",
    "version": 3
   },
   "file_extension": ".py",
   "mimetype": "text/x-python",
   "name": "python",
   "nbconvert_exporter": "python",
   "pygments_lexer": "ipython3",
   "version": "3.9.7"
  },
  "orig_nbformat": 4
 },
 "nbformat": 4,
 "nbformat_minor": 2
}
