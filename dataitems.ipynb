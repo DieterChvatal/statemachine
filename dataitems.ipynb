{
 "cells": [
  {
   "cell_type": "code",
   "execution_count": null,
   "metadata": {},
   "outputs": [],
   "source": [
    "import arrow\n",
    "from pprint import pprint as pp\n",
    "import dmyplant2\n",
    "from dmyplant2 import MyPlant"
   ]
  },
  {
   "cell_type": "code",
   "execution_count": null,
   "metadata": {},
   "outputs": [],
   "source": [
    "erg = MyPlant.lookup_dataitems(lookup='Wastegate',exclude='Para_|PBC_')\n",
    "erg"
   ]
  },
  {
   "cell_type": "code",
   "execution_count": null,
   "metadata": {},
   "outputs": [],
   "source": [
    "testset=list(erg['name'])\n",
    "testset"
   ]
  },
  {
   "cell_type": "code",
   "execution_count": null,
   "metadata": {},
   "outputs": [],
   "source": [
    "dmyplant2.cred()\n",
    "mp = dmyplant2.MyPlant(0)\n",
    "e=dmyplant2.Engine.from_sn(mp,1402901)\n",
    "e.assess_dataItems(testset)"
   ]
  },
  {
   "cell_type": "code",
   "execution_count": null,
   "metadata": {},
   "outputs": [],
   "source": [
    "def assess_dataItems(e, testset):\n",
    "    result = []\n",
    "    for item in testset:\n",
    "        try:\n",
    "            testdata = e.hist_data(\n",
    "                itemIds= e.get_dataItems([item]), \n",
    "                p_from=arrow.get(e.valstart_ts), \n",
    "                p_to=arrow.get(e.valstart_ts), \n",
    "                timeCycle=30,\n",
    "                forceReload=False)\n",
    "            result.append({item:True})#, 'value':testdata[item].iloc[0]})\n",
    "            print(testdata)\n",
    "        except ValueError as err:\n",
    "            result.append({item:False})\n",
    "    return result\n",
    "assess_dataItems(e, testset)"
   ]
  }
 ],
 "metadata": {
  "interpreter": {
   "hash": "00e7f18031541dc25b2d1c6c1f90e0b122a906b1440859c87878a4f6b4e1a002"
  },
  "kernelspec": {
   "display_name": "Python 3.8.5 ('base')",
   "language": "python",
   "name": "python3"
  },
  "language_info": {
   "codemirror_mode": {
    "name": "ipython",
    "version": 3
   },
   "file_extension": ".py",
   "mimetype": "text/x-python",
   "name": "python",
   "nbconvert_exporter": "python",
   "pygments_lexer": "ipython3",
   "version": "3.9.7"
  },
  "orig_nbformat": 4
 },
 "nbformat": 4,
 "nbformat_minor": 2
}
