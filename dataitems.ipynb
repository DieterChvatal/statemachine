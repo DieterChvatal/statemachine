{
 "cells": [
  {
   "cell_type": "code",
   "execution_count": 1,
   "metadata": {},
   "outputs": [],
   "source": [
    "import arrow\n",
    "from pprint import pprint as pp\n",
    "import dmyplant2\n",
    "from dmyplant2 import MyPlant"
   ]
  },
  {
   "cell_type": "code",
   "execution_count": 2,
   "metadata": {},
   "outputs": [
    {
     "data": {
      "text/html": [
       "<div>\n",
       "<style scoped>\n",
       "    .dataframe tbody tr th:only-of-type {\n",
       "        vertical-align: middle;\n",
       "    }\n",
       "\n",
       "    .dataframe tbody tr th {\n",
       "        vertical-align: top;\n",
       "    }\n",
       "\n",
       "    .dataframe thead th {\n",
       "        text-align: right;\n",
       "    }\n",
       "</style>\n",
       "<table border=\"1\" class=\"dataframe\">\n",
       "  <thead>\n",
       "    <tr style=\"text-align: right;\">\n",
       "      <th></th>\n",
       "      <th>id</th>\n",
       "      <th>name</th>\n",
       "      <th>unit</th>\n",
       "      <th>myPlantName</th>\n",
       "    </tr>\n",
       "  </thead>\n",
       "  <tbody>\n",
       "    <tr>\n",
       "      <th>0</th>\n",
       "      <td>10044350</td>\n",
       "      <td>manualdata_logbook_generator_bearing_temp_as</td>\n",
       "      <td>°C</td>\n",
       "      <td>Logbook: Generator bearing temperature AS</td>\n",
       "    </tr>\n",
       "    <tr>\n",
       "      <th>1</th>\n",
       "      <td>1001000</td>\n",
       "      <td>Geno_BearingTempPrediction_NonDriveEnd</td>\n",
       "      <td>C</td>\n",
       "      <td>Estimated Bearing Temperature on NDE</td>\n",
       "    </tr>\n",
       "    <tr>\n",
       "      <th>2</th>\n",
       "      <td>1001001</td>\n",
       "      <td>Geno_BearingTempPrediction_DriveEnd</td>\n",
       "      <td>C</td>\n",
       "      <td>Estimated Bearing Temperature on  DE</td>\n",
       "    </tr>\n",
       "    <tr>\n",
       "      <th>3</th>\n",
       "      <td>10044351</td>\n",
       "      <td>manualdata_logbook_generator_bearing_temp_nas</td>\n",
       "      <td>°C</td>\n",
       "      <td>Logbook: Generator bearing temperature NAS</td>\n",
       "    </tr>\n",
       "  </tbody>\n",
       "</table>\n",
       "</div>"
      ],
      "text/plain": [
       "         id                                           name unit  \\\n",
       "0  10044350   manualdata_logbook_generator_bearing_temp_as   °C   \n",
       "1   1001000         Geno_BearingTempPrediction_NonDriveEnd    C   \n",
       "2   1001001            Geno_BearingTempPrediction_DriveEnd    C   \n",
       "3  10044351  manualdata_logbook_generator_bearing_temp_nas   °C   \n",
       "\n",
       "                                  myPlantName  \n",
       "0   Logbook: Generator bearing temperature AS  \n",
       "1        Estimated Bearing Temperature on NDE  \n",
       "2        Estimated Bearing Temperature on  DE  \n",
       "3  Logbook: Generator bearing temperature NAS  "
      ]
     },
     "execution_count": 2,
     "metadata": {},
     "output_type": "execute_result"
    }
   ],
   "source": [
    "#erg = MyPlant.lookup_dataitems(lookup='alar',exclude='Para_')\n",
    "erg = MyPlant.lookup_dataitems(lookup='bearing',exclude='Para_')\n",
    "#erg = MyPlant.lookup_dataitems(lookup='Hyd_',exclude='Para_')\n",
    "erg"
   ]
  },
  {
   "cell_type": "code",
   "execution_count": 3,
   "metadata": {},
   "outputs": [
    {
     "name": "stdout",
     "output_type": "stream",
     "text": [
      "1402901 HKW Pforzheim M04\n"
     ]
    }
   ],
   "source": [
    "dmyplant2.cred()\n",
    "mp = dmyplant2.MyPlant(0)\n",
    "e=dmyplant2.Engine.from_sn(mp,1402901)\n",
    "print(e)"
   ]
  },
  {
   "cell_type": "code",
   "execution_count": 4,
   "metadata": {},
   "outputs": [
    {
     "name": "stderr",
     "output_type": "stream",
     "text": [
      "ERROR:root:Code: /asset/136558/history/batchdata?from=1642177386000&to=1642177387000&timeCycle=1&assetType=J-Engine&includeMinMax=false&forceDownSampling=false&dataItemIds=, 404, No data was found\n",
      "ERROR:root:Code: /asset/136558/history/batchdata?from=1642177386000&to=1642177387000&timeCycle=1&assetType=J-Engine&includeMinMax=false&forceDownSampling=false&dataItemIds=, 404, No data was found\n",
      "ERROR:root:Code: /asset/136558/history/batchdata?from=1642177386000&to=1642177387000&timeCycle=1&assetType=J-Engine&includeMinMax=false&forceDownSampling=false&dataItemIds=, 404, No data was found\n",
      "ERROR:root:Code: /asset/136558/history/batchdata?from=1642177386000&to=1642177387000&timeCycle=1&assetType=J-Engine&includeMinMax=false&forceDownSampling=false&dataItemIds=, 404, No data was found\n"
     ]
    },
    {
     "data": {
      "text/plain": [
       "[{'manualdata_logbook_generator_bearing_temp_as': True, 'value': -9999},\n",
       " {'Geno_BearingTempPrediction_NonDriveEnd': True, 'value': -9999},\n",
       " {'Geno_BearingTempPrediction_DriveEnd': True, 'value': -9999},\n",
       " {'manualdata_logbook_generator_bearing_temp_nas': True, 'value': -9999}]"
      ]
     },
     "execution_count": 4,
     "metadata": {},
     "output_type": "execute_result"
    }
   ],
   "source": [
    "e.assess_dataItems(list(erg['name']), arrow.get('2022-01-14 16:23:06'))"
   ]
  }
 ],
 "metadata": {
  "interpreter": {
   "hash": "00e7f18031541dc25b2d1c6c1f90e0b122a906b1440859c87878a4f6b4e1a002"
  },
  "kernelspec": {
   "display_name": "Python 3.8.5 ('base')",
   "language": "python",
   "name": "python3"
  },
  "language_info": {
   "codemirror_mode": {
    "name": "ipython",
    "version": 3
   },
   "file_extension": ".py",
   "mimetype": "text/x-python",
   "name": "python",
   "nbconvert_exporter": "python",
   "pygments_lexer": "ipython3",
   "version": "3.9.7"
  },
  "orig_nbformat": 4
 },
 "nbformat": 4,
 "nbformat_minor": 2
}
