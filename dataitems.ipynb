{
 "cells": [
  {
   "cell_type": "code",
   "execution_count": null,
   "metadata": {},
   "outputs": [],
   "source": [
    "import arrow\n",
    "from pprint import pprint as pp\n",
    "import dmyplant2\n",
    "from dmyplant2 import MyPlant"
   ]
  },
  {
   "cell_type": "code",
   "execution_count": null,
   "metadata": {},
   "outputs": [],
   "source": [
    "erg = MyPlant.lookup_dataitems(lookup='cool',exclude='Para_')\n",
    "#erg = MyPlant.lookup_dataitems(lookup='Sync',exclude='Para_')\n",
    "#erg = MyPlant.lookup_dataitems(lookup='Hyd_',exclude='Para_')\n",
    "erg"
   ]
  },
  {
   "cell_type": "code",
   "execution_count": null,
   "metadata": {},
   "outputs": [],
   "source": [
    "testset=list(erg['name'])\n",
    "testset"
   ]
  },
  {
   "cell_type": "code",
   "execution_count": null,
   "metadata": {},
   "outputs": [],
   "source": [
    "dmyplant2.cred()\n",
    "mp = dmyplant2.MyPlant(0)\n",
    "e=dmyplant2.Engine.from_sn(mp,1402901)\n",
    "print(e)"
   ]
  },
  {
   "cell_type": "code",
   "execution_count": null,
   "metadata": {},
   "outputs": [],
   "source": [
    "e.get_keyId('Hyd_TempOil')"
   ]
  },
  {
   "cell_type": "code",
   "execution_count": null,
   "metadata": {},
   "outputs": [],
   "source": [
    "def assess_dataItems(e, testset, p_ts):\n",
    "    result = []\n",
    "    for item in testset:\n",
    "        try:\n",
    "            testdata = e._mp.hist_data(\n",
    "                e.id,\n",
    "                itemIds= e.get_dataItems([item]), \n",
    "                p_from=p_ts, \n",
    "                p_to=p_ts.shift(seconds=1), \n",
    "                timeCycle=1,\n",
    "                silent=True)\n",
    "            result.append({\n",
    "                item:True, \n",
    "                'value': testdata[item].iloc[0] if not testdata.empty else -9999,\n",
    "                })\n",
    "        except ValueError as err:\n",
    "            result.append({item:False})\n",
    "    return result"
   ]
  },
  {
   "cell_type": "code",
   "execution_count": null,
   "metadata": {},
   "outputs": [],
   "source": [
    "assess_dataItems(e, testset, arrow.get('2022-01-14 16:23:06'))"
   ]
  }
 ],
 "metadata": {
  "interpreter": {
   "hash": "00e7f18031541dc25b2d1c6c1f90e0b122a906b1440859c87878a4f6b4e1a002"
  },
  "kernelspec": {
   "display_name": "Python 3.8.5 ('base')",
   "language": "python",
   "name": "python3"
  },
  "language_info": {
   "codemirror_mode": {
    "name": "ipython",
    "version": 3
   },
   "file_extension": ".py",
   "mimetype": "text/x-python",
   "name": "python",
   "nbconvert_exporter": "python",
   "pygments_lexer": "ipython3",
   "version": "3.9.7"
  },
  "orig_nbformat": 4
 },
 "nbformat": 4,
 "nbformat_minor": 2
}
