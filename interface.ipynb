{
 "cells": [
  {
   "cell_type": "markdown",
   "metadata": {},
   "source": [
    "# INNIO Fleet Analysis"
   ]
  },
  {
   "cell_type": "code",
   "execution_count": 2,
   "metadata": {},
   "outputs": [],
   "source": [
    "import pandas as pd\n",
    "import numpy as np\n",
    "import arrow\n",
    "from pprint import pformat\n",
    "from IPython.display import HTML, display\n",
    "import ipywidgets as widgets\n",
    "import matplotlib.pyplot as plt\n",
    "import dmyplant2\n",
    "dmyplant2.cred(); mp = dmyplant2.MyPlant(3600)\n",
    "from dfsm import msgFSM\n"
   ]
  },
  {
   "cell_type": "markdown",
   "metadata": {},
   "source": [
    "### Define Engines from installed fleet "
   ]
  },
  {
   "cell_type": "code",
   "execution_count": 3,
   "metadata": {},
   "outputs": [],
   "source": [
    "def sfun(x): return all([(\"Forsa Hartmoor\" in str(x['IB Site Name'])),(x['OperationalCondition'] != 'Decommissioned')])"
   ]
  },
  {
   "cell_type": "code",
   "execution_count": 4,
   "metadata": {},
   "outputs": [],
   "source": [
    "fleet = mp.search_installed_fleet(sfun).drop('index', axis=1)\n",
    "fleet = fleet.sort_values(by = \"Engine ID\",ascending=True).reset_index(drop='index')\n",
    "ddl = pd.DataFrame(fleet['serialNumber'] + ' - ' + fleet['IB Site Name'] + ' ' + fleet['Engine ID'])[0].to_list()\n",
    "ddl = [(m, i) for i, m in enumerate(ddl)]"
   ]
  },
  {
   "cell_type": "code",
   "execution_count": 5,
   "metadata": {},
   "outputs": [],
   "source": [
    "from ipywidgets import AppLayout, Button, Layout, VBox, HBox, Label, HTML\n",
    "def example_button(desc,style): \n",
    "    return Button(description=desc, button_style=style, layout=Layout(height='auto', width='auto'))"
   ]
  },
  {
   "cell_type": "code",
   "execution_count": 6,
   "metadata": {},
   "outputs": [],
   "source": [
    "out = widgets.Output(layout={'height':'auto', 'width':'auto'})\n",
    "global e"
   ]
  },
  {
   "cell_type": "code",
   "execution_count": 7,
   "metadata": {},
   "outputs": [],
   "source": [
    "def on_dd_change(change):\n",
    "    global e\n",
    "    e=dmyplant2.Engine.from_fleet(mp,motor:=fleet.iloc[change['new']])\n",
    "\n",
    "    with out:\n",
    "       print(e)"
   ]
  },
  {
   "cell_type": "code",
   "execution_count": 10,
   "metadata": {},
   "outputs": [],
   "source": [
    "edd=widgets.Dropdown(options = ddl,value=0,description='Engine:',layout={'width':'2000px'},disabled=False)\n",
    "edd.observe(on_dd_change, names='value')\n",
    "\n",
    "minus=Button(description='<', button_style='info', layout=Layout(width='100px'))\n",
    "def on_button_clicked(b):\n",
    "    with out:\n",
    "        print('hi')\n",
    "minus.on_click(on_button_clicked)"
   ]
  },
  {
   "cell_type": "code",
   "execution_count": 11,
   "metadata": {},
   "outputs": [
    {
     "data": {
      "application/vnd.jupyter.widget-view+json": {
       "model_id": "66f0c9f453d84a12a25339a53dc2cb48",
       "version_major": 2,
       "version_minor": 0
      },
      "text/plain": [
       "AppLayout(children=(HBox(children=(Dropdown(description='Engine:', layout=Layout(width='2000px'), options=(('1…"
      ]
     },
     "metadata": {},
     "output_type": "display_data"
    }
   ],
   "source": [
    "AppLayout(  header=HBox([\n",
    "                edd,\n",
    "                minus,\n",
    "                plus:=Button(description='>', button_style='info', layout=Layout(width='100px'))\n",
    "            ]),\n",
    "            left_sidebar=VBox([\n",
    "                HTML('<h3>Service Selector:</h3>'),\n",
    "                mode_qm:=widgets.Checkbox(value=False,description='?',layout={'width':'auto'},disabled=False,indent=False),\n",
    "                mode_off:=widgets.Checkbox(value=False,description='OFF',layout={'width':'auto'},disabled=False,indent=False),\n",
    "                mode_manual:=widgets.Checkbox(value=False,description='MANUAL',layout={'width':'auto'},disabled=False,indent=False),\n",
    "                mode_auto:=widgets.Checkbox(value=False,description='AUTO',layout={'width':'auto'},disabled=False,indent=False),\n",
    "                HTML('<h3>Start:</h3>'),\n",
    "                start_failed:=widgets.Checkbox(value=False,description='Failed',layout={'width':'auto'},disabled=False,indent=False),\n",
    "                start_success:=widgets.Checkbox(value=False,description='Success',layout={'width':'auto'},disabled=False,indent=False),\n",
    "\n",
    "            ]),\n",
    "            #center= example_button('center','warning'),\n",
    "            center=out,\n",
    "            #center=fig,\n",
    "            right_sidebar=None,\n",
    "            footer= example_button('footer','success'),\n",
    "            pane_widths=['150px',6,'0px'],\n",
    "            pane_heights=['40px','600px','40px'])"
   ]
  },
  {
   "cell_type": "code",
   "execution_count": 12,
   "metadata": {},
   "outputs": [],
   "source": [
    "fsm = msgFSM(e, p_from=\"2022-01-01\", p_to=arrow.now(), frompickle=True)"
   ]
  },
  {
   "cell_type": "code",
   "execution_count": null,
   "metadata": {},
   "outputs": [],
   "source": [
    "pd.DataFrame(fsm._starts)[['index'] +['startpreparation','starter','hochlauf','idle','synchronize','loadramp']].round(2)"
   ]
  },
  {
   "cell_type": "code",
   "execution_count": null,
   "metadata": {},
   "outputs": [],
   "source": [
    "import matplotlib.pyplot as plt\n",
    "import bokeh\n",
    "import arrow\n",
    "from collections import namedtuple\n",
    "\n",
    "from pprint import (pprint as pp, pformat as pf)\n",
    "\n",
    "import warnings\n",
    "pd.options.mode.chained_assignment = None # default warn => SettingWithCopyWarning\n",
    "warnings.simplefilter(action='ignore', category=UserWarning)"
   ]
  }
 ],
 "metadata": {
  "interpreter": {
   "hash": "00e7f18031541dc25b2d1c6c1f90e0b122a906b1440859c87878a4f6b4e1a002"
  },
  "kernelspec": {
   "display_name": "Python 3.8.5 ('base')",
   "language": "python",
   "name": "python3"
  },
  "language_info": {
   "codemirror_mode": {
    "name": "ipython",
    "version": 3
   },
   "file_extension": ".py",
   "mimetype": "text/x-python",
   "name": "python",
   "nbconvert_exporter": "python",
   "pygments_lexer": "ipython3",
   "version": "3.9.7"
  },
  "orig_nbformat": 4
 },
 "nbformat": 4,
 "nbformat_minor": 2
}
