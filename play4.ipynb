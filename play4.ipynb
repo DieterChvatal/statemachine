{
 "cells": [
  {
   "cell_type": "code",
   "execution_count": null,
   "metadata": {},
   "outputs": [],
   "source": [
    "%reload_ext autoreload\n",
    "%aimport -pandas, -numpy\n",
    "%autoreload 2\n",
    "import pandas as pd; pd.options.mode.chained_assignment = None # default warn => SettingWithCopyWarning\n",
    "import numpy as np\n",
    "from datetime import datetime\n",
    "from pprint import pprint as pp\n",
    "import warnings; warnings.simplefilter(action='ignore', category=UserWarning)\n",
    "from IPython.display import HTML, display\n",
    "from ipywidgets import AppLayout, Button, Layout, VBox, HBox, Label, HTML, interact, IntSlider\n",
    "import ipywidgets as widgets\n",
    "import arrow\n",
    "from tqdm.auto import tqdm\n",
    "\n",
    "#import dmyplant2\n",
    "from dmyplant2 import (\n",
    "    cred, MyPlant, Engine, \n",
    "    msgFSM, filterFSM, FSM_splot, FSM_add_Notations, FSM_add_Alarms, FSM_add_Warnings, FSMPlot_Start, \n",
    "    bokeh_show, dbokeh_chart, add_dbokeh_vlines, get_cycle_data2, \n",
    "    disp_result, alarms_pareto, warnings_pareto, states_lines,\n",
    "    detect_edge_right, detect_edge_left, cvset, load_data, get_cycle_data, get_cycle_data2, figures)\n",
    "    \n",
    "cred()\n",
    "mp = MyPlant(0)\n",
    "Engine._list_cached_validations();\n",
    "#mp._fetch_installed_base(); # refresh local installed fleet database"
   ]
  },
  {
   "cell_type": "code",
   "execution_count": null,
   "metadata": {},
   "outputs": [],
   "source": [
    "def sfun(x):\n",
    "    return all([ (\"EWB\" in str(x['IB Site Name'])),  (x['OperationalCondition'] != 'Decommissioned') ])\n",
    "    #return all([ (\"Pforzheim\" in str(x['IB Site Name'])),  (x['OperationalCondition'] != 'Decommissioned') ])\n",
    "    #return all([ (\"BMW Landshut 4.10\" in str(x['IB Site Name'])),  (x['OperationalCondition'] != 'Decommissioned') ])\n",
    "fleet = mp.search_installed_fleet(sfun).drop('index', axis=1)\n",
    "fleet = fleet.sort_values(by = \"Engine ID\",ascending=True).reset_index(drop='index')\n",
    "fleet.T"
   ]
  },
  {
   "cell_type": "code",
   "execution_count": null,
   "metadata": {},
   "outputs": [],
   "source": [
    "motor = fleet.iloc[2]\n",
    "modes = ['???','OFF','MANUAL','AUTO']\n",
    "success = [True,False]\n",
    "#success = [True]\n",
    "e=Engine.from_fleet(mp,motor)\n",
    "#pp_from=e['Commissioning Date']\n",
    "pp_from='2021-01-01'\n",
    "pp_to='2022-03-30'\n",
    "#pp_to=datetime.now()\n",
    "fsm = msgFSM(e, p_from=pp_from, p_to=pp_to)\n",
    "#TODO:\n",
    "# - move successtime to run1\n",
    "motor['IB Site Name'] + ' ' + motor['Engine ID'], modes, success"
   ]
  },
  {
   "cell_type": "markdown",
   "metadata": {},
   "source": [
    "### den queue algorithmus entwerfen"
   ]
  },
  {
   "cell_type": "code",
   "execution_count": null,
   "metadata": {},
   "outputs": [],
   "source": [
    "def consume_testmessage_queue(message_queue):\n",
    "    return []"
   ]
  },
  {
   "cell_type": "code",
   "execution_count": null,
   "metadata": {},
   "outputs": [],
   "source": [
    "def fill_testmessage_queue(mq, d, dt):\n",
    "    z = next(d)\n",
    "    zr = z\n",
    "    while zr < z+dt:\n",
    "        mq.append(zr)\n",
    "        try:\n",
    "            zr = next(d)\n",
    "        except StopIteration:\n",
    "            mq.pop()\n",
    "            break\n",
    "    mq.append(zr)\n",
    "    return mq"
   ]
  },
  {
   "cell_type": "code",
   "execution_count": null,
   "metadata": {},
   "outputs": [],
   "source": [
    "def merge_extra_testmessages(mq, em):\n",
    "    emc = em.copy()\n",
    "    for e in emc:\n",
    "        if e < max(mq):\n",
    "            mq.append(e)\n",
    "            em.remove(e)\n",
    "    mq = sorted(mq)\n",
    "    return mq, em"
   ]
  },
  {
   "cell_type": "code",
   "execution_count": null,
   "metadata": {},
   "outputs": [],
   "source": [
    "d = list(range(0,56,2)).__iter__()\n",
    "mq = []\n",
    "em = [3,7, 37,53,21]\n",
    "\n",
    "while True:\n",
    "    try:\n",
    "        mq = fill_testmessage_queue(mq, d, 20)\n",
    "        print('after fillmessage:    ',mq)\n",
    "        print('extramessages:        ',em)\n",
    "        mq, em = merge_extra_testmessages(mq, em)\n",
    "        print('merge extramessages:  ',mq)\n",
    "        print('extramessages:        ',em)\n",
    "        mq = consume_testmessage_queue(mq)\n",
    "        print('after consume mgs:    ',mq)\n",
    "        print()\n",
    "    except StopIteration:\n",
    "        print(f\"Ende.\")\n",
    "        break"
   ]
  },
  {
   "cell_type": "markdown",
   "metadata": {},
   "source": [
    "### mit echten messages:"
   ]
  },
  {
   "cell_type": "code",
   "execution_count": null,
   "metadata": {},
   "outputs": [],
   "source": [
    "import pandas as pd"
   ]
  },
  {
   "cell_type": "code",
   "execution_count": null,
   "metadata": {},
   "outputs": [],
   "source": [
    "def fill_message_queue(mq, d, dt):\n",
    "    \"\"\"fills a message queue with dt time lenght\n",
    "\n",
    "    Args:\n",
    "        mq (list): message que\n",
    "        d (iterator): message iterator variable\n",
    "        dt (int): delta t in min\n",
    "\n",
    "    Returns:\n",
    "        _type_: _description_\n",
    "    \"\"\"\n",
    "    i, m = next(d)\n",
    "    t0 = m['timestamp'] \n",
    "    #print('von: ',t0, pd.to_datetime(t0 * 1000000))\n",
    "    dtns = dt*60*1000\n",
    "    #print('bis: ',t0 + dtns, pd.to_datetime((t0 + dtns) * 1000000))\n",
    "    mit = m\n",
    "    while mit['timestamp'] < t0 + dtns:\n",
    "        mq.append(mit)\n",
    "        try:\n",
    "            i, mit = next(d)\n",
    "        except StopIteration:\n",
    "            mq.pop()\n",
    "            break\n",
    "    mq.append(mit)\n",
    "    return mq"
   ]
  },
  {
   "cell_type": "code",
   "execution_count": null,
   "metadata": {},
   "outputs": [],
   "source": [
    "def merge_extra_messages(mq, em):\n",
    "    emc = em.copy()\n",
    "    max_timestamp = max([ts['timestamp'] for ts in mq])\n",
    "    for m in emc:\n",
    "        if m['timestamp'] < max_timestamp:\n",
    "            mq.append(m)\n",
    "            em.remove(m)\n",
    "    mq.sort(key=lambda x: x['timestamp'], reverse=False)\n",
    "    return mq, em"
   ]
  },
  {
   "cell_type": "code",
   "execution_count": null,
   "metadata": {},
   "outputs": [],
   "source": [
    "def consume_message_queue(message_queue):\n",
    "    # run the finite state machine\n",
    "    return []"
   ]
  },
  {
   "cell_type": "code",
   "execution_count": null,
   "metadata": {},
   "outputs": [],
   "source": [
    "def debug_msg(msgque, max=10):\n",
    "    return\n",
    "    print(len(msgque))\n",
    "    for msg in msgque[:max]:\n",
    "        print(f\"{msg['timestamp']} {pd.to_datetime(msg['timestamp'] * 1000000)} {msg['name']} {msg['message']}\")\n",
    "    print()"
   ]
  },
  {
   "cell_type": "code",
   "execution_count": null,
   "metadata": {},
   "outputs": [],
   "source": [
    "from extramessages import extra_messages\n",
    "em = extra_messages.copy()\n",
    "it = fsm._messages.iterrows()\n",
    "mq = []\n",
    "#.strftime('%Y-%m-%d %H:%M:%S')"
   ]
  },
  {
   "cell_type": "code",
   "execution_count": null,
   "metadata": {},
   "outputs": [],
   "source": [
    "from tqdm.auto import tqdm\n",
    "\n",
    "pbar = tqdm(total=len(fsm._messages), ncols=80, mininterval=1, unit=' messages', desc=\"FSM\")\n",
    "#tqdm(self._messages.iterrows(), total=self._messages.shape[0], ncols=80, mininterval=1, unit=' messages', desc=\"FSM\"):\n",
    "\n",
    "while True:\n",
    "    try:\n",
    "        mq = fill_message_queue(mq, it, 5*60)\n",
    "        debug_msg(mq)\n",
    "        debug_msg(em)\n",
    "        pbar.update(len(mq))\n",
    "\n",
    "        mq, em = merge_extra_messages(mq, em)\n",
    "        debug_msg(mq)\n",
    "        debug_msg(em)\n",
    "\n",
    "        mq = consume_message_queue(mq)\n",
    "        debug_msg(mq)\n",
    "    except StopIteration:\n",
    "        print(f\"{len(fsm._messages)} messages scanned.\")\n",
    "        break\n",
    "\n",
    "pbar.close()"
   ]
  },
  {
   "cell_type": "markdown",
   "metadata": {},
   "source": [
    "### first playground for message queue"
   ]
  },
  {
   "cell_type": "code",
   "execution_count": null,
   "metadata": {},
   "outputs": [],
   "source": [
    "\n",
    "m = next(it)\n",
    "t0 = m['timestamp']\n",
    "message_queue.append(m)\n",
    "\n",
    "while m['timestamp'] < t0 + 1*60*60*1000: # 1h\n",
    "    t = next(it)\n",
    "    message_queue.append(t)\n",
    "\n",
    "message_queue = consume_message_queue(message_queue)"
   ]
  },
  {
   "cell_type": "code",
   "execution_count": null,
   "metadata": {},
   "outputs": [],
   "source": [
    "t0 = message_queue[0][1]['timestamp']\n",
    "for m in message_queue:\n",
    "    print(f\"{m[0]:04} {m[1]['timestamp']:10d} {(m[1]['timestamp'] - t0):10d} sec {m[1]['name']} {m[1]['message']}\")"
   ]
  },
  {
   "cell_type": "code",
   "execution_count": null,
   "metadata": {},
   "outputs": [],
   "source": [
    "itt = fsm._messages.itertuples()"
   ]
  },
  {
   "cell_type": "code",
   "execution_count": null,
   "metadata": {},
   "outputs": [],
   "source": [
    "t = next(itt)\n",
    "t.timestamp, t.name, t.message"
   ]
  },
  {
   "cell_type": "markdown",
   "metadata": {},
   "source": [
    "### Tests for tdqm usage"
   ]
  },
  {
   "cell_type": "code",
   "execution_count": null,
   "metadata": {},
   "outputs": [],
   "source": [
    "from tqdm.auto import tqdm\n",
    "import time\n",
    "_messages = [n for n in range(10)]\n",
    "_messages"
   ]
  },
  {
   "cell_type": "code",
   "execution_count": null,
   "metadata": {},
   "outputs": [],
   "source": [
    "pbar = tqdm(total=len(_messages), ncols=80, mininterval=1, unit=' messages', desc=\"FSM\")\n",
    "#pbar = tqdm(total=len(_messages), ncols=80, unit=' messages', desc=\"FSM\")\n",
    "count = 0\n",
    "for i, m in enumerate(_messages):\n",
    "        #print(m)\n",
    "        count = count + 1\n",
    "        time.sleep(1)\n",
    "        pbar.update()\n",
    "pbar.close()   "
   ]
  },
  {
   "cell_type": "code",
   "execution_count": null,
   "metadata": {},
   "outputs": [],
   "source": [
    "with tqdm(total=len(_messages),ncols=80, unit=' messages', desc=\"FSM\") as pbar:\n",
    "    count = 0\n",
    "    for i, m in enumerate(_messages):\n",
    "            count = count + 1\n",
    "            time.sleep(1)\n",
    "            pbar.update(1)            "
   ]
  },
  {
   "cell_type": "code",
   "execution_count": null,
   "metadata": {},
   "outputs": [],
   "source": [
    "from tqdm.auto import tqdm\n",
    "count = 0\n",
    "for m in tqdm(range(10), ncols=80, unit=' messages', desc=\"FSM\"):\n",
    "        #print(m)\n",
    "        count = count + 1\n",
    "        time.sleep(1)"
   ]
  },
  {
   "cell_type": "code",
   "execution_count": null,
   "metadata": {},
   "outputs": [],
   "source": [
    "from tqdm.auto import tqdm, trange\n",
    "count = 0\n",
    "for m in trange(100, ncols=80, unit=' messages', desc=\"FSM\"):\n",
    "        count = count + 1\n",
    "        time.sleep(0.05)"
   ]
  },
  {
   "cell_type": "code",
   "execution_count": null,
   "metadata": {},
   "outputs": [],
   "source": [
    "var = 'Exhaust_TempCyl*'\n",
    "var.__contains__('*')\n",
    "var.endswith('*')"
   ]
  },
  {
   "cell_type": "code",
   "execution_count": null,
   "metadata": {},
   "outputs": [],
   "source": [
    "import dmyplant2\n",
    "from dmyplant2 import MyPlant\n",
    "dmyplant2.cred()\n",
    "mp = dmyplant2.MyPlant(0)\n",
    "e=dmyplant2.Engine.from_sn(mp,1486174)\n",
    "#e=dmyplant2.Engine.from_sn(mp,1171430)"
   ]
  },
  {
   "cell_type": "code",
   "execution_count": null,
   "metadata": {},
   "outputs": [],
   "source": [
    "e.dataItemsCyl('Exhaust_TempCyl*')"
   ]
  },
  {
   "cell_type": "code",
   "execution_count": null,
   "metadata": {},
   "outputs": [],
   "source": [
    "v = [var.replace('*',f\"{i+1:02d}\") for i in range(e.Cylinders)]\n",
    "v"
   ]
  },
  {
   "cell_type": "code",
   "execution_count": null,
   "metadata": {},
   "outputs": [],
   "source": [
    "e.get_dataItems(v)"
   ]
  },
  {
   "cell_type": "code",
   "execution_count": null,
   "metadata": {},
   "outputs": [],
   "source": [
    "import arrow\n",
    "e.assess_dataItems(v, arrow.get('2022-01-14 16:23:06'))"
   ]
  }
 ],
 "metadata": {
  "interpreter": {
   "hash": "7b827b5f1f2836ddadb8fbc7a8e8e99004f7285a204f4c797dc2931fe1207e23"
  },
  "kernelspec": {
   "display_name": "Python 3.9.7 ('base')",
   "language": "python",
   "name": "python3"
  },
  "language_info": {
   "codemirror_mode": {
    "name": "ipython",
    "version": 3
   },
   "file_extension": ".py",
   "mimetype": "text/x-python",
   "name": "python",
   "nbconvert_exporter": "python",
   "pygments_lexer": "ipython3",
   "version": "3.9.7"
  },
  "orig_nbformat": 4
 },
 "nbformat": 4,
 "nbformat_minor": 2
}
