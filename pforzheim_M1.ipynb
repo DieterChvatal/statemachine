{
 "cells": [
  {
   "cell_type": "code",
   "execution_count": null,
   "metadata": {},
   "outputs": [],
   "source": [
    "import pandas as pd; pd.options.mode.chained_assignment = None # default warn => SettingWithCopyWarning\n",
    "import numpy as np\n",
    "from datetime import datetime\n",
    "import warnings; warnings.simplefilter(action='ignore', category=UserWarning)\n",
    "from IPython.display import HTML, display\n",
    "from ipywidgets import AppLayout, Button, Layout, VBox, HBox, Label, HTML, interact, IntSlider\n",
    "import ipywidgets as widgets\n",
    "import arrow\n",
    "\n",
    "#import dmyplant2\n",
    "from dmyplant2 import (\n",
    "    cred, MyPlant, Engine, \n",
    "    FSMOperator, filterFSM, FSMPlot_Start, \n",
    "    bokeh_show, dbokeh_chart, add_dbokeh_vlines, get_cycle_data2, \n",
    "    disp_result, alarms_pareto, warnings_pareto, states_lines,\n",
    "    detect_edge_right, detect_edge_left, get_cycle_data)\n",
    "    \n",
    "cred()\n",
    "mp = MyPlant(3600)\n",
    "Engine._list_cached_validations();"
   ]
  },
  {
   "cell_type": "code",
   "execution_count": null,
   "metadata": {},
   "outputs": [],
   "source": [
    "# def sfun(x):\n",
    "#     return all([ (\"Pforzheim\" in str(x['IB Site Name'])),  (x['OperationalCondition'] != 'Decommissioned') ])\n",
    "# fleet = mp.search_installed_fleet(sfun).drop('index', axis=1)\n",
    "fleet = mp.search_installed_fleet_by_contains_name(\"Pforzheim\")\n",
    "fleet = fleet.sort_values(by = \"Engine ID\",ascending=True).reset_index(drop='index')\n",
    "fleet.T"
   ]
  },
  {
   "cell_type": "code",
   "execution_count": null,
   "metadata": {},
   "outputs": [],
   "source": [
    "motor = fleet.iloc[0]\n",
    "modes = ['undefined','OFF','MAN','AUTO']\n",
    "success = [True,False]\n",
    "#success = [True]\n",
    "motor['IB Site Name'] + ' ' + motor['Engine ID'], modes, success"
   ]
  },
  {
   "cell_type": "code",
   "execution_count": null,
   "metadata": {},
   "outputs": [],
   "source": [
    "e=Engine.from_fleet(mp,motor)\n",
    "#fsm = FSMOperator(e, p_from=e['Commissioning Date'], p_to=datetime.now(), successtime=300)\n",
    "fsm = FSMOperator(e, p_from=\"2021-10-01\", successtime=300)\n",
    "#fsm = FSMOperator(e, p_to='2022-02-01', successtime=600)\n",
    "#fsm = FSMOperator(e, p_from='2022-01-26', p_to='2022-02-01', successtime=600)\n",
    "\n",
    "#fsm.restore()\n",
    "fsm.run1(enforce=True) # run Finite State Machine\n",
    "fsm.store()"
   ]
  },
  {
   "cell_type": "code",
   "execution_count": null,
   "metadata": {},
   "outputs": [],
   "source": [
    "rdf = fsm.starts\n",
    "rda = rdf[:].reset_index(drop='index')\n",
    "rda = rda[(rda['mode'].isin(modes) & rda['success'].isin(success))].reset_index(drop='index')\n",
    "display(HTML(pd.DataFrame.from_dict(e.dash, orient='index').T.to_html(escape=False, index=False)))\n",
    "#rda[startstopFSM.run2filter_content].round(2)\n",
    "print(f\"Starts: {rdf.shape[0]}, Successful: {rdf[rdf['success'] == True].shape[0]}, Failed: {rdf[rdf['success'] == False].shape[0]} => {rdf[rdf['success'] == True].shape[0]/rdf.shape[0]*100.0:3.1f}%\")"
   ]
  },
  {
   "cell_type": "code",
   "execution_count": null,
   "metadata": {},
   "outputs": [],
   "source": [
    "rda[startstopFSM.run2filter_content].round(2).fillna('')"
   ]
  },
  {
   "cell_type": "code",
   "execution_count": null,
   "metadata": {},
   "outputs": [],
   "source": [
    "fsm.results['starts'][0];"
   ]
  },
  {
   "cell_type": "code",
   "execution_count": null,
   "metadata": {},
   "outputs": [],
   "source": [
    "#Execute FSM Run 2\n",
    "# fsm.restore()\n",
    "# rda = fsm.run2(rda, silent=False)\n",
    "# fsm.store()"
   ]
  },
  {
   "cell_type": "code",
   "execution_count": null,
   "metadata": {},
   "outputs": [],
   "source": [
    "#rdb = rda[(rda['mode'].isin(['AUTO','MAN'])) & ((rda['count_alarms'] > 0) | (rda['count_warnings'] > 0))]\n",
    "#rdb = rda[rda['synchronize'] < 15.0]\n",
    "rdb = rda\n",
    "#rdb[startstopFSM.run2filter_content].sort_values(by=[\"synchronize\",\"loadramp\"], ascending=[True,True]).round(2)"
   ]
  },
  {
   "cell_type": "code",
   "execution_count": null,
   "metadata": {},
   "outputs": [],
   "source": [
    "vec = ['startpreparation','speedup','idle','synchronize','loadramp','maxload','ramprate','cumstarttime','targetoperation','rampdown','coolrun','runout']\n",
    "display(_=rdb[vec].hist(bins=30,figsize=(20,20)))\n",
    "#ax_list[0][2].set_xlim((0,10))\n",
    "#display(rdb[vec].hist(bins=30,figsize=(20,20)))\n",
    "display(rdb[vec].describe().round(2))"
   ]
  },
  {
   "cell_type": "code",
   "execution_count": null,
   "metadata": {},
   "outputs": [],
   "source": [
    "rde = rda[(rda.starttime > fsm._e['Commissioning Date']) & (rda['success'])].copy()\n",
    "rde['datetime'] = pd.to_datetime(rde['starttime'])\n",
    "dfigsize = (18,10)\n",
    "dset = [\n",
    "    {'col':['cumstarttime'],'ylim':(-400,900), 'color':'darkblue'},\n",
    "    {'col':['synchronize'],'ylim':(-20,300)},\n",
    "    {'col':['startpreparation'],'ylim':(-600,300)},\n",
    "    {'col':['hochlauf'],'ylim':(-100,200), 'color':'orange'},\n",
    "    {'col':['loadramp'],'ylim':(-150,900), 'color':'red'},\n",
    "    {'col':['ramprate'],'ylim':(-3,3)},\n",
    "    {'col':['no'],'ylim':(-100,10000),'color':'black'},\n",
    "    {'col':['maxload'],'ylim':(500,5000) }\n",
    "]\n",
    "ftitle = f\"{fsm._e}\"\n",
    "fig = dbokeh_chart(rde, dset, style='both', figsize=dfigsize ,title=ftitle);\n",
    "bokeh_show(fig)\n",
    "del(fig)"
   ]
  },
  {
   "cell_type": "code",
   "execution_count": null,
   "metadata": {},
   "outputs": [],
   "source": [
    "from dowork import plot_now\n",
    "vset = ['Various_Values_SpeedAct','Power_PowerAct','Various_Values_PosTurboBypassA1','Various_SetValues_SetWasteGate','Various_Values_PressBoostP2A','Power_SetPower','Exhaust_TempCylMax','Exhaust_TempCylMin','Hyd_PressCrankCase','Hyd_PressOilDif','TecJet_Lambda1','Hyd_PressOil','Hyd_TempOil']\n",
    "dset = [\n",
    "    {'col':['Power_SetPower'], 'ylim':(0,15000), 'color':'dodgerblue'},\n",
    "    {'col':['Power_PowerAct'], 'ylim':(0,15000), 'color':'red'},\n",
    "    {'col':['Various_Values_PosTurboBypassA1'], '_ylim':(0,15000), 'color':'black'},\n",
    "    {'col':['Various_SetValues_SetWasteGate'], '_ylim':(0,15000), 'color':'MediumVioletRed'},\n",
    "    {'col':['Various_Values_PressBoostP2A'], '_ylim':(0,15000), 'color':'MediumVioletRed'},\n",
    "    {'col':['power_diff'], '_ylim':(0,5000), 'color':'purple'},\n",
    "    {'col':['Various_Values_SpeedAct'],'ylim': [0, 2500], 'color':'blue'},\n",
    "    {'col':['Exhaust_TempCylMax'],'ylim': [200, 700], 'color':'darkred'},\n",
    "    {'col':['Exhaust_TempCylMin'],'ylim': [200, 700], 'color':'salmon'},\n",
    "    {'col':['Hyd_PressCrankCase'],'ylim': [-100, 100], 'color':'orange'},\n",
    "    {'col':['Hyd_PressOilDif'],'ylim': [0, 2], 'color':'black'},\n",
    "    {'col':['TecJet_Lambda1'],'_ylim': [0, 2], 'color':'green'},\n",
    "    {'col':['Hyd_PressOil'],'_ylim': [0, 10], 'color':'brown'},\n",
    "    {'col':['Hyd_TempOil'],'_ylim': [0, 110], 'color':'#2171b5'}\n",
    "]\n"
   ]
  },
  {
   "cell_type": "code",
   "execution_count": null,
   "metadata": {},
   "outputs": [],
   "source": [
    "rdb[startstopFSM.run2filter_content].sort_values(by=[\"synchronize\",\"loadramp\"], ascending=[True,True]).round(2).fillna('');\n",
    "rdb[startstopFSM.run2filter_content]"
   ]
  },
  {
   "cell_type": "code",
   "execution_count": null,
   "metadata": {},
   "outputs": [],
   "source": [
    "def f(x=0):\n",
    "    global v; v = x; startversuch = rdb.iloc[x]\n",
    "    ftitle = f\"{fsm._e} ----- Start {startversuch['no']} {startversuch['mode']} | {'SUCCESS' if startversuch['success'] else 'FAILED'} | {startversuch['starttime'].round('S')}\"\n",
    "    display(HTML(ftitle));\n",
    "    disp_result(startversuch)\n",
    "interact(f, x = IntSlider(0, 0, rdb.shape[0]-1 , 1, layout=widgets.Layout(width='70%')));"
   ]
  },
  {
   "cell_type": "code",
   "execution_count": null,
   "metadata": {},
   "outputs": [],
   "source": [
    "inerestingstarts_Pforzheim_M1 = []\n",
    "inerestingstarts_Pforzheim_M4 = [41,42,54,67,68,69,70]\n",
    "startversuch = rdb.iloc[v]; \n",
    "data = get_cycle_data2(fsm, startversuch, max_length=None, min_length=None, cycletime=1, silent=False, p_data=vset)\n",
    "\n",
    "data['power_diff'] = pd.Series(np.gradient(data['Power_PowerAct']))\n",
    "fig = plot_now(fsm, data, startversuch,vset, dset, dfigsize=(26,14))\n",
    "#fsm.starts.iloc[v].to_dict()\n",
    "print(data.loc[data['Exhaust_TempCylMax'].idxmax()])\n",
    "bokeh_show(fig)"
   ]
  },
  {
   "cell_type": "code",
   "execution_count": null,
   "metadata": {},
   "outputs": [],
   "source": [
    "fsm.starts.iloc[v].to_dict();"
   ]
  },
  {
   "cell_type": "code",
   "execution_count": null,
   "metadata": {},
   "outputs": [],
   "source": [
    "for i, v in enumerate(fsm.runlogdetail(startversuch, statechanges_only=False)):\n",
    "    print(f\"{i:3} {v}\")"
   ]
  },
  {
   "cell_type": "code",
   "execution_count": null,
   "metadata": {},
   "outputs": [],
   "source": [
    "mfn = e._fname + '_messages.txt'\n",
    "fsm.save_messages(mfn)\n",
    "print(mfn)"
   ]
  },
  {
   "cell_type": "code",
   "execution_count": null,
   "metadata": {},
   "outputs": [],
   "source": [
    "fsm._e.BMEP"
   ]
  },
  {
   "cell_type": "code",
   "execution_count": null,
   "metadata": {},
   "outputs": [],
   "source": [
    "fsm._e._calc_BMEP(11318,1000)"
   ]
  },
  {
   "cell_type": "code",
   "execution_count": null,
   "metadata": {},
   "outputs": [],
   "source": [
    "for v in fsm.results['runlogdetail']:\n",
    "    if 'Air Injection' in v.__str__():\n",
    "        if v.msg.severity >= 600:\n",
    "            print(v)"
   ]
  }
 ],
 "metadata": {
  "interpreter": {
   "hash": "00e7f18031541dc25b2d1c6c1f90e0b122a906b1440859c87878a4f6b4e1a002"
  },
  "kernelspec": {
   "display_name": "Python 3.8.5 ('base')",
   "language": "python",
   "name": "python3"
  },
  "language_info": {
   "codemirror_mode": {
    "name": "ipython",
    "version": 3
   },
   "file_extension": ".py",
   "mimetype": "text/x-python",
   "name": "python",
   "nbconvert_exporter": "python",
   "pygments_lexer": "ipython3",
   "version": "3.8.5"
  },
  "orig_nbformat": 4
 },
 "nbformat": 4,
 "nbformat_minor": 2
}
