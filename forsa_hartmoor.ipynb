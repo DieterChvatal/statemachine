{
 "cells": [
  {
   "cell_type": "markdown",
   "metadata": {},
   "source": [
    "# INNIO Fleet Analysis"
   ]
  },
  {
   "cell_type": "code",
   "execution_count": null,
   "metadata": {},
   "outputs": [],
   "source": [
    "import pandas as pd\n",
    "pd.options.mode.chained_assignment = None # default warn => SettingWithCopyWarning\n",
    "import numpy as np\n",
    "import matplotlib.pyplot as plt\n",
    "from collections import namedtuple\n",
    "from pprint import (pprint as pp, pformat as pf)\n",
    "import warnings\n",
    "warnings.simplefilter(action='ignore', category=UserWarning)\n",
    "from IPython.display import HTML, display\n",
    "import ipywidgets as widgets\n",
    "\n",
    "import dmyplant2\n",
    "dmyplant2.cred()\n",
    "mp = dmyplant2.MyPlant(3600)"
   ]
  },
  {
   "cell_type": "markdown",
   "metadata": {},
   "source": [
    "### Filter Engines from installed fleet "
   ]
  },
  {
   "cell_type": "code",
   "execution_count": null,
   "metadata": {},
   "outputs": [],
   "source": [
    "def sfun(x):\n",
    "    return all([\n",
    "            (\"Forsa Hartmoor\" in str(x['IB Site Name'])), \n",
    "            #(\"Landshut\" in str(x['IB Site Name'])), \n",
    "            (x['OperationalCondition'] != 'Decommissioned')\n",
    "        ])"
   ]
  },
  {
   "cell_type": "code",
   "execution_count": null,
   "metadata": {},
   "outputs": [],
   "source": [
    "fleet = mp.search_installed_fleet(sfun).drop('index', axis=1)\n",
    "fleet = fleet.sort_values(by = \"Engine ID\",ascending=True).reset_index(drop='index')\n",
    "fleet.T"
   ]
  },
  {
   "cell_type": "code",
   "execution_count": null,
   "metadata": {},
   "outputs": [],
   "source": [
    "ddl = pd.DataFrame(fleet['serialNumber'] + ' - ' + fleet['IB Site Name'] + ' ' + fleet['Engine ID'])[0].to_list()\n",
    "ddl = [(m, i) for i, m in enumerate(ddl)]\n",
    "dl=widgets.Dropdown(options = ddl,value=0,description='Engine:',layout={'width':'max-content'},disabled=False)\n",
    "display(dl)"
   ]
  },
  {
   "cell_type": "code",
   "execution_count": null,
   "metadata": {},
   "outputs": [],
   "source": [
    "e=dmyplant2.Engine.from_fleet(mp,motor:=fleet.iloc[dl.value])\n",
    "pd.DataFrame.from_dict(e.dash, orient='index').T"
   ]
  },
  {
   "cell_type": "code",
   "execution_count": null,
   "metadata": {},
   "outputs": [],
   "source": [
    "from dfsm import msgFSM\n",
    "#fsm = msgFSM(e, skip_day=7) #funktioniert nicht\n",
    "#fsm = msgFSM(e, p_from=motor['Commissioning Date'])\n",
    "fsm = msgFSM(e)\n",
    "fsm.run1() # run Finite State Machine"
   ]
  },
  {
   "cell_type": "code",
   "execution_count": null,
   "metadata": {},
   "outputs": [],
   "source": [
    "fsm.run2() # Ergebnisse verfeinern und ergänzen"
   ]
  },
  {
   "cell_type": "code",
   "execution_count": null,
   "metadata": {},
   "outputs": [],
   "source": [
    "\n",
    "# Struktur zur Aufnahme mehrerer motoren\n",
    "fsm_data = []\n",
    "fsm_data.append({'engine':e, 'fsm':fsm})"
   ]
  },
  {
   "cell_type": "code",
   "execution_count": null,
   "metadata": {},
   "outputs": [],
   "source": [
    "res = fsm_data[0]\n",
    "res['result'] = pd.DataFrame(fsm_data[0]['fsm']._starts)\n",
    "fsm.summary(res)"
   ]
  },
  {
   "cell_type": "code",
   "execution_count": null,
   "metadata": {},
   "outputs": [],
   "source": [
    "rmodes = ['???','OFF','MANUAL','AUTO']; mw = [] ; modes = []\n",
    "for mm in rmodes:\n",
    "    mw.append(widgets.Checkbox(value=False, description='Mode: ' + mm))\n",
    "display(widgets.VBox(mw))"
   ]
  },
  {
   "cell_type": "code",
   "execution_count": null,
   "metadata": {},
   "outputs": [],
   "source": [
    "rsucc = [True,False]; sw = []; success=[]\n",
    "for rs in rsucc:\n",
    "    sw.append(widgets.Checkbox(value=False, description='Success: ' + str(rs)))\n",
    "display(widgets.VBox(sw))"
   ]
  },
  {
   "cell_type": "code",
   "execution_count": null,
   "metadata": {},
   "outputs": [],
   "source": [
    "rdf = res['result']\n",
    "modes = [rmodes[i] for i,v in enumerate(mw) if v.value]\n",
    "modes = rmodes if not modes else modes\n",
    "success = [rsucc[i] for i,v in enumerate(sw) if v.value]\n",
    "success = rsucc if not success else success\n",
    "\n",
    "rda = rdf[:].reset_index(drop='index')\n",
    "rda['count_alarms'] = rda.apply(lambda x: len(x['alarms']), axis=1)\n",
    "rda['count_warnings'] = rda.apply(lambda x: len(x['warnings']), axis=1)\n",
    "rda = rda[((rdf['mode'].isin(modes)) & (rdf['success'].isin(success)))].reset_index(drop='index')\n",
    "print(modes, success)"
   ]
  },
  {
   "cell_type": "code",
   "execution_count": null,
   "metadata": {},
   "outputs": [],
   "source": [
    "# special filters can be added like ... \n",
    "#rda = rda[((rda['loadramp'] < 80.0) & (rda['startpreparation'] < 300.0))].reset_index(drop='index')\n",
    "\n",
    "#rda = rda[((rda['count_warnings'] > 0) | (rda['count_alarms'] > 0))].reset_index(drop='index')\n",
    "# display the filterd & selected data\n",
    "rda[fsm.filter_content + ['count_alarms', 'count_warnings']].round(2)"
   ]
  },
  {
   "cell_type": "code",
   "execution_count": null,
   "metadata": {},
   "outputs": [],
   "source": [
    "startversuch = rda.iloc[3];\n",
    "von_dt=pd.to_datetime(startversuch['starttime']); von=int(von_dt.timestamp() - fsm._pre_period)\n",
    "bis_dt=pd.to_datetime(startversuch['endtime']); bis=int(bis_dt.timestamp())\n",
    "\n",
    "cycle = 1 #sec.\n",
    "data = fsm.get_period_data(von, bis, cycletime=cycle)\n",
    "ftitle = f\"{fsm._e} ----- Start {startversuch.name} {startversuch['mode']} | {'SUCCESS' if startversuch['success'] else 'FAILED'} | {startversuch['starttime'].round('S')}\"\n",
    "print(f\"von: {von_dt} = {von} bis: {bis_dt} = {bis}\")\n",
    "data = fsm.get_cycle_data(startversuch, max_length=None, min_length=None, cycletime=1)"
   ]
  },
  {
   "cell_type": "code",
   "execution_count": null,
   "metadata": {},
   "outputs": [],
   "source": [
    "dset = [\n",
    "    {'col':['Power_PowerAct'], 'ylim':(0,5000)},\n",
    "    {'col':['Various_Values_SpeedAct'],'ylim': [0, 2500]}\n",
    "]\n",
    "dmyplant2.dbokeh_chart(data, dset, title=ftitle, figsize=(6,4))"
   ]
  },
  {
   "cell_type": "code",
   "execution_count": null,
   "metadata": {},
   "outputs": [],
   "source": [
    "def local_detect_edge(data, name, kind='left'):\n",
    "    fac = {'left': -1.0, 'right': 1.0}\n",
    "    ldata = data[['datetime',name]]\n",
    "    x0 = ldata.iloc[0]['datetime'];\n",
    "    x1 = ldata.iloc[-1]['datetime'];\n",
    "    edge0 = data.loc[data[name].idxmax()]\n",
    "    \n",
    "    try:\n",
    "        if kind == 'left':\n",
    "            xfac = (x1 - x0) / (edge0.datetime - x0)\n",
    "        elif kind == 'right':\n",
    "            xfac = (x1 - x0) / (x1 - edge0.datetime)\n",
    "        else:\n",
    "            raise ValueError('detect_edge: unknown kind parameter value.')\n",
    "    except ZeroDivisionError:\n",
    "        xfac = 0.0\n",
    "    xfac = min(xfac, 5.0)\n",
    "    #print(f\"###### | xfac: {xfac:5.2f} | kind: {kind:>5} | name: {name}\")\n",
    "    lmax = ldata.loc[:,name].max() * xfac * 0.90\n",
    "\n",
    "    data[name+'_'+kind] = data[name]+(data['datetime'] - x0)*(fac[kind] * lmax)/(x1-x0) + lmax* (1-fac[kind])/2\n",
    "    \n",
    "    Point = namedtuple('edge',[\"loc\", \"val\"])\n",
    "    edge = data.loc[data[name+'_'+kind].idxmax()]\n",
    "    return  Point(edge.datetime, ldata.at[edge.name,name])"
   ]
  },
  {
   "cell_type": "code",
   "execution_count": null,
   "metadata": {},
   "outputs": [],
   "source": [
    "dset = [\n",
    "    {'col':['Various_Values_SpeedAct','Various_Values_SpeedAct_left', 'Various_Values_SpeedAct_right'], 'ylim':(0,10000)}\n",
    "]\n",
    "pl = fsm.detect_edge(data, 'Various_Values_SpeedAct', kind='left')\n",
    "pr = fsm.detect_edge(data, 'Various_Values_SpeedAct', kind='right')\n",
    "fig, ax, axes = dmyplant2.chart(data, dset, figsize=(14,8), title=ftitle)\n",
    "dmyplant2.add_lines(pl.loc, [], ax, color='blue', linestyle=\"-.\")\n",
    "dmyplant2.add_lines(pr.loc, [], ax, color='blue', linestyle=\"-.\")"
   ]
  },
  {
   "cell_type": "code",
   "execution_count": null,
   "metadata": {},
   "outputs": [],
   "source": [
    "dset = [\n",
    "    {'col':['Power_PowerAct','Power_PowerAct_left','Power_PowerAct_right'], 'ylim':(0,40000)}\n",
    "]\n",
    "pl = fsm.detect_edge(data, 'Power_PowerAct', kind='left')\n",
    "pr = fsm.detect_edge(data, 'Power_PowerAct', kind='right')\n",
    "fig, ax, axes = dmyplant2.chart(data, dset, figsize=(14,8), title=ftitle)\n",
    "dmyplant2.add_lines(pl.loc, [], ax, color='blue', linestyle=\":\")\n",
    "dmyplant2.add_lines(pr.loc, [], ax, color='purple', linestyle=\":\")"
   ]
  },
  {
   "cell_type": "code",
   "execution_count": null,
   "metadata": {},
   "outputs": [],
   "source": [
    "dset = [\n",
    "    {'col':['Power_PowerAct','Various_Values_SpeedAct'], '_ylim':(0,40000)},\n",
    "    {'col':['Power_PowerAct_left','Power_PowerAct_right','Various_Values_SpeedAct_left', 'Various_Values_SpeedAct_right'], '_ylim':(0,40000)}\n",
    "    ]\n",
    "\n",
    "pl = fsm.detect_edge(data, 'Power_PowerAct', kind='left')\n",
    "pr = fsm.detect_edge(data, 'Power_PowerAct', kind='right')\n",
    "sl = fsm.detect_edge(data, 'Various_Values_SpeedAct', kind='left')\n",
    "sr = fsm.detect_edge(data, 'Various_Values_SpeedAct', kind='right')\n",
    "fig, ax, axes = dmyplant2.chart(data, dset, figsize=(14,8), title=ftitle)\n",
    "\n",
    "sv_lines = [v for v in startversuch[fsm.vertical_lines_times] if v==v]\n",
    "start = startversuch['starttime']; lines=list(np.cumsum(sv_lines))\n",
    "dmyplant2.add_lines(start, lines, ax, color='red', linestyle=\"dotted\")\n",
    "dmyplant2.add_lines(sl.loc, [], ax, color='blue', linestyle=\"-.\")\n",
    "dmyplant2.add_lines(sr.loc, [], ax, color='purple', linestyle=\"-.\")\n",
    "dmyplant2.add_lines(pl.loc, [], ax, color='green', linestyle=\"-.\")\n",
    "dmyplant2.add_lines(pr.loc, [], ax, color='orange', linestyle=\"-.\")\n",
    "\n",
    "summary = pd.DataFrame(startversuch[fsm.filter_times], dtype=np.float64).round(2).T\n",
    "dmyplant2.add_table(summary, ax, loc='upper left')\n",
    "\n",
    "plt.show()"
   ]
  },
  {
   "cell_type": "code",
   "execution_count": null,
   "metadata": {},
   "outputs": [],
   "source": [
    "dset = [\n",
    "    {'col':['Power_PowerAct','Various_Values_SpeedAct'], '_ylim':(0,10000)}\n",
    "]\n",
    "for ii,startversuch in rda.iterrows():\n",
    "        if ii < 0:\n",
    "                continue\n",
    "        if ii > 10:\n",
    "                break\n",
    "        data = fsm.get_cycle_data(startversuch, max_length=None, min_length=None, cycletime=1)\n",
    "\n",
    "        pl = fsm.detect_edge(data, 'Power_PowerAct', kind='left')\n",
    "        pr = fsm.detect_edge(data, 'Power_PowerAct', kind='right')\n",
    "        sl = fsm.detect_edge(data, 'Various_Values_SpeedAct', kind='left')\n",
    "        sr = fsm.detect_edge(data, 'Various_Values_SpeedAct', kind='right')\n",
    "\n",
    "        ftitle = f\"{fsm._e} ----- Start {ii} {startversuch['mode']} | {'SUCCESS' if startversuch['success'] else 'FAILED'} | {startversuch['starttime'].round('S')}\"\n",
    "        #ax, ax2, idf = dmyplant2._plot(data, style='.-', figsize=(18,10), title=ftitle);\n",
    "        fig, ax, axes = dmyplant2.chart(data, dset, figsize=(12,8), title=ftitle)\n",
    "\n",
    "        ml = (data.iloc[-1]['time'] - data.iloc[0]['time']) // 1000\n",
    "        sv_lines = [v for v in startversuch[fsm.vertical_lines_times]]\n",
    "\n",
    "        start = startversuch['starttime'];\n",
    "        \n",
    "        nsv_lines = [v for v in sv_lines if ((v==v) and (v <= ml)) ]\n",
    "        lines=list(np.cumsum(nsv_lines))\n",
    "        dmyplant2.add_lines(start, lines, ax, color='red', linestyle=\"--\")\n",
    "\n",
    "        dmyplant2.add_lines(sl.loc, [], ax, color='green', linestyle=\"-\")\n",
    "        dmyplant2.add_lines(sr.loc, [], ax, color='green', linestyle=\"-.\")\n",
    "        dmyplant2.add_lines(pl.loc, [], ax, color='blue', linestyle=\"-\")\n",
    "        dmyplant2.add_lines(pr.loc, [], ax, color='blue', linestyle=\"-.\")\n",
    "\n",
    "        svdf = pd.DataFrame(sv_lines, index=fsm.vertical_lines_times, columns=['FSM']).fillna(0)\n",
    "        svdf['RUN2'] = svdf['FSM']\n",
    "        #if svdf.at['hochlauf','FSM'] > 0.0:\n",
    "        #        svdf.at['hochlauf','RUN2'] = sl.loc.timestamp() - start.timestamp() - np.cumsum(svdf['RUN2'])['starter']\n",
    "        #        svdf.at['idle','RUN2'] = svdf.at['idle','FSM'] - (svdf.at['hochlauf','RUN2'] - svdf.at['hochlauf','FSM'])\n",
    "        if svdf.at['loadramp','FSM'] > 0.0:\n",
    "                svdf.at['loadramp','RUN2'] = pl.loc.timestamp() - start.timestamp() - np.cumsum(svdf['RUN2'])['synchronize']\n",
    "        svdf = pd.concat([\n",
    "                svdf, \n",
    "                pd.DataFrame.from_dict(\n",
    "                        {       'maxload':['-',pl.val],\n",
    "                                'ramp':['-',(pl.val / fsm._e['Power_PowerNominal']) * 100 / svdf.at['loadramp','RUN2']],\n",
    "                                'cumstarttime':[np.cumsum(svdf['FSM'])['loadramp'], np.cumsum(svdf['RUN2'])['loadramp']]\n",
    "                        }, \n",
    "                        columns=['FSM','RUN2'],\n",
    "                        orient='index')]\n",
    "                )\n",
    "\n",
    "\n",
    "        #summary = pd.DataFrame(startversuch[fsm.filter_times], dtype=np.float64).round(2).T\n",
    "        summary = pd.DataFrame(svdf['FSM']).round(1).T\n",
    "        dmyplant2.add_table(summary, ax, loc='upper left')\n",
    "        #display(HTML(summary.to_html(escape=False)))\n",
    "        display(HTML(svdf.round(2).T.to_html(escape=False)))\n",
    "\n",
    "\n",
    "        for i, al in enumerate(startversuch['alarms']):\n",
    "                print(f\"{al['state']:16} {fsm.msgtxt(al['msg'],i)}\")\n",
    "\n",
    "        for i, w in enumerate(startversuch['warnings']):\n",
    "                print(f\"{w['state']:16} {fsm.msgtxt(w['msg'],i)}\")\n",
    "        \n",
    "        #fsm.plot_cycle(startversuch, max_length=600, ylim=(0,2500), cycletime=1, style='.-', figsize=(10,6), \n",
    "        #    title=f\"{fsm._e} ----- Start {startversuch.name} {startversuch['mode']} | {'SUCCESS' if startversuch['success'] else 'FAILED'} | {startversuch['starttime'].round('S')}\");\n",
    "        plt.show();"
   ]
  },
  {
   "cell_type": "code",
   "execution_count": null,
   "metadata": {},
   "outputs": [],
   "source": [
    "rda.describe().round(1).T"
   ]
  },
  {
   "cell_type": "code",
   "execution_count": null,
   "metadata": {},
   "outputs": [],
   "source": [
    "svdf"
   ]
  },
  {
   "cell_type": "code",
   "execution_count": null,
   "metadata": {},
   "outputs": [],
   "source": [
    "longer_than_300s = rda[fsm.filter_period + fsm.filter_content][rda['cumstarttime'] > 300.0]\n",
    "longer_than_300s[fsm.filter_content].round(2)"
   ]
  },
  {
   "cell_type": "code",
   "execution_count": null,
   "metadata": {},
   "outputs": [],
   "source": [
    "longer_than_300s.describe().round(2).T"
   ]
  },
  {
   "cell_type": "code",
   "execution_count": null,
   "metadata": {},
   "outputs": [],
   "source": [
    "load_ramp_less_than_100s = rda[fsm.filter_period + fsm.filter_content][rda['loadramp'] < 100.0]\n",
    "lfsm = load_ramp_less_than_100s[fsm.filter_content].reset_index(drop='index').round(2)\n",
    "lfsm"
   ]
  },
  {
   "cell_type": "code",
   "execution_count": null,
   "metadata": {},
   "outputs": [],
   "source": [
    "rda.reset_index(drop='index').iloc[10];"
   ]
  },
  {
   "cell_type": "code",
   "execution_count": null,
   "metadata": {},
   "outputs": [],
   "source": [
    "for i, r in load_ramp_less_than_100s.reset_index(drop='index').iterrows():\n",
    "    fsm.plot_cycle(r, max_length=8*60, ylim=(0,2500), cycletime=1, marker=None,figsize=(20,12), title=f\"{i:3d} - {fsm._e} {r['starttime'].round('S')}\")\n",
    "    plt.show()\n"
   ]
  },
  {
   "cell_type": "code",
   "execution_count": null,
   "metadata": {},
   "outputs": [],
   "source": [
    "load_ramp_less_than_100s.describe().round(2).T"
   ]
  },
  {
   "cell_type": "code",
   "execution_count": null,
   "metadata": {},
   "outputs": [],
   "source": [
    "rda[['startpreparation','starter','hochlauf','idle','synchronize','cumstarttime','loadramp','targetoperation']].hist(figsize = (20,12), bins=80, layout=(3,3));\n",
    "#rda.hist(figsize = (20,12), bins=100, layout=(4,2));"
   ]
  },
  {
   "cell_type": "code",
   "execution_count": null,
   "metadata": {},
   "outputs": [],
   "source": [
    "nalarms = []\n",
    "ct = 0\n",
    "ct2 = 0\n",
    "mini = 0\n",
    "maxi = 1\n",
    "for i,c in rdf.iterrows():\n",
    "    if len(c['alarms']) > 0 and not c['success']:\n",
    "        ct += 1\n",
    "        print(f\"\\nStartversuch: {i}, Success: {c['success']}\")\n",
    "        for a in c['alarms']:\n",
    "            nalarms.append(a['msg'])\n",
    "            _txt = f\"{ct2} {c['mode']:15} {a['state']:20} {a['msg']['timestamp']} {pd.to_datetime(int(a['msg']['timestamp'])*1e6).strftime('%d.%m.%Y %H:%M:%S')} {a['msg']['name']} {a['msg']['message']}\"\n",
    "            print(_txt)\n",
    "            if ct2 >= mini and ct2 <= maxi:\n",
    "                fsm.plot_cycle(c, ylim=(0,2500), cycletime=1, marker=None,figsize=(20,12), title=f\"{i:3d} - {fsm._e} {_txt}\")\n",
    "                plt.show()\n",
    "            ct2 += 1\n",
    "\n",
    "print(f\"\"\"\n",
    "***********************************\n",
    "** {ct:3} nicht erfolgreiche Starts **\n",
    "***********************************\n",
    "\"\"\")"
   ]
  },
  {
   "cell_type": "code",
   "execution_count": null,
   "metadata": {},
   "outputs": [],
   "source": [
    "al = pd.DataFrame(fsm._pareto(nalarms))\n",
    "fig = plt.figure();\n",
    "color = 'purple'\n",
    "\n",
    "if not al.empty:\n",
    "    al['msg'] = al['msg'] + ' (' + al['name'] + ')'\n",
    "    al.set_index('msg').sort_values(by = \"anz\",ascending=True).plot.barh(y=['anz'],figsize=(16,len(al) / 3.8), color=[color], position = 1.0, grid=True, title='Alarms in not successful Starts');\n",
    "    plt.plot();"
   ]
  },
  {
   "cell_type": "code",
   "execution_count": null,
   "metadata": {},
   "outputs": [],
   "source": [
    "phases = [['startpreparation','starter','hochlauf','idle','synchronize','loadramp','targetoperation'],'startpreparation','starter','hochlauf','idle','synchronize','loadramp','targetoperation']\n",
    "fig = plt.figure();\n",
    "color = 'red'\n",
    "\n",
    "for phase in phases:\n",
    "    al = fsm.alarms_pareto(phase)[:30]\n",
    "    if not al.empty:\n",
    "        al['msg'] = al['msg'] + ' (' + al['name'] + ')'\n",
    "        al.set_index('msg').sort_values(by = \"anz\",ascending=True).plot.barh(y=['anz'],figsize=(16,len(al) / 3.8), color=[color], position = 1.0, grid=True, title=' | '.join(phase) if type(phase) == list else phase);\n",
    "        plt.plot();\n"
   ]
  },
  {
   "cell_type": "code",
   "execution_count": null,
   "metadata": {},
   "outputs": [],
   "source": [
    "fig = plt.figure();\n",
    "color = 'orange'\n",
    "\n",
    "for phase in phases:\n",
    "    al = fsm.warnings_pareto(phase)[:30]\n",
    "    if not al.empty:\n",
    "        al['msg'] = al['msg'] + ' (' + al['name'] + ')'\n",
    "        al.set_index('msg').sort_values(by = \"anz\",ascending=True).plot.barh(y=['anz'],figsize=(16,len(al) / 3.8), color=[color], position = 1.0, grid=True, title=' | '.join(phase) if type(phase) == list else phase);\n",
    "        plt.plot();\n"
   ]
  },
  {
   "cell_type": "code",
   "execution_count": null,
   "metadata": {},
   "outputs": [],
   "source": [
    "mfn = e._fname + '_messages.txt'\n",
    "fsm.save_messages(mfn)\n",
    "print(mfn)"
   ]
  },
  {
   "cell_type": "code",
   "execution_count": null,
   "metadata": {},
   "outputs": [],
   "source": [
    "any(fsm._messages['name'] == '9047')"
   ]
  },
  {
   "cell_type": "code",
   "execution_count": null,
   "metadata": {},
   "outputs": [],
   "source": [
    "#fsm.store()"
   ]
  }
 ],
 "metadata": {
  "interpreter": {
   "hash": "00e7f18031541dc25b2d1c6c1f90e0b122a906b1440859c87878a4f6b4e1a002"
  },
  "kernelspec": {
   "display_name": "Python 3.8.5 ('base')",
   "language": "python",
   "name": "python3"
  },
  "language_info": {
   "codemirror_mode": {
    "name": "ipython",
    "version": 3
   },
   "file_extension": ".py",
   "mimetype": "text/x-python",
   "name": "python",
   "nbconvert_exporter": "python",
   "pygments_lexer": "ipython3",
   "version": "3.9.7"
  },
  "orig_nbformat": 4
 },
 "nbformat": 4,
 "nbformat_minor": 2
}
