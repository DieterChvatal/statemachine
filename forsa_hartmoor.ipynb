{
 "cells": [
  {
   "cell_type": "markdown",
   "metadata": {},
   "source": [
    "# INNIO Fleet Analysis"
   ]
  },
  {
   "cell_type": "code",
   "execution_count": null,
   "metadata": {},
   "outputs": [],
   "source": [
    "import pandas as pd\n",
    "pd.options.mode.chained_assignment = None # default warn => SettingWithCopyWarning\n",
    "import numpy as np\n",
    "import matplotlib.pyplot as plt\n",
    "import bokeh\n",
    "from bokeh.models import Span\n",
    "from collections import namedtuple\n",
    "from pprint import (pprint as pp, pformat as pf)\n",
    "import time\n",
    "import warnings\n",
    "warnings.simplefilter(action='ignore', category=UserWarning)\n",
    "from IPython.display import HTML, display\n",
    "import ipywidgets as widgets\n",
    "import arrow\n",
    "\n",
    "import dmyplant2\n",
    "dmyplant2.cred()\n",
    "mp = dmyplant2.MyPlant(3600)\n",
    "from ipywidgets import AppLayout, Button, Layout, VBox, HBox, Label, HTML\n",
    "from dfsm import msgFSM"
   ]
  },
  {
   "cell_type": "markdown",
   "metadata": {},
   "source": [
    "### Filter Engines from installed fleet "
   ]
  },
  {
   "cell_type": "code",
   "execution_count": null,
   "metadata": {},
   "outputs": [],
   "source": [
    "def sfun(x):\n",
    "    return all([\n",
    "            (\"Forsa Hartmoor\" in str(x['IB Site Name'])), \n",
    "            (x['OperationalCondition'] != 'Decommissioned')\n",
    "        ])\n",
    "fleet = mp.search_installed_fleet(sfun).drop('index', axis=1)\n",
    "fleet = fleet.sort_values(by = \"Engine ID\",ascending=True).reset_index(drop='index')\n",
    "pname = 'persist.json'\n",
    "try:\n",
    "    persist_dialog = dmyplant2.load_json(pname)\n",
    "except FileNotFoundError:        \n",
    "    persist_dialog = {\n",
    "        'dl': 0,\n",
    "        'modes': [\n",
    "                {'name':'???','value':False },\n",
    "                {'name':'OFF','value':False },\n",
    "                {'name':'MANUAL','value':False},\n",
    "                {'name':'AUTO','value':True }],\n",
    "        'starts': [   \n",
    "                {'name':'True','value':True },\n",
    "                {'name':'False','value':False }]   \n",
    "    }\n",
    "    dmyplant2.save_json(pname,persist_dialog)    \n",
    "fleet.T"
   ]
  },
  {
   "cell_type": "code",
   "execution_count": null,
   "metadata": {},
   "outputs": [],
   "source": [
    "# Dialog\n",
    "ddl = pd.DataFrame(fleet['serialNumber'] + ' - ' + fleet['IB Site Name'] + ' ' + fleet['Engine ID'])[0].to_list()\n",
    "ddl = [(m, i) for i, m in enumerate(ddl)]\n",
    "#dl=widgets.Dropdown(options = ddl,value=0,description='Engine:',layout={'width':'max-content'},disabled=False)\n",
    "dl=widgets.Dropdown(options = ddl,value=persist_dialog['dl'],description='Engine:',layout={'width':'auto'},disabled=False)\n",
    "out = widgets.Output(layout={'height':'auto', 'width':'auto'})\n",
    "rmodes = persist_dialog['modes']\n",
    "service_selector_modes = [] \n",
    "modes = []\n",
    "for mm in rmodes:\n",
    "    service_selector_modes.append(widgets.Checkbox(\n",
    "        value=mm['value'], \n",
    "        description=mm['name'],\n",
    "        layout={'width':'auto'},\n",
    "        disabled=False,indent=False))\n",
    "\n",
    "rsucc = persist_dialog['starts']\n",
    "successful_starts = []; \n",
    "for rs in rsucc:\n",
    "    successful_starts.append(widgets.Checkbox(\n",
    "            value=rs['value'],\n",
    "            description=rs['name'],\n",
    "            layout={'width':'auto'},\n",
    "            disabled=False,indent=False))\n",
    "\n",
    "app = AppLayout(  header=dl,\n",
    "            #left_sidebar=Button(description='center', button_style='warning', layout=Layout(height='auto', width='auto')),\n",
    "            left_sidebar=None,\n",
    "            center=HBox([\n",
    "                VBox(service_selector_modes),\n",
    "                VBox(successful_starts),\n",
    "                out\n",
    "            ]),\n",
    "            right_sidebar=None,\n",
    "            footer = None,\n",
    "            #footer = Button(description='footer', button_style='success', layout=Layout(height='auto', width='auto')),\n",
    "            pane_widths=['10px',1,'10px'],\n",
    "            pane_heights=['40px','250px','40px']\n",
    "            )\n",
    "display(app)"
   ]
  },
  {
   "cell_type": "code",
   "execution_count": null,
   "metadata": {},
   "outputs": [],
   "source": [
    "# Load Engine Data and execute FSM Run 1 - display Results \n",
    "persist_dialog = {'dl':dl.value, 'modes': [{'name':cb.description, 'value':cb.value} for cb in service_selector_modes],\n",
    "                'starts': [{'name':cb.description, 'value':cb.value} for cb in successful_starts]}\n",
    "dmyplant2.save_json(pname,persist_dialog)\n",
    "\n",
    "e=dmyplant2.Engine.from_fleet(mp,motor:=fleet.iloc[dl.value])\n",
    "fsm = msgFSM(e, p_from=e['Commissioning Date'], p_to=arrow.now(), frompickle=True)\n",
    "fsm.run1(enforce=False) # run Finite State Machine\n",
    "fsm.store()\n",
    "out.clear_output()\n",
    "with out:\n",
    "    fsm.summary_out()\n",
    "rdf = fsm.result\n",
    "modes = [rmodes[i]['name'] for i,v in enumerate(service_selector_modes) if v.value]\n",
    "success = [rsucc[i]['value'] for i,v in enumerate(successful_starts) if v.value]\n",
    "rda = rdf[:].reset_index(drop='index')\n",
    "rda['count_alarms'] = rda.apply(lambda x: len(x['alarms']), axis=1)\n",
    "rda['count_warnings'] = rda.apply(lambda x: len(x['warnings']), axis=1)\n",
    "rda = rda[(rda['mode'].isin(modes) & rda['success'].isin(success))]\n",
    "display(HTML(pd.DataFrame.from_dict(e.dash, orient='index').T.to_html(escape=False, index=False)))\n",
    "print(modes, success)\n",
    "rda[fsm.filters['filter_content'] + fsm.filters['filter_alarms_and_warnings']].round(2)\n"
   ]
  },
  {
   "cell_type": "code",
   "execution_count": null,
   "metadata": {},
   "outputs": [],
   "source": [
    "# Execute FSM Run 2\n",
    "rda = fsm.run2(rda)\n",
    "fsm.store()"
   ]
  },
  {
   "cell_type": "code",
   "execution_count": null,
   "metadata": {},
   "outputs": [],
   "source": [
    "rdb = rda\n",
    "#rdb = rda[(rda['mode'].isin(['AUTO','MANUAL'])) & ((rda['count_alarms'] > 0) | (rda['count_warnings'] > 0))]\n",
    "#rdb = rda[rda['synchronize'] < 15.0]\n",
    "rdb[fsm.filters['run2filter_content'] + fsm.filters['filter_alarms_and_warnings']].round(2)"
   ]
  },
  {
   "cell_type": "code",
   "execution_count": null,
   "metadata": {},
   "outputs": [],
   "source": [
    "display(_=rdb[['startpreparation','hochlauf','idle','synchronize','loadramp','maxload','ramprate','cumstarttime','coolrun']].hist(bins=30,figsize=(20,20)))\n",
    "display(rdb[['startpreparation','hochlauf','idle','synchronize','loadramp','maxload','ramprate','cumstarttime','coolrun']].describe().round(2))"
   ]
  },
  {
   "cell_type": "code",
   "execution_count": null,
   "metadata": {},
   "outputs": [],
   "source": [
    "startversuch = rdb.iloc[1];\n",
    "von_dt=pd.to_datetime(startversuch['starttime']); von=int(von_dt.timestamp())\n",
    "bis_dt=pd.to_datetime(startversuch['endtime']); bis=int(bis_dt.timestamp())\n",
    "\n",
    "ftitle = f\"{fsm._e} ----- Start {startversuch.name} {startversuch['mode']} | {'SUCCESS' if startversuch['success'] else 'FAILED'} | {startversuch['starttime'].round('S')}\"\n",
    "print(ftitle, end=' ')\n",
    "print(f\"von: {von_dt.strftime('%d.%m.%Y %H:%M:%S')} = {von} bis: {bis_dt.strftime('%d.%m.%Y %H:%M:%S')} = {bis}\")\n",
    "vset = fsm._data_spec + ['Hyd_PressCrankCase','Hyd_PressOilDif','Hyd_PressOil','Hyd_TempOil']\n",
    "data = fsm.get_cycle_data(startversuch, max_length=None, min_length=None, cycletime=1, silent=False, p_data=vset)\n",
    "data"
   ]
  },
  {
   "cell_type": "code",
   "execution_count": null,
   "metadata": {},
   "outputs": [],
   "source": [
    "dset = [\n",
    "    {'col':['Power_PowerAct'], 'ylim':(0,5000), 'color':'red'},\n",
    "    {'col':['Various_Values_SpeedAct'],'ylim': [0, 2500], 'color':'blue'},\n",
    "    {'col':['Hyd_PressCrankCase'],'ylim': [-100, 100], 'color':'orange'},\n",
    "    {'col':['Hyd_PressOilDif'],'ylim': [0, 2], 'color':'black'},\n",
    "    {'col':['Hyd_PressOil'],'ylim': [0, 10], 'color':'brown'},\n",
    "    {'col':['Hyd_TempOil'],'ylim': [0, 110], 'color':'#2171b5'}\n",
    "]\n",
    "pl, _ = fsm.detect_edge_left(data, 'Power_PowerAct', startversuch)\n",
    "pr, _ = fsm.detect_edge_right(data, 'Power_PowerAct', startversuch)\n",
    "sl, _ = fsm.detect_edge_left(data, 'Various_Values_SpeedAct', startversuch)\n",
    "sr, _ = fsm.detect_edge_right(data, 'Various_Values_SpeedAct', startversuch)\n",
    "fsm.disp_result(startversuch)\n",
    "al_lines = fsm.disp_alarms(startversuch)\n",
    "w_lines = fsm.disp_warnings(startversuch)\n",
    "fig = dmyplant2.dbokeh_chart(data, dset, title=ftitle, grid=False, figsize=(16,10), style='line', line_width=0)\n",
    "dmyplant2.add_dbokeh_vlines(al_lines,fig,line_color='purple', line_dash='dashed', line_alpha=1, line_width=2)\n",
    "dmyplant2.add_dbokeh_vlines(w_lines,fig,line_color='brown', line_dash='dashed', line_alpha=1, line_width=2)\n",
    "dmyplant2.add_dbokeh_vlines(fsm.states_lines(startversuch),fig,line_color='red', line_dash='solid', line_alpha=0.4)\n",
    "                        \n",
    "#fsm run 2 results\n",
    "lcol='blue'\n",
    "dmyplant2.add_dbokeh_vlines([sl.loc], fig,line_color=lcol, line_dash='solid', line_alpha=0.4)\n",
    "dmyplant2.add_dbokeh_vlines([sr.loc], fig,line_color=lcol, line_dash='solid', line_alpha=0.4)\n",
    "dmyplant2.add_dbokeh_vlines([pl.loc], fig,line_color=lcol, line_dash='solid', line_alpha=0.4)\n",
    "dmyplant2.add_dbokeh_vlines([pr.loc], fig,line_color=lcol, line_dash='solid', line_alpha=0.4)\n",
    "\n",
    "\n",
    "fig.add_layout(Span(location=fsm._e['Power_PowerNominal'],dimension='width',x_range_name='default', y_range_name='0',line_color='red', line_dash='solid', line_alpha=0.4)) \n",
    "fig.add_layout(Span(location=startversuch['maxload'],dimension='width',x_range_name='default', y_range_name='0',line_color='red', line_dash='solid', line_alpha=0.4)) \n",
    "fig.add_layout(Span(location=1500,dimension='width',x_range_name='default', y_range_name='1',line_color='blue', line_dash='solid', line_alpha=0.4)) \n",
    "bokeh.plotting.show(fig)"
   ]
  },
  {
   "cell_type": "code",
   "execution_count": null,
   "metadata": {},
   "outputs": [],
   "source": [
    "# pure matplotlib chart\n",
    "# fig, ax, axes = dmyplant2.chart(data, dset, figsize=(14,8), title=ftitle)\n",
    "# dmyplant2.add_vlines(fsm.states_lines(startversuch), ax, color='gray', linestyle=\"-.\")"
   ]
  },
  {
   "cell_type": "code",
   "execution_count": null,
   "metadata": {},
   "outputs": [],
   "source": [
    "# Edge detection algorithm speed - visualization\n",
    "# dset = [\n",
    "#     {'col':['Various_Values_SpeedAct','Various_Values_SpeedAct_right'], 'ylim':(0,20000)},\n",
    "#     {'col':['helpline_right'], 'color':'gray','ylim':(0,20000)}\n",
    "# ]\n",
    "# # pr, _ = fsm.detect_edge_right(data, 'Various_Values_SpeedAct', right=startversuch['endtime'])\n",
    "# # fig = dmyplant2.dbokeh_chart(data, dset, title=ftitle, figsize=(14,8), style='line', line_width=0)\n",
    "# pr, ndata = fsm.detect_edge_right(data, 'Various_Values_SpeedAct', right=startversuch['endtime'])\n",
    "# fig = dmyplant2.dbokeh_chart(ndata, dset, title=ftitle, figsize=(14,8), style='line', line_width=0)\n",
    "# dmyplant2.add_dbokeh_vlines([pr.loc], fig,line_color='red', line_dash='solid', line_alpha=0.4)\n",
    "# bokeh.plotting.show(fig)"
   ]
  },
  {
   "cell_type": "code",
   "execution_count": null,
   "metadata": {},
   "outputs": [],
   "source": [
    "# Edge detection algorithm speed - visualization\n",
    "# dset = [\n",
    "#     {'col':['Various_Values_SpeedAct','Various_Values_SpeedAct_left','Various_Values_SpeedAct_right','helpline_left','helpline_right'], '_ylim':(0,4000)},\n",
    "# ]\n",
    "# pr, ndata = fsm.detect_edge_right(data, 'Various_Values_SpeedAct', right=startversuch['endtime'])\n",
    "# pl, ndata = fsm.detect_edge_left(ndata, 'Various_Values_SpeedAct', left=startversuch['starttime'])\n",
    "# fig = dmyplant2.dbokeh_chart(ndata, dset, title=ftitle, figsize=(14,8), style='line', line_width=0)\n",
    "# # pl, _ = fsm.detect_edge_left(data, 'Various_Values_SpeedAct', left=startversuch['starttime'])\n",
    "# # fig = dmyplant2.dbokeh_chart(data, dset, title=ftitle, figsize=(14,8), style='line', line_width=0)\n",
    "# dmyplant2.add_dbokeh_vlines([pl.loc], fig,line_color='red', line_dash='solid', line_alpha=0.4)\n",
    "# dmyplant2.add_dbokeh_vlines([pr.loc], fig,line_color='red', line_dash='solid', line_alpha=0.4)\n",
    "# bokeh.plotting.show(fig)"
   ]
  },
  {
   "cell_type": "code",
   "execution_count": null,
   "metadata": {},
   "outputs": [],
   "source": [
    "# Edge detection algorithm power - visualization\n",
    "# dset = [\n",
    "#     {'col':['Power_PowerAct','Power_PowerAct_left','Power_PowerAct_right'], '_ylim':(0,40000)}\n",
    "# ]\n",
    "# #pl, _ = fsm.detect_edge_left(data, 'Power_PowerAct', left=startversuch['starttime'])\n",
    "# pl, _ = fsm.detect_edge_left(data, 'Power_PowerAct', startversuch=startversuch)\n",
    "# pr, _ = fsm.detect_edge_right(data, 'Power_PowerAct', right=startversuch['endtime'])\n",
    "# fig = dmyplant2.dbokeh_chart(data, dset, title=ftitle, figsize=(6,3), style='line', line_width=0)\n",
    "# dmyplant2.add_dbokeh_vlines([pl.loc], fig,line_color='red', line_dash='solid', line_alpha=0.4)\n",
    "# dmyplant2.add_dbokeh_vlines([pr.loc], fig,line_color='red', line_dash='solid', line_alpha=0.4)\n",
    "# bokeh.plotting.show(fig)"
   ]
  },
  {
   "cell_type": "code",
   "execution_count": null,
   "metadata": {},
   "outputs": [],
   "source": [
    "# # Edge detection algorithm power & speed - visualization\n",
    "# dset = [\n",
    "#     {'col':['Power_PowerAct','Various_Values_SpeedAct'], 'ylim':(0,30000)},\n",
    "#     {'col':['Power_PowerAct_left','Power_PowerAct_right','Various_Values_SpeedAct_left', 'Various_Values_SpeedAct_right'], 'ylim':(0,30000)}\n",
    "#     ]\n",
    "# pl, _ = fsm.detect_edge_left(data, 'Power_PowerAct', startversuch)\n",
    "# pr, _ = fsm.detect_edge_right(data, 'Power_PowerAct', startversuch)\n",
    "# sl, _ = fsm.detect_edge_left(data, 'Various_Values_SpeedAct', startversuch)\n",
    "# sr, _ = fsm.detect_edge_right(data, 'Various_Values_SpeedAct', startversuch)\n",
    "# #fig, ax, axes = dmyplant2.chart(data, dset, figsize=(14,8), title=ftitle)\n",
    "# fsm.disp_result(startversuch)\n",
    "# al_lines = fsm.disp_alarms(startversuch)\n",
    "# w_lines = fsm.disp_warnings(startversuch)\n",
    "\n",
    "# fig = dmyplant2.dbokeh_chart(data, dset, title=ftitle, figsize=(14,8), style='line', line_width=0)\n",
    "# dmyplant2.add_dbokeh_vlines(al_lines,fig,line_color='purple', line_dash='dashed', line_alpha=1, line_width=2)\n",
    "# dmyplant2.add_dbokeh_vlines(w_lines,fig,line_color='brown', line_dash='dashed', line_alpha=1, line_width=2)\n",
    "# dmyplant2.add_dbokeh_vlines(fsm.states_lines(startversuch), fig,line_color='red', line_dash='solid', line_alpha=0.4)\n",
    "# lcol='blue'\n",
    "# dmyplant2.add_dbokeh_vlines([sl.loc], fig,line_color=lcol, line_dash='solid', line_alpha=0.4)\n",
    "# dmyplant2.add_dbokeh_vlines([sr.loc], fig,line_color=lcol, line_dash='solid', line_alpha=0.4)\n",
    "# dmyplant2.add_dbokeh_vlines([pl.loc], fig,line_color=lcol, line_dash='solid', line_alpha=0.4)\n",
    "# dmyplant2.add_dbokeh_vlines([pr.loc], fig,line_color=lcol, line_dash='solid', line_alpha=0.4)\n",
    "# bokeh.plotting.show(fig)"
   ]
  },
  {
   "cell_type": "code",
   "execution_count": null,
   "metadata": {},
   "outputs": [],
   "source": [
    "# iterate over Result\n",
    "p_dat = fsm._data_spec + ['Hyd_PressCrankCase','Hyd_PressOilDif','Hyd_PressOil','Hyd_TempOil']\n",
    "dset = [\n",
    "    {'col':['Power_PowerAct'], '_ylim':(0,5000), 'color':'red'},\n",
    "    {'col':['Various_Values_SpeedAct'],'_ylim': [0, 2500], 'color':'blue'},\n",
    "    {'col':['Hyd_PressCrankCase'],'_ylim': [-100, 100], 'color':'orange'},\n",
    "    {'col':['Hyd_PressOilDif'],'_ylim': [0, 2], 'color':'black'},\n",
    "    {'col':['Hyd_PressOil'],'ylim': [0, 10], 'color':'brown'},\n",
    "    {'col':['Hyd_TempOil'],'_ylim': [60, 110], 'color':'#2171b5'}\n",
    "]\n",
    "def crawl_result(rda, srange = None, p_figsize=(16,10)):\n",
    "        if srange == None:\n",
    "                srange = [s['index'] for i,s in rda.iterrows()] # too much memory needed !!\n",
    "                #srange = [s for s in range(2)] # limit to 2 in the interim \n",
    "        else:\n",
    "                if isinstance(srange,int):\n",
    "                        srange = [srange]\n",
    "                elif not isinstance(srange,list):\n",
    "                        raise ValueError(f\"crawl_result: invalid parameter! srange={srange}\")\n",
    "        print(srange)\n",
    "        for ii,startversuch in rda.iterrows():\n",
    "                if startversuch['index'] in srange:\n",
    "                        data = fsm.get_cycle_data(startversuch, max_length=None, min_length=None, cycletime=1, silent=True, p_data=p_dat)\n",
    "                        print(data.shape)\n",
    "                        pl, _ = fsm.detect_edge_left(data, 'Power_PowerAct', startversuch)\n",
    "                        pr, _ = fsm.detect_edge_right(data, 'Power_PowerAct', startversuch)\n",
    "                        sl, _ = fsm.detect_edge_left(data, 'Various_Values_SpeedAct', startversuch)\n",
    "                        sr, _ = fsm.detect_edge_right(data, 'Various_Values_SpeedAct', startversuch)\n",
    "                        # code ?\n",
    "                        ml = (data.iloc[-1]['time'] - data.iloc[0]['time']) // 1000\n",
    "                        sv_lines = [v for v in startversuch[fsm.filters['vertical_lines_times']]]\n",
    "                        nsv_lines = [v for v in sv_lines if ((v==v) and (v <= ml)) ]\n",
    "                                \n",
    "                        svdf = pd.DataFrame(sv_lines, index=fsm.filters['vertical_lines_times'], columns=['FSM']).fillna(0)\n",
    "                        svdf['RUN2'] = svdf['FSM']\n",
    "                        #if svdf.at['hochlauf','FSM'] > 0.0:\n",
    "                        #        svdf.at['hochlauf','RUN2'] = sl.loc.timestamp() - start.timestamp() - np.cumsum(svdf['RUN2'])['starter']\n",
    "                        #        svdf.at['idle','RUN2'] = svdf.at['idle','FSM'] - (svdf.at['hochlauf','RUN2'] - svdf.at['hochlauf','FSM'])\n",
    "                        if svdf.at['loadramp','FSM'] > 0.0:\n",
    "                                svdf.at['loadramp','RUN2'] = pl.loc.timestamp() - startversuch['starttime'].timestamp() - np.cumsum(svdf['RUN2'])['synchronize']\n",
    "                        with warnings.catch_warnings():\n",
    "                                warnings.simplefilter(\"ignore\")\n",
    "                                svdf = pd.concat([\n",
    "                                        svdf, \n",
    "                                        pd.DataFrame.from_dict(\n",
    "                                                {       'maxload':['-',pl.val],\n",
    "                                                        'ramp':['-',(pl.val / fsm._e['Power_PowerNominal']) * 100 / svdf.at['loadramp','RUN2']],\n",
    "                                                        'cumstarttime':[np.cumsum(svdf['FSM'])['loadramp'], np.cumsum(svdf['RUN2'])['loadramp']]\n",
    "                                                }, \n",
    "                                                columns=['FSM','RUN2'],\n",
    "                                                orient='index')]\n",
    "                                        )\n",
    "\n",
    "                        ftitle = f\"{fsm._e} ----- Start {startversuch['index']} {startversuch['mode']} | {'SUCCESS' if startversuch['success'] else 'FAILED'} | {startversuch['starttime'].round('S')}\"\n",
    "                        #display(HTML('<h3>'+ f\"{fsm._e} ----- Start {startversuch['index']} {startversuch['mode']} | {'SUCCESS' if startversuch['success'] else 'FAILED'} | {startversuch['starttime'].round('S')}\" + '</h3>'))\n",
    "                        \n",
    "                        fsm.disp_result(startversuch)\n",
    "                        al_lines = fsm.disp_alarms(startversuch)\n",
    "                        w_lines = fsm.disp_warnings(startversuch)\n",
    "\n",
    "                        fig = dmyplant2.dbokeh_chart(data, dset, title=ftitle, figsize=p_figsize, style='line', line_width=0)\n",
    "                        #fsm results\n",
    "                        dmyplant2.add_dbokeh_vlines(fsm.states_lines(startversuch), fig,line_color='red', line_dash='solid', line_alpha=0.4)\n",
    "                        \n",
    "                        #alarms & warnings\n",
    "                        dmyplant2.add_dbokeh_vlines(al_lines,fig,line_color='purple', line_dash='dashed', line_alpha=1, line_width=2)\n",
    "                        dmyplant2.add_dbokeh_vlines(w_lines,fig,line_color='brown', line_dash='dashed', line_alpha=1, line_width=2)\n",
    "                        \n",
    "                        #fsm run 2 results\n",
    "                        lcol='blue'\n",
    "                        dmyplant2.add_dbokeh_vlines([sl.loc], fig,line_color=lcol, line_dash='solid', line_alpha=0.4)\n",
    "                        dmyplant2.add_dbokeh_vlines([sr.loc], fig,line_color=lcol, line_dash='solid', line_alpha=0.4)\n",
    "                        dmyplant2.add_dbokeh_vlines([pl.loc], fig,line_color=lcol, line_dash='solid', line_alpha=0.4)\n",
    "                        dmyplant2.add_dbokeh_vlines([pr.loc], fig,line_color=lcol, line_dash='solid', line_alpha=0.4)\n",
    "\n",
    "                        fig.add_layout(Span(location=fsm._e['Power_PowerNominal'],dimension='width',x_range_name='default', y_range_name='0',line_color='red', line_dash='solid', line_alpha=0.4)) \n",
    "                        fig.add_layout(Span(location=startversuch['maxload'],dimension='width',x_range_name='default', y_range_name='0',line_color='red', line_dash='solid', line_alpha=0.4)) \n",
    "                        fig.add_layout(Span(location=1500,dimension='width',x_range_name='default', y_range_name='1',line_color='blue', line_dash='solid', line_alpha=0.4)) \n",
    "\n",
    "                        bokeh.plotting.show(fig)\n",
    "\n",
    "print(f\"Number of Starts in Result: {rdb.shape[0]}\")\n",
    "rdb[fsm.filters['run2filter_content']].round(2)\n"
   ]
  },
  {
   "cell_type": "code",
   "execution_count": null,
   "metadata": {},
   "outputs": [],
   "source": [
    "#crawl_result(rda, [i for i in range(20,40)], p_figsize=(17,10))\n",
    "crawl_result(rdb, 7, p_figsize=(17,10))"
   ]
  },
  {
   "cell_type": "code",
   "execution_count": null,
   "metadata": {},
   "outputs": [],
   "source": [
    "rdc = rda[rda['cumstarttime'] > 300.0]\n",
    "rdc[fsm.filters['run2filter_content']].round(2)"
   ]
  },
  {
   "cell_type": "code",
   "execution_count": null,
   "metadata": {},
   "outputs": [],
   "source": [
    "crawl_result(rdc, 7, p_figsize=(17,10))"
   ]
  },
  {
   "cell_type": "code",
   "execution_count": null,
   "metadata": {},
   "outputs": [],
   "source": [
    "rdd = rda[(rda['loadramp'] < 100.0) & (rda['maxload'] > 4000.0)]\n",
    "rdd = rdd.sort_values(by = \"index\",ascending=True).reset_index(drop='index').round(2)\n",
    "rdd[['starttime']+fsm.filters['run2filter_content']]"
   ]
  },
  {
   "cell_type": "code",
   "execution_count": null,
   "metadata": {},
   "outputs": [],
   "source": [
    "crawl_result(rdd, 41, p_figsize=(17,10))"
   ]
  },
  {
   "cell_type": "code",
   "execution_count": null,
   "metadata": {},
   "outputs": [],
   "source": [
    "rde = rda[rda.starttime > fsm._e['Commissioning Date']]\n",
    "dset = [\n",
    "    {'col':['cumstarttime'],'ylim':(-400,900), 'color':'darkblue'},\n",
    "    {'col':['synchronize'],'ylim':(-50,650)},\n",
    "    {'col':['startpreparation'],'ylim':(-600,300)},\n",
    "    {'col':['hochlauf'],'ylim':(-100,200), 'color':'black'},\n",
    "    {'col':['loadramp'],'ylim':(-150,900), 'color':'green'},\n",
    "    {'col':['ramprate'],'ylim':(-3,3)},\n",
    "    {'col':['maxload'],'ylim':(500,5000) }\n",
    "]\n",
    "ftitle = f\"{fsm._e}\"\n",
    "fig = dmyplant2.dbokeh_chart(rde, dset, x='starttime', figsize=(16,10) ,title=ftitle);\n",
    "bokeh.plotting.show(fig)"
   ]
  },
  {
   "cell_type": "code",
   "execution_count": null,
   "metadata": {},
   "outputs": [],
   "source": [
    "rda[['startpreparation','starter','hochlauf','idle','synchronize','cumstarttime','loadramp','targetoperation']].hist(figsize = (20,12), bins=80, layout=(3,3));\n",
    "#rda.hist(figsize = (20,12), bins=100, layout=(4,2));"
   ]
  },
  {
   "cell_type": "code",
   "execution_count": null,
   "metadata": {},
   "outputs": [],
   "source": [
    "mfn = e._fname + '_messages.txt'\n",
    "fsm.save_messages(mfn)\n",
    "print(mfn)"
   ]
  },
  {
   "cell_type": "code",
   "execution_count": null,
   "metadata": {},
   "outputs": [],
   "source": [
    "any(fsm._messages['name'] == '9047')"
   ]
  },
  {
   "cell_type": "code",
   "execution_count": null,
   "metadata": {},
   "outputs": [],
   "source": [
    "fsm._target_load_message"
   ]
  }
 ],
 "metadata": {
  "interpreter": {
   "hash": "00e7f18031541dc25b2d1c6c1f90e0b122a906b1440859c87878a4f6b4e1a002"
  },
  "kernelspec": {
   "display_name": "Python 3.8.5 ('base')",
   "language": "python",
   "name": "python3"
  },
  "language_info": {
   "codemirror_mode": {
    "name": "ipython",
    "version": 3
   },
   "file_extension": ".py",
   "mimetype": "text/x-python",
   "name": "python",
   "nbconvert_exporter": "python",
   "pygments_lexer": "ipython3",
   "version": "3.9.7"
  },
  "orig_nbformat": 4
 },
 "nbformat": 4,
 "nbformat_minor": 2
}
