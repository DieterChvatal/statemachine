{
 "cells": [
  {
   "cell_type": "code",
   "execution_count": null,
   "metadata": {},
   "outputs": [],
   "source": [
    "import pandas as pd; pd.options.mode.chained_assignment = None # default warn => SettingWithCopyWarning\n",
    "import numpy as np\n",
    "import warnings; warnings.simplefilter(action='ignore', category=UserWarning)\n",
    "from IPython.display import HTML, display\n",
    "from ipywidgets import AppLayout, Button, Layout, VBox, HBox, Label, HTML, interact\n",
    "import ipywidgets as widgets\n",
    "import arrow\n",
    "\n",
    "import dmyplant2\n",
    "dmyplant2.cred()\n",
    "mp = dmyplant2.MyPlant(3600)\n",
    "from dmyplant2 import msgFSM, FSMPlot_Start, bokeh_show, dbokeh_chart"
   ]
  },
  {
   "cell_type": "code",
   "execution_count": null,
   "metadata": {},
   "outputs": [],
   "source": [
    "def sfun(x):\n",
    "    return all([\n",
    "            (\"Forsa Hartmoor\" in str(x['IB Site Name'])), \n",
    "            (x['OperationalCondition'] != 'Decommissioned')\n",
    "        ])"
   ]
  },
  {
   "cell_type": "code",
   "execution_count": null,
   "metadata": {},
   "outputs": [],
   "source": [
    "fleet = mp.search_installed_fleet(sfun).drop('index', axis=1)\n",
    "fleet = fleet.sort_values(by = \"Engine ID\",ascending=True).reset_index(drop='index')\n",
    "pname = 'persist.json'\n",
    "try:\n",
    "    persist_dialog = dmyplant2.load_json(pname)\n",
    "except FileNotFoundError:        \n",
    "    persist_dialog = {\n",
    "        'dl': 0,\n",
    "        'modes': [\n",
    "                {'name':'???','value':False },\n",
    "                {'name':'OFF','value':False },\n",
    "                {'name':'MANUAL','value':False},\n",
    "                {'name':'AUTO','value':True }],\n",
    "        'starts': [   \n",
    "                {'name':'True','value':True },\n",
    "                {'name':'False','value':False }]   \n",
    "    }\n",
    "    dmyplant2.save_json(pname,persist_dialog)"
   ]
  },
  {
   "cell_type": "code",
   "execution_count": null,
   "metadata": {},
   "outputs": [],
   "source": [
    "    fleet.T;"
   ]
  },
  {
   "cell_type": "code",
   "execution_count": null,
   "metadata": {},
   "outputs": [],
   "source": [
    "# Dialog\n",
    "persist_dialog = dmyplant2.load_json(pname)\n",
    "ddl = pd.DataFrame(fleet['serialNumber'] + ' - ' + fleet['IB Site Name'] + ' ' + fleet['Engine ID'])[0].to_list()\n",
    "ddl = [(m, i) for i, m in enumerate(ddl)]\n",
    "#dl=widgets.Dropdown(options = ddl,value=0,description='Engine:',layout={'width':'max-content'},disabled=False)\n",
    "dl=widgets.Dropdown(options = ddl,value=persist_dialog['dl'],description='Engine:',layout={'width':'auto'},disabled=False)\n",
    "out = widgets.Output(layout={'height':'auto', 'width':'auto'})\n",
    "rmodes = persist_dialog['modes']\n",
    "service_selector_modes = [] \n",
    "modes = []\n",
    "for mm in rmodes:\n",
    "    service_selector_modes.append(widgets.Checkbox(\n",
    "        value=mm['value'], \n",
    "        description=mm['name'],\n",
    "        layout={'width':'auto'},\n",
    "        disabled=False,indent=False))\n",
    "\n",
    "rsucc = persist_dialog['starts']\n",
    "successful_starts = []; \n",
    "for rs in rsucc:\n",
    "    successful_starts.append(widgets.Checkbox(\n",
    "            value=(str(rs['value']) == rs['name']),\n",
    "            description=rs['name'],\n",
    "            layout={'width':'auto'},\n",
    "            disabled=False,indent=False))\n",
    "\n",
    "app = AppLayout(  header=dl,\n",
    "            #left_sidebar=Button(description='center', button_style='warning', layout=Layout(height='auto', width='auto')),\n",
    "            left_sidebar=None,\n",
    "            center=HBox([\n",
    "                VBox(service_selector_modes),\n",
    "                VBox(successful_starts),\n",
    "                out\n",
    "            ]),\n",
    "            right_sidebar=None,\n",
    "            footer = None,\n",
    "            #footer = Button(description='footer', button_style='success', layout=Layout(height='auto', width='auto')),\n",
    "            pane_widths=['10px',1,'10px'],\n",
    "            pane_heights=['40px','250px','40px']\n",
    "            )\n",
    "display(app)"
   ]
  },
  {
   "cell_type": "code",
   "execution_count": null,
   "metadata": {},
   "outputs": [],
   "source": [
    "# Load Engine Data and execute FSM Run 1 - display Results \n",
    "persist_dialog = {\n",
    "    'dl':dl.value, \n",
    "    'modes': [{'name':cb.description, 'value':cb.value} for cb in service_selector_modes],\n",
    "    'starts': [{'name':cb.description, 'value': str(cb.value) == cb.description} for cb in successful_starts]}\n",
    "dmyplant2.save_json(pname,persist_dialog)\n",
    "e=dmyplant2.Engine.from_fleet(mp,motor:=fleet.iloc[dl.value])\n",
    "fsm = msgFSM(e, p_from=e['Commissioning Date'], p_to=arrow.now(), frompickle=True)\n",
    "fsm.run1(enforce=False) # run Finite State Machine\n",
    "fsm.store()"
   ]
  },
  {
   "cell_type": "code",
   "execution_count": null,
   "metadata": {},
   "outputs": [],
   "source": [
    "out.clear_output()\n",
    "with out:\n",
    "    fsm.summary_out()\n",
    "rdf = fsm.result\n",
    "#rdf[fsm.filters['filter_content']].round(2)\n",
    "modes = [rmodes[i]['name'] for i,v in enumerate(service_selector_modes) if v.value]\n",
    "success = [rsucc[i]['value'] for i,v in enumerate(successful_starts) if v.value]\n",
    "rda = rdf[:].reset_index(drop='index')\n",
    "rda['count_alarms'] = rda.apply(lambda x: len(x['alarms']), axis=1)\n",
    "rda['count_warnings'] = rda.apply(lambda x: len(x['warnings']), axis=1)\n",
    "rda = rda[(rda['mode'].isin(modes) & rda['success'].isin(success))]\n",
    "display(HTML(pd.DataFrame.from_dict(e.dash, orient='index').T.to_html(escape=False, index=False)))\n",
    "print(modes, success)\n",
    "#rda[fsm.filters['run2filter_content'] + fsm.filters['filter_alarms_and_warnings']].round(2)"
   ]
  },
  {
   "cell_type": "code",
   "execution_count": null,
   "metadata": {},
   "outputs": [],
   "source": [
    "# Execute FSM Run 2\n",
    "rda = fsm.run2(rda)\n",
    "fsm.store()"
   ]
  },
  {
   "cell_type": "code",
   "execution_count": null,
   "metadata": {},
   "outputs": [],
   "source": [
    "fsm._starts;"
   ]
  },
  {
   "cell_type": "code",
   "execution_count": null,
   "metadata": {},
   "outputs": [],
   "source": [
    "rdb = rda\n",
    "#rdb = rda[(rda['mode'].isin(['AUTO','MANUAL'])) & ((rda['count_alarms'] > 0) | (rda['count_warnings'] > 0))]\n",
    "#rdb = rda[rda['synchronize'] < 15.0]\n",
    "rdb[fsm.filters['run2filter_content'] + fsm.filters['filter_alarms_and_warnings']].round(2)"
   ]
  },
  {
   "cell_type": "code",
   "execution_count": null,
   "metadata": {},
   "outputs": [],
   "source": [
    "display(_=rdb[['startpreparation','hochlauf','idle','synchronize','loadramp','maxload','ramprate','cumstarttime','targetoperation','coolrun']].hist(bins=30,figsize=(20,20)))\n",
    "display(rdb[['startpreparation','hochlauf','idle','synchronize','loadramp','maxload','ramprate','cumstarttime','targetoperation','coolrun']].describe().round(2))"
   ]
  },
  {
   "cell_type": "code",
   "execution_count": null,
   "metadata": {},
   "outputs": [],
   "source": [
    "vset = fsm._data_spec + ['Hyd_PressCrankCase','Hyd_PressOilDif','Hyd_PressOil','Hyd_TempOil']\n",
    "dset = [\n",
    "    {'col':['Power_PowerAct'], 'ylim':(0,5000), 'color':'red'},\n",
    "    {'col':['Various_Values_SpeedAct'],'ylim': [0, 2500], 'color':'blue'},\n",
    "    #{'col':['Hyd_PressCrankCase'],'ylim': [-100, 100], 'color':'orange'},\n",
    "    #{'col':['Hyd_PressOilDif'],'ylim': [0, 2], 'color':'black'},\n",
    "    {'col':['Hyd_PressOil'],'ylim': [0, 10], 'color':'brown'},\n",
    "    {'col':['Hyd_TempOil'],'ylim': [0, 110], 'color':'#2171b5'}\n",
    "]\n",
    "dfigsize = (16,10)"
   ]
  },
  {
   "cell_type": "code",
   "execution_count": null,
   "metadata": {},
   "outputs": [],
   "source": [
    "def f(x=0):\n",
    "    global v; v = x; startversuch = rdb.iloc[x]\n",
    "    ftitle = f\"{fsm._e} ----- Start {startversuch['index']} {startversuch['mode']} | {'SUCCESS' if startversuch['success'] else 'FAILED'} | {startversuch['starttime'].round('S')}\"\n",
    "    display(HTML(ftitle));\n",
    "    return fsm.disp_result(startversuch)\n",
    "interact(f, x = (0, rdb.shape[0]-1));"
   ]
  },
  {
   "cell_type": "code",
   "execution_count": null,
   "metadata": {},
   "outputs": [],
   "source": [
    "fig = FSMPlot_Start(fsm,rdb.iloc[v], vset, dset, figsize=dfigsize); bokeh_show(fig); fig.renderers = []"
   ]
  },
  {
   "cell_type": "code",
   "execution_count": null,
   "metadata": {},
   "outputs": [],
   "source": [
    "startversuch = rdb.iloc[v]\n",
    "td = {k:v for k,v in startversuch.items() if k.endswith('_time')}\n",
    "\n",
    "display(HTML(pd.DataFrame.from_dict(dict(zip(fsm.filters['vertical_lines_times'], fsm.states_lines(startversuch))), orient='index').T.to_html(escape=False,index=False)))\n",
    "display(HTML(pd.DataFrame.from_dict(td,orient='index').T.to_html(escape=False,index=False)))"
   ]
  },
  {
   "cell_type": "code",
   "execution_count": null,
   "metadata": {},
   "outputs": [],
   "source": [
    "tl = [startversuch[k] for k in startversuch.keys() if k.endswith('_time')]\n",
    "tl"
   ]
  },
  {
   "cell_type": "code",
   "execution_count": null,
   "metadata": {},
   "outputs": [],
   "source": [
    "rde = rda[(rda.starttime > fsm._e['Commissioning Date']) & (rda['success']) & (rda['maxload'] > 4000.0)].copy()\n",
    "rde['datetime'] = pd.to_datetime(rde['starttime'])\n",
    "dset = [\n",
    "    {'col':['cumstarttime'],'ylim':(-400,900), 'color':'darkblue'},\n",
    "    {'col':['synchronize'],'ylim':(-50,650)},\n",
    "    {'col':['startpreparation'],'ylim':(-600,300)},\n",
    "    {'col':['hochlauf'],'ylim':(-100,200), 'color':'orange'},\n",
    "    {'col':['loadramp'],'ylim':(-150,900), 'color':'red'},\n",
    "    {'col':['ramprate'],'ylim':(-3,3)},\n",
    "    {'col':['index'],'color':'black'},\n",
    "    {'col':['maxload'],'ylim':(500,5000) }\n",
    "]\n",
    "ftitle = f\"{fsm._e}\"\n",
    "fig = dbokeh_chart(rde, dset, style='circle', figsize=dfigsize ,title=ftitle);\n",
    "bokeh_show(fig)\n",
    "fig.renderers = []"
   ]
  },
  {
   "cell_type": "code",
   "execution_count": null,
   "metadata": {},
   "outputs": [],
   "source": [
    "nalarms = []\n",
    "ct = 0\n",
    "ct2 = 0\n",
    "mini = 0\n",
    "maxi = 100\n",
    "_txt = ''\n",
    "for i,c in rdf.iterrows():\n",
    "    if len(c['alarms']) > 0 and not c['success']:\n",
    "        ct += 1\n",
    "        _txt += f\"<h3>Startversuch: {i}, Success: {c['success']}</h3>\"\n",
    "        #display(HTML(f\"\\n<hr><h3>Startversuch: {i}, Success: {c['success']}</h3>\"))\n",
    "        print()\n",
    "        for a in c['alarms']:\n",
    "            nalarms.append(a['msg'])\n",
    "            _txt += f\"{ct2} {c['mode']:15} {a['state']:20} \" + fsm.msgtxt(a['msg']) + \"<br>\"\n",
    "            #_txt = f\"{ct2} {c['mode']:15} {a['state']:20} {a['msg']['timestamp']} {pd.to_datetime(int(a['msg']['timestamp'])*1e6).strftime('%d.%m.%Y %H:%M:%S')} {a['msg']['name']} {a['msg']['message']}\"\n",
    "            #if ct2 >= mini and ct2 <= maxi:\n",
    "                #fsm.plot_cycle(c, ylim=(0,2500), cycletime=1, marker=None,figsize=(20,12), title=f\"{i:3d} - {fsm._e} {_txt}\")\n",
    "                #plt.show()\n",
    "            ct2 += 1\n",
    "_txt = f\"<h2>{fsm._e}, <br>{ct:3} not successful starts</h2>\" + _txt\n",
    "display(HTML(_txt))\n"
   ]
  },
  {
   "cell_type": "code",
   "execution_count": null,
   "metadata": {},
   "outputs": [],
   "source": [
    "phases = [['startpreparation','starter','hochlauf','idle','synchronize','loadramp','targetoperation','coolrun'],'startpreparation','starter','hochlauf','idle','synchronize','loadramp','targetoperation','coolrun']\n",
    "for phase in phases:\n",
    "    al = fsm.alarms_pareto(phase)\n",
    "    if not al.empty:\n",
    "        display(HTML(f\"<h3>{phase}:</h3>\"))\n",
    "        al.sort_values(by = \"anz\",ascending=True)\n",
    "        display(HTML(al.to_html(escape=False, index=False)))"
   ]
  },
  {
   "cell_type": "code",
   "execution_count": null,
   "metadata": {},
   "outputs": [],
   "source": [
    "for phase in phases:\n",
    "    wr = fsm.warnings_pareto(phase)\n",
    "    if not wr.empty:\n",
    "        display(HTML(f\"<h3>{phase}:</h3>\"))\n",
    "        wr.sort_values(by = \"anz\",ascending=True)\n",
    "        display(HTML(wr.to_html(escape=False, index=False)))"
   ]
  },
  {
   "cell_type": "code",
   "execution_count": null,
   "metadata": {},
   "outputs": [],
   "source": [
    "mfn = e._fname + '_messages.txt'\n",
    "fsm.save_messages(mfn)\n",
    "print(mfn)"
   ]
  },
  {
   "cell_type": "code",
   "execution_count": null,
   "metadata": {},
   "outputs": [],
   "source": [
    "lfn = e._fname + '_runlog.txt'\n",
    "fsm.save_runlog(lfn)\n",
    "print(lfn)"
   ]
  }
 ],
 "metadata": {
  "interpreter": {
   "hash": "00e7f18031541dc25b2d1c6c1f90e0b122a906b1440859c87878a4f6b4e1a002"
  },
  "kernelspec": {
   "display_name": "Python 3.8.5 ('base')",
   "language": "python",
   "name": "python3"
  },
  "language_info": {
   "codemirror_mode": {
    "name": "ipython",
    "version": 3
   },
   "file_extension": ".py",
   "mimetype": "text/x-python",
   "name": "python",
   "nbconvert_exporter": "python",
   "pygments_lexer": "ipython3",
   "version": "3.9.7"
  },
  "orig_nbformat": 4
 },
 "nbformat": 4,
 "nbformat_minor": 2
}
