{
 "cells": [
  {
   "cell_type": "code",
   "execution_count": 1,
   "metadata": {
    "ExecuteTime": {
     "end_time": "2022-04-09T17:44:57.250819Z",
     "start_time": "2022-04-09T17:44:32.225213Z"
    },
    "tags": []
   },
   "outputs": [
    {
     "data": {
      "text/html": [
       "<style>.container {width:94% !important;}</style>"
      ],
      "text/plain": [
       "<IPython.core.display.HTML object>"
      ]
     },
     "metadata": {},
     "output_type": "display_data"
    }
   ],
   "source": [
    "import warnings\n",
    "import pandas as pd\n",
    "# , Range1d#, LabelSet\n",
    "from bokeh.models import ColumnDataSource, Label, Text, Span, HoverTool, Div\n",
    "from bokeh.layouts import column, row, gridplot, layout\n",
    "from dmyplant2 import (\n",
    "    cred, MyPlant, Engine,\n",
    "    FSMOperator, startstopFSM, FSM_splot, FSM_splotBC, FSM_VLine, FSM_add_Notations, FSM_add_Alarms, FSM_add_Warnings,\n",
    "    bokeh_show, dbokeh_chart, add_dbokeh_vlines, get_cycle_data2, disp_result, disp_alarms, disp_warnings,\n",
    "    cvset, cplotdef, equal_adjust, count_columns, load_data, get_cycle_data, get_cycle_data2, figures)\n",
    "import dmyplant2\n",
    "import time\n",
    "import scipy.fftpack\n",
    "from scipy.signal import savgol_filter\n",
    "import matplotlib.pyplot as plt\n",
    "from tqdm.auto import tqdm\n",
    "import arrow\n",
    "import ipywidgets as widgets\n",
    "from ipywidgets import AppLayout, Button, Layout, VBox, HBox, Label, HTML, interact, IntSlider\n",
    "from IPython.display import HTML, display\n",
    "display(HTML(\"<style>.container {width:94% !important;}</style>\"))\n",
    "from pprint import pprint as pp\n",
    "from datetime import datetime\n",
    "import numpy as np\n",
    "from bokeh.plotting import figure, output_file, show\n",
    "import bokeh\n",
    "# default warn => SettingWithCopyWarning\n",
    "pd.options.mode.chained_assignment = None\n",
    "warnings.simplefilter(action='ignore', category=UserWarning)\n",
    "\n",
    "cred()\n",
    "mp = MyPlant(3600)\n",
    "Engine._list_cached_validations();\n",
    "#mp._fetch_installed_base(); # refresh local installed fleet database"
   ]
  },
  {
   "cell_type": "code",
   "execution_count": 2,
   "metadata": {},
   "outputs": [],
   "source": [
    "#lookup = 'BMW Landshut 4.10'\n",
    "#lookup = 'GRR'\n",
    "#lookup = 'V441'\n",
    "lookup = 'Forsa Hartmoor'\n",
    "#lookup = 'Textile'\n",
    "#lookup = 'CREYKE'\n",
    "motor_num = 1"
   ]
  },
  {
   "cell_type": "code",
   "execution_count": 3,
   "metadata": {
    "ExecuteTime": {
     "end_time": "2022-04-09T17:44:57.250819Z",
     "start_time": "2022-04-09T17:44:32.225213Z"
    },
    "tags": []
   },
   "outputs": [],
   "source": [
    "def sfun(x):\n",
    "    #return all([ (lookup in str(x['Design Number'])),  (x['OperationalCondition'] != 'Decommissioned') ])\n",
    "    return all([ (lookup in str(x['IB Site Name'])),  (x['OperationalCondition'] != 'Decommissioned') ])\n",
    "fleet = mp.search_installed_fleet(sfun).drop('index', axis=1)\n",
    "fleet = fleet.sort_values(by = \"Engine ID\",ascending=True).reset_index(drop='index')"
   ]
  },
  {
   "cell_type": "code",
   "execution_count": 4,
   "metadata": {
    "ExecuteTime": {
     "end_time": "2022-04-09T17:45:36.736068Z",
     "start_time": "2022-04-09T17:45:15.902957Z"
    }
   },
   "outputs": [],
   "source": [
    "fleet.T;"
   ]
  },
  {
   "cell_type": "code",
   "execution_count": 5,
   "metadata": {
    "ExecuteTime": {
     "end_time": "2022-04-09T17:45:55.660625Z",
     "start_time": "2022-04-09T17:45:40.494349Z"
    },
    "tags": []
   },
   "outputs": [
    {
     "name": "stdout",
     "output_type": "stream",
     "text": [
      "Engine load from picklefile: error disposing ldata\n"
     ]
    },
    {
     "data": {
      "text/plain": [
       "('Forsa Hartmoor M02', ['undefined', 'OFF', 'MAN', 'AUTO'], [True, False])"
      ]
     },
     "execution_count": 5,
     "metadata": {},
     "output_type": "execute_result"
    }
   ],
   "source": [
    "motor = fleet.iloc[motor_num]\n",
    "modes = ['undefined','OFF','MAN','AUTO']\n",
    "success = [True,False]\n",
    "#success = [True]\n",
    "e=Engine.from_fleet(mp,motor)\n",
    "pp_from=e['Commissioning Date']\n",
    "#pp_from='2019-11-25'\n",
    "#pp_to='2019-12-01'\n",
    "pp_to=datetime.now()\n",
    "motor['IB Site Name'] + ' ' + motor['Engine ID'], modes, success"
   ]
  },
  {
   "cell_type": "code",
   "execution_count": 6,
   "metadata": {
    "ExecuteTime": {
     "end_time": "2022-04-09T17:46:13.642845Z",
     "start_time": "2022-04-09T17:45:58.306471Z"
    }
   },
   "outputs": [
    {
     "name": "stdout",
     "output_type": "stream",
     "text": [
      "FSM0: 100%|█████████████████████| 11901/11901 [00:00<00:00, 16590.65 messages/s]\n",
      "FSM1: 100%|██████████████████████| 11901/11901 [00:01<00:00, 7490.42 messages/s]\n"
     ]
    }
   ],
   "source": [
    "# Run State Machines\n",
    "fsm = FSMOperator(e, p_from=pp_from, p_to=pp_to)\n",
    "fsm.run0(enforce=True, silent=False, debug=False)\n",
    "fsm.run1(silent=False, successtime=300, debug=False) # run Finite State Machine"
   ]
  },
  {
   "cell_type": "code",
   "execution_count": 7,
   "metadata": {},
   "outputs": [],
   "source": [
    "#fsm.run2(silent = False, debug = True)"
   ]
  },
  {
   "cell_type": "code",
   "execution_count": 8,
   "metadata": {},
   "outputs": [],
   "source": [
    "fsm.save_results('test.dfsm')"
   ]
  },
  {
   "cell_type": "code",
   "execution_count": 11,
   "metadata": {},
   "outputs": [
    {
     "name": "stdout",
     "output_type": "stream",
     "text": [
      "{'DesignNumber': 'AL87',\n",
      " 'EngineType': '624',\n",
      " 'EngineVersion': 'H12',\n",
      " 'Name': 'Forsa Hartmoor M02',\n",
      " 'id': 159397,\n",
      " 'p_from': '2022-01-10',\n",
      " 'p_to': datetime.datetime(2022, 4, 29, 8, 8, 51, 693096),\n",
      " 'run2': False,\n",
      " 'save_date': Timestamp('2022-04-29 00:00:00'),\n",
      " 'serialNumber': '1486152'}\n",
      "Engine load from picklefile: error disposing ldata\n",
      "###### in dengine.getOilReports_Overview => sample Data saved for Development\n"
     ]
    },
    {
     "ename": "IndexError",
     "evalue": "single positional indexer is out-of-bounds",
     "output_type": "error",
     "traceback": [
      "\u001b[0;31m---------------------------------------------------------------------------\u001b[0m",
      "\u001b[0;31mIndexError\u001b[0m                                Traceback (most recent call last)",
      "\u001b[1;32m/Users/dieterchvatal/prog/python3/statemachine/2022_04_25_Overview.ipynb Cell 9'\u001b[0m in \u001b[0;36m<cell line: 1>\u001b[0;34m()\u001b[0m\n\u001b[0;32m----> <a href='vscode-notebook-cell:/Users/dieterchvatal/prog/python3/statemachine/2022_04_25_Overview.ipynb#ch0000017?line=0'>1</a>\u001b[0m fsm \u001b[39m=\u001b[39m FSMOperator\u001b[39m.\u001b[39;49mload_results(mp, \u001b[39m'\u001b[39;49m\u001b[39mtest.dfsm\u001b[39;49m\u001b[39m'\u001b[39;49m)\n",
      "File \u001b[0;32m~/Documents/Anaconda/dmyplant4/dmyplant2/dFSM/dFSM.py:562\u001b[0m, in \u001b[0;36mFSMOperator.load_results\u001b[0;34m(cls, mp, filename)\u001b[0m\n\u001b[1;32m    <a href='file:///Users/dieterchvatal/Documents/Anaconda/dmyplant4/dmyplant2/dFSM/dFSM.py?line=559'>560</a>\u001b[0m pp(results[\u001b[39m'\u001b[39m\u001b[39minfo\u001b[39m\u001b[39m'\u001b[39m])\n\u001b[1;32m    <a href='file:///Users/dieterchvatal/Documents/Anaconda/dmyplant4/dmyplant2/dFSM/dFSM.py?line=560'>561</a>\u001b[0m e \u001b[39m=\u001b[39m Engine\u001b[39m.\u001b[39mfrom_sn(mp, results[\u001b[39m'\u001b[39m\u001b[39minfo\u001b[39m\u001b[39m'\u001b[39m][\u001b[39m'\u001b[39m\u001b[39mserialNumber\u001b[39m\u001b[39m'\u001b[39m])\n\u001b[0;32m--> <a href='file:///Users/dieterchvatal/Documents/Anaconda/dmyplant4/dmyplant2/dFSM/dFSM.py?line=561'>562</a>\u001b[0m lfsm \u001b[39m=\u001b[39m FSMOperator(e, p_from\u001b[39m=\u001b[39;49mresults[\u001b[39m'\u001b[39;49m\u001b[39minfo\u001b[39;49m\u001b[39m'\u001b[39;49m][\u001b[39m'\u001b[39;49m\u001b[39mp_from\u001b[39;49m\u001b[39m'\u001b[39;49m], p_to\u001b[39m=\u001b[39;49mresults[\u001b[39m'\u001b[39;49m\u001b[39minfo\u001b[39;49m\u001b[39m'\u001b[39;49m][\u001b[39m'\u001b[39;49m\u001b[39mp_from\u001b[39;49m\u001b[39m'\u001b[39;49m])\n\u001b[1;32m    <a href='file:///Users/dieterchvatal/Documents/Anaconda/dmyplant4/dmyplant2/dFSM/dFSM.py?line=562'>563</a>\u001b[0m \u001b[39mreturn\u001b[39;00m lfsm\n",
      "File \u001b[0;32m~/Documents/Anaconda/dmyplant4/dmyplant2/dFSM/dFSM.py:456\u001b[0m, in \u001b[0;36mFSMOperator.__init__\u001b[0;34m(self, e, p_from, p_to, skip_days, frompickle)\u001b[0m\n\u001b[1;32m    <a href='file:///Users/dieterchvatal/Documents/Anaconda/dmyplant4/dmyplant2/dFSM/dFSM.py?line=453'>454</a>\u001b[0m \u001b[39mself\u001b[39m\u001b[39m.\u001b[39m_p_from \u001b[39m=\u001b[39m p_from\n\u001b[1;32m    <a href='file:///Users/dieterchvatal/Documents/Anaconda/dmyplant4/dmyplant2/dFSM/dFSM.py?line=454'>455</a>\u001b[0m \u001b[39mself\u001b[39m\u001b[39m.\u001b[39m_p_to \u001b[39m=\u001b[39m p_to\n\u001b[0;32m--> <a href='file:///Users/dieterchvatal/Documents/Anaconda/dmyplant4/dmyplant2/dFSM/dFSM.py?line=455'>456</a>\u001b[0m \u001b[39mself\u001b[39;49m\u001b[39m.\u001b[39;49mload_messages(e, p_from, p_to, skip_days)\n\u001b[1;32m    <a href='file:///Users/dieterchvatal/Documents/Anaconda/dmyplant4/dmyplant2/dFSM/dFSM.py?line=456'>457</a>\u001b[0m \u001b[39mself\u001b[39m\u001b[39m.\u001b[39mmessage_queue \u001b[39m=\u001b[39m []\n\u001b[1;32m    <a href='file:///Users/dieterchvatal/Documents/Anaconda/dmyplant4/dmyplant2/dFSM/dFSM.py?line=457'>458</a>\u001b[0m \u001b[39mself\u001b[39m\u001b[39m.\u001b[39mextra_messages \u001b[39m=\u001b[39m []\n",
      "File \u001b[0;32m~/Documents/Anaconda/dmyplant4/dmyplant2/dFSM/dFSM.py:572\u001b[0m, in \u001b[0;36mFSMOperator.load_messages\u001b[0;34m(self, e, p_from, p_to, skip_days, untilnow)\u001b[0m\n\u001b[1;32m    <a href='file:///Users/dieterchvatal/Documents/Anaconda/dmyplant4/dmyplant2/dFSM/dFSM.py?line=569'>570</a>\u001b[0m \u001b[39mdef\u001b[39;00m \u001b[39mload_messages\u001b[39m(\u001b[39mself\u001b[39m,e, p_from\u001b[39m=\u001b[39m\u001b[39mNone\u001b[39;00m, p_to\u001b[39m=\u001b[39m\u001b[39mNone\u001b[39;00m, skip_days\u001b[39m=\u001b[39m\u001b[39mNone\u001b[39;00m, untilnow\u001b[39m=\u001b[39m\u001b[39mFalse\u001b[39;00m):\n\u001b[1;32m    <a href='file:///Users/dieterchvatal/Documents/Anaconda/dmyplant4/dmyplant2/dFSM/dFSM.py?line=570'>571</a>\u001b[0m     \u001b[39m#self._messages = e.get_messages(p_from, p_to) #using stored messages.\u001b[39;00m\n\u001b[0;32m--> <a href='file:///Users/dieterchvatal/Documents/Anaconda/dmyplant4/dmyplant2/dFSM/dFSM.py?line=571'>572</a>\u001b[0m     \u001b[39mself\u001b[39m\u001b[39m.\u001b[39m_messages \u001b[39m=\u001b[39m e\u001b[39m.\u001b[39;49mget_messages2(p_from, p_to, untilnow) \n\u001b[1;32m    <a href='file:///Users/dieterchvatal/Documents/Anaconda/dmyplant4/dmyplant2/dFSM/dFSM.py?line=572'>573</a>\u001b[0m     pfrom_ts \u001b[39m=\u001b[39m \u001b[39mint\u001b[39m(pd\u001b[39m.\u001b[39mto_datetime(p_from, infer_datetime_format\u001b[39m=\u001b[39m\u001b[39mTrue\u001b[39;00m)\u001b[39m.\u001b[39mtimestamp() \u001b[39m*\u001b[39m \u001b[39m1000\u001b[39m) \u001b[39mif\u001b[39;00m p_from \u001b[39melse\u001b[39;00m \u001b[39m0\u001b[39m\n\u001b[1;32m    <a href='file:///Users/dieterchvatal/Documents/Anaconda/dmyplant4/dmyplant2/dFSM/dFSM.py?line=573'>574</a>\u001b[0m     pto_ts \u001b[39m=\u001b[39m \u001b[39mint\u001b[39m(pd\u001b[39m.\u001b[39mto_datetime(p_to, infer_datetime_format\u001b[39m=\u001b[39m\u001b[39mTrue\u001b[39;00m)\u001b[39m.\u001b[39mtimestamp() \u001b[39m*\u001b[39m \u001b[39m1000\u001b[39m) \u001b[39mif\u001b[39;00m p_to \u001b[39melse\u001b[39;00m \u001b[39mint\u001b[39m(pd\u001b[39m.\u001b[39mTimestamp\u001b[39m.\u001b[39mnow()\u001b[39m.\u001b[39mtimestamp() \u001b[39m*\u001b[39m \u001b[39m1000\u001b[39m)\n",
      "File \u001b[0;32m~/Documents/Anaconda/dmyplant4/dmyplant2/dEngine.py:1313\u001b[0m, in \u001b[0;36mEngine.get_messages2\u001b[0;34m(self, p_from, p_to, untilnow)\u001b[0m\n\u001b[1;32m   <a href='file:///Users/dieterchvatal/Documents/Anaconda/dmyplant4/dmyplant2/dEngine.py?line=1309'>1310</a>\u001b[0m \u001b[39m# 10 Minuten Toleranz\u001b[39;00m\n\u001b[1;32m   <a href='file:///Users/dieterchvatal/Documents/Anaconda/dmyplant4/dmyplant2/dEngine.py?line=1310'>1311</a>\u001b[0m tol \u001b[39m=\u001b[39m \u001b[39m61\u001b[39m\u001b[39m*\u001b[39m\u001b[39m60\u001b[39m\u001b[39m*\u001b[39m\u001b[39m1000\u001b[39m\n\u001b[0;32m-> <a href='file:///Users/dieterchvatal/Documents/Anaconda/dmyplant4/dmyplant2/dEngine.py?line=1312'>1313</a>\u001b[0m \u001b[39mif\u001b[39;00m p_from_ts \u001b[39m+\u001b[39m tol \u001b[39m<\u001b[39m \u001b[39mint\u001b[39m(messages\u001b[39m.\u001b[39;49miloc[\u001b[39m0\u001b[39;49m]\u001b[39m.\u001b[39mtimestamp):\n\u001b[1;32m   <a href='file:///Users/dieterchvatal/Documents/Anaconda/dmyplant4/dmyplant2/dEngine.py?line=1313'>1314</a>\u001b[0m     from_messages \u001b[39m=\u001b[39m \u001b[39mself\u001b[39m\u001b[39m.\u001b[39mbatch_hist_alarms(p_severities\u001b[39m=\u001b[39msev, p_from \u001b[39m=\u001b[39m p_from_ts, p_to \u001b[39m=\u001b[39m \u001b[39mint\u001b[39m(messages\u001b[39m.\u001b[39miloc[\u001b[39m0\u001b[39m]\u001b[39m.\u001b[39mtimestamp))\n\u001b[1;32m   <a href='file:///Users/dieterchvatal/Documents/Anaconda/dmyplant4/dmyplant2/dEngine.py?line=1314'>1315</a>\u001b[0m     from_messages \u001b[39m=\u001b[39m from_messages[::\u001b[39m-\u001b[39m\u001b[39m1\u001b[39m]\n",
      "File \u001b[0;32m~/opt/anaconda3/lib/python3.9/site-packages/pandas/core/indexing.py:967\u001b[0m, in \u001b[0;36m_LocationIndexer.__getitem__\u001b[0;34m(self, key)\u001b[0m\n\u001b[1;32m    <a href='file:///Users/dieterchvatal/opt/anaconda3/lib/python3.9/site-packages/pandas/core/indexing.py?line=963'>964</a>\u001b[0m axis \u001b[39m=\u001b[39m \u001b[39mself\u001b[39m\u001b[39m.\u001b[39maxis \u001b[39mor\u001b[39;00m \u001b[39m0\u001b[39m\n\u001b[1;32m    <a href='file:///Users/dieterchvatal/opt/anaconda3/lib/python3.9/site-packages/pandas/core/indexing.py?line=965'>966</a>\u001b[0m maybe_callable \u001b[39m=\u001b[39m com\u001b[39m.\u001b[39mapply_if_callable(key, \u001b[39mself\u001b[39m\u001b[39m.\u001b[39mobj)\n\u001b[0;32m--> <a href='file:///Users/dieterchvatal/opt/anaconda3/lib/python3.9/site-packages/pandas/core/indexing.py?line=966'>967</a>\u001b[0m \u001b[39mreturn\u001b[39;00m \u001b[39mself\u001b[39;49m\u001b[39m.\u001b[39;49m_getitem_axis(maybe_callable, axis\u001b[39m=\u001b[39;49maxis)\n",
      "File \u001b[0;32m~/opt/anaconda3/lib/python3.9/site-packages/pandas/core/indexing.py:1520\u001b[0m, in \u001b[0;36m_iLocIndexer._getitem_axis\u001b[0;34m(self, key, axis)\u001b[0m\n\u001b[1;32m   <a href='file:///Users/dieterchvatal/opt/anaconda3/lib/python3.9/site-packages/pandas/core/indexing.py?line=1516'>1517</a>\u001b[0m     \u001b[39mraise\u001b[39;00m \u001b[39mTypeError\u001b[39;00m(\u001b[39m\"\u001b[39m\u001b[39mCannot index by location index with a non-integer key\u001b[39m\u001b[39m\"\u001b[39m)\n\u001b[1;32m   <a href='file:///Users/dieterchvatal/opt/anaconda3/lib/python3.9/site-packages/pandas/core/indexing.py?line=1518'>1519</a>\u001b[0m \u001b[39m# validate the location\u001b[39;00m\n\u001b[0;32m-> <a href='file:///Users/dieterchvatal/opt/anaconda3/lib/python3.9/site-packages/pandas/core/indexing.py?line=1519'>1520</a>\u001b[0m \u001b[39mself\u001b[39;49m\u001b[39m.\u001b[39;49m_validate_integer(key, axis)\n\u001b[1;32m   <a href='file:///Users/dieterchvatal/opt/anaconda3/lib/python3.9/site-packages/pandas/core/indexing.py?line=1521'>1522</a>\u001b[0m \u001b[39mreturn\u001b[39;00m \u001b[39mself\u001b[39m\u001b[39m.\u001b[39mobj\u001b[39m.\u001b[39m_ixs(key, axis\u001b[39m=\u001b[39maxis)\n",
      "File \u001b[0;32m~/opt/anaconda3/lib/python3.9/site-packages/pandas/core/indexing.py:1452\u001b[0m, in \u001b[0;36m_iLocIndexer._validate_integer\u001b[0;34m(self, key, axis)\u001b[0m\n\u001b[1;32m   <a href='file:///Users/dieterchvatal/opt/anaconda3/lib/python3.9/site-packages/pandas/core/indexing.py?line=1449'>1450</a>\u001b[0m len_axis \u001b[39m=\u001b[39m \u001b[39mlen\u001b[39m(\u001b[39mself\u001b[39m\u001b[39m.\u001b[39mobj\u001b[39m.\u001b[39m_get_axis(axis))\n\u001b[1;32m   <a href='file:///Users/dieterchvatal/opt/anaconda3/lib/python3.9/site-packages/pandas/core/indexing.py?line=1450'>1451</a>\u001b[0m \u001b[39mif\u001b[39;00m key \u001b[39m>\u001b[39m\u001b[39m=\u001b[39m len_axis \u001b[39mor\u001b[39;00m key \u001b[39m<\u001b[39m \u001b[39m-\u001b[39mlen_axis:\n\u001b[0;32m-> <a href='file:///Users/dieterchvatal/opt/anaconda3/lib/python3.9/site-packages/pandas/core/indexing.py?line=1451'>1452</a>\u001b[0m     \u001b[39mraise\u001b[39;00m \u001b[39mIndexError\u001b[39;00m(\u001b[39m\"\u001b[39m\u001b[39msingle positional indexer is out-of-bounds\u001b[39m\u001b[39m\"\u001b[39m)\n",
      "\u001b[0;31mIndexError\u001b[0m: single positional indexer is out-of-bounds"
     ]
    }
   ],
   "source": [
    "fsm = FSMOperator.load_results(mp, 'test.dfsm')"
   ]
  },
  {
   "cell_type": "code",
   "execution_count": null,
   "metadata": {
    "ExecuteTime": {
     "end_time": "2022-04-09T17:52:09.401085Z",
     "start_time": "2022-04-09T17:52:09.357613Z"
    },
    "tags": []
   },
   "outputs": [],
   "source": [
    "rdf = fsm.starts\n",
    "rda = rdf[:].reset_index(drop='index')\n",
    "rda = rda[(rda['mode'].isin(modes) & rda['success'].isin(success))].reset_index(drop='index')\n",
    "rdb = rda\n",
    "#rda[filterFSM.run2filter_content].round(2)\n",
    "print(f\"Starts: {rdf.shape[0]}, Successful: {rdf[rdf['success'] == True].shape[0]}, Failed: {rdf[rdf['success'] == False].shape[0]} => {rdf[rdf['success'] == True].shape[0]/rdf.shape[0]*100.0:3.1f}%\")\n",
    "pd.DataFrame.from_dict(e.dash, orient='index').T"
   ]
  },
  {
   "cell_type": "code",
   "execution_count": null,
   "metadata": {
    "ExecuteTime": {
     "end_time": "2022-04-09T17:52:12.596331Z",
     "start_time": "2022-04-09T17:52:11.389518Z"
    },
    "tags": []
   },
   "outputs": [],
   "source": [
    "#rde = rda[(rda.starttime > fsm._e['Commissioning Date']) & (rda['success']) & (rda.targetload > 2800.0)].copy()\n",
    "#rde = rda[(rda.starttime > fsm._e['Commissioning Date']) & (rda.count_alarms > 0)].copy()\n",
    "#rde = rda[(rda.starttime > fsm._e['Commissioning Date']) & (rda['success'])].copy()\n",
    "rde = rda\n",
    "rde['datetime'] = pd.to_datetime(rde['starttime'])\n",
    "rde['isuccess'] = rde.apply(lambda x: 1 if x['success'] else 0, axis=1)\n",
    "vec = ['startpreparation','speedup','idle','synchronize','loadramp','targetload','ramprate','cumstarttime','targetoperation','rampdown','coolrun','runout','isuccess']\n",
    "display(rde[vec].describe().round(2))\n",
    "dfigsize = (18,12)\n",
    "dset = [\n",
    "    {'col':['cumstarttime'],'_ylim':(-600,800), 'color':'darkblue'},\n",
    "    {'col':['runout'],'_ylim':(0,100) },\n",
    "    {'col':['targetload'],'_ylim':(-4000,26000) },\n",
    "    {'col':['ramprate'],'_ylim':(-5,7)},\n",
    "    {'col':['loadramp'],'_ylim':(-150,900), 'color':'red'},\n",
    "    {'col':['speedup'],'_ylim':(-100,200), 'color':'orange'},\n",
    "    {'col':['synchronize'],'_ylim':(-20,400)},\n",
    "    {'col':['startpreparation'],'_ylim':(-1000,800)},\n",
    "    {'col':['count_warnings','count_alarms','isuccess'],'_ylim':(-1,200), 'color':['rgba(255,165,0,0.3)','rgba(255,0,0,0.3)','rgba(0,128,0,0.2)'] },\n",
    "    {'col':['no'],'_ylim':(0,1000), 'color':['rgba(0,0,0,0.1)'] },\n",
    "    #{'col':['count_warnings','count_alarms','no'],'ylim':(-1,200), 'color':['rgba(255,165,0,0.3)','rgba(255,0,0,0.3)','rgba(0,0,0,0.1)'] }\n",
    "    ]\n",
    "dset = equal_adjust(dset, rde, do_not_adjust=[-1])\n",
    "ftitle = f\"{fsm._e}\"\n",
    "fig = dbokeh_chart(rde, dset, style='both', figsize=dfigsize ,title=ftitle);\n",
    "bokeh_show(fig)"
   ]
  },
  {
   "cell_type": "code",
   "execution_count": null,
   "metadata": {
    "ExecuteTime": {
     "end_time": "2022-04-09T17:52:22.483612Z",
     "start_time": "2022-04-09T17:52:22.440861Z"
    },
    "jupyter": {
     "source_hidden": true
    },
    "tags": []
   },
   "outputs": [],
   "source": [
    "def f(x=0):\n",
    "    global vv; vv = x; startversuch = rdb.iloc[x]\n",
    "    #ftitle = f\"{fsm._e} ----- Start {startversuch['no']} {startversuch['mode']} | {'SUCCESS' if startversuch['success'] else 'FAILED'} | {startversuch['starttime'].round('S')} CumStart: {startversuch['cumstarttime']:0.1f}\"\n",
    "    #display(HTML(ftitle));\n",
    "    disp_result(startversuch)\n",
    "interact(f, x = IntSlider(0, 0, rdb.shape[0]-1 , 1, layout=widgets.Layout(width='90%')));"
   ]
  },
  {
   "cell_type": "code",
   "execution_count": null,
   "metadata": {
    "ExecuteTime": {
     "end_time": "2022-04-09T17:52:47.490318Z",
     "start_time": "2022-04-09T17:52:41.983963Z"
    },
    "jupyter": {
     "source_hidden": true
    },
    "tags": []
   },
   "outputs": [],
   "source": [
    "# PLotter\n",
    "def myfigures(e):\n",
    "    return {\n",
    "    'actors' : [\n",
    "    {'col':['Power_PowerAct'], 'ylim':(0,5000), 'color':'red', 'unit':'kW'},\n",
    "    {'col':['Various_Values_SpeedAct'],'ylim': [0, 2500], 'color':'blue', 'unit':'rpm'},\n",
    "    {'col':['Ignition_ITPAvg'],'ylim': [-10, 30], 'color':'rgba(255,0,255,0.4)', 'unit':'°KW'},\n",
    "    {'col':['TecJet_Lambda1'],'ylim': [0, 3], 'color':'rgba(255,165,0,0.4)', 'unit':'-'},\n",
    "    {'col':['Various_Values_PosThrottle','Various_Values_PosTurboBypass'],'ylim': [-10, 110], 'color':['rgba(105,105,105,0.6)','rgba(165,42,42,0.4)'], 'unit':'%'},\n",
    "    ],\n",
    "    'lubrication' : [\n",
    "    {'col':['Power_PowerAct'], 'ylim':(0,5000), 'color':'red', 'unit':'kW'},\n",
    "    {'col':['Various_Values_SpeedAct'],'ylim': [0, 2500], 'color':'blue', 'unit':'rpm'},\n",
    "    {'col':['Hyd_PressCrankCase'],'ylim': [-100, 100], 'color':'orange', 'unit':'mbar'},\n",
    "    {'col':['Hyd_PressOilDif'],'ylim': [0, 2], 'color':'black', 'unit': 'bar'},\n",
    "    {'col':['Hyd_PressOil'],'ylim': [0, 10], 'color':'brown', 'unit': 'bar'},\n",
    "    {'col':['Hyd_TempOil','Hyd_TempCoolWat','Hyd_TempWatRetCoolOut'],'ylim': [0, 110], 'color':['#2171b5','orangered','hotpink'], 'unit':'°C'},\n",
    "    ],\n",
    "    'exhaust' : [\n",
    "    {'col':['Power_PowerAct'], 'ylim':(0,5000), 'color':'red', 'unit':'kW'},\n",
    "    {'col':['Various_Values_SpeedAct'],'ylim': [0, 2500], 'color':'blue', 'unit':'rpm'},\n",
    "    {'col':['TecJet_Lambda1'],'ylim': [0, 3], 'color':'rgba(255,165,0,0.4)', 'unit':'-'},\n",
    "    {'col':e.dataItemsCyl('Exhaust_TempCyl*'),'ylim': [400, 700], 'unit':'°C'},\n",
    "    {'col':e.dataItemsCyl('Knock_Valve_Noise_Cyl*'),'ylim': [0, 4000], 'unit':'V'},\n",
    "    ],\n",
    "    'ignition' : [\n",
    "    {'col':['Power_PowerAct'], 'ylim':(0,5000), 'color':'red', 'unit':'kW'},\n",
    "    {'col':['Various_Values_SpeedAct'],'ylim': [0, 2500], 'color':'blue', 'unit':'rpm'},\n",
    "    {'col':['TecJet_Lambda1'],'ylim': [0, 3], 'color':'rgba(255,165,0,0.4)', 'unit':'-'},\n",
    "    {'col':e.dataItemsCyl('Monic_VoltCyl*'),'ylim': [0, 100], 'unit':'kV'},\n",
    "    {'col':e.dataItemsCyl('Ignition_ITPCyl*'),'ylim': [0, 40], 'unit':'°KW'},\n",
    "    {'col':e.dataItemsCyl('Knock_KLS98_IntKnock_Cyl*'),'ylim': [-30, 60], 'unit':'%'},\n",
    "    ],\n",
    "        \n",
    "}\n",
    "lfigures = myfigures(fsm._e)\n",
    "plotdef, vset = cplotdef(mp, lfigures)\n",
    "#dmaxlength = 1800\n",
    "dmaxlength = None\n",
    "dminlength = None\n",
    "startversuch = rdb.iloc[vv]\n",
    "ftitle = f\"{fsm._e} ----- Start {startversuch['no']} {startversuch['mode']} | {'SUCCESS' if startversuch['success'] else 'FAILED'} | {startversuch['starttime'].round('S')}\"\n",
    "data = get_cycle_data2(fsm, startversuch, max_length=dmaxlength, min_length=dminlength, cycletime=1, silent=True, p_data=vset)\n",
    "data['power_diff'] = pd.Series(np.gradient(data['Power_PowerAct']))\n",
    "for doplot in plotdef:\n",
    "    dset = lfigures[doplot]\n",
    "    ltitle = f\"{ftitle} | {doplot}\"\n",
    "    try:\n",
    "        if count_columns(dset) > 12: # no legend, if too many lines.\n",
    "            fig = FSM_splot(fsm, startversuch, data, dset, title=ltitle, legend=False, figsize=(18, 10))\n",
    "        else:\n",
    "            fig = FSM_splot(fsm, startversuch, data, dset, title=ltitle, figsize=(18, 10))\n",
    "\n",
    "        fig = FSM_add_Notations(fig, fsm, startversuch)\n",
    "        disp_alarms(startversuch)\n",
    "        disp_warnings(startversuch)\n",
    "        fig = FSM_add_Alarms(fig, fsm, startversuch)\n",
    "        fig = FSM_add_Warnings(fig, fsm, startversuch)\n",
    "        bokeh_show(fig)\n",
    "    except Exception as err:\n",
    "        print(err)"
   ]
  },
  {
   "cell_type": "code",
   "execution_count": null,
   "metadata": {
    "ExecuteTime": {
     "end_time": "2022-04-09T17:53:01.963916Z",
     "start_time": "2022-04-09T17:53:01.779328Z"
    },
    "tags": []
   },
   "outputs": [],
   "source": [
    "for i, v in enumerate(fsm.runlogdetail(startversuch, statechanges_only=True)):\n",
    "    print(f\"{i:3} {v}\")"
   ]
  },
  {
   "cell_type": "code",
   "execution_count": null,
   "metadata": {
    "ExecuteTime": {
     "end_time": "2022-04-09T17:53:04.579435Z",
     "start_time": "2022-04-09T17:53:03.229583Z"
    },
    "tags": []
   },
   "outputs": [],
   "source": [
    "for i, v in enumerate(fsm.runlogdetail(startversuch, statechanges_only=False)):\n",
    "    print(f\"{i:3} {v}\")"
   ]
  },
  {
   "cell_type": "code",
   "execution_count": null,
   "metadata": {
    "ExecuteTime": {
     "end_time": "2022-04-09T17:53:24.658341Z",
     "start_time": "2022-04-09T17:53:22.277816Z"
    },
    "jupyter": {
     "source_hidden": true
    },
    "tags": []
   },
   "outputs": [],
   "source": [
    "rdb = rda\n",
    "vec = ['startpreparation','speedup','idle','synchronize','loadramp','targetload','ramprate','cumstarttime','targetoperation','rampdown','coolrun','runout']\n",
    "display(_=rdb[vec].hist(bins=30,layout=(4,4),figsize=(20,20)))\n",
    "#ax_list[0][2].set_xlim((0,10))\n",
    "#display(rdb[vec].hist(bins=30,figsize=(20,20)))\n",
    "display(rdb[vec].describe().round(2))"
   ]
  },
  {
   "cell_type": "code",
   "execution_count": null,
   "metadata": {
    "ExecuteTime": {
     "end_time": "2022-04-09T17:53:35.226567Z",
     "start_time": "2022-04-09T17:53:26.197408Z"
    },
    "jupyter": {
     "source_hidden": true
    },
    "tags": []
   },
   "outputs": [],
   "source": [
    "import time\n",
    "import dmyplant2\n",
    "from bokeh.models import ColumnDataSource, Label, Text, Span, HoverTool #, Range1d#, LabelSet\n",
    "\n",
    "dset2 = [{'col':['Power_PowerAct','helpline'], 'ylim':(-1000,12000), 'color':['red','rgba(0,128,0,0.2)'], 'unit':'kW'},\n",
    "         {'col':['power_diff','power_diff_help'], '_ylim':(0,5000), 'color':['rgba(255,0,0,0.2)','rgba(0,128,0,0.2)'], 'unit':'kW/s'}]\n",
    "ratedload = fsm._e['Power_PowerNominal']\n",
    "t0 = time.time()\n",
    "for i, startversuch in rdb[-3:].iterrows() : \n",
    "#for i, startversuch in tqdm(rdb.iterrows(), total=rdb.shape[0], ncols=80, mininterval=1, unit=' starts', desc=\"FSM Run2\"):\n",
    "    data, xmax, ymax, duration, ramprate = dmyplant2.loadramp_edge_detect(fsm,startversuch)\n",
    "    if not data.empty:\n",
    "        print(f\"Start: {startversuch['no']:3d} xmax: {xmax}, ymax: {ymax:6.0f}, duration: {duration:5.1f}, ramprate: {ramprate / ratedload * 100.0:4.2f} %/s\")\n",
    "        data['power_diff'] = pd.Series(np.gradient(data['Power_PowerAct']))\n",
    "        #data['power_diff_help'] = pd.Series(np.gradient(data['helpline']))\n",
    "        fig = FSM_splot(fsm, startversuch, data, dset2, figsize=(14,6))\n",
    "        fig.add_layout(Span(location=0.0,dimension='width',x_range_name='default', y_range_name='0',line_color='black', line_dash='solid', line_alpha=0.4)) \n",
    "        fig.add_layout(Span(location=ymax,dimension='width',x_range_name='default', y_range_name='0',line_color='blueviolet', line_dash='dashdot', line_alpha=0.4, line_width=2)) \n",
    "        fig.add_layout(Span(location=xmax,dimension='height',line_color='blueviolet', line_dash='dashdot', line_alpha=0.4, line_width=2)) \n",
    "        fig = FSM_add_Notations(fig, fsm, startversuch)\n",
    "        #fig = FSM_add_Alarms(fig, fsm, startversuch)\n",
    "        #fig = FSM_add_Warnings(fig, fsm, startversuch)\n",
    "        bokeh_show(fig)\n",
    "    else:\n",
    "        print(f\"Start: {startversuch['no']:3d} no data, no improvement possible.\")\n",
    "t1 = time.time()\n",
    "print(f\"{(t1-t0):4.1f} sec\")    "
   ]
  },
  {
   "cell_type": "code",
   "execution_count": null,
   "metadata": {
    "ExecuteTime": {
     "end_time": "2022-04-09T17:54:11.840772Z",
     "start_time": "2022-04-09T17:53:40.173843Z"
    }
   },
   "outputs": [],
   "source": [
    "mfn = e._fname + '_messages.txt'\n",
    "#fsm.save_messages(mfn)\n",
    "print(mfn)"
   ]
  },
  {
   "cell_type": "code",
   "execution_count": null,
   "metadata": {},
   "outputs": [],
   "source": []
  }
 ],
 "metadata": {
  "hide_input": false,
  "interpreter": {
   "hash": "00e7f18031541dc25b2d1c6c1f90e0b122a906b1440859c87878a4f6b4e1a002"
  },
  "kernelspec": {
   "display_name": "Python 3 (ipykernel)",
   "language": "python",
   "name": "python3"
  },
  "language_info": {
   "codemirror_mode": {
    "name": "ipython",
    "version": 3
   },
   "file_extension": ".py",
   "mimetype": "text/x-python",
   "name": "python",
   "nbconvert_exporter": "python",
   "pygments_lexer": "ipython3",
   "version": "3.9.7"
  },
  "varInspector": {
   "cols": {
    "lenName": 16,
    "lenType": 16,
    "lenVar": 40
   },
   "kernels_config": {
    "python": {
     "delete_cmd_postfix": "",
     "delete_cmd_prefix": "del ",
     "library": "var_list.py",
     "varRefreshCmd": "print(var_dic_list())"
    },
    "r": {
     "delete_cmd_postfix": ") ",
     "delete_cmd_prefix": "rm(",
     "library": "var_list.r",
     "varRefreshCmd": "cat(var_dic_list()) "
    }
   },
   "types_to_exclude": [
    "module",
    "function",
    "builtin_function_or_method",
    "instance",
    "_Feature"
   ],
   "window_display": false
  }
 },
 "nbformat": 4,
 "nbformat_minor": 4
}
