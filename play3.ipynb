{
 "cells": [
  {
   "cell_type": "code",
   "execution_count": 3,
   "metadata": {},
   "outputs": [],
   "source": [
    "import pandas as pd\n",
    "import numpy as np"
   ]
  },
  {
   "cell_type": "code",
   "execution_count": 31,
   "metadata": {},
   "outputs": [
    {
     "data": {
      "text/plain": [
       "'2020-02-07'"
      ]
     },
     "execution_count": 31,
     "metadata": {},
     "output_type": "execute_result"
    }
   ],
   "source": [
    "edf = {'Commissioning Date':'2019-01-09'}\n",
    "#valstart='07.02.2020'\n",
    "#valstart='2020/02/07'\n",
    "valstart='02/07/2020'\n",
    "if not valstart: # take Commissioning date if no valstart date is given. \n",
    "    valstart = pd.to_datetime(edf['Commissioning Date'],infer_datetime_format=True)\n",
    "else:\n",
    "    valstart = pd.to_datetime(valstart,infer_datetime_format=True)\n",
    "ts = int(valstart.timestamp()*1e3)\n",
    "\n",
    "#.astype(str), format('%Y-%m-%d')\n",
    "type(valstart)\n",
    "valstart.date().strftime('%Y-%m-%d')"
   ]
  },
  {
   "cell_type": "code",
   "execution_count": 26,
   "metadata": {},
   "outputs": [
    {
     "data": {
      "text/plain": [
       "False"
      ]
     },
     "execution_count": 26,
     "metadata": {},
     "output_type": "execute_result"
    }
   ],
   "source": [
    "sn=None \n",
    "n=None \n",
    "name=None \n",
    "valstart = None\n",
    "oph_start=None\n",
    "start_start=None \n",
    "id = None\n",
    "Old_Parts_first_replaced_OPH=None\n",
    "Old_Parts_replaced_before_upgrade=None\n",
    "\n",
    "not any([sn,name,valstart,oph_start,start_start,id])\n",
    "all([sn,name,valstart,oph_start,start_start,id])"
   ]
  },
  {
   "cell_type": "code",
   "execution_count": 25,
   "metadata": {},
   "outputs": [
    {
     "data": {
      "text/plain": [
       "True"
      ]
     },
     "execution_count": 25,
     "metadata": {},
     "output_type": "execute_result"
    }
   ],
   "source": [
    "sn=1320072\n",
    "n=0\n",
    "name='BMW Landshut 4.10 M4' \n",
    "valstart = '2019-01-09 00:00:00'\n",
    "oph_start=6316\n",
    "start_start=768 \n",
    "id = 117617\n",
    "Old_Parts_first_replaced_OPH=1742\n",
    "Old_Parts_replaced_before_upgrade=4\n",
    "\n",
    "not any([sn,name,valstart,oph_start,start_start,id])\n",
    "all([sn,name,valstart,oph_start,start_start,id])"
   ]
  },
  {
   "cell_type": "code",
   "execution_count": 12,
   "metadata": {},
   "outputs": [
    {
     "data": {
      "text/plain": [
       "[858, 3, 23, 6, 55, 138]"
      ]
     },
     "execution_count": 12,
     "metadata": {},
     "output_type": "execute_result"
    }
   ],
   "source": [
    "l = [858, 3, 23, 6, 55, 138]\n",
    "l"
   ]
  },
  {
   "cell_type": "code",
   "execution_count": 16,
   "metadata": {},
   "outputs": [
    {
     "data": {
      "text/plain": [
       "[858, 3, 23, 6, 55, 138]"
      ]
     },
     "execution_count": 16,
     "metadata": {},
     "output_type": "execute_result"
    }
   ],
   "source": [
    "z = l\n",
    "z[1:] = np.diff(np.cumsum(l))\n",
    "z"
   ]
  },
  {
   "cell_type": "code",
   "execution_count": null,
   "metadata": {},
   "outputs": [],
   "source": []
  }
 ],
 "metadata": {
  "interpreter": {
   "hash": "00e7f18031541dc25b2d1c6c1f90e0b122a906b1440859c87878a4f6b4e1a002"
  },
  "kernelspec": {
   "display_name": "Python 3.8.5 ('base')",
   "language": "python",
   "name": "python3"
  },
  "language_info": {
   "codemirror_mode": {
    "name": "ipython",
    "version": 3
   },
   "file_extension": ".py",
   "mimetype": "text/x-python",
   "name": "python",
   "nbconvert_exporter": "python",
   "pygments_lexer": "ipython3",
   "version": "3.9.7"
  },
  "orig_nbformat": 4
 },
 "nbformat": 4,
 "nbformat_minor": 2
}
