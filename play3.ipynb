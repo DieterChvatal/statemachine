{
 "cells": [
  {
   "cell_type": "code",
   "execution_count": null,
   "metadata": {},
   "outputs": [],
   "source": [
    "import pandas as pd\n",
    "import numpy as np"
   ]
  },
  {
   "cell_type": "code",
   "execution_count": null,
   "metadata": {},
   "outputs": [],
   "source": [
    "edf = {'Commissioning Date':'2019-01-09'}\n",
    "#valstart='07.02.2020'\n",
    "#valstart='2020/02/07'\n",
    "valstart='02/07/2020'\n",
    "if not valstart: # take Commissioning date if no valstart date is given. \n",
    "    valstart = pd.to_datetime(edf['Commissioning Date'],infer_datetime_format=True)\n",
    "else:\n",
    "    valstart = pd.to_datetime(valstart,infer_datetime_format=True)\n",
    "ts = int(valstart.timestamp()*1e3)\n",
    "\n",
    "#.astype(str), format('%Y-%m-%d')\n",
    "type(valstart)\n",
    "valstart.date().strftime('%Y-%m-%d')"
   ]
  },
  {
   "cell_type": "code",
   "execution_count": null,
   "metadata": {},
   "outputs": [],
   "source": [
    "sn=None \n",
    "n=None \n",
    "name=None \n",
    "valstart = None\n",
    "oph_start=None\n",
    "start_start=None \n",
    "id = None\n",
    "Old_Parts_first_replaced_OPH=None\n",
    "Old_Parts_replaced_before_upgrade=None\n",
    "\n",
    "not any([sn,name,valstart,oph_start,start_start,id])\n",
    "all([sn,name,valstart,oph_start,start_start,id])"
   ]
  },
  {
   "cell_type": "code",
   "execution_count": null,
   "metadata": {},
   "outputs": [],
   "source": [
    "sn=1320072\n",
    "n=0\n",
    "name='BMW Landshut 4.10 M4' \n",
    "valstart = '2019-01-09 00:00:00'\n",
    "oph_start=6316\n",
    "start_start=768 \n",
    "id = 117617\n",
    "Old_Parts_first_replaced_OPH=1742\n",
    "Old_Parts_replaced_before_upgrade=4\n",
    "\n",
    "not any([sn,name,valstart,oph_start,start_start,id])\n",
    "all([sn,name,valstart,oph_start,start_start,id])"
   ]
  },
  {
   "cell_type": "code",
   "execution_count": null,
   "metadata": {},
   "outputs": [],
   "source": [
    "l = [858, 3, 23, 6, 55, 138]\n",
    "l"
   ]
  },
  {
   "cell_type": "code",
   "execution_count": null,
   "metadata": {},
   "outputs": [],
   "source": [
    "z = l\n",
    "z[1:] = np.diff(np.cumsum(l))\n",
    "z"
   ]
  },
  {
   "cell_type": "code",
   "execution_count": null,
   "metadata": {},
   "outputs": [],
   "source": [
    "import pandas as pd\n",
    "import numpy as np\n",
    "ix = np.linspace(1,100,100)\n",
    "x = pd.DataFrame(ix)"
   ]
  },
  {
   "cell_type": "code",
   "execution_count": null,
   "metadata": {},
   "outputs": [],
   "source": [
    "g = [10*x for x in range(10)]\n",
    "x[x[0].astype(int).isin(g)]"
   ]
  },
  {
   "cell_type": "code",
   "execution_count": null,
   "metadata": {},
   "outputs": [],
   "source": [
    "date = np.array('2022-03-05 13:18:30', dtype=np.datetime64)"
   ]
  },
  {
   "cell_type": "code",
   "execution_count": null,
   "metadata": {},
   "outputs": [],
   "source": [
    "date + np.arange(0, 300, 30)"
   ]
  },
  {
   "cell_type": "code",
   "execution_count": null,
   "metadata": {},
   "outputs": [],
   "source": [
    "def todate(ts):\n",
    "    return pd.to_datetime(ts * 1000000).strftime('%d.%m.%Y %H:%M:%S')\n",
    "ts = 1641802493836\n",
    "todate(ts)"
   ]
  },
  {
   "cell_type": "code",
   "execution_count": null,
   "metadata": {},
   "outputs": [],
   "source": [
    "from ipywidgets import interact, interactive, fixed, interact_manual, HBox, VBox\n",
    "import ipywidgets as widgets\n",
    "\n",
    "\n",
    "from IPython.display import display\n",
    "w = widgets.IntSlider(min=0,max=10)\n",
    "display(w)"
   ]
  },
  {
   "cell_type": "code",
   "execution_count": null,
   "metadata": {},
   "outputs": [],
   "source": [
    "print(w.value)"
   ]
  },
  {
   "cell_type": "code",
   "execution_count": null,
   "metadata": {},
   "outputs": [],
   "source": [
    "a = widgets.widgets.IntSlider(min=0,max=100)\n",
    "w = widgets.IntText()\n",
    "display(HBox([a,w]))\n",
    "mylink = widgets.jslink((a, 'value'), (w, 'value'))"
   ]
  },
  {
   "cell_type": "code",
   "execution_count": 2,
   "metadata": {},
   "outputs": [
    {
     "data": {
      "application/vnd.jupyter.widget-view+json": {
       "model_id": "aade31a7aad44f14b41dde5654d60ba3",
       "version_major": 2,
       "version_minor": 0
      },
      "text/plain": [
       "interactive(children=(IntSlider(value=0, description='x', max=10), Output()), _dom_classes=('widget-interact',…"
      ]
     },
     "metadata": {},
     "output_type": "display_data"
    }
   ],
   "source": [
    "from ipywidgets import interact, interactive, fixed, interact_manual, HBox, VBox\n",
    "import ipywidgets as widgets\n",
    "\n",
    "@interact(x = (0, 10))\n",
    "def f(x=0):\n",
    "    return x"
   ]
  },
  {
   "cell_type": "code",
   "execution_count": 3,
   "metadata": {},
   "outputs": [],
   "source": [
    "from IPython.display import display\n",
    "a = widgets.widgets.IntSlider(min=0,max=100)\n",
    "b = widgets.IntText()\n",
    "\n",
    "\n",
    "def f(a):\n",
    "    a = widgets.widgets.IntSlider(min=0,max=100)\n",
    "    b = widgets.IntText()\n",
    "    display(HBox([a,w]))\n",
    "    return a + b\n",
    "\n",
    "w = interactive(f, a=10, b=20)\n",
    "mylink = widgets.jslink((a, 'value'), (b, 'value'))\n"
   ]
  },
  {
   "cell_type": "code",
   "execution_count": 4,
   "metadata": {},
   "outputs": [
    {
     "data": {
      "application/vnd.jupyter.widget-view+json": {
       "model_id": "56817f2903c14f958eb636b288511479",
       "version_major": 2,
       "version_minor": 0
      },
      "text/plain": [
       "interactive(children=(IntSlider(value=10, description='a', max=30, min=-10), Output()), _dom_classes=('widget-…"
      ]
     },
     "metadata": {},
     "output_type": "display_data"
    }
   ],
   "source": [
    "display(w)\n"
   ]
  },
  {
   "cell_type": "code",
   "execution_count": null,
   "metadata": {},
   "outputs": [],
   "source": []
  }
 ],
 "metadata": {
  "interpreter": {
   "hash": "00e7f18031541dc25b2d1c6c1f90e0b122a906b1440859c87878a4f6b4e1a002"
  },
  "kernelspec": {
   "display_name": "Python 3.8.5 ('base')",
   "language": "python",
   "name": "python3"
  },
  "language_info": {
   "codemirror_mode": {
    "name": "ipython",
    "version": 3
   },
   "file_extension": ".py",
   "mimetype": "text/x-python",
   "name": "python",
   "nbconvert_exporter": "python",
   "pygments_lexer": "ipython3",
   "version": "3.8.5"
  },
  "orig_nbformat": 4
 },
 "nbformat": 4,
 "nbformat_minor": 2
}
