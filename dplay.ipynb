{
 "cells": [
  {
   "cell_type": "code",
   "execution_count": null,
   "metadata": {},
   "outputs": [],
   "source": [
    "import pandas as pd\n",
    "from dmyplant2 import cred, MyPlant, Engine, FSMOperator\n",
    "import dplayFSM3\n",
    "    \n",
    "cred()\n",
    "mp = MyPlant(0)\n",
    "Engine._list_cached_validations();"
   ]
  },
  {
   "cell_type": "code",
   "execution_count": null,
   "metadata": {},
   "outputs": [],
   "source": [
    "e=Engine.from_sn(mp,1486174)\n",
    "modes = ['undefined','OFF','MAN','AUTO']\n",
    "success = [True,False]\n",
    "e['IB Site Name'] + ' ' + e['Engine ID'], modes, success"
   ]
  },
  {
   "cell_type": "code",
   "execution_count": null,
   "metadata": {},
   "outputs": [],
   "source": [
    "e=Engine.from_sn(mp,1486174)\n",
    "fsm = FSMOperator(e, p_from='2022-01-26', p_to='2022-02-01', successtime=600)\n",
    "#fsm = dplayFSM3.demoFSM(e, p_to='2022-03-10', successtime=600)\n",
    "fsm.run1(enforce=True) # run Finite State Machine"
   ]
  },
  {
   "cell_type": "code",
   "execution_count": null,
   "metadata": {},
   "outputs": [],
   "source": [
    "rda = fsm.starts\n",
    "rda['stime'] = rda.apply(lambda x: x['starttime'].strftime('%d.%m.%Y %H:%M:%S'), axis=1)\n",
    "rda['etime'] = rda.apply(lambda x: x['endtime'].strftime('%d.%m.%Y %H:%M:%S'), axis=1)\n",
    "rda[['no','success','mode','stime','etime','startpreparation','starter','speedup','idle','synchronize','loadramp','cumstarttime','targetoperation','rampdown','coolrun','runout']].round(2).fillna('-')"
   ]
  },
  {
   "cell_type": "code",
   "execution_count": null,
   "metadata": {},
   "outputs": [],
   "source": [
    "rdc = fsm.stops\n",
    "rdc[['no','mode','starttime','endtime','count_alarms','count_warnings']].round(2).fillna('-')"
   ]
  },
  {
   "cell_type": "code",
   "execution_count": null,
   "metadata": {},
   "outputs": [],
   "source": [
    "fsm._runlogdetail;"
   ]
  },
  {
   "cell_type": "code",
   "execution_count": null,
   "metadata": {},
   "outputs": [],
   "source": [
    "fsm.starts.iloc[4].to_dict()"
   ]
  }
 ],
 "metadata": {
  "interpreter": {
   "hash": "00e7f18031541dc25b2d1c6c1f90e0b122a906b1440859c87878a4f6b4e1a002"
  },
  "kernelspec": {
   "display_name": "Python 3.8.5 ('base')",
   "language": "python",
   "name": "python3"
  },
  "language_info": {
   "codemirror_mode": {
    "name": "ipython",
    "version": 3
   },
   "file_extension": ".py",
   "mimetype": "text/x-python",
   "name": "python",
   "nbconvert_exporter": "python",
   "pygments_lexer": "ipython3",
   "version": "3.9.7"
  },
  "orig_nbformat": 4
 },
 "nbformat": 4,
 "nbformat_minor": 2
}
