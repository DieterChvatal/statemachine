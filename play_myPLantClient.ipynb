{
 "cells": [
  {
   "cell_type": "code",
   "execution_count": 3,
   "metadata": {},
   "outputs": [
    {
     "name": "stdout",
     "output_type": "stream",
     "text": [
      "The autoreload extension is already loaded. To reload it, use:\n",
      "  %reload_ext autoreload\n"
     ]
    }
   ],
   "source": [
    "%load_ext autoreload\n",
    "%aimport -pandas, -numpy\n",
    "%autoreload 2\n",
    "import pandas as pd\n",
    "import numpy as np\n",
    "from myPlant_Client import myPlant_Client"
   ]
  },
  {
   "cell_type": "code",
   "execution_count": 4,
   "metadata": {},
   "outputs": [],
   "source": [
    "client = myPlant_Client()\n",
    "client.get_access_token()"
   ]
  },
  {
   "cell_type": "code",
   "execution_count": 5,
   "metadata": {},
   "outputs": [],
   "source": [
    "assets = client.get_assets()"
   ]
  },
  {
   "cell_type": "code",
   "execution_count": 6,
   "metadata": {},
   "outputs": [],
   "source": [
    "properties = client.get_properties()"
   ]
  },
  {
   "cell_type": "code",
   "execution_count": 7,
   "metadata": {},
   "outputs": [],
   "source": [
    "dataItems = client.get_dataItems()"
   ]
  },
  {
   "cell_type": "code",
   "execution_count": 10,
   "metadata": {},
   "outputs": [
    {
     "data": {
      "text/plain": [
       "array([ 690,  590,  570,   21,   23,  990, 1371, 1015, 1030,  871, 1230,\n",
       "        387,  950,  631, 1017, 1019, 1011,  894,  930,  970, 1014,  933,\n",
       "        931,  630, 1018,  550, 1350, 1016, 1136, 1137, 1134, 1132, 1411,\n",
       "       1135, 1012,  934,  127,  932, 1291, 1133,   24, 1131,  105,    1,\n",
       "        489, 1130,  610, 1138, 1139, 1270, 1090, 1410, 1170, 1370,   84,\n",
       "       1290, 1250,  850, 1050, 1210,  670,  910], dtype=int64)"
      ]
     },
     "execution_count": 10,
     "metadata": {},
     "output_type": "execute_result"
    }
   ],
   "source": [
    "dataItems['modelId'].unique()"
   ]
  },
  {
   "cell_type": "code",
   "execution_count": 20,
   "metadata": {},
   "outputs": [
    {
     "data": {
      "text/plain": [
       "{'data': {'assets': {'items': [{'geoLocation': None,\n",
       "     'serialNumber': 'C875',\n",
       "     'dataItems': [],\n",
       "     'model': 'GEJenbacherGateway',\n",
       "     'site': {'name': 'Zwinkels Kwekerij', 'country': 'NL'},\n",
       "     'modelId': 21,\n",
       "     'id': 1,\n",
       "     'properties': [],\n",
       "     'customer': {'name': 'P VAN DER HOEVEN ELECTRO BV'}},\n",
       "    {'geoLocation': None,\n",
       "     'serialNumber': 'C105',\n",
       "     'dataItems': [],\n",
       "     'model': 'GEJenbacherGateway',\n",
       "     'site': {'name': 'Groenewegen, J.A.', 'country': 'NL'},\n",
       "     'modelId': 21,\n",
       "     'id': 3,\n",
       "     'properties': [],\n",
       "     'customer': {'name': 'JAM GROENEWEGEN BV'}}]}}}"
      ]
     },
     "execution_count": 20,
     "metadata": {},
     "output_type": "execute_result"
    }
   ],
   "source": [
    "myassets = client._request_assets(limit=2)\n",
    "myassets.json()"
   ]
  }
 ],
 "metadata": {
  "interpreter": {
   "hash": "00e7f18031541dc25b2d1c6c1f90e0b122a906b1440859c87878a4f6b4e1a002"
  },
  "kernelspec": {
   "display_name": "Python 3.8.5 ('base')",
   "language": "python",
   "name": "python3"
  },
  "language_info": {
   "codemirror_mode": {
    "name": "ipython",
    "version": 3
   },
   "file_extension": ".py",
   "mimetype": "text/x-python",
   "name": "python",
   "nbconvert_exporter": "python",
   "pygments_lexer": "ipython3",
   "version": "3.8.5"
  },
  "orig_nbformat": 4
 },
 "nbformat": 4,
 "nbformat_minor": 2
}
