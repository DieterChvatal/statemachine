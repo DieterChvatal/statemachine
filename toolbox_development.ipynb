{
 "cells": [
  {
   "cell_type": "code",
   "execution_count": null,
   "metadata": {},
   "outputs": [],
   "source": [
    "%load_ext autoreload\n",
    "%autoreload 2\n",
    "import bokeh\n",
    "from bokeh.models import ColumnDataSource, Label, Text, Span, HoverTool #, Range1d#, LabelSet\n",
    "from bokeh.plotting import figure, output_file, show\n",
    "import pandas as pd; pd.options.mode.chained_assignment = None # default warn => SettingWithCopyWarning\n",
    "import numpy as np\n",
    "from datetime import datetime\n",
    "from pprint import pprint as pp\n",
    "import warnings; warnings.simplefilter(action='ignore', category=UserWarning)\n",
    "from IPython.display import HTML, display\n",
    "from ipywidgets import AppLayout, Button, Layout, VBox, HBox, Label, HTML, interact, IntSlider\n",
    "import ipywidgets as widgets\n",
    "import arrow\n",
    "from tqdm.auto import tqdm\n",
    "\n",
    "import matplotlib.pyplot as plt\n",
    "from scipy.signal import savgol_filter\n",
    "import scipy.fftpack\n",
    "\n",
    "import time\n",
    "import dmyplant2\n",
    "\n",
    "#import dmyplant2\n",
    "from dmyplant2 import (\n",
    "    cred, MyPlant, Engine, \n",
    "    FSMOperator, filterFSM, FSM_splot, FSM_VLine, FSM_add_Notations, FSM_add_Alarms, FSM_add_Warnings, \n",
    "    bokeh_show, dbokeh_chart, add_dbokeh_vlines, get_cycle_data2, disp_result, disp_alarms, disp_warnings,\n",
    "    cvset, load_data, get_cycle_data, get_cycle_data2, figures)\n",
    "    \n",
    "cred()\n",
    "mp = MyPlant(3600)\n",
    "Engine._list_cached_validations();\n",
    "#mp._fetch_installed_base(); # refresh local installed fleet database"
   ]
  },
  {
   "cell_type": "code",
   "execution_count": null,
   "metadata": {},
   "outputs": [],
   "source": [
    "def sfun(x):\n",
    "    return all([ (\"Forsa Hartmoor\" in str(x['IB Site Name'])),  (x['OperationalCondition'] != 'Decommissioned') ])\n",
    "    #return all([ (\"EWB\" in str(x['IB Site Name'])),  (x['OperationalCondition'] != 'Decommissioned') ])\n",
    "    #return all([ (\"Pforzheim\" in str(x['IB Site Name'])),  (x['OperationalCondition'] != 'Decommissioned') ])\n",
    "    #return all([ (\"BMW Landshut 4.10\" in str(x['IB Site Name'])),  (x['OperationalCondition'] != 'Decommissioned') ])\n",
    "fleet = mp.search_installed_fleet(sfun).drop('index', axis=1)\n",
    "fleet = fleet.sort_values(by = \"Engine ID\",ascending=True).reset_index(drop='index')\n",
    "fleet.T;"
   ]
  },
  {
   "cell_type": "code",
   "execution_count": null,
   "metadata": {},
   "outputs": [],
   "source": [
    "motor = fleet.iloc[0]\n",
    "modes = ['undefined','OFF','MAN','AUTO']\n",
    "success = [True,False]\n",
    "#success = [True]\n",
    "e=Engine.from_fleet(mp,motor)\n",
    "#pp_from=e['Commissioning Date']\n",
    "pp_from='2022-03-28 06:00'\n",
    "pp_to='2022-03-28 08:14'\n",
    "#pp_to=datetime.now()\n",
    "fsm = FSMOperator(e, p_from=pp_from, p_to=pp_to)\n",
    "#TODO:\n",
    "# - move successtime to run1\n",
    "motor['IB Site Name'] + ' ' + motor['Engine ID'], modes, success"
   ]
  },
  {
   "cell_type": "code",
   "execution_count": null,
   "metadata": {},
   "outputs": [],
   "source": [
    "fsm.run0(enforce=True, silent=False, debug=False)\n",
    "fsm.run1(silent=False, successtime=300, debug=False) # run Finite State Machine"
   ]
  },
  {
   "cell_type": "code",
   "execution_count": null,
   "metadata": {},
   "outputs": [],
   "source": [
    "fsm.run2(silent = False)"
   ]
  },
  {
   "cell_type": "code",
   "execution_count": null,
   "metadata": {},
   "outputs": [],
   "source": [
    "rdf = fsm.starts\n",
    "rda = rdf[:].reset_index(drop='index')\n",
    "rda = rda[(rda['mode'].isin(modes) & rda['success'].isin(success))].reset_index(drop='index')\n",
    "rdb = rda\n",
    "#rda[filterFSM.run2filter_content].round(2)\n",
    "print(f\"Starts: {rdf.shape[0]}, Successful: {rdf[rdf['success'] == True].shape[0]}, Failed: {rdf[rdf['success'] == False].shape[0]} => {rdf[rdf['success'] == True].shape[0]/rdf.shape[0]*100.0:3.1f}%\")\n",
    "pd.DataFrame.from_dict(e.dash, orient='index').T"
   ]
  },
  {
   "cell_type": "code",
   "execution_count": null,
   "metadata": {},
   "outputs": [],
   "source": [
    "#rda = rda[rda['count_alarms'] > 0]\n",
    "rda[filterFSM.run2filter_content].round(2).fillna('')"
   ]
  },
  {
   "cell_type": "code",
   "execution_count": null,
   "metadata": {},
   "outputs": [],
   "source": [
    "rde = rda[(rda.starttime > fsm._e['Commissioning Date']) & (rda['success'])].copy()\n",
    "rde['datetime'] = pd.to_datetime(rde['starttime'])\n",
    "vec = ['startpreparation','speedup','idle','synchronize','loadramp','targetload','ramprate','cumstarttime','targetoperation','rampdown','coolrun','runout']\n",
    "display(rde[vec].describe().round(2))\n",
    "dfigsize = (18,12)\n",
    "dset = [\n",
    "    {'col':['cumstarttime'],'ylim':(-600,600), 'color':'darkblue'},\n",
    "    {'col':['synchronize'],'ylim':(-20,400)},\n",
    "    {'col':['startpreparation'],'ylim':(-1000,800)},\n",
    "    {'col':['hochlauf'],'_ylim':(-100,200), 'color':'orange'},\n",
    "    {'col':['loadramp'],'ylim':(-150,900), 'color':'red'},\n",
    "    {'col':['ramprate'],'ylim':(-3,6)},\n",
    "    #{'col':['no'],'ylim':(-100,2000),'color':'rgba(0,0,0,0.3)'},\n",
    "    {'col':['targetload'],'ylim':(500,5000) },\n",
    "    {'col':['runout'],'ylim':(0,100) },\n",
    "    {'col':['count_warnings','count_alarms','no'],'ylim':(-1,200), 'color':['rgba(255,165,0,0.3)','rgba(255,0,0,0.3)','rgba(0,0,0,0.1)'] }\n",
    "    ]\n",
    "ftitle = f\"{fsm._e}\"\n",
    "fig = dbokeh_chart(rde, dset, style='both', figsize=dfigsize ,title=ftitle);\n",
    "bokeh_show(fig)"
   ]
  },
  {
   "cell_type": "code",
   "execution_count": null,
   "metadata": {},
   "outputs": [],
   "source": [
    "def f(x=0):\n",
    "    global vv; vv = x; startversuch = rdb.iloc[x]\n",
    "    ftitle = f\"{fsm._e} ----- Start {startversuch['no']} {startversuch['mode']} | {'SUCCESS' if startversuch['success'] else 'FAILED'} | {startversuch['starttime'].round('S')} CumStart: {startversuch['cumstarttime']:0.1f}\"\n",
    "    display(HTML(ftitle));\n",
    "    disp_result(startversuch)\n",
    "interact(f, x = IntSlider(0, 0, rdb.shape[0]-1 , 1, layout=widgets.Layout(width='90%')));"
   ]
  },
  {
   "cell_type": "code",
   "execution_count": null,
   "metadata": {},
   "outputs": [],
   "source": [
    "# PLotter\n",
    "for f in figures:\n",
    "    print(f, end=', ')\n",
    "data = pd.DataFrame([])\n",
    "for doplot in ['actors','lubrication']:\n",
    "#for doplot in ['actors']:\n",
    "    dmaxlength = None\n",
    "    dminlength = None\n",
    "    #dmaxlength = 1200\n",
    "    #dminlength = 200000\n",
    "    dset = figures[doplot]\n",
    "    vset = cvset(mp,dset)\n",
    "    startversuch = rdb.iloc[vv]; \n",
    "    try:\n",
    "        data = get_cycle_data2(fsm, startversuch, max_length=dmaxlength, min_length=dminlength, cycletime=1, silent=True, p_data=cvset(mp,dset))\n",
    "        data['power_diff'] = pd.Series(np.gradient(data['Power_PowerAct']))\n",
    "        fig = FSM_splot(fsm, startversuch, data, dset, figsize=(18,10))\n",
    "        fig = FSM_add_Notations(fig, fsm, startversuch)\n",
    "        disp_alarms(startversuch)\n",
    "        disp_warnings(startversuch)\n",
    "        fig = FSM_add_Alarms(fig, fsm, startversuch)\n",
    "        fig = FSM_add_Warnings(fig, fsm, startversuch)\n",
    "        bokeh_show(fig)\n",
    "    except Exception as err:\n",
    "        print(err)"
   ]
  },
  {
   "cell_type": "code",
   "execution_count": null,
   "metadata": {},
   "outputs": [],
   "source": [
    "\n",
    "def xwhere(data,key,level):\n",
    "    return data.iloc[data['datetime'][1:][np.array(data[key][1:]-level) * np.array(data[key][:-1]-level) < 0].index]\n",
    "\n",
    "def xwhere2(data,key,level):\n",
    "    pts = data['datetime'][1:][np.array(data[key][1:]-level) * np.array(data[key][:-1]-level) < 0]\n",
    "    newlist =[x for p in list(pts.index) for x in [p-1,p]]\n",
    "    return data.iloc[newlist]\n",
    "\n",
    "def xwhere_dir(data,key,level,direction):\n",
    "    data['diff'] = pd.Series(np.diff(data[key].values))\n",
    "    pts = data['datetime'][1:][np.array(data[key][1:]-level) * np.array(data[key][:-1]-level) < 0]\n",
    "    if direction == 'up':\n",
    "        erg = data.iloc[pts.index][data['diff'] > 0]\n",
    "    elif direction == 'down': \n",
    "        erg = data.iloc[pts.index][data['diff'] < 0]\n",
    "    else:\n",
    "        erg = data.iloc[pts.index]\n",
    "    return erg\n",
    "\n",
    "xwhere_dir(data,'Various_Values_SpeedAct',50,'up')"
   ]
  },
  {
   "cell_type": "code",
   "execution_count": null,
   "metadata": {},
   "outputs": [],
   "source": [
    "op0 = xwhere(data,'Hyd_PressOil',1.1)\n",
    "op1 = xwhere(data,'Hyd_PressOil',0.1)\n",
    "op2 = xwhere(data,'Hyd_PressOil',0.5)\n",
    "prelube_degasing_time = (op0.iloc[0]['time'] - op1.iloc[0]['time']) / 1000.0\n",
    "post_lube_time = (op1.iloc[1]['time'] - op2.iloc[1]['time']) / (1000.0 * 60) \n",
    "prelube_degasing_time, 'sec' , post_lube_time, 'min'"
   ]
  },
  {
   "cell_type": "code",
   "execution_count": null,
   "metadata": {},
   "outputs": [],
   "source": [
    "xwhere(data,'Hyd_PressOil',0.5)"
   ]
  },
  {
   "cell_type": "code",
   "execution_count": null,
   "metadata": {},
   "outputs": [],
   "source": [
    "xwhere(data,'Hyd_PressOil',0.1)"
   ]
  },
  {
   "cell_type": "code",
   "execution_count": null,
   "metadata": {},
   "outputs": [],
   "source": [
    "xwhere(data,'Various_Values_SpeedAct',1503)"
   ]
  },
  {
   "cell_type": "code",
   "execution_count": null,
   "metadata": {},
   "outputs": [],
   "source": [
    "def cdata(startversuch, data, phases):\n",
    "    ts = int(startversuch['startstoptiming'][phases[0]][0]['start'].timestamp() * 1000)\n",
    "    te = int(startversuch['startstoptiming'][phases[-1]][0]['end'].timestamp() * 1000)\n",
    "    return data[(data.time > ts) & (data.time < te)].reset_index(drop=True)\n",
    "\n",
    "def extract_data(startversuch, data, dataItemName, phases):\n",
    "    ts = int(startversuch['startstoptiming'][phases[0]][0]['start'].timestamp() * 1000)\n",
    "    te = int(startversuch['startstoptiming'][phases[-1]][0]['end'].timestamp() * 1000)\n",
    "    return data[['datetime',dataItemName]][(data.time > ts) & (data.time < te)].reset_index(drop=True)\n",
    "\n",
    "def edges_in_phase2(startversuch, data, dataItemName, phases, direction, ax=None):\n",
    "    c = extract_data(startversuch, data, dataItemName, phases)\n",
    "    c['_diff'] = pd.Series(np.diff(c[dataItemName].values))\n",
    "    pts = xwhere_dir(c, '_diff', c['_diff'].max() * 0.1, direction)\n",
    "    if ax is not None:\n",
    "        ax.plot(c['datetime'], c[dataItemName])\n",
    "        for i,p in pts.iterrows():\n",
    "            ax.axvline(p['datetime'],linestyle='--', c='k', alpha=0.8, linewidth=1)\n",
    "        ax.grid()        \n",
    "    return pts\n",
    "\n",
    "def FSM_pre_phases(startversuch, data, dataItemName, phases, direction, fig=None, y_pos=2, color='rgba(0,0,0,0.8)', line='solid', alpha=1.0, perc=0.11):\n",
    "    c = extract_data(startversuch, data, dataItemName, phases)\n",
    "    c['_diff'] = pd.Series(np.diff(c[dataItemName].values))\n",
    "    if direction == 'up':\n",
    "        tresh_hold = c['_diff'].max()\n",
    "    elif direction == 'down':\n",
    "        tresh_hold = c['_diff'].min()\n",
    "    pts = xwhere_dir(c, '_diff', tresh_hold * perc, direction)\n",
    "    if fig is not None:\n",
    "        for i,p in pts.iterrows():\n",
    "            FSM_VLine(fig, txt=f\"{p['datetime'].strftime('%Y-%m-%d %H:%M:%S')} {dataItemName}\", x_pos=p['datetime'], y_pos=y_pos, color=color, line=line, alpha=alpha)\n",
    "            #ax.axvline(p['datetime'],linestyle='--', c='k', alpha=0.8, linewidth=1)\n",
    "    return fig\n",
    "\n",
    "def FSM_start(startversuch, data, dataItemName, phases, fig=None, y_pos=2, color='rgba(0,0,0,0.8)', line='solid', alpha=1.0, perc=0.11):\n",
    "    c = extract_data(startversuch, data, dataItemName, phases)\n",
    "    pts = xwhere_dir(c, dataItemName, c[dataItemName].max() * perc, 'up')\n",
    "    if fig is not None:\n",
    "        for i,p in pts.iterrows():\n",
    "            FSM_VLine(fig, txt=f\"{p['datetime'].strftime('%Y-%m-%d %H:%M:%S')} {dataItemName}\", x_pos=p['datetime'], y_pos=y_pos, color=color, line=line, alpha=alpha)\n",
    "            #ax.axvline(p['datetime'],linestyle='--', c='k', alpha=0.8, linewidth=1)\n",
    "    return fig\n",
    "\n",
    "d0 = cdata(startversuch, data, ['startpreparation','starter','speedup','idle','synchronize','targetoperation']).iloc[:400,:]\n",
    "d = cdata(startversuch, data, ['startpreparation','starter','speedup'])\n",
    "\n",
    "#fig = plt.figure(figsize=(12,8))\n",
    "#ax = fig.add_subplot()\n",
    "#ax.plot('datetime','Various_Values_SpeedAct', data=d)\n",
    "#play(startversuch, data, 'Hyd_PressOil',['startpreparation','starter','speedup'],'up', ax)"
   ]
  },
  {
   "cell_type": "code",
   "execution_count": null,
   "metadata": {},
   "outputs": [],
   "source": [
    "def smooth(y,box_pts):\n",
    "    box = np.ones(box_pts)/box_pts\n",
    "    y_smooth = np.convolve(y, box, mode='same')\n",
    "    return y_smooth\n",
    "\n",
    "def smooth_fft(y, cut, dt):\n",
    "    w = scipy.fftpack.rfft(y)\n",
    "    f = scipy.fftpack.rfftfreq(len(y),dt)\n",
    "    spectrum = w**2\n",
    "    cutoff_idx = spectrum < (spectrum.max()/cut)\n",
    "    w2 = w.copy()\n",
    "    w2[cutoff_idx] = 0\n",
    "    return scipy.fftpack.irfft(w2)"
   ]
  },
  {
   "cell_type": "code",
   "execution_count": null,
   "metadata": {},
   "outputs": [],
   "source": [
    "\n",
    "#d0['gHyd_PressOilDif'] = pd.Series(savitzky_golay(np.array(d0['Hyd_PressOilDif']), 51, 3)) # window size 51, polynomial order 3\n",
    "#d0['gHyd_PressOilDif'] = pd.Series(savitzky_golay(np.array(d0['Hyd_PressOilDif']), 29, 3)) # window size 51, polynomial order 3\n",
    "d0['gHyd_PressOilDif'] = pd.Series(savgol_filter(np.array(d0['Hyd_PressOilDif']), 29, 3)) # window size 51, polynomial order 3\n",
    "d0['hHyd_PressOilDif'] = pd.Series(smooth(np.array(d0['Hyd_PressOilDif']), 13))\n",
    "d0['iHyd_PressOilDif'] = pd.Series(smooth_fft(np.array(d0['Hyd_PressOilDif']), 5000, 1))\n",
    "fig = plt.figure(figsize=(16,12))\n",
    "ax = fig.add_subplot()\n",
    "ax.plot(d0['datetime'],d0['Hyd_PressOilDif'], 'b.', alpha=0.6)\n",
    "ax.plot(d0['datetime'],d0['hHyd_PressOilDif'], 'g-', lw=4)\n",
    "ax.plot(d0['datetime'],d0['gHyd_PressOilDif'], 'r-', lw=2)\n",
    "ax.plot(d0['datetime'],d0['iHyd_PressOilDif'], 'k-', lw=2)\n",
    "ax.grid()\n"
   ]
  },
  {
   "cell_type": "code",
   "execution_count": null,
   "metadata": {},
   "outputs": [],
   "source": [
    "#np.array(d0['Hyd_PressOilDif'])\n",
    "data"
   ]
  },
  {
   "cell_type": "code",
   "execution_count": null,
   "metadata": {},
   "outputs": [],
   "source": [
    "dset = figures['lubrication']\n",
    "vset = cvset(mp,dset)\n",
    "fig = FSM_splot(fsm, startversuch, d0, dset, figsize=(18,10))\n",
    "fig = FSM_add_Notations(fig, fsm, startversuch)\n",
    "fig = FSM_add_Alarms(fig, fsm, startversuch)\n",
    "fig = FSM_add_Warnings(fig, fsm, startversuch)\n",
    "#fig = FSM_pre_phases(startversuch, data, 'Hyd_PressOil',['startpreparation','starter'],'up', fig, y_pos=50, color='brown')\n",
    "fig = FSM_start(startversuch, data, 'Hyd_PressOil',['startpreparation'], fig, y_pos=50, color='brown',perc=0.05)\n",
    "fig = FSM_start(startversuch, data, 'Various_Values_SpeedAct',['startpreparation','starter'], fig, y_pos=50, color='blue',perc=0.05)\n",
    "#fig = FSM_pre_phases(startversuch, data, 'Various_Values_SpeedAct',['startpreparation','starter','speedup'],'up', fig, y_pos=250, color='blue')\n",
    "bokeh_show(fig)"
   ]
  },
  {
   "cell_type": "code",
   "execution_count": null,
   "metadata": {},
   "outputs": [],
   "source": [
    "# Algorithm visualization\n",
    "dset2 = [{'col':['Power_PowerAct','helpline'], 'ylim':(-1000,12000), 'color':['red','rgba(0,128,0,0.2)'], 'unit':'kW'},\n",
    "         {'col':['power_diff','power_diff_help'], '_ylim':(0,5000), 'color':['rgba(255,0,0,0.2)','rgba(0,128,0,0.2)'], 'unit':'kW/s'}]\n",
    "ratedload = fsm._e['Power_PowerNominal']\n",
    "interestingcycles = [vv] # Bautzen M01 T902\n",
    "periodfactor = 3 # times calculated period length\n",
    "helplinefactor = 0.8 # overlay slope to -fac * end value \n",
    "for i in interestingcycles: \n",
    "    #startversuch=fsm.results['starts'][i]\n",
    "    startversuch=rdb.iloc[i]\n",
    "    disp_result(startversuch)\n",
    "    sno = startversuch['no']\n",
    "    data, xmax, ymax, duration, ramprate = dmyplant2.loadramp_edge_detect(fsm,startversuch, periodfactor=periodfactor, helplinefactor=helplinefactor)\n",
    "    if not data.empty:\n",
    "        print(f\"Start: {startversuch['no']:3d} xmax: {xmax}, ymax: {ymax:6.0f}, duration: {duration:5.1f}, ramprate: {ramprate / ratedload * 100.0:4.2f} %/s\")\n",
    "        data['power_diff'] = pd.Series(np.gradient(data['Power_PowerAct']))\n",
    "        #data['power_diff_help'] = pd.Series(np.gradient(data['helpline']))\n",
    "        fig = FSM_splot(fsm, startversuch, data, dset2, figsize=(16,8))\n",
    "        fig.add_layout(Span(location=0.0,dimension='width',x_range_name='default', y_range_name='0',line_color='black', line_dash='solid', line_alpha=0.4)) \n",
    "        fig.add_layout(Span(location=ymax,dimension='width',x_range_name='default', y_range_name='0',line_color='blueviolet', line_dash='dashdot', line_alpha=0.4, line_width=2)) \n",
    "        fig.add_layout(Span(location=xmax,dimension='height',line_color='blueviolet', line_dash='dashdot', line_alpha=0.4, line_width=2)) \n",
    "        fig = FSM_add_Notations(fig, fsm, startversuch)\n",
    "        fig = FSM_add_Alarms(fig, fsm, startversuch)\n",
    "        fig = FSM_add_Warnings(fig, fsm, startversuch)\n",
    "        bokeh_show(fig)\n",
    "    else:\n",
    "        print(f\"Start: {startversuch['no']:3d} no data, no improvement possible.\")"
   ]
  },
  {
   "cell_type": "code",
   "execution_count": null,
   "metadata": {},
   "outputs": [],
   "source": [
    "fsm.results['serviceselectortiming'];"
   ]
  },
  {
   "cell_type": "code",
   "execution_count": null,
   "metadata": {},
   "outputs": [],
   "source": [
    "for i, v in enumerate(fsm.runlogdetail(startversuch, statechanges_only=True)):\n",
    "    print(f\"{i:3} {v}\")"
   ]
  },
  {
   "cell_type": "code",
   "execution_count": null,
   "metadata": {},
   "outputs": [],
   "source": [
    "for i, v in enumerate(fsm.runlogdetail(startversuch, statechanges_only=False)):\n",
    "    print(f\"{i:3} {v}\")"
   ]
  },
  {
   "cell_type": "code",
   "execution_count": null,
   "metadata": {},
   "outputs": [],
   "source": [
    "rdb = rda\n",
    "vec = ['startpreparation','speedup','idle','synchronize','loadramp','targetload','ramprate','cumstarttime','targetoperation','rampdown','coolrun','runout']\n",
    "display(_=rdb[vec].hist(bins=30,figsize=(20,20)))\n",
    "#ax_list[0][2].set_xlim((0,10))\n",
    "#display(rdb[vec].hist(bins=30,figsize=(20,20)))\n",
    "display(rdb[vec].describe().round(2))"
   ]
  },
  {
   "cell_type": "code",
   "execution_count": null,
   "metadata": {},
   "outputs": [],
   "source": [
    "dset2 = [{'col':['Power_PowerAct','helpline'], 'ylim':(-1000,12000), 'color':['red','rgba(0,128,0,0.2)'], 'unit':'kW'},\n",
    "         {'col':['power_diff','power_diff_help'], '_ylim':(0,5000), 'color':['rgba(255,0,0,0.2)','rgba(0,128,0,0.2)'], 'unit':'kW/s'}]\n",
    "ratedload = fsm._e['Power_PowerNominal']\n",
    "periodfactor = 3 # times calculated period length\n",
    "helplinefactor = 0.8 # overlay slope to -fac * end value \n",
    "t0 = time.time()\n",
    "for i, startversuch in rdb[-1:].iterrows() : \n",
    "#for i, startversuch in tqdm(rdb.iterrows(), total=rdb.shape[0], ncols=80, mininterval=1, unit=' starts', desc=\"FSM Run2\"):\n",
    "    data, xmax, ymax, duration, ramprate = dmyplant2.loadramp_edge_detect(fsm,startversuch, periodfactor, helplinefactor)\n",
    "    if not data.empty:\n",
    "        print(f\"Start: {startversuch['no']:3d} xmax: {xmax}, ymax: {ymax:6.0f}, duration: {duration:5.1f}, ramprate: {ramprate / ratedload * 100.0:4.2f} %/s\")\n",
    "        data['power_diff'] = pd.Series(np.gradient(data['Power_PowerAct']))\n",
    "        #data['power_diff_help'] = pd.Series(np.gradient(data['helpline']))\n",
    "        fig = FSM_splot(fsm, startversuch, data, dset2, figsize=(14,6))\n",
    "        fig.add_layout(Span(location=0.0,dimension='width',x_range_name='default', y_range_name='0',line_color='black', line_dash='solid', line_alpha=0.4)) \n",
    "        fig.add_layout(Span(location=ymax,dimension='width',x_range_name='default', y_range_name='0',line_color='blueviolet', line_dash='dashdot', line_alpha=0.4, line_width=2)) \n",
    "        fig.add_layout(Span(location=xmax,dimension='height',line_color='blueviolet', line_dash='dashdot', line_alpha=0.4, line_width=2)) \n",
    "        fig = FSM_add_Notations(fig, fsm, startversuch)\n",
    "        #fig = FSM_add_Alarms(fig, fsm, startversuch)\n",
    "        #fig = FSM_add_Warnings(fig, fsm, startversuch)\n",
    "        bokeh_show(fig)\n",
    "    else:\n",
    "        print(f\"Start: {startversuch['no']:3d} no data, no improvement possible.\")\n",
    "t1 = time.time()\n",
    "print(f\"{(t1-t0):4.1f} sec\")    "
   ]
  },
  {
   "cell_type": "code",
   "execution_count": null,
   "metadata": {},
   "outputs": [],
   "source": [
    "mfn = e._fname + '_messages.txt'\n",
    "fsm.save_messages(mfn)\n",
    "print(mfn)"
   ]
  }
 ],
 "metadata": {
  "interpreter": {
   "hash": "00e7f18031541dc25b2d1c6c1f90e0b122a906b1440859c87878a4f6b4e1a002"
  },
  "kernelspec": {
   "display_name": "Python 3 (ipykernel)",
   "language": "python",
   "name": "python3"
  },
  "language_info": {
   "codemirror_mode": {
    "name": "ipython",
    "version": 3
   },
   "file_extension": ".py",
   "mimetype": "text/x-python",
   "name": "python",
   "nbconvert_exporter": "python",
   "pygments_lexer": "ipython3",
   "version": "3.9.7"
  }
 },
 "nbformat": 4,
 "nbformat_minor": 4
}
