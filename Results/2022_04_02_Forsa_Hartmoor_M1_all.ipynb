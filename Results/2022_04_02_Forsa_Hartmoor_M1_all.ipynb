{
 "cells": [
  {
   "cell_type": "code",
   "execution_count": null,
   "metadata": {},
   "outputs": [],
   "source": [
    "%reload_ext autoreload\n",
    "%aimport -pandas, -numpy\n",
    "%autoreload 2\n",
    "import pandas as pd; pd.options.mode.chained_assignment = None # default warn => SettingWithCopyWarning\n",
    "import numpy as np\n",
    "from datetime import datetime\n",
    "from pprint import pprint as pp\n",
    "import warnings; warnings.simplefilter(action='ignore', category=UserWarning)\n",
    "from IPython.display import HTML, display\n",
    "from ipywidgets import AppLayout, Button, Layout, VBox, HBox, Label, HTML, interact, IntSlider\n",
    "import ipywidgets as widgets\n",
    "import arrow\n",
    "from tqdm.auto import tqdm\n",
    "\n",
    "#import dmyplant2\n",
    "from dmyplant2 import (\n",
    "    cred, MyPlant, Engine, \n",
    "    FSMOperator, filterFSM, FSM_splot, FSM_add_Notations, FSM_add_Alarms, FSM_add_Warnings, \n",
    "    #FSMPlot_Start, \n",
    "    bokeh_show, dbokeh_chart, add_dbokeh_vlines, get_cycle_data2, \n",
    "    disp_result, \n",
    "    #alarms_pareto, warnings_pareto, states_lines,\n",
    "    #detect_edge_right, detect_edge_left, \n",
    "    cvset, load_data, get_cycle_data, get_cycle_data2, figures)\n",
    "    \n",
    "cred()\n",
    "mp = MyPlant(0)\n",
    "Engine._list_cached_validations();\n",
    "#mp._fetch_installed_base(); # refresh local installed fleet database"
   ]
  },
  {
   "cell_type": "code",
   "execution_count": null,
   "metadata": {},
   "outputs": [],
   "source": [
    "def sfun(x):\n",
    "    return all([ (\"Forsa Hartmoor\" in str(x['IB Site Name'])),  (x['OperationalCondition'] != 'Decommissioned') ])\n",
    "fleet = mp.search_installed_fleet(sfun).drop('index', axis=1)\n",
    "fleet = fleet.sort_values(by = \"Engine ID\",ascending=True).reset_index(drop='index')\n",
    "fleet.T;"
   ]
  },
  {
   "cell_type": "code",
   "execution_count": null,
   "metadata": {},
   "outputs": [],
   "source": [
    "motor = fleet.iloc[0]\n",
    "modes = ['???','OFF','MANUAL','AUTO']\n",
    "success = [True,False]\n",
    "#success = [True]\n",
    "e=Engine.from_fleet(mp,motor)\n",
    "pp_from=e['Commissioning Date']\n",
    "#pp_from='2022-03-28 06:00'\n",
    "#pp_to='2022-03-28 08:14'\n",
    "pp_to=datetime.now()\n",
    "fsm = FSMOperator(e, p_from=pp_from, p_to=pp_to)\n",
    "motor['IB Site Name'] + ' ' + motor['Engine ID'], modes, success"
   ]
  },
  {
   "cell_type": "code",
   "execution_count": null,
   "metadata": {},
   "outputs": [],
   "source": [
    "#fsm.restore()\n",
    "#TODO:\n",
    "# - store start & endtime, eventually the last 10 messages in self.results\n",
    "# - in run1 & run2 run the fsm on just the new messages/starts"
   ]
  },
  {
   "cell_type": "code",
   "execution_count": null,
   "metadata": {},
   "outputs": [],
   "source": [
    "fsm.run1_V2(enforce=False, silent=False, successtime=300) # run Finite State Machine"
   ]
  },
  {
   "cell_type": "code",
   "execution_count": null,
   "metadata": {},
   "outputs": [],
   "source": [
    "fsm.run2(silent = False)"
   ]
  },
  {
   "cell_type": "code",
   "execution_count": null,
   "metadata": {},
   "outputs": [],
   "source": [
    "fsm.store()\n",
    "#TODO:\n",
    "# - check in run1 & run2 if changes were made, if not ... do not physically change the stored file"
   ]
  },
  {
   "cell_type": "code",
   "execution_count": null,
   "metadata": {},
   "outputs": [],
   "source": [
    "rdf = fsm.starts\n",
    "rda = rdf[:].reset_index(drop='index')\n",
    "rda = rda[(rda['mode'].isin(modes) & rda['success'].isin(success))].reset_index(drop='index')\n",
    "rdb = rda\n",
    "#rda[filterFSM.run2filter_content].round(2)\n",
    "print(f\"Starts: {rdf.shape[0]}, Successful: {rdf[rdf['success'] == True].shape[0]}, Failed: {rdf[rdf['success'] == False].shape[0]} => {rdf[rdf['success'] == True].shape[0]/rdf.shape[0]*100.0:3.1f}%\")\n",
    "pd.DataFrame.from_dict(e.dash, orient='index').T"
   ]
  },
  {
   "cell_type": "code",
   "execution_count": null,
   "metadata": {},
   "outputs": [],
   "source": [
    "#rda = rda[rda['count_alarms'] > 0]\n",
    "rda[filterFSM.run2filter_content].round(2).fillna('')"
   ]
  },
  {
   "cell_type": "code",
   "execution_count": null,
   "metadata": {},
   "outputs": [],
   "source": [
    "rde = rda[(rda.starttime > fsm._e['Commissioning Date']) & (rda['success'])].copy()\n",
    "rde['datetime'] = pd.to_datetime(rde['starttime'])\n",
    "dfigsize = (18,12)\n",
    "dset = [\n",
    "    {'col':['cumstarttime'],'ylim':(-600,500), 'color':'darkblue'},\n",
    "    {'col':['synchronize'],'ylim':(-20,400)},\n",
    "    {'col':['startpreparation'],'ylim':(-1000,800)},\n",
    "    {'col':['hochlauf'],'_ylim':(-100,200), 'color':'orange'},\n",
    "    {'col':['loadramp'],'ylim':(-150,900), 'color':'red'},\n",
    "    {'col':['ramprate'],'ylim':(-3,6)},\n",
    "    #{'col':['no'],'ylim':(-100,2000),'color':'rgba(0,0,0,0.3)'},\n",
    "    {'col':['targetload'],'ylim':(500,5000) },\n",
    "    {'col':['count_warnings','count_alarms','no'],'ylim':(-1,200), 'color':['rgba(255,165,0,0.3)','rgba(255,0,0,0.3)','rgba(0,0,0,0.1)'] }\n",
    "    ]\n",
    "ftitle = f\"{fsm._e}\"\n",
    "fig = dbokeh_chart(rde, dset, style='both', figsize=dfigsize ,title=ftitle);\n",
    "bokeh_show(fig)"
   ]
  },
  {
   "cell_type": "code",
   "execution_count": null,
   "metadata": {},
   "outputs": [],
   "source": [
    "def f(x=0):\n",
    "    global vv; vv = x; startversuch = rdb.iloc[x]\n",
    "    ftitle = f\"{fsm._e} ----- Start {startversuch['no']} {startversuch['mode']} | {'SUCCESS' if startversuch['success'] else 'FAILED'} | {startversuch['starttime'].round('S')} CumStart: {startversuch['cumstarttime']:0.1f}\"\n",
    "    display(HTML(ftitle));\n",
    "    disp_result(startversuch)\n",
    "interact(f, x = IntSlider(0, 0, rdb.shape[0]-1 , 1, layout=widgets.Layout(width='90%')));"
   ]
  },
  {
   "cell_type": "code",
   "execution_count": null,
   "metadata": {},
   "outputs": [],
   "source": [
    "for f in figures:\n",
    "    print(f, end=', ')\n",
    "for doplot in ['actors','lubrication']:\n",
    "#for doplot in ['actors']:\n",
    "    dmaxlength = None\n",
    "    dminlength = None\n",
    "    #dmaxlength = 1200\n",
    "    #dminlength = 200000\n",
    "    dset = figures[doplot]\n",
    "    vset = cvset(mp,dset)\n",
    "    startversuch = rdb.iloc[vv]; \n",
    "    try:\n",
    "        data = get_cycle_data2(fsm, startversuch, max_length=dmaxlength, min_length=dminlength, cycletime=1, silent=True, p_data=cvset(mp,dset))\n",
    "        data['power_diff'] = pd.Series(np.gradient(data['Power_PowerAct']))\n",
    "        fig = FSM_splot(fsm, startversuch, data, dset, figsize=(18,10))\n",
    "        fig = FSM_add_Notations(fig, fsm, startversuch)\n",
    "        fig = FSM_add_Alarms(fig, fsm, startversuch)\n",
    "        fig = FSM_add_Warnings(fig, fsm, startversuch)\n",
    "        bokeh_show(fig)\n",
    "    except Exception as err:\n",
    "        print(err)"
   ]
  },
  {
   "cell_type": "code",
   "execution_count": null,
   "metadata": {},
   "outputs": [],
   "source": [
    "import bokeh\n",
    "from bokeh.models import ColumnDataSource, Label, Text, Span, HoverTool #, Range1d#, LabelSet\n",
    "from bokeh.plotting import figure, output_file, show\n",
    "\n",
    "#startversuch = rdb.iloc[vvv];\n",
    "periodfactor = 3 # times calculated period length\n",
    "helplinefactor = 0.8 # overlay slope to -fac * end value \n",
    "#interestingcycles = [0,1,8, 62, 65, 76, 77, 80, 95, 96, 97, 98, 99, 252, 678] # BMW Landshut M4\n",
    "interestingcycles = [117] # Forsa Hartmoor M1\n",
    "#interestingcycles = [0,64, 66, 82] # Forsa Hartmoor M4\n",
    "#interestingcycles = [0] # Pforzheim M4\n",
    "#interestingcycles = [17] #\n",
    "#interestingcycles = [335] # !!! Bautzen M01 T902, Start von: 08.12.2021 13:14:29 bis: 12.12.2021 00:40:40\n",
    "#interestingcycles = [142] # Bautzen M01 T902, Start von: 04.07.2021 15:57:29 bis: 04.07.2021 21:03:40  => Ende nicht erkannt. \n",
    "interestingcycles = [vv] # Bautzen M01 T902\n",
    "disp_result(rdb.iloc[interestingcycles[0]])"
   ]
  },
  {
   "cell_type": "code",
   "execution_count": null,
   "metadata": {},
   "outputs": [],
   "source": [
    "# Algorithm visualization\n",
    "import time\n",
    "import dmyplant2\n",
    "dset2 = [{'col':['Power_PowerAct','helpline'], 'ylim':(-1000,12000), 'color':['red','rgba(0,128,0,0.2)'], 'unit':'kW'},\n",
    "         {'col':['power_diff','power_diff_help'], '_ylim':(0,5000), 'color':['rgba(255,0,0,0.2)','rgba(0,128,0,0.2)'], 'unit':'kW/s'}]\n",
    "ratedload = fsm._e['Power_PowerNominal']\n",
    "for i in interestingcycles: \n",
    "    #startversuch=fsm.results['starts'][i]\n",
    "    startversuch=rdb.iloc[i]\n",
    "    sno = startversuch['no']\n",
    "    data, xmax, ymax, duration, ramprate = dmyplant2.loadramp_edge_detect(fsm,startversuch, periodfactor=periodfactor, helplinefactor=helplinefactor)\n",
    "    if not data.empty:\n",
    "        print(f\"Start: {startversuch['no']:3d} xmax: {xmax}, ymax: {ymax:6.0f}, duration: {duration:5.1f}, ramprate: {ramprate / ratedload * 100.0:4.2f} %/s\")\n",
    "        data['power_diff'] = pd.Series(np.gradient(data['Power_PowerAct']))\n",
    "        #data['power_diff_help'] = pd.Series(np.gradient(data['helpline']))\n",
    "        fig = FSM_splot(fsm, startversuch, data, dset2, figsize=(16,8))\n",
    "        fig.add_layout(Span(location=0.0,dimension='width',x_range_name='default', y_range_name='0',line_color='black', line_dash='solid', line_alpha=0.4)) \n",
    "        fig.add_layout(Span(location=ymax,dimension='width',x_range_name='default', y_range_name='0',line_color='blueviolet', line_dash='dashdot', line_alpha=0.4, line_width=2)) \n",
    "        fig.add_layout(Span(location=xmax,dimension='height',line_color='blueviolet', line_dash='dashdot', line_alpha=0.4, line_width=2)) \n",
    "        fig = FSM_add_Notations(fig, fsm, startversuch)\n",
    "        fig = FSM_add_Alarms(fig, fsm, startversuch)\n",
    "        fig = FSM_add_Warnings(fig, fsm, startversuch)\n",
    "        bokeh_show(fig)\n",
    "    else:\n",
    "        print(f\"Start: {startversuch['no']:3d} no data, no improvement possible.\")"
   ]
  },
  {
   "cell_type": "code",
   "execution_count": null,
   "metadata": {},
   "outputs": [],
   "source": [
    "sv=fsm.results['starts'][startversuch['no']]\n",
    "\n",
    "#phases = [k for k in sv['timing'].keys() if k != 'targetoperation_org']\n",
    "phases = list(sv['timing'].keys())\n",
    "fsm._harvest_timings(sv, phases)\n",
    "sv['loadramp']"
   ]
  },
  {
   "cell_type": "code",
   "execution_count": null,
   "metadata": {},
   "outputs": [],
   "source": [
    "from pprint import pformat as pf\n",
    "durations = { ph:pd.Timedelta(sv['timing'][ph][-1]['end'] - sv['timing'][ph][-1]['start']).total_seconds() for ph in phases}\n",
    "#print(pf(durations))\n",
    "durations['cumstarttime'] = sum([v for k,v in durations.items() if k in ['startpreparation','starter','speedup','idle','synchronize','loadramp']])\n",
    "durations"
   ]
  },
  {
   "cell_type": "code",
   "execution_count": null,
   "metadata": {},
   "outputs": [],
   "source": [
    "#pp(rdb.iloc[vv].to_dict())\n",
    "sv;"
   ]
  },
  {
   "cell_type": "code",
   "execution_count": null,
   "metadata": {},
   "outputs": [],
   "source": [
    "for i, v in enumerate(fsm.runlogdetail(startversuch, statechanges_only=True)):\n",
    "    print(f\"{i:3} {v}\")"
   ]
  },
  {
   "cell_type": "code",
   "execution_count": null,
   "metadata": {},
   "outputs": [],
   "source": [
    "for i, v in enumerate(fsm.runlogdetail(startversuch, statechanges_only=False)):\n",
    "    print(f\"{i:3} {v}\")"
   ]
  },
  {
   "cell_type": "code",
   "execution_count": null,
   "metadata": {},
   "outputs": [],
   "source": [
    "rdb = rda\n",
    "vec = ['startpreparation','speedup','idle','synchronize','loadramp','targetload','ramprate','cumstarttime','targetoperation','rampdown','coolrun','runout']\n",
    "display(_=rdb[vec].hist(bins=30,layout=(4,4),figsize=(20,20)))\n",
    "#ax_list[0][2].set_xlim((0,10))\n",
    "#display(rdb[vec].hist(bins=30,figsize=(20,20)))\n",
    "display(rdb[vec].describe().round(2))"
   ]
  },
  {
   "cell_type": "code",
   "execution_count": null,
   "metadata": {},
   "outputs": [],
   "source": [
    "import time\n",
    "dset2 = [{'col':['Power_PowerAct','helpline'], 'ylim':(-1000,12000), 'color':['red','rgba(0,128,0,0.2)'], 'unit':'kW'},\n",
    "         {'col':['power_diff','power_diff_help'], '_ylim':(0,5000), 'color':['rgba(255,0,0,0.2)','rgba(0,128,0,0.2)'], 'unit':'kW/s'}]\n",
    "ratedload = fsm._e['Power_PowerNominal']\n",
    "t0 = time.time()\n",
    "for i, startversuch in rdb[-3:].iterrows() : \n",
    "#for i, startversuch in tqdm(rdb.iterrows(), total=rdb.shape[0], ncols=80, mininterval=1, unit=' starts', desc=\"FSM Run2\"):\n",
    "    data, xmax, ymax, duration, ramprate = dmyplant2.loadramp_edge_detect(fsm,startversuch)\n",
    "    if not data.empty:\n",
    "        print(f\"Start: {startversuch['no']:3d} xmax: {xmax}, ymax: {ymax:6.0f}, duration: {duration:5.1f}, ramprate: {ramprate / ratedload * 100.0:4.2f} %/s\")\n",
    "        data['power_diff'] = pd.Series(np.gradient(data['Power_PowerAct']))\n",
    "        #data['power_diff_help'] = pd.Series(np.gradient(data['helpline']))\n",
    "        fig = FSM_splot(fsm, startversuch, data, dset2, figsize=(14,6))\n",
    "        fig.add_layout(Span(location=0.0,dimension='width',x_range_name='default', y_range_name='0',line_color='black', line_dash='solid', line_alpha=0.4)) \n",
    "        fig.add_layout(Span(location=ymax,dimension='width',x_range_name='default', y_range_name='0',line_color='blueviolet', line_dash='dashdot', line_alpha=0.4, line_width=2)) \n",
    "        fig.add_layout(Span(location=xmax,dimension='height',line_color='blueviolet', line_dash='dashdot', line_alpha=0.4, line_width=2)) \n",
    "        fig = FSM_add_Notations(fig, fsm, startversuch)\n",
    "        #fig = FSM_add_Alarms(fig, fsm, startversuch)\n",
    "        #fig = FSM_add_Warnings(fig, fsm, startversuch)\n",
    "        bokeh_show(fig)\n",
    "    else:\n",
    "        print(f\"Start: {startversuch['no']:3d} no data, no improvement possible.\")\n",
    "t1 = time.time()\n",
    "print(f\"{(t1-t0):4.1f} sec\")    "
   ]
  },
  {
   "cell_type": "code",
   "execution_count": null,
   "metadata": {},
   "outputs": [],
   "source": [
    "mfn = e._fname + '_messages.txt'\n",
    "fsm.save_messages(mfn)\n",
    "print(mfn)"
   ]
  }
 ],
 "metadata": {
  "interpreter": {
   "hash": "00e7f18031541dc25b2d1c6c1f90e0b122a906b1440859c87878a4f6b4e1a002"
  },
  "kernelspec": {
   "display_name": "Python 3 (ipykernel)",
   "language": "python",
   "name": "python3"
  },
  "language_info": {
   "codemirror_mode": {
    "name": "ipython",
    "version": 3
   },
   "file_extension": ".py",
   "mimetype": "text/x-python",
   "name": "python",
   "nbconvert_exporter": "python",
   "pygments_lexer": "ipython3",
   "version": "3.9.7"
  }
 },
 "nbformat": 4,
 "nbformat_minor": 4
}
