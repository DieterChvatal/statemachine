{
 "cells": [
  {
   "cell_type": "code",
   "execution_count": 1,
   "id": "dadfaf4b-ddc2-4316-b0dd-c32a8962c8dc",
   "metadata": {},
   "outputs": [
    {
     "name": "stdout",
     "output_type": "stream",
     "text": [
      "\n",
      "Please enter your myPlant login: \n",
      "--------------------------------\n",
      "    \n"
     ]
    },
    {
     "name": "stdin",
     "output_type": "stream",
     "text": [
      "User:  105026010\n",
      "Password:  ········\n",
      "TOTP Secret:  ········\n"
     ]
    },
    {
     "name": "stdout",
     "output_type": "stream",
     "text": [
      "\n",
      "Login successful\n"
     ]
    }
   ],
   "source": [
    "import dmyplant2\n",
    "dmyplant2.cred()\n",
    "mp = dmyplant2.MyPlant(0)\n",
    "try:\n",
    "    mp.login()\n",
    "except Exception as e:\n",
    "    print(e)\n",
    "print('\\nLogin successful')\n"
   ]
  },
  {
   "cell_type": "code",
   "execution_count": null,
   "id": "538c854f-f9c6-467f-8958-34efa4d7bb73",
   "metadata": {},
   "outputs": [],
   "source": []
  }
 ],
 "metadata": {
  "kernelspec": {
   "display_name": "Python 3 (ipykernel)",
   "language": "python",
   "name": "python3"
  },
  "language_info": {
   "codemirror_mode": {
    "name": "ipython",
    "version": 3
   },
   "file_extension": ".py",
   "mimetype": "text/x-python",
   "name": "python",
   "nbconvert_exporter": "python",
   "pygments_lexer": "ipython3",
   "version": "3.10.9"
  }
 },
 "nbformat": 4,
 "nbformat_minor": 5
}
