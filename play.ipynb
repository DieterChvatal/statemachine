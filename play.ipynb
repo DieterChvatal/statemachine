{
 "cells": [
  {
   "cell_type": "code",
   "execution_count": 1,
   "metadata": {},
   "outputs": [],
   "source": [
    "import pandas as pd\n",
    "import numpy as np\n",
    "import matplotlib.pyplot as plt\n",
    "from pprint import (pprint as pp, pformat as pf)\n",
    "import warnings\n",
    "warnings.simplefilter(action='ignore', category=UserWarning)\n",
    "import dmyplant2\n",
    "dmyplant2.cred()\n",
    "mp = dmyplant2.MyPlant(3600)"
   ]
  },
  {
   "cell_type": "code",
   "execution_count": 2,
   "metadata": {},
   "outputs": [],
   "source": [
    "dval = dmyplant2.Validation.load_def_csv(\"input2.csv\")\n",
    "dval;"
   ]
  },
  {
   "cell_type": "code",
   "execution_count": 3,
   "metadata": {},
   "outputs": [],
   "source": [
    "i = 2\n",
    "vale = dval.iloc[i][['serialNumber','Validation Engine','val start']]"
   ]
  },
  {
   "cell_type": "code",
   "execution_count": 4,
   "metadata": {},
   "outputs": [],
   "source": [
    "#e=dmyplant2.Engine.from_sn(mp,vale['serialNumber'], valstart=vale['val start'])\n",
    "#e=dmyplant2.Engine.from_sn(mp,1486144) # Forsa Hartmoor M1\n",
    "#e=dmyplant2.Engine.from_sn(mp,1486152) # Forsa Hartmoor M2\n",
    "#e=dmyplant2.Engine.from_sn(mp,1486176) # Forsa Hartmoor M3\n",
    "#e=dmyplant2.Engine.from_sn(mp,1486174) # Forsa Hartmoor M4\n",
    "#e=dmyplant2.Engine.from_sn(mp,1486197) # Forsa Hartmoor M5\n",
    "e=dmyplant2.Engine.from_sn(mp,1486198) # Forsa Hartmoor M6\n",
    "#e=dmyplant2.Engine.from_sn(mp,1486236) # Forsa Hartmoor M7\n",
    "#e=dmyplant2.Engine.from_sn(mp,1486225) # Forsa Hartmoor M8\n",
    "#e=dmyplant2.Engine.from_sn(mp,1486251) # Forsa Hartmoor M9\n",
    "#e=dmyplant2.Engine.from_sn(mp,1486255) # Forsa Hartmoor M10\n",
    "#e=dmyplant2.Engine.from_sn(mp,1486272) # Forsa Hartmoor M11\n"
   ]
  },
  {
   "cell_type": "code",
   "execution_count": 5,
   "metadata": {},
   "outputs": [],
   "source": [
    "# Ammerlaan Flowers 2, J420 Frage von David Sepulveda Lopez\n",
    "#e=dmyplant2.Engine.from_sn(mp,5640011)"
   ]
  },
  {
   "cell_type": "code",
   "execution_count": 6,
   "metadata": {},
   "outputs": [
    {
     "data": {
      "text/html": [
       "<div>\n",
       "<style scoped>\n",
       "    .dataframe tbody tr th:only-of-type {\n",
       "        vertical-align: middle;\n",
       "    }\n",
       "\n",
       "    .dataframe tbody tr th {\n",
       "        vertical-align: top;\n",
       "    }\n",
       "\n",
       "    .dataframe thead th {\n",
       "        text-align: right;\n",
       "    }\n",
       "</style>\n",
       "<table border=\"1\" class=\"dataframe\">\n",
       "  <thead>\n",
       "    <tr style=\"text-align: right;\">\n",
       "      <th></th>\n",
       "      <th>Name</th>\n",
       "      <th>Engine ID</th>\n",
       "      <th>Design Number</th>\n",
       "      <th>Engine Type</th>\n",
       "      <th>Engine Version</th>\n",
       "      <th>P</th>\n",
       "      <th>P_nom</th>\n",
       "      <th>BMEP</th>\n",
       "      <th>serialNumber</th>\n",
       "      <th>id</th>\n",
       "      <th>Count_OpHour</th>\n",
       "      <th>val start</th>\n",
       "      <th>oph@start</th>\n",
       "      <th>oph parts</th>\n",
       "      <th>LOC</th>\n",
       "    </tr>\n",
       "  </thead>\n",
       "  <tbody>\n",
       "    <tr>\n",
       "      <th>0</th>\n",
       "      <td>Forsa Hartmoor</td>\n",
       "      <td>M06</td>\n",
       "      <td>AL89</td>\n",
       "      <td>624</td>\n",
       "      <td>H12</td>\n",
       "      <td>24</td>\n",
       "      <td>4582.1</td>\n",
       "      <td>24.5</td>\n",
       "      <td>1486198</td>\n",
       "      <td>159401</td>\n",
       "      <td>162.0</td>\n",
       "      <td>2022-01-10</td>\n",
       "      <td>0</td>\n",
       "      <td>162</td>\n",
       "      <td>0.1695</td>\n",
       "    </tr>\n",
       "  </tbody>\n",
       "</table>\n",
       "</div>"
      ],
      "text/plain": [
       "             Name Engine ID Design Number Engine Type Engine Version   P  \\\n",
       "0  Forsa Hartmoor       M06          AL89         624            H12  24   \n",
       "\n",
       "    P_nom  BMEP serialNumber      id Count_OpHour  val start oph@start  \\\n",
       "0  4582.1  24.5      1486198  159401        162.0 2022-01-10         0   \n",
       "\n",
       "  oph parts     LOC  \n",
       "0       162  0.1695  "
      ]
     },
     "execution_count": 6,
     "metadata": {},
     "output_type": "execute_result"
    }
   ],
   "source": [
    "pd.DataFrame.from_dict(e.dash, orient='index').T"
   ]
  },
  {
   "cell_type": "code",
   "execution_count": 7,
   "metadata": {},
   "outputs": [
    {
     "name": "stdout",
     "output_type": "stream",
     "text": [
      "Using '9047 target load reached' Message.\n"
     ]
    },
    {
     "name": "stderr",
     "output_type": "stream",
     "text": [
      "FSM: 100%|███████████████████████| 10513/10513 [00:01<00:00, 9536.78 messages/s]\n"
     ]
    }
   ],
   "source": [
    "from dfsm import msgFSM\n",
    "#fsm = msgFSM(e, skip_day=7)\n",
    "#fsm = msgFSM(e, p_from='2022-01-11')\n",
    "fsm = msgFSM(e)\n",
    "fsm.run() # run Finite State Machine"
   ]
  },
  {
   "cell_type": "code",
   "execution_count": 8,
   "metadata": {},
   "outputs": [
    {
     "data": {
      "text/html": [
       "<div>\n",
       "<style scoped>\n",
       "    .dataframe tbody tr th:only-of-type {\n",
       "        vertical-align: middle;\n",
       "    }\n",
       "\n",
       "    .dataframe tbody tr th {\n",
       "        vertical-align: top;\n",
       "    }\n",
       "\n",
       "    .dataframe thead th {\n",
       "        text-align: right;\n",
       "    }\n",
       "</style>\n",
       "<table border=\"1\" class=\"dataframe\">\n",
       "  <thead>\n",
       "    <tr style=\"text-align: right;\">\n",
       "      <th></th>\n",
       "      <th>time</th>\n",
       "      <th>Power_PowerAct</th>\n",
       "      <th>Various_Values_SpeedAct</th>\n",
       "      <th>datetime</th>\n",
       "    </tr>\n",
       "  </thead>\n",
       "  <tbody>\n",
       "    <tr>\n",
       "      <th>0</th>\n",
       "      <td>1635955800000</td>\n",
       "      <td>0.000000</td>\n",
       "      <td>0.0</td>\n",
       "      <td>2021-11-03 16:10:00</td>\n",
       "    </tr>\n",
       "    <tr>\n",
       "      <th>1</th>\n",
       "      <td>1635955830000</td>\n",
       "      <td>0.000000</td>\n",
       "      <td>0.0</td>\n",
       "      <td>2021-11-03 16:10:30</td>\n",
       "    </tr>\n",
       "    <tr>\n",
       "      <th>2</th>\n",
       "      <td>1635955860000</td>\n",
       "      <td>0.000000</td>\n",
       "      <td>0.0</td>\n",
       "      <td>2021-11-03 16:11:00</td>\n",
       "    </tr>\n",
       "    <tr>\n",
       "      <th>3</th>\n",
       "      <td>1635955890000</td>\n",
       "      <td>0.000000</td>\n",
       "      <td>0.0</td>\n",
       "      <td>2021-11-03 16:11:30</td>\n",
       "    </tr>\n",
       "    <tr>\n",
       "      <th>4</th>\n",
       "      <td>1635955920000</td>\n",
       "      <td>0.000000</td>\n",
       "      <td>0.0</td>\n",
       "      <td>2021-11-03 16:12:00</td>\n",
       "    </tr>\n",
       "    <tr>\n",
       "      <th>...</th>\n",
       "      <td>...</td>\n",
       "      <td>...</td>\n",
       "      <td>...</td>\n",
       "      <td>...</td>\n",
       "    </tr>\n",
       "    <tr>\n",
       "      <th>314382</th>\n",
       "      <td>1645387080000</td>\n",
       "      <td>4496.720533</td>\n",
       "      <td>1499.0</td>\n",
       "      <td>2022-02-20 19:58:00</td>\n",
       "    </tr>\n",
       "    <tr>\n",
       "      <th>314383</th>\n",
       "      <td>1645387110000</td>\n",
       "      <td>4487.631300</td>\n",
       "      <td>1499.0</td>\n",
       "      <td>2022-02-20 19:58:30</td>\n",
       "    </tr>\n",
       "    <tr>\n",
       "      <th>314384</th>\n",
       "      <td>1645387140000</td>\n",
       "      <td>4471.907467</td>\n",
       "      <td>1499.0</td>\n",
       "      <td>2022-02-20 19:59:00</td>\n",
       "    </tr>\n",
       "    <tr>\n",
       "      <th>314385</th>\n",
       "      <td>1645387170000</td>\n",
       "      <td>4479.139400</td>\n",
       "      <td>1499.0</td>\n",
       "      <td>2022-02-20 19:59:30</td>\n",
       "    </tr>\n",
       "    <tr>\n",
       "      <th>314386</th>\n",
       "      <td>1645387196000</td>\n",
       "      <td>4479.139400</td>\n",
       "      <td>1499.0</td>\n",
       "      <td>2022-02-20 19:59:56</td>\n",
       "    </tr>\n",
       "  </tbody>\n",
       "</table>\n",
       "<p>314387 rows × 4 columns</p>\n",
       "</div>"
      ],
      "text/plain": [
       "                 time  Power_PowerAct  Various_Values_SpeedAct  \\\n",
       "0       1635955800000        0.000000                      0.0   \n",
       "1       1635955830000        0.000000                      0.0   \n",
       "2       1635955860000        0.000000                      0.0   \n",
       "3       1635955890000        0.000000                      0.0   \n",
       "4       1635955920000        0.000000                      0.0   \n",
       "...               ...             ...                      ...   \n",
       "314382  1645387080000     4496.720533                   1499.0   \n",
       "314383  1645387110000     4487.631300                   1499.0   \n",
       "314384  1645387140000     4471.907467                   1499.0   \n",
       "314385  1645387170000     4479.139400                   1499.0   \n",
       "314386  1645387196000     4479.139400                   1499.0   \n",
       "\n",
       "                  datetime  \n",
       "0      2021-11-03 16:10:00  \n",
       "1      2021-11-03 16:10:30  \n",
       "2      2021-11-03 16:11:00  \n",
       "3      2021-11-03 16:11:30  \n",
       "4      2021-11-03 16:12:00  \n",
       "...                    ...  \n",
       "314382 2022-02-20 19:58:00  \n",
       "314383 2022-02-20 19:58:30  \n",
       "314384 2022-02-20 19:59:00  \n",
       "314385 2022-02-20 19:59:30  \n",
       "314386 2022-02-20 19:59:56  \n",
       "\n",
       "[314387 rows x 4 columns]"
      ]
     },
     "execution_count": 8,
     "metadata": {},
     "output_type": "execute_result"
    }
   ],
   "source": [
    "fsm._data"
   ]
  },
  {
   "cell_type": "code",
   "execution_count": 9,
   "metadata": {},
   "outputs": [
    {
     "data": {
      "text/html": [
       "<div>\n",
       "<style scoped>\n",
       "    .dataframe tbody tr th:only-of-type {\n",
       "        vertical-align: middle;\n",
       "    }\n",
       "\n",
       "    .dataframe tbody tr th {\n",
       "        vertical-align: top;\n",
       "    }\n",
       "\n",
       "    .dataframe thead th {\n",
       "        text-align: right;\n",
       "    }\n",
       "</style>\n",
       "<table border=\"1\" class=\"dataframe\">\n",
       "  <thead>\n",
       "    <tr style=\"text-align: right;\">\n",
       "      <th></th>\n",
       "      <th>time</th>\n",
       "      <th>Power_PowerAct</th>\n",
       "      <th>Various_Values_SpeedAct</th>\n",
       "      <th>datetime</th>\n",
       "    </tr>\n",
       "  </thead>\n",
       "  <tbody>\n",
       "    <tr>\n",
       "      <th>40587</th>\n",
       "      <td>1637173410000</td>\n",
       "      <td>0.0</td>\n",
       "      <td>0.0</td>\n",
       "      <td>2021-11-17 18:23:30</td>\n",
       "    </tr>\n",
       "    <tr>\n",
       "      <th>40588</th>\n",
       "      <td>1637173440000</td>\n",
       "      <td>0.0</td>\n",
       "      <td>0.0</td>\n",
       "      <td>2021-11-17 18:24:00</td>\n",
       "    </tr>\n",
       "    <tr>\n",
       "      <th>40589</th>\n",
       "      <td>1637173470000</td>\n",
       "      <td>0.0</td>\n",
       "      <td>0.0</td>\n",
       "      <td>2021-11-17 18:24:30</td>\n",
       "    </tr>\n",
       "    <tr>\n",
       "      <th>40590</th>\n",
       "      <td>1637173500000</td>\n",
       "      <td>0.0</td>\n",
       "      <td>0.0</td>\n",
       "      <td>2021-11-17 18:25:00</td>\n",
       "    </tr>\n",
       "  </tbody>\n",
       "</table>\n",
       "</div>"
      ],
      "text/plain": [
       "                time  Power_PowerAct  Various_Values_SpeedAct  \\\n",
       "40587  1637173410000             0.0                      0.0   \n",
       "40588  1637173440000             0.0                      0.0   \n",
       "40589  1637173470000             0.0                      0.0   \n",
       "40590  1637173500000             0.0                      0.0   \n",
       "\n",
       "                 datetime  \n",
       "40587 2021-11-17 18:23:30  \n",
       "40588 2021-11-17 18:24:00  \n",
       "40589 2021-11-17 18:24:30  \n",
       "40590 2021-11-17 18:25:00  "
      ]
     },
     "execution_count": 9,
     "metadata": {},
     "output_type": "execute_result"
    }
   ],
   "source": [
    "fsm._data[(fsm._data['time'] >= 1637173443403-2*30000) & (fsm._data['time'] <= 1637173443403+2*30000)]"
   ]
  },
  {
   "cell_type": "code",
   "execution_count": 12,
   "metadata": {},
   "outputs": [
    {
     "name": "stdout",
     "output_type": "stream",
     "text": [
      "1637687335601 23.11.2021 17:08:55\n"
     ]
    },
    {
     "data": {
      "text/html": [
       "<div>\n",
       "<style scoped>\n",
       "    .dataframe tbody tr th:only-of-type {\n",
       "        vertical-align: middle;\n",
       "    }\n",
       "\n",
       "    .dataframe tbody tr th {\n",
       "        vertical-align: top;\n",
       "    }\n",
       "\n",
       "    .dataframe thead th {\n",
       "        text-align: right;\n",
       "    }\n",
       "</style>\n",
       "<table border=\"1\" class=\"dataframe\">\n",
       "  <thead>\n",
       "    <tr style=\"text-align: right;\">\n",
       "      <th></th>\n",
       "      <th>time</th>\n",
       "      <th>Power_PowerAct</th>\n",
       "      <th>Various_Values_SpeedAct</th>\n",
       "      <th>datetime</th>\n",
       "    </tr>\n",
       "  </thead>\n",
       "  <tbody>\n",
       "    <tr>\n",
       "      <th>57709</th>\n",
       "      <td>1637687040000</td>\n",
       "      <td>0.000000</td>\n",
       "      <td>0.000000</td>\n",
       "      <td>2021-11-23 17:04:00</td>\n",
       "    </tr>\n",
       "    <tr>\n",
       "      <th>57710</th>\n",
       "      <td>1637687070000</td>\n",
       "      <td>0.000000</td>\n",
       "      <td>0.000000</td>\n",
       "      <td>2021-11-23 17:04:30</td>\n",
       "    </tr>\n",
       "    <tr>\n",
       "      <th>57711</th>\n",
       "      <td>1637687100000</td>\n",
       "      <td>0.000000</td>\n",
       "      <td>0.074200</td>\n",
       "      <td>2021-11-23 17:05:00</td>\n",
       "    </tr>\n",
       "    <tr>\n",
       "      <th>57712</th>\n",
       "      <td>1637687130000</td>\n",
       "      <td>0.000000</td>\n",
       "      <td>538.035987</td>\n",
       "      <td>2021-11-23 17:05:30</td>\n",
       "    </tr>\n",
       "    <tr>\n",
       "      <th>57713</th>\n",
       "      <td>1637687160000</td>\n",
       "      <td>0.000000</td>\n",
       "      <td>1498.132144</td>\n",
       "      <td>2021-11-23 17:06:00</td>\n",
       "    </tr>\n",
       "    <tr>\n",
       "      <th>57714</th>\n",
       "      <td>1637687190000</td>\n",
       "      <td>163.777133</td>\n",
       "      <td>1503.509286</td>\n",
       "      <td>2021-11-23 17:06:30</td>\n",
       "    </tr>\n",
       "    <tr>\n",
       "      <th>57715</th>\n",
       "      <td>1637687220000</td>\n",
       "      <td>1211.061927</td>\n",
       "      <td>1500.000000</td>\n",
       "      <td>2021-11-23 17:07:00</td>\n",
       "    </tr>\n",
       "    <tr>\n",
       "      <th>57716</th>\n",
       "      <td>1637687250000</td>\n",
       "      <td>2158.132008</td>\n",
       "      <td>1500.791567</td>\n",
       "      <td>2021-11-23 17:07:30</td>\n",
       "    </tr>\n",
       "    <tr>\n",
       "      <th>57717</th>\n",
       "      <td>1637687280000</td>\n",
       "      <td>3133.480624</td>\n",
       "      <td>1500.737903</td>\n",
       "      <td>2021-11-23 17:08:00</td>\n",
       "    </tr>\n",
       "    <tr>\n",
       "      <th>57718</th>\n",
       "      <td>1637687310000</td>\n",
       "      <td>4101.106053</td>\n",
       "      <td>1502.000000</td>\n",
       "      <td>2021-11-23 17:08:30</td>\n",
       "    </tr>\n",
       "    <tr>\n",
       "      <th>57719</th>\n",
       "      <td>1637687340000</td>\n",
       "      <td>4499.073254</td>\n",
       "      <td>1501.011700</td>\n",
       "      <td>2021-11-23 17:09:00</td>\n",
       "    </tr>\n",
       "    <tr>\n",
       "      <th>57720</th>\n",
       "      <td>1637687370000</td>\n",
       "      <td>4499.722105</td>\n",
       "      <td>1500.993897</td>\n",
       "      <td>2021-11-23 17:09:30</td>\n",
       "    </tr>\n",
       "    <tr>\n",
       "      <th>57721</th>\n",
       "      <td>1637687400000</td>\n",
       "      <td>4496.950833</td>\n",
       "      <td>1500.113067</td>\n",
       "      <td>2021-11-23 17:10:00</td>\n",
       "    </tr>\n",
       "    <tr>\n",
       "      <th>57722</th>\n",
       "      <td>1637687430000</td>\n",
       "      <td>4494.572949</td>\n",
       "      <td>1501.000000</td>\n",
       "      <td>2021-11-23 17:10:30</td>\n",
       "    </tr>\n",
       "    <tr>\n",
       "      <th>57723</th>\n",
       "      <td>1637687460000</td>\n",
       "      <td>4494.181368</td>\n",
       "      <td>1500.876271</td>\n",
       "      <td>2021-11-23 17:11:00</td>\n",
       "    </tr>\n",
       "  </tbody>\n",
       "</table>\n",
       "</div>"
      ],
      "text/plain": [
       "                time  Power_PowerAct  Various_Values_SpeedAct  \\\n",
       "57709  1637687040000        0.000000                 0.000000   \n",
       "57710  1637687070000        0.000000                 0.000000   \n",
       "57711  1637687100000        0.000000                 0.074200   \n",
       "57712  1637687130000        0.000000               538.035987   \n",
       "57713  1637687160000        0.000000              1498.132144   \n",
       "57714  1637687190000      163.777133              1503.509286   \n",
       "57715  1637687220000     1211.061927              1500.000000   \n",
       "57716  1637687250000     2158.132008              1500.791567   \n",
       "57717  1637687280000     3133.480624              1500.737903   \n",
       "57718  1637687310000     4101.106053              1502.000000   \n",
       "57719  1637687340000     4499.073254              1501.011700   \n",
       "57720  1637687370000     4499.722105              1500.993897   \n",
       "57721  1637687400000     4496.950833              1500.113067   \n",
       "57722  1637687430000     4494.572949              1501.000000   \n",
       "57723  1637687460000     4494.181368              1500.876271   \n",
       "\n",
       "                 datetime  \n",
       "57709 2021-11-23 17:04:00  \n",
       "57710 2021-11-23 17:04:30  \n",
       "57711 2021-11-23 17:05:00  \n",
       "57712 2021-11-23 17:05:30  \n",
       "57713 2021-11-23 17:06:00  \n",
       "57714 2021-11-23 17:06:30  \n",
       "57715 2021-11-23 17:07:00  \n",
       "57716 2021-11-23 17:07:30  \n",
       "57717 2021-11-23 17:08:00  \n",
       "57718 2021-11-23 17:08:30  \n",
       "57719 2021-11-23 17:09:00  \n",
       "57720 2021-11-23 17:09:30  \n",
       "57721 2021-11-23 17:10:00  \n",
       "57722 2021-11-23 17:10:30  \n",
       "57723 2021-11-23 17:11:00  "
      ]
     },
     "execution_count": 12,
     "metadata": {},
     "output_type": "execute_result"
    }
   ],
   "source": [
    "ddf = fsm._data\n",
    "tts=1637687335601\n",
    "print(tts, pd.to_datetime(int(tts)*1e6).strftime('%d.%m.%Y %H:%M:%S'))\n",
    "ldlta=10\n",
    "rdlta=5\n",
    "step = 30000\n",
    "idf = ddf[(ddf['time'] >= tts-ldlta*step) & (ddf['time'] <= tts+rdlta*step)]\n",
    "idf"
   ]
  },
  {
   "cell_type": "code",
   "execution_count": 13,
   "metadata": {},
   "outputs": [
    {
     "data": {
      "image/png": "[encoded data removed]",
      "text/plain": [
       "<Figure size 864x864 with 2 Axes>"
      ]
     },
     "metadata": {
      "needs_background": "light"
     },
     "output_type": "display_data"
    }
   ],
   "source": [
    "idf[['datetime','Power_PowerAct','Various_Values_SpeedAct']].plot(\n",
    "    x='datetime',\n",
    "    y=['Various_Values_SpeedAct','Power_PowerAct'],\n",
    "    subplots=True,\n",
    "    figsize=(12,12), kind='line', marker=\"o\", grid=True, rot=30);"
   ]
  },
  {
   "cell_type": "code",
   "execution_count": null,
   "metadata": {},
   "outputs": [],
   "source": [
    "rdf = pd.DataFrame(fsm._starts)\n",
    "rdf"
   ]
  },
  {
   "cell_type": "code",
   "execution_count": null,
   "metadata": {},
   "outputs": [],
   "source": [
    "print(\"\"\"\n",
    "****************\n",
    "** Überblick: **\n",
    "****************\n",
    "\"\"\")\n",
    "print(f\"{'Motor':9}: {e} {e['Count_OpHour']} Bh\")\n",
    "print(f\"{'Meldung':9}- '{'9047 target load reached'}' {'gefunden.' if any(fsm._messages['name'] == '9047') else 'wird berechnet.'}\")\n",
    "print(f\"{'Zeitraum':9}: {fsm.first_message:%d.%m.%Y} bis {fsm.last_message:%d.%m.%Y}\")\n",
    "print(f\"{'Dauer':9}: {fsm.period.days} Tage ~ {fsm.period.days / 365:2.1f} Jahre\")\n",
    "print()\n",
    "print(f\"{'GESAMT':9}: {rdf.shape[0]:5} Starts, {rdf[rdf.success].shape[0]:5} erfolgreich => {(rdf[rdf.success].shape[0] / rdf.shape[0]) * 100.0:3.1f} % der Starts erfolgreich.\")\n",
    "for mode in ['OFF', 'MANUAL', 'AUTO']:\n",
    "    print(f\"{mode:9}: {rdf[(rdf['mode'] == mode)].shape[0]:5} Starts, {rdf[((rdf.success) & (rdf['mode'] == mode))].shape[0]:5} erfolgreich => {(rdf[((rdf.success) & (rdf['mode'] == mode))].shape[0] / rdf[(rdf['mode'] == mode)].shape[0]) * 100.0:3.1f} % der Starts erfolgreich.\")"
   ]
  },
  {
   "cell_type": "code",
   "execution_count": null,
   "metadata": {},
   "outputs": [],
   "source": [
    "rda = rdf\n",
    "#rda = rdf[((rdf['mode'] == 'AUTO') & (rdf['success'] == True))]\n",
    "#rda = rdf[((rdf['mode'] == 'AUTO') & (rdf['success'] == True) & (rdf['synchronize'] < 300.0) & (rdf['start-preparation'] < 300.0))]\n",
    "#rda = rdf[((rdf['success'] == True) & (rdf['start-preparation'] < 1000.0))]\n",
    "rda = rdf[((rdf['success'] == True))]\n",
    "rda = rda[['success','mode','cumstarttime','start-preparation','starter','hochlauf','idle','synchronize','load-ramp','target-operation']]\n",
    "rda.round(2);"
   ]
  },
  {
   "cell_type": "code",
   "execution_count": null,
   "metadata": {},
   "outputs": [],
   "source": [
    "rda.describe().round(2).T"
   ]
  },
  {
   "cell_type": "code",
   "execution_count": null,
   "metadata": {},
   "outputs": [],
   "source": [
    "longer_than_300s = rda[rdf['cumstarttime'] > 300.0]\n",
    "longer_than_300s.round(2);"
   ]
  },
  {
   "cell_type": "code",
   "execution_count": null,
   "metadata": {},
   "outputs": [],
   "source": [
    "longer_than_300s.describe().round(2).T"
   ]
  },
  {
   "cell_type": "code",
   "execution_count": null,
   "metadata": {},
   "outputs": [],
   "source": [
    "load_ramp_less_than_100s = rda[rdf['load-ramp'] < 100.0]\n",
    "load_ramp_less_than_100s.round(2);"
   ]
  },
  {
   "cell_type": "code",
   "execution_count": null,
   "metadata": {},
   "outputs": [],
   "source": [
    "load_ramp_less_than_100s.describe().round(2).T"
   ]
  },
  {
   "cell_type": "code",
   "execution_count": null,
   "metadata": {},
   "outputs": [],
   "source": [
    "rda[['start-preparation','starter','hochlauf','idle','synchronize','cumstarttime','load-ramp','target-operation']].hist(figsize = (20,12), bins=50, layout=(3,3));\n",
    "#rda.hist(figsize = (20,12), bins=100, layout=(4,2));"
   ]
  },
  {
   "cell_type": "code",
   "execution_count": null,
   "metadata": {},
   "outputs": [],
   "source": [
    "#rda.plot.box(subplots=True, grid = True, figsize=(24,10), layout=(1,7));\n",
    "#rda.plot.box(subplots=True, grid = True, figsize=(24,10), layout=(1,7), sym='');"
   ]
  },
  {
   "cell_type": "code",
   "execution_count": null,
   "metadata": {},
   "outputs": [],
   "source": [
    "nalarms = []\n",
    "ct = 0\n",
    "for i,c in rdf.iterrows():\n",
    "    if len(c['alarms']) > 0 and not c['success']:\n",
    "        ct += 1\n",
    "        print(f\"\\nStartversuch: {i}, Success: {c['success']}\")\n",
    "        for a in c['alarms']:\n",
    "            nalarms.append(a['msg'])\n",
    "            print(f\"{c['mode']:15} {a['state']:20} {a['msg']['timestamp']} {pd.to_datetime(int(a['msg']['timestamp'])*1e6).strftime('%d.%m.%Y %H:%M:%S')} {a['msg']['name']} {a['msg']['message']}\")\n",
    "print(f\"\"\"\n",
    "***********************************\n",
    "** {ct:3} nicht erfolgreiche Starts **\n",
    "***********************************\n",
    "\"\"\")"
   ]
  },
  {
   "cell_type": "code",
   "execution_count": null,
   "metadata": {},
   "outputs": [],
   "source": [
    "al = pd.DataFrame(fsm._pareto(nalarms))\n",
    "fig = plt.figure();\n",
    "color = 'purple'\n",
    "\n",
    "if not al.empty:\n",
    "    al['msg'] = al['msg'] + ' (' + al['name'] + ')'\n",
    "    al.set_index('msg').sort_values(by = \"anz\",ascending=True).plot.barh(y=['anz'],figsize=(16,len(al) / 3.8), color=[color], position = 1.0, grid=True, title='Alarms in not successful Starts');\n",
    "    plt.plot();"
   ]
  },
  {
   "cell_type": "code",
   "execution_count": null,
   "metadata": {},
   "outputs": [],
   "source": [
    "phases = [['start-preparation','starter','hochlauf','idle','synchronize','load-ramp','target-operation'],'start-preparation','starter','hochlauf','idle','synchronize','load-ramp','target-operation']\n",
    "fig = plt.figure();\n",
    "color = 'red'\n",
    "\n",
    "for phase in phases:\n",
    "    al = fsm.alarms_pareto(phase)[:30]\n",
    "    if not al.empty:\n",
    "        al['msg'] = al['msg'] + ' (' + al['name'] + ')'\n",
    "        al.set_index('msg').sort_values(by = \"anz\",ascending=True).plot.barh(y=['anz'],figsize=(16,len(al) / 3.8), color=[color], position = 1.0, grid=True, title=' | '.join(phase) if type(phase) == list else phase);\n",
    "        plt.plot();\n"
   ]
  },
  {
   "cell_type": "code",
   "execution_count": null,
   "metadata": {},
   "outputs": [],
   "source": [
    "phases = [['start-preparation','starter','hochlauf','idle','synchronize','load-ramp','target-operation'],'start-preparation','starter','hochlauf','idle','synchronize','load-ramp','target-operation']\n",
    "fig = plt.figure();\n",
    "color = 'orange'\n",
    "\n",
    "for phase in phases:\n",
    "    al = fsm.warnings_pareto(phase)[:30]\n",
    "    if not al.empty:\n",
    "        al['msg'] = al['msg'] + ' (' + al['name'] + ')'\n",
    "        al.set_index('msg').sort_values(by = \"anz\",ascending=True).plot.barh(y=['anz'],figsize=(16,len(al) / 3.8), color=[color], position = 1.0, grid=True, title=' | '.join(phase) if type(phase) == list else phase);\n",
    "        plt.plot();\n"
   ]
  },
  {
   "cell_type": "code",
   "execution_count": null,
   "metadata": {},
   "outputs": [],
   "source": [
    "mfn = './data/' + str(e._sn) + '_messages.txt'\n",
    "fsm.save_messages('./data/' + str(e._sn) + '_messages.txt')\n",
    "print(mfn)"
   ]
  },
  {
   "cell_type": "code",
   "execution_count": null,
   "metadata": {},
   "outputs": [],
   "source": [
    "any(fsm._messages['name'] == '9047')"
   ]
  },
  {
   "cell_type": "code",
   "execution_count": null,
   "metadata": {},
   "outputs": [],
   "source": [
    "#fsm.store()"
   ]
  }
 ],
 "metadata": {
  "interpreter": {
   "hash": "00e7f18031541dc25b2d1c6c1f90e0b122a906b1440859c87878a4f6b4e1a002"
  },
  "kernelspec": {
   "display_name": "Python 3.8.5 ('base')",
   "language": "python",
   "name": "python3"
  },
  "language_info": {
   "codemirror_mode": {
    "name": "ipython",
    "version": 3
   },
   "file_extension": ".py",
   "mimetype": "text/x-python",
   "name": "python",
   "nbconvert_exporter": "python",
   "pygments_lexer": "ipython3",
   "version": "3.9.7"
  },
  "orig_nbformat": 4
 },
 "nbformat": 4,
 "nbformat_minor": 2
}
