{
 "cells": [
  {
   "cell_type": "code",
   "execution_count": 1,
   "metadata": {},
   "outputs": [],
   "source": [
    "import pandas as pd\n",
    "import numpy as np\n",
    "import matplotlib.pyplot as plt\n",
    "import dmyplant2\n",
    "dmyplant2.cred()\n",
    "mp = dmyplant2.MyPlant(3600)"
   ]
  },
  {
   "cell_type": "code",
   "execution_count": 2,
   "metadata": {},
   "outputs": [],
   "source": [
    "dval = dmyplant2.Validation.load_def_csv(\"input2.csv\")\n",
    "dval;"
   ]
  },
  {
   "cell_type": "code",
   "execution_count": 3,
   "metadata": {},
   "outputs": [],
   "source": [
    "i = 2\n",
    "vale = dval.iloc[i][['serialNumber','Validation Engine','val start']]"
   ]
  },
  {
   "cell_type": "code",
   "execution_count": 4,
   "metadata": {},
   "outputs": [
    {
     "data": {
      "text/html": [
       "<div>\n",
       "<style scoped>\n",
       "    .dataframe tbody tr th:only-of-type {\n",
       "        vertical-align: middle;\n",
       "    }\n",
       "\n",
       "    .dataframe tbody tr th {\n",
       "        vertical-align: top;\n",
       "    }\n",
       "\n",
       "    .dataframe thead th {\n",
       "        text-align: right;\n",
       "    }\n",
       "</style>\n",
       "<table border=\"1\" class=\"dataframe\">\n",
       "  <thead>\n",
       "    <tr style=\"text-align: right;\">\n",
       "      <th></th>\n",
       "      <th>Name</th>\n",
       "      <th>Engine ID</th>\n",
       "      <th>Design Number</th>\n",
       "      <th>Engine Type</th>\n",
       "      <th>Engine Version</th>\n",
       "      <th>P</th>\n",
       "      <th>P_nom</th>\n",
       "      <th>BMEP</th>\n",
       "      <th>serialNumber</th>\n",
       "      <th>id</th>\n",
       "      <th>Count_OpHour</th>\n",
       "      <th>val start</th>\n",
       "      <th>oph@start</th>\n",
       "      <th>oph parts</th>\n",
       "      <th>LOC</th>\n",
       "    </tr>\n",
       "  </thead>\n",
       "  <tbody>\n",
       "    <tr>\n",
       "      <th>0</th>\n",
       "      <td>ROCHE PENZBERG KWKK</td>\n",
       "      <td>M01</td>\n",
       "      <td>U233</td>\n",
       "      <td>624</td>\n",
       "      <td>H02</td>\n",
       "      <td>24</td>\n",
       "      <td>4489.3</td>\n",
       "      <td>24.0</td>\n",
       "      <td>1184199</td>\n",
       "      <td>108532</td>\n",
       "      <td>39529.0</td>\n",
       "      <td>2020-04-27</td>\n",
       "      <td>0</td>\n",
       "      <td>39529</td>\n",
       "      <td>0.0185</td>\n",
       "    </tr>\n",
       "  </tbody>\n",
       "</table>\n",
       "</div>"
      ],
      "text/plain": [
       "                  Name Engine ID Design Number Engine Type Engine Version   P  \\\n",
       "0  ROCHE PENZBERG KWKK       M01          U233         624            H02  24   \n",
       "\n",
       "    P_nom  BMEP serialNumber      id Count_OpHour  val start oph@start  \\\n",
       "0  4489.3  24.0      1184199  108532      39529.0 2020-04-27         0   \n",
       "\n",
       "  oph parts     LOC  \n",
       "0     39529  0.0185  "
      ]
     },
     "execution_count": 4,
     "metadata": {},
     "output_type": "execute_result"
    }
   ],
   "source": [
    "e=dmyplant2.Engine.from_sn(mp,vale['serialNumber'], valstart=vale['val start'])\n",
    "pd.DataFrame.from_dict(e.dash, orient='index').T"
   ]
  },
  {
   "cell_type": "code",
   "execution_count": 7,
   "metadata": {},
   "outputs": [
    {
     "name": "stderr",
     "output_type": "stream",
     "text": [
      "4460448475it [00:08, 508340461.52it/s]   \n"
     ]
    }
   ],
   "source": [
    "from dfsm import msgFSM\n",
    "fsm = msgFSM(e, p_to=\"2020-02-01\")\n",
    "fsm.run() # run the Finite State Machine\n",
    "fsm.store()"
   ]
  },
  {
   "cell_type": "code",
   "execution_count": 8,
   "metadata": {},
   "outputs": [
    {
     "name": "stdout",
     "output_type": "stream",
     "text": [
      "The autoreload extension is already loaded. To reload it, use:\n",
      "  %reload_ext autoreload\n"
     ]
    }
   ],
   "source": [
    "%load_ext autoreload\n",
    "%autoreload 2\n",
    "from dfsm import msgFSM\n",
    "fsm = msgFSM(e, frompickle=True)\n",
    "fsm._dot('FSM.dot')"
   ]
  },
  {
   "cell_type": "code",
   "execution_count": null,
   "metadata": {},
   "outputs": [],
   "source": [
    "fsm._runlog;"
   ]
  },
  {
   "cell_type": "code",
   "execution_count": null,
   "metadata": {},
   "outputs": [],
   "source": [
    "rdf = pd.DataFrame(fsm._starts)\n",
    "rda = rdf\n",
    "#rda = rdf[((rdf['mode'] == 'AUTO') & (rdf['success'] == True))]\n",
    "#rda = rdf[((rdf['mode'] == 'AUTO') & (rdf['success'] == True) & (rdf['synchronize'] < 300.0) & (rdf['start-preparation'] < 300.0))]\n",
    "#rda = rdf[((rdf['success'] == True) & (rdf['start-preparation'] < 1000.0))]\n",
    "rda = rdf[((rdf['success'] == True))]\n",
    "rda.round(2)"
   ]
  },
  {
   "cell_type": "code",
   "execution_count": null,
   "metadata": {},
   "outputs": [],
   "source": [
    "rda.describe().round(2).T"
   ]
  },
  {
   "cell_type": "code",
   "execution_count": null,
   "metadata": {},
   "outputs": [],
   "source": [
    "rda[['start-preparation','starter','hochlauf','idle','synchronize','load-ramp']].hist(figsize = (20,12), bins=100);\n",
    "#rda.hist(figsize = (20,12), bins=100);"
   ]
  },
  {
   "cell_type": "code",
   "execution_count": null,
   "metadata": {},
   "outputs": [],
   "source": [
    "rda.plot.box(subplots=True, grid = True, figsize=(24,15), layout=(2,4));"
   ]
  },
  {
   "cell_type": "code",
   "execution_count": null,
   "metadata": {},
   "outputs": [],
   "source": [
    "rda.plot.box(subplots=True, grid = True, figsize=(24,15), layout=(2,4), sym='');"
   ]
  },
  {
   "cell_type": "code",
   "execution_count": null,
   "metadata": {},
   "outputs": [],
   "source": [
    "round((rdf[rdf.success].shape[0] / rdf.shape[0]) * 100,1)"
   ]
  },
  {
   "cell_type": "code",
   "execution_count": null,
   "metadata": {},
   "outputs": [],
   "source": [
    "phases = [['start-preparation','starter','hochlauf','idle','synchronize','load-ramp','target-operation'],'start-preparation','starter','hochlauf','idle','synchronize','load-ramp','target-operation']\n",
    "fig = plt.figure();\n",
    "color = 'red'\n",
    "\n",
    "for phase in phases:\n",
    "    al = fsm.alarms_pareto(phase)[:20]\n",
    "    if not al.empty:\n",
    "        al['msg'] = al['msg'] + ' (' + al['name'] + ')'\n",
    "        al.set_index('msg').sort_values(by = \"anz\",ascending=True).plot.barh(y=['anz'],figsize=(16,len(al) / 3.8), color=[color], position = 1.0, grid=True, title=' | '.join(phase) if type(phase) == list else phase);\n",
    "        plt.plot();\n"
   ]
  },
  {
   "cell_type": "code",
   "execution_count": null,
   "metadata": {},
   "outputs": [],
   "source": [
    "phases = [['start-preparation','starter','hochlauf','idle','synchronize','load-ramp','target-operation'],'start-preparation','starter','hochlauf','idle','synchronize','load-ramp','target-operation']\n",
    "fig = plt.figure();\n",
    "color = 'orange'\n",
    "\n",
    "for phase in phases:\n",
    "    al = fsm.warnings_pareto(phase)[:20]\n",
    "    if not al.empty:\n",
    "        al['msg'] = al['msg'] + ' (' + al['name'] + ')'\n",
    "        al.set_index('msg').sort_values(by = \"anz\",ascending=True).plot.barh(y=['anz'],figsize=(16,len(al) / 3.8), color=[color], position = 1.0, grid=True, title=' | '.join(phase) if type(phase) == list else phase);\n",
    "        plt.plot();\n"
   ]
  },
  {
   "cell_type": "code",
   "execution_count": null,
   "metadata": {},
   "outputs": [],
   "source": [
    "#fsm.save_messages('msg3.txt')"
   ]
  },
  {
   "cell_type": "code",
   "execution_count": null,
   "metadata": {},
   "outputs": [],
   "source": [
    "#fsm.store()"
   ]
  }
 ],
 "metadata": {
  "interpreter": {
   "hash": "00e7f18031541dc25b2d1c6c1f90e0b122a906b1440859c87878a4f6b4e1a002"
  },
  "kernelspec": {
   "display_name": "Python 3.8.5 ('base')",
   "language": "python",
   "name": "python3"
  },
  "language_info": {
   "codemirror_mode": {
    "name": "ipython",
    "version": 3
   },
   "file_extension": ".py",
   "mimetype": "text/x-python",
   "name": "python",
   "nbconvert_exporter": "python",
   "pygments_lexer": "ipython3",
   "version": "3.8.5"
  },
  "orig_nbformat": 4
 },
 "nbformat": 4,
 "nbformat_minor": 2
}
