{
 "cells": [
  {
   "cell_type": "code",
   "execution_count": 13,
   "metadata": {},
   "outputs": [],
   "source": [
    "import pandas as pd\n",
    "import numpy as np\n",
    "import matplotlib.pyplot as plt\n",
    "from pprint import (pprint as pp, pformat as pf)\n",
    "import warnings\n",
    "warnings.simplefilter(action='ignore', category=UserWarning)\n",
    "import dmyplant2\n",
    "dmyplant2.cred()\n",
    "mp = dmyplant2.MyPlant(3600)"
   ]
  },
  {
   "cell_type": "code",
   "execution_count": 14,
   "metadata": {},
   "outputs": [],
   "source": [
    "dval = dmyplant2.Validation.load_def_csv(\"input2.csv\")\n",
    "dval;"
   ]
  },
  {
   "cell_type": "code",
   "execution_count": 15,
   "metadata": {},
   "outputs": [],
   "source": [
    "i = 2\n",
    "vale = dval.iloc[i][['serialNumber','Validation Engine','val start']]"
   ]
  },
  {
   "cell_type": "code",
   "execution_count": 16,
   "metadata": {},
   "outputs": [],
   "source": [
    "#e=dmyplant2.Engine.from_sn(mp,vale['serialNumber'], valstart=vale['val start'])\n",
    "e=dmyplant2.Engine.from_sn(mp,1486144) # Forsa Hartmoor M1\n",
    "#e=dmyplant2.Engine.from_sn(mp,1486144) # Forsa Hartmoor M1\n",
    "#e=dmyplant2.Engine.from_sn(mp,1486152) # Forsa Hartmoor M2\n",
    "#e=dmyplant2.Engine.from_sn(mp,1486176) # Forsa Hartmoor M3\n",
    "#e=dmyplant2.Engine.from_sn(mp,1486174) # Forsa Hartmoor M4\n",
    "#e=dmyplant2.Engine.from_sn(mp,1486197) # Forsa Hartmoor M5\n",
    "#e=dmyplant2.Engine.from_sn(mp,1486198) # Forsa Hartmoor M6\n",
    "#e=dmyplant2.Engine.from_sn(mp,1486236) # Forsa Hartmoor M7\n",
    "#e=dmyplant2.Engine.from_sn(mp,1486225) # Forsa Hartmoor M8\n",
    "#e=dmyplant2.Engine.from_sn(mp,1486251) # Forsa Hartmoor M9\n",
    "#e=dmyplant2.Engine.from_sn(mp,1486255) # Forsa Hartmoor M10\n",
    "#e=dmyplant2.Engine.from_sn(mp,1486272) # Forsa Hartmoor M11\n"
   ]
  },
  {
   "cell_type": "code",
   "execution_count": 17,
   "metadata": {},
   "outputs": [],
   "source": [
    "# Ammerlaan Flowers 2, J420 Frage von David Sepulveda Lopez\n",
    "#e=dmyplant2.Engine.from_sn(mp,5640011)"
   ]
  },
  {
   "cell_type": "code",
   "execution_count": 18,
   "metadata": {},
   "outputs": [],
   "source": [
    "# for d in e.asset:\n",
    "#     print(d, type(e[d]))\n",
    "#     print(pf(e[d]), '\\n')"
   ]
  },
  {
   "cell_type": "code",
   "execution_count": 19,
   "metadata": {},
   "outputs": [
    {
     "data": {
      "text/html": [
       "<div>\n",
       "<style scoped>\n",
       "    .dataframe tbody tr th:only-of-type {\n",
       "        vertical-align: middle;\n",
       "    }\n",
       "\n",
       "    .dataframe tbody tr th {\n",
       "        vertical-align: top;\n",
       "    }\n",
       "\n",
       "    .dataframe thead th {\n",
       "        text-align: right;\n",
       "    }\n",
       "</style>\n",
       "<table border=\"1\" class=\"dataframe\">\n",
       "  <thead>\n",
       "    <tr style=\"text-align: right;\">\n",
       "      <th></th>\n",
       "      <th>Name</th>\n",
       "      <th>Engine ID</th>\n",
       "      <th>Design Number</th>\n",
       "      <th>Engine Type</th>\n",
       "      <th>Engine Version</th>\n",
       "      <th>P</th>\n",
       "      <th>P_nom</th>\n",
       "      <th>BMEP</th>\n",
       "      <th>serialNumber</th>\n",
       "      <th>id</th>\n",
       "      <th>Count_OpHour</th>\n",
       "      <th>val start</th>\n",
       "      <th>oph@start</th>\n",
       "      <th>oph parts</th>\n",
       "      <th>LOC</th>\n",
       "    </tr>\n",
       "  </thead>\n",
       "  <tbody>\n",
       "    <tr>\n",
       "      <th>0</th>\n",
       "      <td>Forsa Hartmoor</td>\n",
       "      <td>M01</td>\n",
       "      <td>AL87</td>\n",
       "      <td>624</td>\n",
       "      <td>H12</td>\n",
       "      <td>24</td>\n",
       "      <td>4582.1</td>\n",
       "      <td>24.5</td>\n",
       "      <td>1486144</td>\n",
       "      <td>159396</td>\n",
       "      <td>183.0</td>\n",
       "      <td>2022-01-10</td>\n",
       "      <td>0</td>\n",
       "      <td>183</td>\n",
       "      <td>0.141</td>\n",
       "    </tr>\n",
       "  </tbody>\n",
       "</table>\n",
       "</div>"
      ],
      "text/plain": [
       "             Name Engine ID Design Number Engine Type Engine Version   P  \\\n",
       "0  Forsa Hartmoor       M01          AL87         624            H12  24   \n",
       "\n",
       "    P_nom  BMEP serialNumber      id Count_OpHour  val start oph@start  \\\n",
       "0  4582.1  24.5      1486144  159396        183.0 2022-01-10         0   \n",
       "\n",
       "  oph parts    LOC  \n",
       "0       183  0.141  "
      ]
     },
     "execution_count": 19,
     "metadata": {},
     "output_type": "execute_result"
    }
   ],
   "source": [
    "pd.DataFrame.from_dict(e.dash, orient='index').T"
   ]
  },
  {
   "cell_type": "code",
   "execution_count": 20,
   "metadata": {},
   "outputs": [
    {
     "name": "stdout",
     "output_type": "stream",
     "text": [
      "Message - '9047 target load reached' found.\n"
     ]
    },
    {
     "name": "stderr",
     "output_type": "stream",
     "text": [
      "Scan Messages: 100%|███████████████████████████████████████████████████████| 6294/6294 [00:02<00:00, 2100.88 messages/s]\n"
     ]
    }
   ],
   "source": [
    "from dfsm import msgFSM\n",
    "#fsm = msgFSM(e, skip_day=7)\n",
    "fsm = msgFSM(e, p_from='2022-01-11')\n",
    "fsm.run() # run Finite State Machine"
   ]
  },
  {
   "cell_type": "code",
   "execution_count": 21,
   "metadata": {},
   "outputs": [],
   "source": [
    "rdf = pd.DataFrame(fsm._starts)"
   ]
  },
  {
   "cell_type": "code",
   "execution_count": 22,
   "metadata": {},
   "outputs": [
    {
     "name": "stdout",
     "output_type": "stream",
     "text": [
      "\n",
      "****************\n",
      "** Überblick: **\n",
      "****************\n",
      "\n",
      "Motor    : 1486144 M01 Forsa Hartmoor          183.0 Bh\n",
      "Meldung  - '9047 target load reached' gefunden.\n",
      "Zeitraum : 11.01.2022 bis 21.02.2022\n",
      "Dauer    : 41 Tage ~ 0.1 Jahre\n",
      "\n",
      "GESAMT   :   106 Starts,    54 erfolgreich => 50.9 % der Starts erfolgreich.\n",
      "OFF      :     8 Starts,     0 erfolgreich => 0.0 % der Starts erfolgreich.\n",
      "MANUAL   :    30 Starts,     2 erfolgreich => 6.7 % der Starts erfolgreich.\n",
      "AUTO     :    66 Starts,    50 erfolgreich => 75.8 % der Starts erfolgreich.\n"
     ]
    }
   ],
   "source": [
    "print(\"\"\"\n",
    "****************\n",
    "** Überblick: **\n",
    "****************\n",
    "\"\"\")\n",
    "print(f\"{'Motor':9}: {e} {e['Count_OpHour']} Bh\")\n",
    "print(f\"{'Meldung':9}- '{'9047 target load reached'}' {'gefunden.' if any(fsm._messages['name'] == '9047') else 'wird berechnet.'}\")\n",
    "print(f\"{'Zeitraum':9}: {fsm.first_message:%d.%m.%Y} bis {fsm.last_message:%d.%m.%Y}\")\n",
    "print(f\"{'Dauer':9}: {fsm.period.days} Tage ~ {fsm.period.days / 365:2.1f} Jahre\")\n",
    "print()\n",
    "print(f\"{'GESAMT':9}: {rdf.shape[0]:5} Starts, {rdf[rdf.success].shape[0]:5} erfolgreich => {(rdf[rdf.success].shape[0] / rdf.shape[0]) * 100.0:3.1f} % der Starts erfolgreich.\")\n",
    "for mode in ['OFF', 'MANUAL', 'AUTO']:\n",
    "    print(f\"{mode:9}: {rdf[(rdf['mode'] == mode)].shape[0]:5} Starts, {rdf[((rdf.success) & (rdf['mode'] == mode))].shape[0]:5} erfolgreich => {(rdf[((rdf.success) & (rdf['mode'] == mode))].shape[0] / rdf[(rdf['mode'] == mode)].shape[0]) * 100.0:3.1f} % der Starts erfolgreich.\")"
   ]
  },
  {
   "cell_type": "code",
   "execution_count": 23,
   "metadata": {},
   "outputs": [],
   "source": [
    "rda = rdf\n",
    "#rda = rdf[((rdf['mode'] == 'AUTO') & (rdf['success'] == True))]\n",
    "#rda = rdf[((rdf['mode'] == 'AUTO') & (rdf['success'] == True) & (rdf['synchronize'] < 300.0) & (rdf['start-preparation'] < 300.0))]\n",
    "#rda = rdf[((rdf['success'] == True) & (rdf['start-preparation'] < 1000.0))]\n",
    "rda = rdf[((rdf['success'] == True))]\n",
    "rda = rda[['success','mode','cumstarttime','start-preparation','starter','hochlauf','idle','synchronize','load-ramp','target-operation']]\n",
    "rda.round(2);"
   ]
  },
  {
   "cell_type": "code",
   "execution_count": 24,
   "metadata": {},
   "outputs": [
    {
     "data": {
      "text/html": [
       "<div>\n",
       "<style scoped>\n",
       "    .dataframe tbody tr th:only-of-type {\n",
       "        vertical-align: middle;\n",
       "    }\n",
       "\n",
       "    .dataframe tbody tr th {\n",
       "        vertical-align: top;\n",
       "    }\n",
       "\n",
       "    .dataframe thead th {\n",
       "        text-align: right;\n",
       "    }\n",
       "</style>\n",
       "<table border=\"1\" class=\"dataframe\">\n",
       "  <thead>\n",
       "    <tr style=\"text-align: right;\">\n",
       "      <th></th>\n",
       "      <th>count</th>\n",
       "      <th>mean</th>\n",
       "      <th>std</th>\n",
       "      <th>min</th>\n",
       "      <th>25%</th>\n",
       "      <th>50%</th>\n",
       "      <th>75%</th>\n",
       "      <th>max</th>\n",
       "    </tr>\n",
       "  </thead>\n",
       "  <tbody>\n",
       "    <tr>\n",
       "      <th>cumstarttime</th>\n",
       "      <td>54.0</td>\n",
       "      <td>281.4</td>\n",
       "      <td>30.9</td>\n",
       "      <td>247.71</td>\n",
       "      <td>275.62</td>\n",
       "      <td>276.24</td>\n",
       "      <td>277.08</td>\n",
       "      <td>486.21</td>\n",
       "    </tr>\n",
       "    <tr>\n",
       "      <th>start-preparation</th>\n",
       "      <td>54.0</td>\n",
       "      <td>95.89</td>\n",
       "      <td>29.68</td>\n",
       "      <td>60.56</td>\n",
       "      <td>88.36</td>\n",
       "      <td>98.43</td>\n",
       "      <td>101.1</td>\n",
       "      <td>285.65</td>\n",
       "    </tr>\n",
       "    <tr>\n",
       "      <th>starter</th>\n",
       "      <td>54.0</td>\n",
       "      <td>3.94</td>\n",
       "      <td>0.22</td>\n",
       "      <td>3.53</td>\n",
       "      <td>3.83</td>\n",
       "      <td>3.94</td>\n",
       "      <td>4.14</td>\n",
       "      <td>4.34</td>\n",
       "    </tr>\n",
       "    <tr>\n",
       "      <th>hochlauf</th>\n",
       "      <td>54.0</td>\n",
       "      <td>20.91</td>\n",
       "      <td>2.31</td>\n",
       "      <td>17.15</td>\n",
       "      <td>18.86</td>\n",
       "      <td>20.58</td>\n",
       "      <td>22.78</td>\n",
       "      <td>27.04</td>\n",
       "    </tr>\n",
       "    <tr>\n",
       "      <th>idle</th>\n",
       "      <td>54.0</td>\n",
       "      <td>5.62</td>\n",
       "      <td>4.82</td>\n",
       "      <td>4.03</td>\n",
       "      <td>4.54</td>\n",
       "      <td>4.64</td>\n",
       "      <td>5.53</td>\n",
       "      <td>40.07</td>\n",
       "    </tr>\n",
       "    <tr>\n",
       "      <th>synchronize</th>\n",
       "      <td>54.0</td>\n",
       "      <td>22.12</td>\n",
       "      <td>21.96</td>\n",
       "      <td>1.0</td>\n",
       "      <td>4.88</td>\n",
       "      <td>9.03</td>\n",
       "      <td>40.35</td>\n",
       "      <td>95.9</td>\n",
       "    </tr>\n",
       "    <tr>\n",
       "      <th>load-ramp</th>\n",
       "      <td>54.0</td>\n",
       "      <td>132.92</td>\n",
       "      <td>22.46</td>\n",
       "      <td>66.25</td>\n",
       "      <td>125.46</td>\n",
       "      <td>128.23</td>\n",
       "      <td>142.35</td>\n",
       "      <td>187.69</td>\n",
       "    </tr>\n",
       "    <tr>\n",
       "      <th>target-operation</th>\n",
       "      <td>54</td>\n",
       "      <td>0 days 01:59:32.370370370</td>\n",
       "      <td>0 days 02:02:06.850494047</td>\n",
       "      <td>0 days 00:03:24</td>\n",
       "      <td>0 days 00:30:46.500000</td>\n",
       "      <td>0 days 01:03:21.500000</td>\n",
       "      <td>0 days 03:03:30.750000</td>\n",
       "      <td>0 days 09:05:11</td>\n",
       "    </tr>\n",
       "  </tbody>\n",
       "</table>\n",
       "</div>"
      ],
      "text/plain": [
       "                  count                       mean                        std  \\\n",
       "cumstarttime       54.0                      281.4                       30.9   \n",
       "start-preparation  54.0                      95.89                      29.68   \n",
       "starter            54.0                       3.94                       0.22   \n",
       "hochlauf           54.0                      20.91                       2.31   \n",
       "idle               54.0                       5.62                       4.82   \n",
       "synchronize        54.0                      22.12                      21.96   \n",
       "load-ramp          54.0                     132.92                      22.46   \n",
       "target-operation     54  0 days 01:59:32.370370370  0 days 02:02:06.850494047   \n",
       "\n",
       "                               min                     25%  \\\n",
       "cumstarttime                247.71                  275.62   \n",
       "start-preparation            60.56                   88.36   \n",
       "starter                       3.53                    3.83   \n",
       "hochlauf                     17.15                   18.86   \n",
       "idle                          4.03                    4.54   \n",
       "synchronize                    1.0                    4.88   \n",
       "load-ramp                    66.25                  125.46   \n",
       "target-operation   0 days 00:03:24  0 days 00:30:46.500000   \n",
       "\n",
       "                                      50%                     75%  \\\n",
       "cumstarttime                       276.24                  277.08   \n",
       "start-preparation                   98.43                   101.1   \n",
       "starter                              3.94                    4.14   \n",
       "hochlauf                            20.58                   22.78   \n",
       "idle                                 4.64                    5.53   \n",
       "synchronize                          9.03                   40.35   \n",
       "load-ramp                          128.23                  142.35   \n",
       "target-operation   0 days 01:03:21.500000  0 days 03:03:30.750000   \n",
       "\n",
       "                               max  \n",
       "cumstarttime                486.21  \n",
       "start-preparation           285.65  \n",
       "starter                       4.34  \n",
       "hochlauf                     27.04  \n",
       "idle                         40.07  \n",
       "synchronize                   95.9  \n",
       "load-ramp                   187.69  \n",
       "target-operation   0 days 09:05:11  "
      ]
     },
     "execution_count": 24,
     "metadata": {},
     "output_type": "execute_result"
    }
   ],
   "source": [
    "rda.describe().round(2).T"
   ]
  },
  {
   "cell_type": "code",
   "execution_count": 25,
   "metadata": {},
   "outputs": [],
   "source": [
    "longer_than_300s = rda[rdf['cumstarttime'] > 300.0]\n",
    "longer_than_300s.round(2);"
   ]
  },
  {
   "cell_type": "code",
   "execution_count": 26,
   "metadata": {},
   "outputs": [
    {
     "data": {
      "text/html": [
       "<div>\n",
       "<style scoped>\n",
       "    .dataframe tbody tr th:only-of-type {\n",
       "        vertical-align: middle;\n",
       "    }\n",
       "\n",
       "    .dataframe tbody tr th {\n",
       "        vertical-align: top;\n",
       "    }\n",
       "\n",
       "    .dataframe thead th {\n",
       "        text-align: right;\n",
       "    }\n",
       "</style>\n",
       "<table border=\"1\" class=\"dataframe\">\n",
       "  <thead>\n",
       "    <tr style=\"text-align: right;\">\n",
       "      <th></th>\n",
       "      <th>count</th>\n",
       "      <th>mean</th>\n",
       "      <th>std</th>\n",
       "      <th>min</th>\n",
       "      <th>25%</th>\n",
       "      <th>50%</th>\n",
       "      <th>75%</th>\n",
       "      <th>max</th>\n",
       "    </tr>\n",
       "  </thead>\n",
       "  <tbody>\n",
       "    <tr>\n",
       "      <th>cumstarttime</th>\n",
       "      <td>5.0</td>\n",
       "      <td>339.67</td>\n",
       "      <td>81.94</td>\n",
       "      <td>300.45</td>\n",
       "      <td>302.12</td>\n",
       "      <td>303.97</td>\n",
       "      <td>305.58</td>\n",
       "      <td>486.21</td>\n",
       "    </tr>\n",
       "    <tr>\n",
       "      <th>start-preparation</th>\n",
       "      <td>5.0</td>\n",
       "      <td>138.71</td>\n",
       "      <td>82.15</td>\n",
       "      <td>100.08</td>\n",
       "      <td>101.7</td>\n",
       "      <td>102.92</td>\n",
       "      <td>103.19</td>\n",
       "      <td>285.65</td>\n",
       "    </tr>\n",
       "    <tr>\n",
       "      <th>starter</th>\n",
       "      <td>5.0</td>\n",
       "      <td>4.06</td>\n",
       "      <td>0.22</td>\n",
       "      <td>3.83</td>\n",
       "      <td>3.94</td>\n",
       "      <td>3.94</td>\n",
       "      <td>4.24</td>\n",
       "      <td>4.34</td>\n",
       "    </tr>\n",
       "    <tr>\n",
       "      <th>hochlauf</th>\n",
       "      <td>5.0</td>\n",
       "      <td>23.85</td>\n",
       "      <td>1.83</td>\n",
       "      <td>22.69</td>\n",
       "      <td>22.7</td>\n",
       "      <td>23.2</td>\n",
       "      <td>23.61</td>\n",
       "      <td>27.04</td>\n",
       "    </tr>\n",
       "    <tr>\n",
       "      <th>idle</th>\n",
       "      <td>5.0</td>\n",
       "      <td>12.98</td>\n",
       "      <td>15.15</td>\n",
       "      <td>6.15</td>\n",
       "      <td>6.15</td>\n",
       "      <td>6.16</td>\n",
       "      <td>6.36</td>\n",
       "      <td>40.07</td>\n",
       "    </tr>\n",
       "    <tr>\n",
       "      <th>synchronize</th>\n",
       "      <td>5.0</td>\n",
       "      <td>34.84</td>\n",
       "      <td>17.38</td>\n",
       "      <td>3.94</td>\n",
       "      <td>39.77</td>\n",
       "      <td>41.9</td>\n",
       "      <td>44.27</td>\n",
       "      <td>44.33</td>\n",
       "    </tr>\n",
       "    <tr>\n",
       "      <th>load-ramp</th>\n",
       "      <td>5.0</td>\n",
       "      <td>125.24</td>\n",
       "      <td>0.3</td>\n",
       "      <td>124.88</td>\n",
       "      <td>124.98</td>\n",
       "      <td>125.3</td>\n",
       "      <td>125.45</td>\n",
       "      <td>125.57</td>\n",
       "    </tr>\n",
       "    <tr>\n",
       "      <th>target-operation</th>\n",
       "      <td>5</td>\n",
       "      <td>0 days 03:42:22.600000</td>\n",
       "      <td>0 days 03:41:22.269320413</td>\n",
       "      <td>0 days 00:30:05</td>\n",
       "      <td>0 days 01:00:02</td>\n",
       "      <td>0 days 02:00:01</td>\n",
       "      <td>0 days 05:56:34</td>\n",
       "      <td>0 days 09:05:11</td>\n",
       "    </tr>\n",
       "  </tbody>\n",
       "</table>\n",
       "</div>"
      ],
      "text/plain": [
       "                  count                    mean                        std  \\\n",
       "cumstarttime        5.0                  339.67                      81.94   \n",
       "start-preparation   5.0                  138.71                      82.15   \n",
       "starter             5.0                    4.06                       0.22   \n",
       "hochlauf            5.0                   23.85                       1.83   \n",
       "idle                5.0                   12.98                      15.15   \n",
       "synchronize         5.0                   34.84                      17.38   \n",
       "load-ramp           5.0                  125.24                        0.3   \n",
       "target-operation      5  0 days 03:42:22.600000  0 days 03:41:22.269320413   \n",
       "\n",
       "                               min              25%              50%  \\\n",
       "cumstarttime                300.45           302.12           303.97   \n",
       "start-preparation           100.08            101.7           102.92   \n",
       "starter                       3.83             3.94             3.94   \n",
       "hochlauf                     22.69             22.7             23.2   \n",
       "idle                          6.15             6.15             6.16   \n",
       "synchronize                   3.94            39.77             41.9   \n",
       "load-ramp                   124.88           124.98            125.3   \n",
       "target-operation   0 days 00:30:05  0 days 01:00:02  0 days 02:00:01   \n",
       "\n",
       "                               75%              max  \n",
       "cumstarttime                305.58           486.21  \n",
       "start-preparation           103.19           285.65  \n",
       "starter                       4.24             4.34  \n",
       "hochlauf                     23.61            27.04  \n",
       "idle                          6.36            40.07  \n",
       "synchronize                  44.27            44.33  \n",
       "load-ramp                   125.45           125.57  \n",
       "target-operation   0 days 05:56:34  0 days 09:05:11  "
      ]
     },
     "execution_count": 26,
     "metadata": {},
     "output_type": "execute_result"
    }
   ],
   "source": [
    "longer_than_300s.describe().round(2).T"
   ]
  },
  {
   "cell_type": "code",
   "execution_count": 27,
   "metadata": {},
   "outputs": [],
   "source": [
    "load_ramp_less_than_100s = rda[rdf['load-ramp'] < 100.0]\n",
    "load_ramp_less_than_100s.round(2);"
   ]
  },
  {
   "cell_type": "code",
   "execution_count": 28,
   "metadata": {},
   "outputs": [
    {
     "data": {
      "text/html": [
       "<div>\n",
       "<style scoped>\n",
       "    .dataframe tbody tr th:only-of-type {\n",
       "        vertical-align: middle;\n",
       "    }\n",
       "\n",
       "    .dataframe tbody tr th {\n",
       "        vertical-align: top;\n",
       "    }\n",
       "\n",
       "    .dataframe thead th {\n",
       "        text-align: right;\n",
       "    }\n",
       "</style>\n",
       "<table border=\"1\" class=\"dataframe\">\n",
       "  <thead>\n",
       "    <tr style=\"text-align: right;\">\n",
       "      <th></th>\n",
       "      <th>count</th>\n",
       "      <th>mean</th>\n",
       "      <th>std</th>\n",
       "      <th>min</th>\n",
       "      <th>25%</th>\n",
       "      <th>50%</th>\n",
       "      <th>75%</th>\n",
       "      <th>max</th>\n",
       "    </tr>\n",
       "  </thead>\n",
       "  <tbody>\n",
       "    <tr>\n",
       "      <th>cumstarttime</th>\n",
       "      <td>5.0</td>\n",
       "      <td>276.93</td>\n",
       "      <td>0.72</td>\n",
       "      <td>275.85</td>\n",
       "      <td>276.79</td>\n",
       "      <td>276.88</td>\n",
       "      <td>277.39</td>\n",
       "      <td>277.75</td>\n",
       "    </tr>\n",
       "    <tr>\n",
       "      <th>start-preparation</th>\n",
       "      <td>5.0</td>\n",
       "      <td>99.13</td>\n",
       "      <td>6.61</td>\n",
       "      <td>87.88</td>\n",
       "      <td>99.79</td>\n",
       "      <td>100.87</td>\n",
       "      <td>101.89</td>\n",
       "      <td>105.23</td>\n",
       "    </tr>\n",
       "    <tr>\n",
       "      <th>starter</th>\n",
       "      <td>5.0</td>\n",
       "      <td>3.95</td>\n",
       "      <td>0.09</td>\n",
       "      <td>3.83</td>\n",
       "      <td>3.93</td>\n",
       "      <td>3.94</td>\n",
       "      <td>4.03</td>\n",
       "      <td>4.04</td>\n",
       "    </tr>\n",
       "    <tr>\n",
       "      <th>hochlauf</th>\n",
       "      <td>5.0</td>\n",
       "      <td>21.26</td>\n",
       "      <td>2.3</td>\n",
       "      <td>18.76</td>\n",
       "      <td>19.76</td>\n",
       "      <td>20.58</td>\n",
       "      <td>22.8</td>\n",
       "      <td>24.41</td>\n",
       "    </tr>\n",
       "    <tr>\n",
       "      <th>idle</th>\n",
       "      <td>5.0</td>\n",
       "      <td>4.5</td>\n",
       "      <td>0.25</td>\n",
       "      <td>4.14</td>\n",
       "      <td>4.44</td>\n",
       "      <td>4.54</td>\n",
       "      <td>4.54</td>\n",
       "      <td>4.84</td>\n",
       "    </tr>\n",
       "    <tr>\n",
       "      <th>synchronize</th>\n",
       "      <td>5.0</td>\n",
       "      <td>61.07</td>\n",
       "      <td>20.58</td>\n",
       "      <td>43.61</td>\n",
       "      <td>48.26</td>\n",
       "      <td>58.11</td>\n",
       "      <td>59.45</td>\n",
       "      <td>95.9</td>\n",
       "    </tr>\n",
       "    <tr>\n",
       "      <th>load-ramp</th>\n",
       "      <td>5.0</td>\n",
       "      <td>87.02</td>\n",
       "      <td>12.72</td>\n",
       "      <td>66.25</td>\n",
       "      <td>85.07</td>\n",
       "      <td>89.61</td>\n",
       "      <td>95.74</td>\n",
       "      <td>98.41</td>\n",
       "    </tr>\n",
       "    <tr>\n",
       "      <th>target-operation</th>\n",
       "      <td>5</td>\n",
       "      <td>0 days 03:47:30.800000</td>\n",
       "      <td>0 days 01:29:53.423931047</td>\n",
       "      <td>0 days 01:33:30</td>\n",
       "      <td>0 days 03:03:31</td>\n",
       "      <td>0 days 04:13:33</td>\n",
       "      <td>0 days 04:53:30</td>\n",
       "      <td>0 days 05:13:30</td>\n",
       "    </tr>\n",
       "  </tbody>\n",
       "</table>\n",
       "</div>"
      ],
      "text/plain": [
       "                  count                    mean                        std  \\\n",
       "cumstarttime        5.0                  276.93                       0.72   \n",
       "start-preparation   5.0                   99.13                       6.61   \n",
       "starter             5.0                    3.95                       0.09   \n",
       "hochlauf            5.0                   21.26                        2.3   \n",
       "idle                5.0                     4.5                       0.25   \n",
       "synchronize         5.0                   61.07                      20.58   \n",
       "load-ramp           5.0                   87.02                      12.72   \n",
       "target-operation      5  0 days 03:47:30.800000  0 days 01:29:53.423931047   \n",
       "\n",
       "                               min              25%              50%  \\\n",
       "cumstarttime                275.85           276.79           276.88   \n",
       "start-preparation            87.88            99.79           100.87   \n",
       "starter                       3.83             3.93             3.94   \n",
       "hochlauf                     18.76            19.76            20.58   \n",
       "idle                          4.14             4.44             4.54   \n",
       "synchronize                  43.61            48.26            58.11   \n",
       "load-ramp                    66.25            85.07            89.61   \n",
       "target-operation   0 days 01:33:30  0 days 03:03:31  0 days 04:13:33   \n",
       "\n",
       "                               75%              max  \n",
       "cumstarttime                277.39           277.75  \n",
       "start-preparation           101.89           105.23  \n",
       "starter                       4.03             4.04  \n",
       "hochlauf                      22.8            24.41  \n",
       "idle                          4.54             4.84  \n",
       "synchronize                  59.45             95.9  \n",
       "load-ramp                    95.74            98.41  \n",
       "target-operation   0 days 04:53:30  0 days 05:13:30  "
      ]
     },
     "execution_count": 28,
     "metadata": {},
     "output_type": "execute_result"
    }
   ],
   "source": [
    "load_ramp_less_than_100s.describe().round(2).T"
   ]
  },
  {
   "cell_type": "code",
   "execution_count": 29,
   "metadata": {},
   "outputs": [
    {
     "data": {
      "image/png": "[encoded data removed]",
      "text/plain": [
       "<Figure size 1440x864 with 9 Axes>"
      ]
     },
     "metadata": {
      "needs_background": "light"
     },
     "output_type": "display_data"
    }
   ],
   "source": [
    "rda[['start-preparation','starter','hochlauf','idle','synchronize','cumstarttime','load-ramp','target-operation']].hist(figsize = (20,12), bins=50, layout=(3,3));\n",
    "#rda.hist(figsize = (20,12), bins=100, layout=(4,2));"
   ]
  },
  {
   "cell_type": "code",
   "execution_count": 30,
   "metadata": {},
   "outputs": [],
   "source": [
    "#rda.plot.box(subplots=True, grid = True, figsize=(24,10), layout=(1,7));\n",
    "#rda.plot.box(subplots=True, grid = True, figsize=(24,10), layout=(1,7), sym='');"
   ]
  },
  {
   "cell_type": "code",
   "execution_count": 31,
   "metadata": {},
   "outputs": [
    {
     "name": "stdout",
     "output_type": "stream",
     "text": [
      "\n",
      "***********************************\n",
      "**   0 nicht erfolgreiche Starts **\n",
      "***********************************\n",
      "\n"
     ]
    }
   ],
   "source": [
    "nalarms = []\n",
    "ct = 0\n",
    "for i,c in rdf.iterrows():\n",
    "    if len(c['alarms']) > 0 and not c['success']:\n",
    "        ct += 1\n",
    "        print(f\"\\nStartversuch: {i}, Success: {c['success']}\")\n",
    "        for a in c['alarms']:\n",
    "            nalarms.append(a['msg'])\n",
    "            print(f\"{c['mode']:15} {a['state']:20} {pd.to_datetime(int(a['msg']['timestamp'])*1e6).strftime('%d.%m.%Y %H:%M:%S')} {a['msg']['name']} {a['msg']['message']}\")\n",
    "print(f\"\"\"\n",
    "***********************************\n",
    "** {ct:3} nicht erfolgreiche Starts **\n",
    "***********************************\n",
    "\"\"\")"
   ]
  },
  {
   "cell_type": "code",
   "execution_count": 32,
   "metadata": {},
   "outputs": [
    {
     "data": {
      "text/plain": [
       "<Figure size 432x288 with 0 Axes>"
      ]
     },
     "metadata": {},
     "output_type": "display_data"
    }
   ],
   "source": [
    "al = pd.DataFrame(fsm._pareto(nalarms))\n",
    "fig = plt.figure();\n",
    "color = 'purple'\n",
    "\n",
    "if not al.empty:\n",
    "    al['msg'] = al['msg'] + ' (' + al['name'] + ')'\n",
    "    al.set_index('msg').sort_values(by = \"anz\",ascending=True).plot.barh(y=['anz'],figsize=(16,len(al) / 3.8), color=[color], position = 1.0, grid=True, title='Alarms in not successful Starts');\n",
    "    plt.plot();"
   ]
  },
  {
   "cell_type": "code",
   "execution_count": 33,
   "metadata": {},
   "outputs": [
    {
     "data": {
      "text/plain": [
       "<Figure size 432x288 with 0 Axes>"
      ]
     },
     "metadata": {},
     "output_type": "display_data"
    }
   ],
   "source": [
    "phases = [['start-preparation','starter','hochlauf','idle','synchronize','load-ramp','target-operation'],'start-preparation','starter','hochlauf','idle','synchronize','load-ramp','target-operation']\n",
    "fig = plt.figure();\n",
    "color = 'red'\n",
    "\n",
    "for phase in phases:\n",
    "    al = fsm.alarms_pareto(phase)[:30]\n",
    "    if not al.empty:\n",
    "        al['msg'] = al['msg'] + ' (' + al['name'] + ')'\n",
    "        al.set_index('msg').sort_values(by = \"anz\",ascending=True).plot.barh(y=['anz'],figsize=(16,len(al) / 3.8), color=[color], position = 1.0, grid=True, title=' | '.join(phase) if type(phase) == list else phase);\n",
    "        plt.plot();\n"
   ]
  },
  {
   "cell_type": "code",
   "execution_count": 34,
   "metadata": {},
   "outputs": [
    {
     "data": {
      "text/plain": [
       "<Figure size 432x288 with 0 Axes>"
      ]
     },
     "metadata": {},
     "output_type": "display_data"
    },
    {
     "data": {
      "image/png": "[encoded data removed]",
      "text/plain": [
       "<Figure size 1152x113.684 with 1 Axes>"
      ]
     },
     "metadata": {
      "needs_background": "light"
     },
     "output_type": "display_data"
    },
    {
     "data": {
      "image/png": "[encoded data removed]",
      "text/plain": [
       "<Figure size 1152x18.9474 with 1 Axes>"
      ]
     },
     "metadata": {
      "needs_background": "light"
     },
     "output_type": "display_data"
    },
    {
     "data": {
      "image/png": "[encoded data removed]",
      "text/plain": [
       "<Figure size 1152x18.9474 with 1 Axes>"
      ]
     },
     "metadata": {
      "needs_background": "light"
     },
     "output_type": "display_data"
    },
    {
     "data": {
      "image/png": "[encoded data removed]",
      "text/plain": [
       "<Figure size 1152x18.9474 with 1 Axes>"
      ]
     },
     "metadata": {
      "needs_background": "light"
     },
     "output_type": "display_data"
    },
    {
     "data": {
      "image/png": "[encoded data removed]",
      "text/plain": [
       "<Figure size 1152x56.8421 with 1 Axes>"
      ]
     },
     "metadata": {
      "needs_background": "light"
     },
     "output_type": "display_data"
    },
    {
     "data": {
      "image/png": "[encoded data removed]",
      "text/plain": [
       "<Figure size 1152x56.8421 with 1 Axes>"
      ]
     },
     "metadata": {
      "needs_background": "light"
     },
     "output_type": "display_data"
    }
   ],
   "source": [
    "phases = [['start-preparation','starter','hochlauf','idle','synchronize','load-ramp','target-operation'],'start-preparation','starter','hochlauf','idle','synchronize','load-ramp','target-operation']\n",
    "fig = plt.figure();\n",
    "color = 'orange'\n",
    "\n",
    "for phase in phases:\n",
    "    al = fsm.warnings_pareto(phase)[:30]\n",
    "    if not al.empty:\n",
    "        al['msg'] = al['msg'] + ' (' + al['name'] + ')'\n",
    "        al.set_index('msg').sort_values(by = \"anz\",ascending=True).plot.barh(y=['anz'],figsize=(16,len(al) / 3.8), color=[color], position = 1.0, grid=True, title=' | '.join(phase) if type(phase) == list else phase);\n",
    "        plt.plot();\n"
   ]
  },
  {
   "cell_type": "code",
   "execution_count": 35,
   "metadata": {},
   "outputs": [
    {
     "name": "stdout",
     "output_type": "stream",
     "text": [
      "./data/1486144_messages.txt\n"
     ]
    }
   ],
   "source": [
    "mfn = './data/' + str(e._sn) + '_messages.txt'\n",
    "fsm.save_messages('./data/' + str(e._sn) + '_messages.txt')\n",
    "print(mfn)"
   ]
  },
  {
   "cell_type": "code",
   "execution_count": 36,
   "metadata": {},
   "outputs": [
    {
     "data": {
      "text/plain": [
       "True"
      ]
     },
     "execution_count": 36,
     "metadata": {},
     "output_type": "execute_result"
    }
   ],
   "source": [
    "any(fsm._messages['name'] == '9047')"
   ]
  },
  {
   "cell_type": "code",
   "execution_count": 37,
   "metadata": {},
   "outputs": [],
   "source": [
    "#fsm.store()"
   ]
  }
 ],
 "metadata": {
  "interpreter": {
   "hash": "00e7f18031541dc25b2d1c6c1f90e0b122a906b1440859c87878a4f6b4e1a002"
  },
  "kernelspec": {
   "display_name": "Python 3.8.5 ('base')",
   "language": "python",
   "name": "python3"
  },
  "language_info": {
   "codemirror_mode": {
    "name": "ipython",
    "version": 3
   },
   "file_extension": ".py",
   "mimetype": "text/x-python",
   "name": "python",
   "nbconvert_exporter": "python",
   "pygments_lexer": "ipython3",
   "version": "3.8.5"
  },
  "orig_nbformat": 4
 },
 "nbformat": 4,
 "nbformat_minor": 2
}
