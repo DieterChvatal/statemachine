{
  "cells": [
    {
      "cell_type": "markdown",
      "metadata": {},
      "source": [
        "# Finite State Machine Analysis"
      ]
    },
    {
      "cell_type": "code",
      "execution_count": 1,
      "metadata": {},
      "outputs": [],
      "source": [
        "import pandas as pd\n",
        "import numpy as np\n",
        "import matplotlib.pyplot as plt\n",
        "from pprint import (pprint as pp, pformat as pf)\n",
        "import warnings\n",
        "warnings.simplefilter(action='ignore', category=UserWarning)\n",
        "\n",
        "import dmyplant2\n",
        "dmyplant2.cred()\n",
        "mp = dmyplant2.MyPlant(3600)"
      ]
    },
    {
      "cell_type": "markdown",
      "metadata": {},
      "source": [
        "### Filter Engines from installed fleet "
      ]
    },
    {
      "cell_type": "code",
      "execution_count": 2,
      "metadata": {},
      "outputs": [],
      "source": [
        "def sfun(x):\n",
        "    #return ((\"Forsa Hartmoor\" in str(x['IB Site Name'])) and \n",
        "    return ((\"Landshut\" in str(x['IB Site Name'])) and \n",
        "        (x['OperationalCondition'] != 'Decommissioned') and\n",
        "        (x['Engine ID'] == 'M4'))\n",
        "\n",
        "res = mp.search_installed_fleet(sfun)\n",
        "res = res.sort_values(by = \"Engine ID\",ascending=True)\n",
        "res.T;"
      ]
    },
    {
      "cell_type": "code",
      "execution_count": 3,
      "metadata": {},
      "outputs": [],
      "source": [
        "#dval = mp.def_from_installed_fleet(res)\n",
        "#dval.T"
      ]
    },
    {
      "cell_type": "code",
      "execution_count": 4,
      "metadata": {},
      "outputs": [],
      "source": [
        "# Ammerlaan Flowers 2, J420 Frage von David Sepulveda Lopez\n",
        "#e=dmyplant2.Engine.from_sn(mp,5640011)\n",
        "#dval.iloc[0]['serialNumber']\n",
        "#e=dmyplant2.Engine.from_sn(mp,dval.iloc[0]['serialNumber'])\n",
        "e=dmyplant2.Engine.from_fleet(mp,res.iloc[0])"
      ]
    },
    {
      "cell_type": "code",
      "execution_count": 5,
      "metadata": {},
      "outputs": [
        {
          "data": {
            "text/html": [
              "<div>\n",
              "<style scoped>\n",
              "    .dataframe tbody tr th:only-of-type {\n",
              "        vertical-align: middle;\n",
              "    }\n",
              "\n",
              "    .dataframe tbody tr th {\n",
              "        vertical-align: top;\n",
              "    }\n",
              "\n",
              "    .dataframe thead th {\n",
              "        text-align: right;\n",
              "    }\n",
              "</style>\n",
              "<table border=\"1\" class=\"dataframe\">\n",
              "  <thead>\n",
              "    <tr style=\"text-align: right;\">\n",
              "      <th></th>\n",
              "      <th>Name</th>\n",
              "      <th>Engine ID</th>\n",
              "      <th>Design Number</th>\n",
              "      <th>Engine Type</th>\n",
              "      <th>Engine Version</th>\n",
              "      <th>P</th>\n",
              "      <th>P_nom</th>\n",
              "      <th>BMEP</th>\n",
              "      <th>serialNumber</th>\n",
              "      <th>id</th>\n",
              "      <th>Count_OpHour</th>\n",
              "      <th>val start</th>\n",
              "      <th>oph@start</th>\n",
              "      <th>oph parts</th>\n",
              "      <th>LOC</th>\n",
              "    </tr>\n",
              "  </thead>\n",
              "  <tbody>\n",
              "    <tr>\n",
              "      <th>0</th>\n",
              "      <td>BMW Landshut 4.10 M4</td>\n",
              "      <td>M4</td>\n",
              "      <td>U781</td>\n",
              "      <td>624</td>\n",
              "      <td>H01</td>\n",
              "      <td>24</td>\n",
              "      <td>4587.2</td>\n",
              "      <td>24.5</td>\n",
              "      <td>1320072</td>\n",
              "      <td>117617</td>\n",
              "      <td>18018.0</td>\n",
              "      <td>2019-01-09</td>\n",
              "      <td>1384</td>\n",
              "      <td>16634</td>\n",
              "      <td>0.081</td>\n",
              "    </tr>\n",
              "  </tbody>\n",
              "</table>\n",
              "</div>"
            ],
            "text/plain": [
              "                   Name Engine ID Design Number Engine Type Engine Version  \\\n",
              "0  BMW Landshut 4.10 M4        M4          U781         624            H01   \n",
              "\n",
              "    P   P_nom  BMEP serialNumber      id Count_OpHour  val start oph@start  \\\n",
              "0  24  4587.2  24.5      1320072  117617      18018.0 2019-01-09      1384   \n",
              "\n",
              "  oph parts    LOC  \n",
              "0     16634  0.081  "
            ]
          },
          "execution_count": 5,
          "metadata": {},
          "output_type": "execute_result"
        }
      ],
      "source": [
        "pd.DataFrame.from_dict(e.dash, orient='index').T"
      ]
    },
    {
      "cell_type": "code",
      "execution_count": 6,
      "metadata": {},
      "outputs": [
        {
          "name": "stdout",
          "output_type": "stream",
          "text": [
            "Calculating '9047 target load reached' Message.\n",
            "load ramp assumed to 0.72 %/sec based on rP_Ramp_Set Parameter\n"
          ]
        },
        {
          "name": "stderr",
          "output_type": "stream",
          "text": [
            "FSM: 100%|██████████████████████| 41623/41623 [00:03<00:00, 11823.38 messages/s]\n"
          ]
        }
      ],
      "source": [
        "from dfsm import msgFSM\n",
        "fsm_data = []\n",
        "#fsm = msgFSM(e, skip_day=7)\n",
        "#fsm = msgFSM(e, p_from='2022-01-11')\n",
        "fsm = msgFSM(e, p_from='2021-01-01')\n",
        "fsm.run() # run Finite State Machine\n",
        "fsm_data.append({'engine':e, 'fsm':fsm})"
      ]
    },
    {
      "cell_type": "code",
      "execution_count": 7,
      "metadata": {},
      "outputs": [
        {
          "name": "stdout",
          "output_type": "stream",
          "text": [
            "\n",
            "*****************************************\n",
            "** 1320072 BMW Landshut 4.10 M4 **\n",
            "*****************************************\n",
            "Meldung   '9047 target load reached' wird berechnet.\n",
            "Zeitraum : 01.01.2021 bis 23.02.2022\n",
            "Dauer    :   418 Tage\n",
            "GESAMT   :   348 Starts,   288 erfolgreich => 82.8 % der Starts erfolgreich.\n",
            "???      :     1 Starts,     0 erfolgreich => 0.0 % der Starts erfolgreich.\n",
            "OFF      :     7 Starts,     3 erfolgreich => 42.9 % der Starts erfolgreich.\n",
            "MANUAL   :    19 Starts,     4 erfolgreich => 21.1 % der Starts erfolgreich.\n",
            "AUTO     :   321 Starts,   281 erfolgreich => 87.5 % der Starts erfolgreich.\n"
          ]
        }
      ],
      "source": [
        "res = fsm_data[0]\n",
        "res['result'] = pd.DataFrame(fsm_data[0]['fsm']._starts)\n",
        "print(f\"\"\"\n",
        "*****************************************\n",
        "** {str(res['engine'])} **\n",
        "*****************************************\"\"\")\n",
        "print(f\"{'Meldung':9} '{'9047 target load reached'}' {'gefunden.' if any(res['fsm']._messages['name'] == '9047') else 'wird berechnet.'}\")\n",
        "print(f\"{'Zeitraum':9}: {res['fsm'].first_message:%d.%m.%Y} bis {res['fsm'].last_message:%d.%m.%Y}\")\n",
        "print(f\"{'Dauer':9}: {res['fsm'].period.days:5} Tage\")\n",
        "print(f\"{'GESAMT':9}: {res['result'].shape[0]:5} Starts, {res['result'][res['result'].success].shape[0]:5} erfolgreich => {(res['result'][res['result'].success].shape[0] / res['result'].shape[0]) * 100.0:3.1f} % der Starts erfolgreich.\")\n",
        "for mode in ['???','OFF','MANUAL', 'AUTO']:\n",
        "    lstarts = res['result'][res['result']['mode'] == mode].shape[0]\n",
        "    successful_starts = res['result'][((res['result'].success) & (res['result']['mode'] == mode))].shape[0]\n",
        "    print(f\"{mode:9}: {lstarts:5} Starts, {successful_starts:5} erfolgreich => {(successful_starts / lstarts) * 100.0 if lstarts != 0 else 0.0:3.1f} % der Starts erfolgreich.\")\n",
        "#res['filtered_result'][['startpreparation','starter','hochlauf','idle','synchronize','cumstarttime','loadramp','targetoperation']].hist(figsize = (20,12), bins=50, layout=(3,3));"
      ]
    },
    {
      "cell_type": "code",
      "execution_count": 8,
      "metadata": {},
      "outputs": [
        {
          "name": "stdout",
          "output_type": "stream",
          "text": [
            "von:2021-08-24 12:00:00 = 1629806400 bis:2021-08-24 23:59:00 = 1629849540\n"
          ]
        }
      ],
      "source": [
        "#von_dt=fsm.first_message\n",
        "von_dt=pd.to_datetime('2021-08-24 12')\n",
        "#von=1595464000276\n",
        "von=int(von_dt.timestamp())\n",
        "\n",
        "#bis_dt=fsm.last_message\n",
        "bis_dt=pd.to_datetime('2021-08-24 23:59')\n",
        "#bis=1595546801847\n",
        "bis=int(bis_dt.timestamp())\n",
        "\n",
        "cycle = 1 #sec.\n",
        "data = fsm.get_period_data(von, bis, cycletime=cycle)\n",
        "#data;\n",
        "print(f\"von:{von_dt} = {von} bis:{bis_dt} = {bis}\")\n"
      ]
    },
    {
      "cell_type": "code",
      "execution_count": null,
      "metadata": {},
      "outputs": [],
      "source": []
    },
    {
      "cell_type": "code",
      "execution_count": 13,
      "metadata": {},
      "outputs": [
        {
          "data": {
            "image/png": "[encoded data removed]",
            "text/plain": [
              "<Figure size 432x288 with 2 Axes>"
            ]
          },
          "metadata": {
            "needs_background": "light"
          },
          "output_type": "display_data"
        }
      ],
      "source": [
        "data = fsm.get_ts_data(1595546801847)\n",
        "fsm._plot(data)\n",
        "plt.show()"
      ]
    },
    {
      "cell_type": "code",
      "execution_count": 10,
      "metadata": {},
      "outputs": [
        {
          "data": {
            "application/javascript": "\n(function(root) {\n  function now() {\n    return new Date();\n  }\n\n  const force = true;\n\n  if (typeof root._bokeh_onload_callbacks === \"undefined\" || force === true) {\n    root._bokeh_onload_callbacks = [];\n    root._bokeh_is_loading = undefined;\n  }\n\n  const JS_MIME_TYPE = 'application/javascript';\n  const HTML_MIME_TYPE = 'text/html';\n  const EXEC_MIME_TYPE = 'application/vnd.bokehjs_exec.v0+json';\n  const CLASS_NAME = 'output_bokeh rendered_html';\n\n  /**\n   * Render data to the DOM node\n   */\n  function render(props, node) {\n    const script = document.createElement(\"script\");\n    node.appendChild(script);\n  }\n\n  /**\n   * Handle when an output is cleared or removed\n   */\n  function handleClearOutput(event, handle) {\n    const cell = handle.cell;\n\n    const id = cell.output_area._bokeh_element_id;\n    const server_id = cell.output_area._bokeh_server_id;\n    // Clean up Bokeh references\n    if (id != null && id in Bokeh.index) {\n      Bokeh.index[id].model.document.clear();\n      delete Bokeh.index[id];\n    }\n\n    if (server_id !== undefined) {\n      // Clean up Bokeh references\n      const cmd_clean = \"from bokeh.io.state import curstate; print(curstate().uuid_to_server['\" + server_id + \"'].get_sessions()[0].document.roots[0]._id)\";\n      cell.notebook.kernel.execute(cmd_clean, {\n        iopub: {\n          output: function(msg) {\n            const id = msg.content.text.trim();\n            if (id in Bokeh.index) {\n              Bokeh.index[id].model.document.clear();\n              delete Bokeh.index[id];\n            }\n          }\n        }\n      });\n      // Destroy server and session\n      const cmd_destroy = \"import bokeh.io.notebook as ion; ion.destroy_server('\" + server_id + \"')\";\n      cell.notebook.kernel.execute(cmd_destroy);\n    }\n  }\n\n  /**\n   * Handle when a new output is added\n   */\n  function handleAddOutput(event, handle) {\n    const output_area = handle.output_area;\n    const output = handle.output;\n\n    // limit handleAddOutput to display_data with EXEC_MIME_TYPE content only\n    if ((output.output_type != \"display_data\") || (!Object.prototype.hasOwnProperty.call(output.data, EXEC_MIME_TYPE))) {\n      return\n    }\n\n    const toinsert = output_area.element.find(\".\" + CLASS_NAME.split(' ')[0]);\n\n    if (output.metadata[EXEC_MIME_TYPE][\"id\"] !== undefined) {\n      toinsert[toinsert.length - 1].firstChild.textContent = output.data[JS_MIME_TYPE];\n      // store reference to embed id on output_area\n      output_area._bokeh_element_id = output.metadata[EXEC_MIME_TYPE][\"id\"];\n    }\n    if (output.metadata[EXEC_MIME_TYPE][\"server_id\"] !== undefined) {\n      const bk_div = document.createElement(\"div\");\n      bk_div.innerHTML = output.data[HTML_MIME_TYPE];\n      const script_attrs = bk_div.children[0].attributes;\n      for (let i = 0; i < script_attrs.length; i++) {\n        toinsert[toinsert.length - 1].firstChild.setAttribute(script_attrs[i].name, script_attrs[i].value);\n        toinsert[toinsert.length - 1].firstChild.textContent = bk_div.children[0].textContent\n      }\n      // store reference to server id on output_area\n      output_area._bokeh_server_id = output.metadata[EXEC_MIME_TYPE][\"server_id\"];\n    }\n  }\n\n  function register_renderer(events, OutputArea) {\n\n    function append_mime(data, metadata, element) {\n      // create a DOM node to render to\n      const toinsert = this.create_output_subarea(\n        metadata,\n        CLASS_NAME,\n        EXEC_MIME_TYPE\n      );\n      this.keyboard_manager.register_events(toinsert);\n      // Render to node\n      const props = {data: data, metadata: metadata[EXEC_MIME_TYPE]};\n      render(props, toinsert[toinsert.length - 1]);\n      element.append(toinsert);\n      return toinsert\n    }\n\n    /* Handle when an output is cleared or removed */\n    events.on('clear_output.CodeCell', handleClearOutput);\n    events.on('delete.Cell', handleClearOutput);\n\n    /* Handle when a new output is added */\n    events.on('output_added.OutputArea', handleAddOutput);\n\n    /**\n     * Register the mime type and append_mime function with output_area\n     */\n    OutputArea.prototype.register_mime_type(EXEC_MIME_TYPE, append_mime, {\n      /* Is output safe? */\n      safe: true,\n      /* Index of renderer in `output_area.display_order` */\n      index: 0\n    });\n  }\n\n  // register the mime type if in Jupyter Notebook environment and previously unregistered\n  if (root.Jupyter !== undefined) {\n    const events = require('base/js/events');\n    const OutputArea = require('notebook/js/outputarea').OutputArea;\n\n    if (OutputArea.prototype.mime_types().indexOf(EXEC_MIME_TYPE) == -1) {\n      register_renderer(events, OutputArea);\n    }\n  }\n\n  \n  if (typeof (root._bokeh_timeout) === \"undefined\" || force === true) {\n    root._bokeh_timeout = Date.now() + 5000;\n    root._bokeh_failed_load = false;\n  }\n\n  const NB_LOAD_WARNING = {'data': {'text/html':\n     \"<div style='background-color: #fdd'>\\n\"+\n     \"<p>\\n\"+\n     \"BokehJS does not appear to have successfully loaded. If loading BokehJS from CDN, this \\n\"+\n     \"may be due to a slow or bad network connection. Possible fixes:\\n\"+\n     \"</p>\\n\"+\n     \"<ul>\\n\"+\n     \"<li>re-rerun `output_notebook()` to attempt to load from CDN again, or</li>\\n\"+\n     \"<li>use INLINE resources instead, as so:</li>\\n\"+\n     \"</ul>\\n\"+\n     \"<code>\\n\"+\n     \"from bokeh.resources import INLINE\\n\"+\n     \"output_notebook(resources=INLINE)\\n\"+\n     \"</code>\\n\"+\n     \"</div>\"}};\n\n  function display_loaded() {\n    const el = document.getElementById(null);\n    if (el != null) {\n      el.textContent = \"BokehJS is loading...\";\n    }\n    if (root.Bokeh !== undefined) {\n      if (el != null) {\n        el.textContent = \"BokehJS \" + root.Bokeh.version + \" successfully loaded.\";\n      }\n    } else if (Date.now() < root._bokeh_timeout) {\n      setTimeout(display_loaded, 100)\n    }\n  }\n\n\n  function run_callbacks() {\n    try {\n      root._bokeh_onload_callbacks.forEach(function(callback) {\n        if (callback != null)\n          callback();\n      });\n    } finally {\n      delete root._bokeh_onload_callbacks\n    }\n    console.debug(\"Bokeh: all callbacks have finished\");\n  }\n\n  function load_libs(css_urls, js_urls, callback) {\n    if (css_urls == null) css_urls = [];\n    if (js_urls == null) js_urls = [];\n\n    root._bokeh_onload_callbacks.push(callback);\n    if (root._bokeh_is_loading > 0) {\n      console.debug(\"Bokeh: BokehJS is being loaded, scheduling callback at\", now());\n      return null;\n    }\n    if (js_urls == null || js_urls.length === 0) {\n      run_callbacks();\n      return null;\n    }\n    console.debug(\"Bokeh: BokehJS not loaded, scheduling load and callback at\", now());\n    root._bokeh_is_loading = css_urls.length + js_urls.length;\n\n    function on_load() {\n      root._bokeh_is_loading--;\n      if (root._bokeh_is_loading === 0) {\n        console.debug(\"Bokeh: all BokehJS libraries/stylesheets loaded\");\n        run_callbacks()\n      }\n    }\n\n    function on_error(url) {\n      console.error(\"failed to load \" + url);\n    }\n\n    for (let i = 0; i < css_urls.length; i++) {\n      const url = css_urls[i];\n      const element = document.createElement(\"link\");\n      element.onload = on_load;\n      element.onerror = on_error.bind(null, url);\n      element.rel = \"stylesheet\";\n      element.type = \"text/css\";\n      element.href = url;\n      console.debug(\"Bokeh: injecting link tag for BokehJS stylesheet: \", url);\n      document.body.appendChild(element);\n    }\n\n    for (let i = 0; i < js_urls.length; i++) {\n      const url = js_urls[i];\n      const element = document.createElement('script');\n      element.onload = on_load;\n      element.onerror = on_error.bind(null, url);\n      element.async = false;\n      element.src = url;\n      console.debug(\"Bokeh: injecting script tag for BokehJS library: \", url);\n      document.head.appendChild(element);\n    }\n  };\n\n  function inject_raw_css(css) {\n    const element = document.createElement(\"style\");\n    element.appendChild(document.createTextNode(css));\n    document.body.appendChild(element);\n  }\n\n  \n  const js_urls = [\"https://cdn.bokeh.org/bokeh/release/bokeh-2.4.1.min.js\", \"https://cdn.bokeh.org/bokeh/release/bokeh-gl-2.4.1.min.js\", \"https://cdn.bokeh.org/bokeh/release/bokeh-widgets-2.4.1.min.js\", \"https://cdn.bokeh.org/bokeh/release/bokeh-tables-2.4.1.min.js\", \"https://cdn.bokeh.org/bokeh/release/bokeh-mathjax-2.4.1.min.js\"];\n  const css_urls = [];\n  \n\n  const inline_js = [\n    function(Bokeh) {\n      Bokeh.set_log_level(\"info\");\n    },\n    function(Bokeh) {\n    \n    \n    }\n  ];\n\n  function run_inline_js() {\n    \n    if (root.Bokeh !== undefined || force === true) {\n      \n    for (let i = 0; i < inline_js.length; i++) {\n      inline_js[i].call(root, root.Bokeh);\n    }\n    } else if (Date.now() < root._bokeh_timeout) {\n      setTimeout(run_inline_js, 100);\n    } else if (!root._bokeh_failed_load) {\n      console.log(\"Bokeh: BokehJS failed to load within specified timeout.\");\n      root._bokeh_failed_load = true;\n    } else if (force !== true) {\n      const cell = $(document.getElementById(null)).parents('.cell').data().cell;\n      cell.output_area.append_execute_result(NB_LOAD_WARNING)\n    }\n\n  }\n\n  if (root._bokeh_is_loading === 0) {\n    console.debug(\"Bokeh: BokehJS loaded, going straight to plotting\");\n    run_inline_js();\n  } else {\n    load_libs(css_urls, js_urls, function() {\n      console.debug(\"Bokeh: BokehJS plotting callback run at\", now());\n      run_inline_js();\n    });\n  }\n}(window));",
            "application/vnd.bokehjs_load.v0+json": ""
          },
          "metadata": {},
          "output_type": "display_data"
        },
        {
          "data": {
            "text/html": [
              "\n",
              "\n",
              "\n",
              "\n",
              "\n",
              "\n",
              "  <div class=\"bk-root\" id=\"a688068a-b646-474b-bcad-4cb6e171de6e\" data-root-id=\"1003\"></div>\n"
            ]
          },
          "metadata": {},
          "output_type": "display_data"
        },
        {
          "data": {
            "application/javascript": "(function(root) {\n  function embed_document(root) {\n    \n  const docs_json = {\"f2704125-b899-41f5-b10b-73cde2a89d6c\":{\"defs\":[],\"roots\":{\"references\":[{\"attributes\":{\"below\":[{\"id\":\"1012\"}],\"center\":[{\"id\":\"1015\"},{\"id\":\"1019\"},{\"id\":\"1068\"}],\"extra_y_ranges\":{\"0\":{\"id\":\"1037\"},\"1\":{\"id\":\"1071\"}},\"height\":640,\"left\":[{\"id\":\"1016\"},{\"id\":\"1070\"},{\"id\":\"1106\"}],\"renderers\":[{\"id\":\"1042\"},{\"id\":\"1076\"}],\"title\":{\"id\":\"1044\"},\"toolbar\":{\"id\":\"1029\"},\"width\":960,\"x_range\":{\"id\":\"1004\"},\"x_scale\":{\"id\":\"1008\"},\"y_range\":{\"id\":\"1006\"},\"y_scale\":{\"id\":\"1010\"}},\"id\":\"1003\",\"subtype\":\"Figure\",\"type\":\"Plot\"},{\"attributes\":{},\"id\":\"1024\",\"type\":\"UndoTool\"},{\"attributes\":{\"months\":[0,6]},\"id\":\"1066\",\"type\":\"MonthsTicker\"},{\"attributes\":{\"axis\":{\"id\":\"1012\"},\"coordinates\":null,\"group\":null,\"ticker\":null},\"id\":\"1015\",\"type\":\"Grid\"},{\"attributes\":{},\"id\":\"1008\",\"type\":\"LinearScale\"},{\"attributes\":{\"days\":[1,15]},\"id\":\"1062\",\"type\":\"DaysTicker\"},{\"attributes\":{\"days\":[1,4,7,10,13,16,19,22,25,28]},\"id\":\"1060\",\"type\":\"DaysTicker\"},{\"attributes\":{\"overlay\":{\"id\":\"1028\"}},\"id\":\"1021\",\"type\":\"BoxZoomTool\"},{\"attributes\":{\"line_color\":\"#ff7f0e\",\"line_width\":2,\"x\":{\"field\":\"datetime\"},\"y\":{\"field\":\"Power_PowerAct\"}},\"id\":\"1039\",\"type\":\"Line\"},{\"attributes\":{\"days\":[1,8,15,22]},\"id\":\"1061\",\"type\":\"DaysTicker\"},{\"attributes\":{\"callback\":null,\"formatters\":{\"@datetime\":\"datetime\"},\"tooltips\":[[\"Datetime\",\"@datetime{%F %T}\"],[\"Power_PowerAct\",\"@{Power_PowerAct}{0.2 f} \"],[\"Various_Values_SpeedAct\",\"@{Various_Values_SpeedAct}{0.2 f} \"]]},\"id\":\"1107\",\"type\":\"HoverTool\"},{\"attributes\":{},\"id\":\"1050\",\"type\":\"DatetimeTickFormatter\"},{\"attributes\":{\"coordinates\":null,\"formatter\":{\"id\":\"1050\"},\"group\":null,\"major_label_policy\":{\"id\":\"1051\"},\"ticker\":{\"id\":\"1013\"}},\"id\":\"1012\",\"type\":\"DatetimeAxis\"},{\"attributes\":{},\"id\":\"1010\",\"type\":\"LinearScale\"},{\"attributes\":{},\"id\":\"1017\",\"type\":\"BasicTicker\"},{\"attributes\":{\"days\":[1,2,3,4,5,6,7,8,9,10,11,12,13,14,15,16,17,18,19,20,21,22,23,24,25,26,27,28,29,30,31]},\"id\":\"1059\",\"type\":\"DaysTicker\"},{\"attributes\":{\"months\":[0,1,2,3,4,5,6,7,8,9,10,11]},\"id\":\"1063\",\"type\":\"MonthsTicker\"},{\"attributes\":{\"end\":2500},\"id\":\"1071\",\"type\":\"Range1d\"},{\"attributes\":{\"coordinates\":null,\"group\":null,\"text\":\"1320072 BMW Landshut 4.10 M4\",\"text_font_size\":\"20px\"},\"id\":\"1044\",\"type\":\"Title\"},{\"attributes\":{\"base\":24,\"mantissas\":[1,2,4,6,8,12],\"max_interval\":43200000.0,\"min_interval\":3600000.0,\"num_minor_ticks\":0},\"id\":\"1058\",\"type\":\"AdaptiveTicker\"},{\"attributes\":{},\"id\":\"1085\",\"type\":\"AllLabels\"},{\"attributes\":{},\"id\":\"1067\",\"type\":\"YearsTicker\"},{\"attributes\":{\"line_color\":\"#d62728\",\"line_width\":2,\"x\":{\"field\":\"datetime\"},\"y\":{\"field\":\"Various_Values_SpeedAct\"}},\"id\":\"1073\",\"type\":\"Line\"},{\"attributes\":{},\"id\":\"1051\",\"type\":\"AllLabels\"},{\"attributes\":{\"mantissas\":[1,2,5],\"max_interval\":500.0,\"num_minor_ticks\":0},\"id\":\"1056\",\"type\":\"AdaptiveTicker\"},{\"attributes\":{\"axis\":{\"id\":\"1016\"},\"coordinates\":null,\"dimension\":1,\"group\":null,\"ticker\":null},\"id\":\"1019\",\"type\":\"Grid\"},{\"attributes\":{\"base\":60,\"mantissas\":[1,2,5,10,15,20,30],\"max_interval\":1800000.0,\"min_interval\":1000.0,\"num_minor_ticks\":0},\"id\":\"1057\",\"type\":\"AdaptiveTicker\"},{\"attributes\":{},\"id\":\"1084\",\"type\":\"BasicTickFormatter\"},{\"attributes\":{},\"id\":\"1047\",\"type\":\"BasicTickFormatter\"},{\"attributes\":{\"axis_label\":\"Various_Values_SpeedAct []\",\"axis_label_text_color\":\"#d62728\",\"coordinates\":null,\"formatter\":{\"id\":\"1118\"},\"group\":null,\"major_label_policy\":{\"id\":\"1119\"},\"ticker\":{\"id\":\"1117\"},\"y_range_name\":\"1\"},\"id\":\"1106\",\"type\":\"LinearAxis\"},{\"attributes\":{\"active_scroll\":null,\"tools\":[{\"id\":\"1020\"},{\"id\":\"1021\"},{\"id\":\"1022\"},{\"id\":\"1023\"},{\"id\":\"1024\"},{\"id\":\"1025\"},{\"id\":\"1026\"},{\"id\":\"1107\"}]},\"id\":\"1029\",\"type\":\"Toolbar\"},{\"attributes\":{},\"id\":\"1004\",\"type\":\"DataRange1d\"},{\"attributes\":{\"source\":{\"id\":\"1002\"}},\"id\":\"1077\",\"type\":\"CDSView\"},{\"attributes\":{\"data\":{\"Power_PowerAct\":{\"__ndarray__\":\"AAAAAAAAAAAAAAAAAAAAAAAAAAAAAAAAAAAAAAAAAAAAAAAAAAAAAAAAAAAAAAAAAAAAAAAAAAAAAAAAAAAAAAAAAAAAAAAAAAAAAAAAAAAAAAAAAAAAAAAAAAAAAAAAAAAAAAAAAAAAAAAAAAAAAAAAAAAAAAAAAAAAAAAAAAAAAAAAAAAAAA==\",\"dtype\":\"float64\",\"order\":\"little\",\"shape\":[17]},\"Various_Values_SpeedAct\":{\"__ndarray__\":\"AAAAAAAAAAAAAAAAAAAAAAAAAAAAAAAAAAAAAAAAAAAAAAAAAAAAAAAAAAAAAAAAAAAAAAAAAAAAAAAAAAAAAAAAAAAAAAAAAAAAAAAAAAAAAAAAAAAAAAAAAAAAAAAAAAAAAAAAAAAAAAAAAAAAAAAAAAAAAAAAAAAAAAAAAAAAAAAAAAAAAA==\",\"dtype\":\"float64\",\"order\":\"little\",\"shape\":[17]},\"datetime\":{\"__ndarray__\":\"AID4t983d0IAAJy83zd3QgAA78PfN3dCAABCy983d0IAAJXS3zd3QgAA6NnfN3dCAAA74d83d0IAAI7o3zd3QgAA4e/fN3dCAAA09983d0IAAIf+3zd3QgAA2gXgN3dCAAAtDeA3d0IAAIAU4Dd3QgAA0xvgN3dCAAAmI+A3d0IAgNUl4Dd3Qg==\",\"dtype\":\"float64\",\"order\":\"little\",\"shape\":[17]},\"index\":[0,1,2,3,4,5,6,7,8,9,10,11,12,13,14,15,16],\"time\":[1595546501000,1595546520000,1595546550000,1595546580000,1595546610000,1595546640000,1595546670000,1595546700000,1595546730000,1595546760000,1595546790000,1595546820000,1595546850000,1595546880000,1595546910000,1595546940000,1595546951000]},\"selected\":{\"id\":\"1053\"},\"selection_policy\":{\"id\":\"1052\"}},\"id\":\"1002\",\"type\":\"ColumnDataSource\"},{\"attributes\":{\"coordinates\":null,\"data_source\":{\"id\":\"1002\"},\"glyph\":{\"id\":\"1073\"},\"group\":null,\"hover_glyph\":null,\"muted_glyph\":{\"id\":\"1075\"},\"nonselection_glyph\":{\"id\":\"1074\"},\"view\":{\"id\":\"1077\"},\"y_range_name\":\"1\"},\"id\":\"1076\",\"type\":\"GlyphRenderer\"},{\"attributes\":{},\"id\":\"1052\",\"type\":\"UnionRenderers\"},{\"attributes\":{\"months\":[0,2,4,6,8,10]},\"id\":\"1064\",\"type\":\"MonthsTicker\"},{\"attributes\":{},\"id\":\"1118\",\"type\":\"BasicTickFormatter\"},{\"attributes\":{\"line_alpha\":0.2,\"line_color\":\"#d62728\",\"line_width\":2,\"x\":{\"field\":\"datetime\"},\"y\":{\"field\":\"Various_Values_SpeedAct\"}},\"id\":\"1075\",\"type\":\"Line\"},{\"attributes\":{\"line_alpha\":0.1,\"line_color\":\"#d62728\",\"line_width\":2,\"x\":{\"field\":\"datetime\"},\"y\":{\"field\":\"Various_Values_SpeedAct\"}},\"id\":\"1074\",\"type\":\"Line\"},{\"attributes\":{},\"id\":\"1006\",\"type\":\"DataRange1d\"},{\"attributes\":{\"source\":{\"id\":\"1002\"}},\"id\":\"1043\",\"type\":\"CDSView\"},{\"attributes\":{\"overlay\":{\"id\":\"1027\"}},\"id\":\"1023\",\"type\":\"BoxSelectTool\"},{\"attributes\":{\"coordinates\":null,\"formatter\":{\"id\":\"1047\"},\"group\":null,\"major_label_policy\":{\"id\":\"1048\"},\"ticker\":{\"id\":\"1017\"},\"visible\":false},\"id\":\"1016\",\"type\":\"LinearAxis\"},{\"attributes\":{\"num_minor_ticks\":5,\"tickers\":[{\"id\":\"1056\"},{\"id\":\"1057\"},{\"id\":\"1058\"},{\"id\":\"1059\"},{\"id\":\"1060\"},{\"id\":\"1061\"},{\"id\":\"1062\"},{\"id\":\"1063\"},{\"id\":\"1064\"},{\"id\":\"1065\"},{\"id\":\"1066\"},{\"id\":\"1067\"}]},\"id\":\"1013\",\"type\":\"DatetimeTicker\"},{\"attributes\":{\"label\":{\"value\":\"Various_Values_SpeedAct\"},\"renderers\":[{\"id\":\"1076\"}]},\"id\":\"1105\",\"type\":\"LegendItem\"},{\"attributes\":{\"end\":5000},\"id\":\"1037\",\"type\":\"Range1d\"},{\"attributes\":{\"line_alpha\":0.2,\"line_color\":\"#ff7f0e\",\"line_width\":2,\"x\":{\"field\":\"datetime\"},\"y\":{\"field\":\"Power_PowerAct\"}},\"id\":\"1041\",\"type\":\"Line\"},{\"attributes\":{\"axis_label\":\"Power_PowerAct []\",\"axis_label_text_color\":\"#ff7f0e\",\"coordinates\":null,\"formatter\":{\"id\":\"1084\"},\"group\":null,\"major_label_policy\":{\"id\":\"1085\"},\"ticker\":{\"id\":\"1083\"},\"y_range_name\":\"0\"},\"id\":\"1070\",\"type\":\"LinearAxis\"},{\"attributes\":{\"coordinates\":null,\"data_source\":{\"id\":\"1002\"},\"glyph\":{\"id\":\"1039\"},\"group\":null,\"hover_glyph\":null,\"muted_glyph\":{\"id\":\"1041\"},\"nonselection_glyph\":{\"id\":\"1040\"},\"view\":{\"id\":\"1043\"},\"y_range_name\":\"0\"},\"id\":\"1042\",\"type\":\"GlyphRenderer\"},{\"attributes\":{},\"id\":\"1119\",\"type\":\"AllLabels\"},{\"attributes\":{\"dimensions\":\"width\"},\"id\":\"1022\",\"type\":\"WheelZoomTool\"},{\"attributes\":{\"click_policy\":\"hide\",\"coordinates\":null,\"group\":null,\"items\":[{\"id\":\"1069\"},{\"id\":\"1105\"}],\"location\":\"top_left\"},\"id\":\"1068\",\"type\":\"Legend\"},{\"attributes\":{\"label\":{\"value\":\"Power_PowerAct\"},\"renderers\":[{\"id\":\"1042\"}]},\"id\":\"1069\",\"type\":\"LegendItem\"},{\"attributes\":{\"bottom_units\":\"screen\",\"coordinates\":null,\"fill_alpha\":0.5,\"fill_color\":\"lightgrey\",\"group\":null,\"left_units\":\"screen\",\"level\":\"overlay\",\"line_alpha\":1.0,\"line_color\":\"black\",\"line_dash\":[4,4],\"line_width\":2,\"right_units\":\"screen\",\"syncable\":false,\"top_units\":\"screen\"},\"id\":\"1028\",\"type\":\"BoxAnnotation\"},{\"attributes\":{},\"id\":\"1083\",\"type\":\"BasicTicker\"},{\"attributes\":{},\"id\":\"1117\",\"type\":\"BasicTicker\"},{\"attributes\":{\"months\":[0,4,8]},\"id\":\"1065\",\"type\":\"MonthsTicker\"},{\"attributes\":{},\"id\":\"1048\",\"type\":\"AllLabels\"},{\"attributes\":{},\"id\":\"1020\",\"type\":\"PanTool\"},{\"attributes\":{},\"id\":\"1053\",\"type\":\"Selection\"},{\"attributes\":{\"line_alpha\":0.1,\"line_color\":\"#ff7f0e\",\"line_width\":2,\"x\":{\"field\":\"datetime\"},\"y\":{\"field\":\"Power_PowerAct\"}},\"id\":\"1040\",\"type\":\"Line\"},{\"attributes\":{\"bottom_units\":\"screen\",\"coordinates\":null,\"fill_alpha\":0.5,\"fill_color\":\"lightgrey\",\"group\":null,\"left_units\":\"screen\",\"level\":\"overlay\",\"line_alpha\":1.0,\"line_color\":\"black\",\"line_dash\":[4,4],\"line_width\":2,\"right_units\":\"screen\",\"syncable\":false,\"top_units\":\"screen\"},\"id\":\"1027\",\"type\":\"BoxAnnotation\"},{\"attributes\":{},\"id\":\"1025\",\"type\":\"ResetTool\"},{\"attributes\":{},\"id\":\"1026\",\"type\":\"SaveTool\"}],\"root_ids\":[\"1003\"]},\"title\":\"Bokeh Application\",\"version\":\"2.4.1\"}};\n  const render_items = [{\"docid\":\"f2704125-b899-41f5-b10b-73cde2a89d6c\",\"root_ids\":[\"1003\"],\"roots\":{\"1003\":\"a688068a-b646-474b-bcad-4cb6e171de6e\"}}];\n  root.Bokeh.embed.embed_items_notebook(docs_json, render_items);\n\n  }\n  if (root.Bokeh !== undefined) {\n    embed_document(root);\n  } else {\n    let attempts = 0;\n    const timer = setInterval(function(root) {\n      if (root.Bokeh !== undefined) {\n        clearInterval(timer);\n        embed_document(root);\n      } else {\n        attempts++;\n        if (attempts > 100) {\n          clearInterval(timer);\n          console.log(\"Bokeh: ERROR: Unable to run BokehJS code because BokehJS library is missing\");\n        }\n      }\n    }, 10, root)\n  }\n})(window);",
            "application/vnd.bokehjs_exec.v0+json": ""
          },
          "metadata": {
            "application/vnd.bokehjs_exec.v0+json": {
              "id": "1003"
            }
          },
          "output_type": "display_data"
        }
      ],
      "source": [
        "dset = [\n",
        "    {'col':['Power_PowerAct'], 'ylim':(0,5000)},\n",
        "    {'col':['Various_Values_SpeedAct'],'ylim': [0, 2500]}\n",
        "]\n",
        "dmyplant2.dbokeh_chart(data, dset, title=fsm._e, figsize=(12,8))"
      ]
    },
    {
      "cell_type": "code",
      "execution_count": 11,
      "metadata": {},
      "outputs": [
        {
          "data": {
            "image/png": "[encoded data removed]",
            "text/plain": [
              "<Figure size 864x576 with 2 Axes>"
            ]
          },
          "metadata": {
            "needs_background": "light"
          },
          "output_type": "display_data"
        }
      ],
      "source": [
        "fsm._plot(data, figsize=(12,8))\n",
        "plt.show()"
      ]
    },
    {
      "cell_type": "code",
      "execution_count": null,
      "metadata": {},
      "outputs": [],
      "source": [
        "rdf = res['result']\n",
        "# filter als pleased :-)\n",
        "#rda = rdf\n",
        "#rda = rdf[((rdf['mode'] == 'AUTO') & (rdf['success'] == True))]\n",
        "#rda = rdf[((rdf['mode'] == 'AUTO') & (rdf['success'] == True) & (rdf['synchronize'] < 300.0) & (rdf['startpreparation'] < 300.0))]\n",
        "#rda = rdf[((rdf['success'] == True) & (rdf['startpreparation'] < 1000.0))]\n",
        "rda = rdf[((rdf['success'] == True))]\n",
        "rda[fsm.filter_content].round(2)"
      ]
    },
    {
      "cell_type": "code",
      "execution_count": null,
      "metadata": {},
      "outputs": [],
      "source": [
        "rdf_off = rdf[((rdf['mode'] == 'OFF') & (rdf['success'] == True))]\n",
        "rdf_off[fsm.filter_content].reset_index(drop='index')\n"
      ]
    },
    {
      "cell_type": "code",
      "execution_count": null,
      "metadata": {},
      "outputs": [],
      "source": [
        "rdf_off.reset_index(drop='index')"
      ]
    },
    {
      "cell_type": "code",
      "execution_count": null,
      "metadata": {},
      "outputs": [],
      "source": [
        "dmyplant2.chart(data, dset, title=fsm._e, figsize=(15,9))"
      ]
    },
    {
      "cell_type": "code",
      "execution_count": null,
      "metadata": {},
      "outputs": [],
      "source": [
        "rdf_off.iat[0,2]"
      ]
    },
    {
      "cell_type": "code",
      "execution_count": null,
      "metadata": {},
      "outputs": [],
      "source": [
        "#dt = pd.date_range(start='2019-10-27 00:00:00', periods=24, freq='s')\n",
        "dt = pd.date_range(start=rdf_off.iat[0,2], freq='s', end=rdf_off.iat[0,3])\n",
        "dt;"
      ]
    },
    {
      "cell_type": "code",
      "execution_count": null,
      "metadata": {},
      "outputs": [],
      "source": [
        "for i,r in rdf_off.iterrows():\n",
        "    r_summary = pd.DataFrame(r[fsm.filter_times], dtype=np.float64).round(2).T\n",
        "    #fsm.plot_cycle(r, max_length=20*60, ylim=(0,2500), cycletime=1, marker=None, figsize=(16,10), title=f\"{fsm._e} {r['mode']} {r['starttime'].round('S')}\");\n",
        "    fsm.plot_cycle(r, ylim=(0,2500), cycletime=5, style='.-', figsize=(16,10), title=f\"{fsm._e} {r['mode']} {r['starttime'].round('S')}\");\n",
        "    plt.show()"
      ]
    },
    {
      "cell_type": "code",
      "execution_count": null,
      "metadata": {},
      "outputs": [],
      "source": [
        "rda.describe().round(2).T;"
      ]
    },
    {
      "cell_type": "code",
      "execution_count": null,
      "metadata": {},
      "outputs": [],
      "source": [
        "longer_than_300s = rda[fsm.filter_period + fsm.filter_content][rdf['cumstarttime'] > 300.0]\n",
        "longer_than_300s[fsm.filter_content].round(2);"
      ]
    },
    {
      "cell_type": "code",
      "execution_count": null,
      "metadata": {},
      "outputs": [],
      "source": [
        "#for i, r in longer_than_300s.iterrows():\n",
        "#    fsm.plot_cycle(r, max_length=20*60, ylim=(0,5000), title=f\"{fsm._e}{r['starttime'].round('S')}: cumstarttime: {r['cumstarttime']}s\");"
      ]
    },
    {
      "cell_type": "code",
      "execution_count": null,
      "metadata": {},
      "outputs": [],
      "source": [
        "longer_than_300s.describe().round(2).T;"
      ]
    },
    {
      "cell_type": "code",
      "execution_count": null,
      "metadata": {},
      "outputs": [],
      "source": [
        "load_ramp_less_than_100s = rda[fsm.filter_period + fsm.filter_content][rdf['loadramp'] < 100.0]\n",
        "lfsm = load_ramp_less_than_100s[fsm.filter_content].reset_index(drop='index').round(2)\n",
        "lfsm"
      ]
    },
    {
      "cell_type": "code",
      "execution_count": null,
      "metadata": {},
      "outputs": [],
      "source": [
        "rda.reset_index(drop='index').iloc[10];"
      ]
    },
    {
      "cell_type": "code",
      "execution_count": null,
      "metadata": {},
      "outputs": [],
      "source": [
        "#r = load_ramp_less_than_100s.reset_index(drop='index').iloc[0]\n",
        "for i in np.arange(0,5):\n",
        "    r = rda.reset_index(drop='index').iloc[i]\n",
        "    r_summary = pd.DataFrame(r[fsm.filter_times], dtype=np.float64).round(2).T\n",
        "    fsm.plot_cycle(r, max_length=20*60, ylim=(0,2500), cycletime=1, marker=None, figsize=(16,10), title=f\"{fsm._e} {r['mode']} {r['starttime'].round('S')}\");\n",
        "    plt.show()"
      ]
    },
    {
      "cell_type": "code",
      "execution_count": null,
      "metadata": {},
      "outputs": [],
      "source": [
        "for i, r in load_ramp_less_than_100s.reset_index(drop='index').iterrows():\n",
        "    fsm.plot_cycle(r, max_length=8*60, ylim=(0,2500), cycletime=1, marker=None,figsize=(20,12), title=f\"{i:3d} - {fsm._e} {r['starttime'].round('S')}\")\n",
        "    plt.show()\n"
      ]
    },
    {
      "cell_type": "code",
      "execution_count": null,
      "metadata": {},
      "outputs": [],
      "source": [
        "load_ramp_less_than_100s.describe().round(2).T"
      ]
    },
    {
      "cell_type": "code",
      "execution_count": null,
      "metadata": {},
      "outputs": [],
      "source": [
        "rda[['startpreparation','starter','hochlauf','idle','synchronize','cumstarttime','loadramp','targetoperation']].hist(figsize = (20,12), bins=50, layout=(3,3));\n",
        "#rda.hist(figsize = (20,12), bins=100, layout=(4,2));"
      ]
    },
    {
      "cell_type": "code",
      "execution_count": null,
      "metadata": {},
      "outputs": [],
      "source": [
        "#rda.plot.box(subplots=True, grid = True, figsize=(24,10), layout=(1,7));\n",
        "#rda.plot.box(subplots=True, grid = True, figsize=(24,10), layout=(1,7), sym='');"
      ]
    },
    {
      "cell_type": "code",
      "execution_count": null,
      "metadata": {},
      "outputs": [],
      "source": [
        "nalarms = []\n",
        "ct = 0\n",
        "ct2 = 0\n",
        "mini = 0\n",
        "maxi = 1\n",
        "for i,c in rdf.iterrows():\n",
        "    if len(c['alarms']) > 0 and not c['success']:\n",
        "        ct += 1\n",
        "        print(f\"\\nStartversuch: {i}, Success: {c['success']}\")\n",
        "        for a in c['alarms']:\n",
        "            nalarms.append(a['msg'])\n",
        "            _txt = f\"{ct2} {c['mode']:15} {a['state']:20} {a['msg']['timestamp']} {pd.to_datetime(int(a['msg']['timestamp'])*1e6).strftime('%d.%m.%Y %H:%M:%S')} {a['msg']['name']} {a['msg']['message']}\"\n",
        "            print(_txt)\n",
        "            if ct2 >= mini and ct2 <= maxi:\n",
        "                fsm.plot_cycle(c, ylim=(0,2500), cycletime=1, marker=None,figsize=(20,12), title=f\"{i:3d} - {fsm._e} {_txt}\")\n",
        "                plt.show()\n",
        "            ct2 += 1\n",
        "\n",
        "print(f\"\"\"\n",
        "***********************************\n",
        "** {ct:3} nicht erfolgreiche Starts **\n",
        "***********************************\n",
        "\"\"\")"
      ]
    },
    {
      "cell_type": "code",
      "execution_count": null,
      "metadata": {},
      "outputs": [],
      "source": [
        "al = pd.DataFrame(fsm._pareto(nalarms))\n",
        "fig = plt.figure();\n",
        "color = 'purple'\n",
        "\n",
        "if not al.empty:\n",
        "    al['msg'] = al['msg'] + ' (' + al['name'] + ')'\n",
        "    al.set_index('msg').sort_values(by = \"anz\",ascending=True).plot.barh(y=['anz'],figsize=(16,len(al) / 3.8), color=[color], position = 1.0, grid=True, title='Alarms in not successful Starts');\n",
        "    plt.plot();"
      ]
    },
    {
      "cell_type": "code",
      "execution_count": null,
      "metadata": {},
      "outputs": [],
      "source": [
        "phases = [['startpreparation','starter','hochlauf','idle','synchronize','loadramp','targetoperation'],'startpreparation','starter','hochlauf','idle','synchronize','loadramp','targetoperation']\n",
        "fig = plt.figure();\n",
        "color = 'red'\n",
        "\n",
        "for phase in phases:\n",
        "    al = fsm.alarms_pareto(phase)[:30]\n",
        "    if not al.empty:\n",
        "        al['msg'] = al['msg'] + ' (' + al['name'] + ')'\n",
        "        al.set_index('msg').sort_values(by = \"anz\",ascending=True).plot.barh(y=['anz'],figsize=(16,len(al) / 3.8), color=[color], position = 1.0, grid=True, title=' | '.join(phase) if type(phase) == list else phase);\n",
        "        plt.plot();\n"
      ]
    },
    {
      "cell_type": "code",
      "execution_count": null,
      "metadata": {},
      "outputs": [],
      "source": [
        "phases = [['startpreparation','starter','hochlauf','idle','synchronize','loadramp','targetoperation'],'startpreparation','starter','hochlauf','idle','synchronize','loadramp','targetoperation']\n",
        "fig = plt.figure();\n",
        "color = 'orange'\n",
        "\n",
        "for phase in phases:\n",
        "    al = fsm.warnings_pareto(phase)[:30]\n",
        "    if not al.empty:\n",
        "        al['msg'] = al['msg'] + ' (' + al['name'] + ')'\n",
        "        al.set_index('msg').sort_values(by = \"anz\",ascending=True).plot.barh(y=['anz'],figsize=(16,len(al) / 3.8), color=[color], position = 1.0, grid=True, title=' | '.join(phase) if type(phase) == list else phase);\n",
        "        plt.plot();\n"
      ]
    },
    {
      "cell_type": "code",
      "execution_count": null,
      "metadata": {},
      "outputs": [],
      "source": [
        "mfn = e._fname + '_messages.txt'\n",
        "fsm.save_messages(mfn)\n",
        "print(mfn)"
      ]
    },
    {
      "cell_type": "code",
      "execution_count": null,
      "metadata": {},
      "outputs": [],
      "source": [
        "any(fsm._messages['name'] == '9047')"
      ]
    }
  ],
  "metadata": {
    "interpreter": {
      "hash": "00e7f18031541dc25b2d1c6c1f90e0b122a906b1440859c87878a4f6b4e1a002"
    },
    "kernelspec": {
      "display_name": "Python 3.8.5 ('base')",
      "language": "python",
      "name": "python3"
    },
    "language_info": {
      "codemirror_mode": {
        "name": "ipython",
        "version": 3
      },
      "file_extension": ".py",
      "mimetype": "text/x-python",
      "name": "python",
      "nbconvert_exporter": "python",
      "pygments_lexer": "ipython3",
      "version": "3.9.7"
    },
    "nteract": {
      "version": "0.28.0"
    },
    "orig_nbformat": 4
  },
  "nbformat": 4,
  "nbformat_minor": 2
}
