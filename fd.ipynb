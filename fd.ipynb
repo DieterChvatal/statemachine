{
 "cells": [
  {
   "cell_type": "code",
   "execution_count": 13,
   "metadata": {},
   "outputs": [
    {
     "data": {
      "application/vnd.jupyter.widget-view+json": {
       "model_id": "40609d9f58b042e0b6d6142fd878804d",
       "version_major": 2,
       "version_minor": 0
      },
      "text/plain": [
       "VBox(children=(Box(children=(Button(description='..', layout=Layout(height='auto', left='0px', width='auto'), …"
      ]
     },
     "metadata": {},
     "output_type": "display_data"
    }
   ],
   "source": [
    "# Based on DrDub's FileBrowser\n",
    "# https://gist.github.com/DrDub/6efba6e522302e43d055\n",
    "\n",
    "import os\n",
    "import ipywidgets as widgets\n",
    "from ipywidgets import Layout, Button, VBox, Label,Box, HBox, ButtonStyle\n",
    "\n",
    "class FileBrowser(object):\n",
    "    def __init__(self, width='auto', height=\"400px\", item_width=\"auto\", item_height=\"auto\"):\n",
    "        \n",
    "        self.path = os.getcwd()\n",
    "        self._update_files()\n",
    "        \n",
    "        self.layout = Layout(overflow='scroll',\n",
    "                             border ='1px solid black',\n",
    "                             width  ='{}'.format(width),\n",
    "                             height ='{}'.format(height),\n",
    "                             flex_flow = \"column wrap\",\n",
    "                             align_items = \"flex-start\",\n",
    "                             display='flex')\n",
    "        \n",
    "        self.button_dir_syle  = ButtonStyle(button_color='lightgray')\n",
    "        self.button_file_syle = ButtonStyle(button_color='#Fafaff')\n",
    "        \n",
    "        self.button_layout    = Layout(left=\"0px\", width=\"{}\".format(item_width), height=\"{}\".format(item_height))\n",
    "        \n",
    "        \n",
    "    def _update_files(self):\n",
    "        self.files = list()\n",
    "        self.dirs  = list()\n",
    "        if(os.path.isdir(self.path)):\n",
    "            for f in os.listdir(self.path):\n",
    "                ff = os.path.join(self.path,f)\n",
    "                if os.path.isdir(ff):\n",
    "                    self.dirs.append(f)\n",
    "                else:\n",
    "                    self.files.append(f)\n",
    "        \n",
    "    def widget(self):\n",
    "        list_box = widgets.Box(layout=self.layout)\n",
    "        box = VBox([list_box, Label(self.path)])\n",
    "        self._update_box(box)\n",
    "        \n",
    "        return box\n",
    "    \n",
    "    \n",
    "    def _update_box(self, main_box):\n",
    "        path_label = main_box.children[1]\n",
    "        path_label.value = \"Selected path: {}\".format(self.path)\n",
    "        \n",
    "        box        = main_box.children[0]\n",
    "        \n",
    "        \n",
    "        def on_click(b):\n",
    "            if b.description == '..':\n",
    "                self.path = os.path.split(self.path)[0]\n",
    "            else:\n",
    "                self.path = os.path.join(self.path, b.description)\n",
    "                \n",
    "            self._update_files()\n",
    "            self._update_box(main_box)\n",
    "            \n",
    "            \n",
    "        buttons = []\n",
    "        if os.path.dirname(self.path) != self.path:\n",
    "            button = widgets.Button(description='..', style=ButtonStyle(button_color='lightblue'), layout=self.button_layout)\n",
    "            button.on_click(on_click)\n",
    "            buttons.append(button)\n",
    "            \n",
    "        for f in self.dirs:\n",
    "            button = widgets.Button(description=f, style=self.button_dir_syle, icon='fa-folder', tooltip=f, layout=self.button_layout)\n",
    "            button.on_click(on_click)\n",
    "            buttons.append(button)\n",
    "            \n",
    "        for f in self.files:\n",
    "            button = widgets.Button(description=f, style=self.button_file_syle, tooltip=f, layout=self.button_layout)\n",
    "            button.on_click(on_click)\n",
    "            buttons.append(button)\n",
    "            \n",
    "        box.children = buttons\n",
    "\n",
    "\n",
    "f = FileBrowser()\n",
    "# f = FileBrowser(item_width=\"140px\")\n",
    "f.widget()\n"
   ]
  },
  {
   "cell_type": "code",
   "execution_count": 32,
   "metadata": {},
   "outputs": [
    {
     "data": {
      "application/vnd.jupyter.widget-view+json": {
       "model_id": "017c23cc17714d1fb6b90fc74f8fe992",
       "version_major": 2,
       "version_minor": 0
      },
      "text/plain": [
       "FileChooser(path='/Users/dieterchvatal/prog/python3/statemachine', filename='test.txt', title='<b>FileChooser …"
      ]
     },
     "metadata": {},
     "output_type": "display_data"
    }
   ],
   "source": [
    "from ipyfilechooser import FileChooser\n",
    "import os\n",
    "\n",
    "# Create new FileChooser:\n",
    "# Path: current directory\n",
    "# File: test.txt\n",
    "# Title: <b>FileChooser example</b>\n",
    "# Show hidden files: no\n",
    "# Use the default path and filename as selection: yes\n",
    "# Only show folders: no\n",
    "fdialog = FileChooser(\n",
    "    os.getcwd(),\n",
    "    filename='test.txt',\n",
    "    title='<b>FileChooser example</b>',\n",
    "    show_hidden=False,\n",
    "    select_default=True,\n",
    "    show_only_dirs=False\n",
    ")\n",
    "\n",
    "display(fdialog)"
   ]
  },
  {
   "cell_type": "code",
   "execution_count": 41,
   "metadata": {},
   "outputs": [
    {
     "data": {
      "text/plain": [
       "'/Users/dieterchvatal/prog/python3/statemachine/input2.csv'"
      ]
     },
     "execution_count": 41,
     "metadata": {},
     "output_type": "execute_result"
    }
   ],
   "source": [
    "# Get the selected value\n",
    "fdialog.selected"
   ]
  },
  {
   "cell_type": "code",
   "execution_count": 34,
   "metadata": {},
   "outputs": [],
   "source": [
    "# Callback example\n",
    "def change_title(chooser):\n",
    "    chooser.title = '<b>Callback function executed</b>'\n",
    "\n",
    "# Register callback function\n",
    "fdialog.register_callback(change_title)"
   ]
  },
  {
   "cell_type": "code",
   "execution_count": 36,
   "metadata": {},
   "outputs": [],
   "source": [
    "# Set or change the title\n",
    "fdialog.title = '<b>Select the output file</b>'"
   ]
  },
  {
   "cell_type": "code",
   "execution_count": 38,
   "metadata": {},
   "outputs": [],
   "source": [
    "# Show hidden files, change rows to 10, and hide folder icons\n",
    "fdialog.show_hidden = True\n",
    "fdialog.rows = 10\n",
    "fdialog.dir_icon = None"
   ]
  },
  {
   "cell_type": "code",
   "execution_count": 39,
   "metadata": {},
   "outputs": [],
   "source": [
    "# Change folder icon to `os.sep` and append it to the folder name\n",
    "fdialog.dir_icon = os.sep\n",
    "fdialog.dir_icon_append = True"
   ]
  },
  {
   "cell_type": "code",
   "execution_count": 40,
   "metadata": {},
   "outputs": [],
   "source": [
    "# Restrict navigation\n",
    "fdialog.sandbox_path = '/Users/dieterchvatal/prog/python3/statemachine'"
   ]
  },
  {
   "cell_type": "code",
   "execution_count": 21,
   "metadata": {},
   "outputs": [],
   "source": [
    "# Switch to folder-only mode\n",
    "fdialog.show_only_dirs = True"
   ]
  },
  {
   "cell_type": "code",
   "execution_count": 22,
   "metadata": {},
   "outputs": [],
   "source": [
    "# Switch back to standard mode\n",
    "fdialog.show_only_dirs = False"
   ]
  },
  {
   "cell_type": "code",
   "execution_count": 23,
   "metadata": {},
   "outputs": [],
   "source": [
    "# Set a file filter pattern (uses https://docs.python.org/3/library/fnmatch.html)\n",
    "fdialog.filter_pattern = '*.txt'"
   ]
  },
  {
   "cell_type": "code",
   "execution_count": 24,
   "metadata": {},
   "outputs": [],
   "source": [
    "# Set multiple file filter patterns (uses https://docs.python.org/3/library/fnmatch.html)\n",
    "fdialog.filter_pattern = ['*.jpg', '*.png']"
   ]
  },
  {
   "cell_type": "code",
   "execution_count": 30,
   "metadata": {},
   "outputs": [
    {
     "ename": "ParentPathError",
     "evalue": "/Users/dieterchvatal/prog/python3 is not a part of /Users/dieterchvatal/prog/python3/statemachine",
     "output_type": "error",
     "traceback": [
      "\u001b[0;31m---------------------------------------------------------------------------\u001b[0m",
      "\u001b[0;31mParentPathError\u001b[0m                           Traceback (most recent call last)",
      "\u001b[1;32m/Users/dieterchvatal/prog/python3/statemachine/fd.ipynb Cell 13'\u001b[0m in \u001b[0;36m<cell line: 2>\u001b[0;34m()\u001b[0m\n\u001b[1;32m      <a href='vscode-notebook-cell:/Users/dieterchvatal/prog/python3/statemachine/fd.ipynb#ch0000012?line=0'>1</a>\u001b[0m \u001b[39m# Change the default path and filename\u001b[39;00m\n\u001b[0;32m----> <a href='vscode-notebook-cell:/Users/dieterchvatal/prog/python3/statemachine/fd.ipynb#ch0000012?line=1'>2</a>\u001b[0m fdialog\u001b[39m.\u001b[39mdefault_path \u001b[39m=\u001b[39m os\u001b[39m.\u001b[39mpath\u001b[39m.\u001b[39mabspath(os\u001b[39m.\u001b[39mpath\u001b[39m.\u001b[39mjoin(os\u001b[39m.\u001b[39mgetcwd(), \u001b[39m'\u001b[39m\u001b[39m..\u001b[39m\u001b[39m'\u001b[39m))\n\u001b[1;32m      <a href='vscode-notebook-cell:/Users/dieterchvatal/prog/python3/statemachine/fd.ipynb#ch0000012?line=2'>3</a>\u001b[0m fdialog\u001b[39m.\u001b[39mdefault_filename \u001b[39m=\u001b[39m \u001b[39m'\u001b[39m\u001b[39mfoobar.txt\u001b[39m\u001b[39m'\u001b[39m\n",
      "File \u001b[0;32m~/opt/anaconda3/lib/python3.9/site-packages/ipyfilechooser/filechooser.py:495\u001b[0m, in \u001b[0;36mFileChooser.default_path\u001b[0;34m(self, path)\u001b[0m\n\u001b[1;32m    <a href='file:///Users/dieterchvatal/opt/anaconda3/lib/python3.9/site-packages/ipyfilechooser/filechooser.py?line=492'>493</a>\u001b[0m \u001b[39m# Check if path and sandbox_path align\u001b[39;00m\n\u001b[1;32m    <a href='file:///Users/dieterchvatal/opt/anaconda3/lib/python3.9/site-packages/ipyfilechooser/filechooser.py?line=493'>494</a>\u001b[0m \u001b[39mif\u001b[39;00m \u001b[39mself\u001b[39m\u001b[39m.\u001b[39m_sandbox_path \u001b[39mand\u001b[39;00m \u001b[39mnot\u001b[39;00m has_parent_path(normalize_path(path), \u001b[39mself\u001b[39m\u001b[39m.\u001b[39m_sandbox_path):\n\u001b[0;32m--> <a href='file:///Users/dieterchvatal/opt/anaconda3/lib/python3.9/site-packages/ipyfilechooser/filechooser.py?line=494'>495</a>\u001b[0m     \u001b[39mraise\u001b[39;00m ParentPathError(path, \u001b[39mself\u001b[39m\u001b[39m.\u001b[39m_sandbox_path)\n\u001b[1;32m    <a href='file:///Users/dieterchvatal/opt/anaconda3/lib/python3.9/site-packages/ipyfilechooser/filechooser.py?line=496'>497</a>\u001b[0m \u001b[39mself\u001b[39m\u001b[39m.\u001b[39m_default_path \u001b[39m=\u001b[39m normalize_path(path)\n\u001b[1;32m    <a href='file:///Users/dieterchvatal/opt/anaconda3/lib/python3.9/site-packages/ipyfilechooser/filechooser.py?line=497'>498</a>\u001b[0m \u001b[39mself\u001b[39m\u001b[39m.\u001b[39m_set_form_values(\u001b[39mself\u001b[39m\u001b[39m.\u001b[39m_default_path, \u001b[39mself\u001b[39m\u001b[39m.\u001b[39m_filename\u001b[39m.\u001b[39mvalue)\n",
      "\u001b[0;31mParentPathError\u001b[0m: /Users/dieterchvatal/prog/python3 is not a part of /Users/dieterchvatal/prog/python3/statemachine"
     ]
    }
   ],
   "source": [
    "# Change the default path and filename\n",
    "fdialog.default_path = os.path.abspath(os.path.join(os.getcwd(), '..'))\n",
    "fdialog.default_filename = 'foobar.txt'"
   ]
  },
  {
   "cell_type": "code",
   "execution_count": 26,
   "metadata": {},
   "outputs": [],
   "source": [
    "# Reset to defaults and clear the selected value\n",
    "fdialog.reset()"
   ]
  },
  {
   "cell_type": "code",
   "execution_count": 27,
   "metadata": {},
   "outputs": [
    {
     "name": "stdout",
     "output_type": "stream",
     "text": [
      "FileChooser(path='/Users/dieterchvatal/prog/python3/statemachine', filename='test.txt', title='<b>Select the output file</b>', show_hidden=True, select_desc='Select', change_desc='Change', select_default=True, show_only_dirs=False, dir_icon_append=True, sandbox_path='/Users/dieterchvatal/prog/python3/statemachine', dir_icon='/', filter_pattern=['*.jpg', '*.png'])\n"
     ]
    }
   ],
   "source": [
    "# String representation\n",
    "print(fdialog)"
   ]
  },
  {
   "cell_type": "code",
   "execution_count": 28,
   "metadata": {},
   "outputs": [
    {
     "data": {
      "text/plain": [
       "'0.6.0'"
      ]
     },
     "execution_count": 28,
     "metadata": {},
     "output_type": "execute_result"
    }
   ],
   "source": [
    "# Print the version number\n",
    "import ipyfilechooser\n",
    "ipyfilechooser.__version__"
   ]
  }
 ],
 "metadata": {
  "interpreter": {
   "hash": "7b827b5f1f2836ddadb8fbc7a8e8e99004f7285a204f4c797dc2931fe1207e23"
  },
  "kernelspec": {
   "display_name": "Python 3.9.7 ('base')",
   "language": "python",
   "name": "python3"
  },
  "language_info": {
   "codemirror_mode": {
    "name": "ipython",
    "version": 3
   },
   "file_extension": ".py",
   "mimetype": "text/x-python",
   "name": "python",
   "nbconvert_exporter": "python",
   "pygments_lexer": "ipython3",
   "version": "3.9.7"
  },
  "orig_nbformat": 4
 },
 "nbformat": 4,
 "nbformat_minor": 2
}
