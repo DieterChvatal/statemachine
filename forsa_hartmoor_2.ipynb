{
 "cells": [
  {
   "cell_type": "code",
   "execution_count": null,
   "metadata": {},
   "outputs": [],
   "source": [
    "import pandas as pd; pd.options.mode.chained_assignment = None # default warn => SettingWithCopyWarning\n",
    "import numpy as np\n",
    "from datetime import datetime\n",
    "import warnings; warnings.simplefilter(action='ignore', category=UserWarning)\n",
    "from IPython.display import HTML, display\n",
    "from ipywidgets import AppLayout, Button, Layout, VBox, HBox, Label, HTML, interact, IntSlider\n",
    "import ipywidgets as widgets\n",
    "import arrow\n",
    "\n",
    "#import dmyplant2\n",
    "from dmyplant2 import (\n",
    "    cred, MyPlant, Engine, \n",
    "    msgFSM, filterFSM, FSMPlot_Start, \n",
    "    bokeh_show, dbokeh_chart, add_dbokeh_vlines, get_cycle_data2, \n",
    "    disp_result, alarms_pareto, warnings_pareto, states_lines,\n",
    "    detect_edge_right, detect_edge_left)\n",
    "    \n",
    "cred()\n",
    "mp = MyPlant(3600)"
   ]
  },
  {
   "cell_type": "code",
   "execution_count": null,
   "metadata": {},
   "outputs": [],
   "source": [
    "def sfun(x):\n",
    "    return all([ (\"Forsa Hartmoor\" in str(x['IB Site Name'])),  (x['OperationalCondition'] != 'Decommissioned') ])\n",
    "fleet = mp.search_installed_fleet(sfun).drop('index', axis=1)\n",
    "fleet = fleet.sort_values(by = \"Engine ID\",ascending=True).reset_index(drop='index')\n",
    "fleet.T;"
   ]
  },
  {
   "cell_type": "code",
   "execution_count": null,
   "metadata": {},
   "outputs": [],
   "source": [
    "motor = fleet.iloc[3]\n",
    "modes = ['???','OFF','MANUAL','AUTO']\n",
    "#success = [True,False]\n",
    "success = [True]\n",
    "motor['IB Site Name'] + ' ' + motor['Engine ID'], modes, success"
   ]
  },
  {
   "cell_type": "code",
   "execution_count": null,
   "metadata": {},
   "outputs": [],
   "source": [
    "e=Engine.from_fleet(mp,motor)\n",
    "fsm = msgFSM(e, p_from=e['Commissioning Date'], p_to=datetime.now(), frompickle=False)\n",
    "fsm.run1(enforce=True) # run Finite State Machine\n",
    "fsm.store()"
   ]
  },
  {
   "cell_type": "code",
   "execution_count": null,
   "metadata": {},
   "outputs": [],
   "source": [
    "import os\n",
    "from pprint import pformat as pf\n",
    "from dmyplant2.dValidation import load_pkl\n",
    "vfn = os.getcwd() + '/data/validations.pkl'\n",
    "if os.path.exists(vfn):\n",
    "    validations = load_pkl(vfn)\n",
    "    print(pf(validations))\n",
    "print()"
   ]
  },
  {
   "cell_type": "code",
   "execution_count": null,
   "metadata": {},
   "outputs": [],
   "source": [
    "rdf = fsm.result\n",
    "rda = rdf[:].reset_index(drop='index')\n",
    "rda = rda[(rda['mode'].isin(modes) & rda['success'].isin(success))].reset_index(drop='index')\n",
    "display(HTML(pd.DataFrame.from_dict(e.dash, orient='index').T.to_html(escape=False, index=False)))\n",
    "#rda[filterFSM.run2filter_content].round(2)\n",
    "print(f\"Starts: {rdf.shape[0]}, Successful: {rdf[rdf['success'] == True].shape[0]}, Failed: {rdf[rdf['success'] == False].shape[0]} => {rdf[rdf['success'] == True].shape[0]/rdf.shape[0]*100.0:3.1f}%\")"
   ]
  },
  {
   "cell_type": "code",
   "execution_count": null,
   "metadata": {},
   "outputs": [],
   "source": [
    "# Execute FSM Run 2\n",
    "#rda = fsm.run2(rda)\n",
    "#fsm.store()"
   ]
  },
  {
   "cell_type": "code",
   "execution_count": null,
   "metadata": {},
   "outputs": [],
   "source": [
    "#rdb = rda[(rda['mode'].isin(['AUTO','MANUAL'])) & ((rda['count_alarms'] > 0) | (rda['count_warnings'] > 0))]\n",
    "#rdb = rda[rda['synchronize'] < 15.0]\n",
    "rdb = rda\n",
    "#rdb[filterFSM.run2filter_content].sort_values(by=[\"synchronize\",\"loadramp\"], ascending=[True,True]).round(2)"
   ]
  },
  {
   "cell_type": "code",
   "execution_count": null,
   "metadata": {},
   "outputs": [],
   "source": [
    "display(_=rdb[['startpreparation','hochlauf','idle','synchronize','loadramp','maxload','ramprate','cumstarttime','targetoperation','rampdown','coolrun']].hist(bins=30,figsize=(20,20)))\n",
    "display(rdb[['startpreparation','hochlauf','idle','synchronize','loadramp','maxload','ramprate','cumstarttime','targetoperation','rampdown','coolrun']].describe().round(2))"
   ]
  },
  {
   "cell_type": "code",
   "execution_count": null,
   "metadata": {},
   "outputs": [],
   "source": [
    "rde = rda[(rda.starttime > fsm._e['Commissioning Date']) & (rda['success'])].copy()\n",
    "rde['datetime'] = pd.to_datetime(rde['starttime'])\n",
    "dfigsize = (16,10)\n",
    "dset = [\n",
    "    {'col':['cumstarttime'],'ylim':(-400,900), 'color':'darkblue'},\n",
    "    {'col':['synchronize'],'ylim':(-20,300)},\n",
    "    {'col':['startpreparation'],'ylim':(-600,300)},\n",
    "    {'col':['hochlauf'],'ylim':(-100,200), 'color':'orange'},\n",
    "    {'col':['loadramp'],'ylim':(-150,900), 'color':'red'},\n",
    "    #{'col':['ramprate'],'ylim':(-3,3)},\n",
    "    {'col':['no'],'ylim':(-100,10000),'color':'black'},\n",
    "    #{'col':['maxload'],'ylim':(500,5000) }\n",
    "]\n",
    "ftitle = f\"{fsm._e}\"\n",
    "fig = dbokeh_chart(rde, dset, style='circle', figsize=dfigsize ,title=ftitle);\n",
    "bokeh_show(fig)\n",
    "del(fig)"
   ]
  },
  {
   "cell_type": "code",
   "execution_count": null,
   "metadata": {},
   "outputs": [],
   "source": [
    "vset = ['Various_Values_SpeedAct','Power_PowerAct','Hyd_PressCrankCase','Hyd_PressOilDif','Hyd_PressOil','Hyd_TempOil']\n",
    "dset = [\n",
    "    {'col':['Power_PowerAct'], 'ylim':(0,5000), 'color':'red'},\n",
    "    {'col':['Various_Values_SpeedAct'],'ylim': [0, 2500], 'color':'blue'},\n",
    "    #{'col':['Hyd_PressCrankCase'],'ylim': [-100, 100], 'color':'orange'},\n",
    "    #{'col':['Hyd_PressOilDif'],'ylim': [0, 2], 'color':'black'},\n",
    "    {'col':['Hyd_PressOil'],'ylim': [0, 10], 'color':'brown'},\n",
    "    {'col':['Hyd_TempOil'],'ylim': [0, 110], 'color':'#2171b5'}\n",
    "]\n"
   ]
  },
  {
   "cell_type": "code",
   "execution_count": null,
   "metadata": {},
   "outputs": [],
   "source": [
    "rdb[filterFSM.run2filter_content].sort_values(by=[\"synchronize\",\"loadramp\"], ascending=[True,True]).round(2)"
   ]
  },
  {
   "cell_type": "code",
   "execution_count": null,
   "metadata": {},
   "outputs": [],
   "source": [
    "def plot_with_additional_results(\n",
    "        startversuch, \n",
    "        vset=None, \n",
    "        dset = [\n",
    "        {'col':['Power_PowerAct'], 'ylim':(0,5000), 'color':'red'},\n",
    "        {'col':['Various_Values_SpeedAct'],'ylim': [0, 2500], 'color':'blue'}\n",
    "    ]):\n",
    "\n",
    "    if vset == None:\n",
    "        vset = []\n",
    "        for rec in dset:\n",
    "            for d in rec['col']:\n",
    "                vset.append(d) \n",
    "        vset = list(set(vset))\n",
    "\n",
    "    data = get_cycle_data2(fsm, startversuch, max_length=None, min_length=None, cycletime=1, silent=False, p_data=vset)\n",
    "    fig = FSMPlot_Start(fsm, startversuch, data, vset, dset, figsize=dfigsize); \n",
    "    #fsm run 2 results\n",
    "    lcol='blue'\n",
    "    pl, _ = detect_edge_left(data, 'Power_PowerAct', startversuch)\n",
    "    pr, _ = detect_edge_right(data, 'Power_PowerAct', startversuch)\n",
    "    sl, _ = detect_edge_left(data, 'Various_Values_SpeedAct', startversuch)\n",
    "    sr, _ = detect_edge_right(data, 'Various_Values_SpeedAct', startversuch)\n",
    "    add_dbokeh_vlines([sl.loc], fig,line_color=lcol, line_dash='solid', line_alpha=0.4)\n",
    "    add_dbokeh_vlines([sr.loc], fig,line_color=lcol, line_dash='solid', line_alpha=0.4)\n",
    "    add_dbokeh_vlines([pl.loc], fig,line_color=lcol, line_dash='solid', line_alpha=0.4)\n",
    "    add_dbokeh_vlines([pr.loc], fig,line_color=lcol, line_dash='solid', line_alpha=0.4)\n",
    "\n",
    "    #new_lines = [startversuch['starttime']] + [startversuch[k] for k in startversuch.keys() if k.endswith('_time')]\n",
    "    #add_dbokeh_vlines(new_lines,fig,line_color='green', line_dash='solid', line_alpha=0.4)\n",
    "    bokeh_show(fig)\n",
    "    del(fig)"
   ]
  },
  {
   "cell_type": "code",
   "execution_count": null,
   "metadata": {},
   "outputs": [],
   "source": [
    "def f(x=0):\n",
    "    global v; v = x; startversuch = rdb.iloc[x]\n",
    "    ftitle = f\"{fsm._e} ----- Start {startversuch['no']} {startversuch['mode']} | {'SUCCESS' if startversuch['success'] else 'FAILED'} | {startversuch['starttime'].round('S')}\"\n",
    "    display(HTML(ftitle));\n",
    "    disp_result(startversuch)\n",
    "interact(f, x = IntSlider(0, 0, rdb.shape[0]-1 , 1, layout=widgets.Layout(width='70%')));"
   ]
  },
  {
   "cell_type": "code",
   "execution_count": null,
   "metadata": {},
   "outputs": [],
   "source": [
    "startversuch = rdb.iloc[v]; plot_with_additional_results(startversuch, vset, dset) "
   ]
  },
  {
   "cell_type": "code",
   "execution_count": null,
   "metadata": {},
   "outputs": [],
   "source": [
    "startversuch = rdb.iloc[v]\n",
    "display(HTML(pd.DataFrame.from_dict(dict(zip(filterFSM.vertical_lines_times, states_lines(startversuch))), orient='index').T.to_html(escape=False,index=False)))\n",
    "td = {\n",
    "    'start': [v for k,v in startversuch['timing'].items() if k.startswith('end_')],\n",
    "    'end': [v for k,v in startversuch['timing'].items() if k.startswith('end_')]\n",
    "}\n",
    "columns = [k[4:] for k in startversuch['timing'].keys() if k.startswith('end_')]\n",
    "#display(HTML(pd.DataFrame.from_dict(td,orient='index').T.to_html(escape=False,index=False)))\n",
    "pd.DataFrame.from_dict(td,orient='index', columns=columns)"
   ]
  },
  {
   "cell_type": "code",
   "execution_count": null,
   "metadata": {},
   "outputs": [],
   "source": [
    "nalarms = []\n",
    "ct = 0\n",
    "ct2 = 0\n",
    "mini = 0\n",
    "maxi = 100\n",
    "_txt = ''\n",
    "for i,c in rdf.iterrows():\n",
    "    if len(c['alarms']) > 0 and not c['success']:\n",
    "        ct += 1\n",
    "        _txt += f\"<h3>Startversuch: {i}, Success: {c['success']}</h3>\"\n",
    "        #display(HTML(f\"\\n<hr><h3>Startversuch: {i}, Success: {c['success']}</h3>\"))\n",
    "        print()\n",
    "        for a in c['alarms']:\n",
    "            nalarms.append(a['msg'])\n",
    "            _txt += f\"{ct2} {c['mode']:15} {a['state']:20} \" + fsm.msgtxt(a['msg']) + \"<br>\"\n",
    "            #_txt = f\"{ct2} {c['mode']:15} {a['state']:20} {a['msg']['timestamp']} {pd.to_datetime(int(a['msg']['timestamp'])*1e6).strftime('%d.%m.%Y %H:%M:%S')} {a['msg']['name']} {a['msg']['message']}\"\n",
    "            #if ct2 >= mini and ct2 <= maxi:\n",
    "                #fsm.plot_cycle(c, ylim=(0,2500), cycletime=1, marker=None,figsize=(20,12), title=f\"{i:3d} - {fsm._e} {_txt}\")\n",
    "                #plt.show()\n",
    "            ct2 += 1\n",
    "_txt = f\"<h2>{fsm._e}, <br>{ct:3} not successful starts</h2>\" + _txt\n",
    "display(HTML(_txt))\n"
   ]
  },
  {
   "cell_type": "code",
   "execution_count": null,
   "metadata": {},
   "outputs": [],
   "source": [
    "phases = [['startpreparation','starter','hochlauf','idle','synchronize','loadramp','targetoperation','coolrun'],'startpreparation','starter','hochlauf','idle','synchronize','loadramp','targetoperation','coolrun']\n",
    "for phase in phases:\n",
    "    al = alarms_pareto(fsm, phase)\n",
    "    if not al.empty:\n",
    "        display(HTML(f\"<h3>{phase}:</h3>\"))\n",
    "        al.sort_values(by = \"anz\",ascending=True)\n",
    "        display(HTML(al.to_html(escape=False, index=False)))"
   ]
  },
  {
   "cell_type": "code",
   "execution_count": null,
   "metadata": {},
   "outputs": [],
   "source": [
    "for phase in phases:\n",
    "    wr = warnings_pareto(fsm, phase)\n",
    "    if not wr.empty:\n",
    "        display(HTML(f\"<h3>{phase}:</h3>\"))\n",
    "        wr.sort_values(by = \"anz\",ascending=True)\n",
    "        display(HTML(wr.to_html(escape=False, index=False)))"
   ]
  },
  {
   "cell_type": "code",
   "execution_count": null,
   "metadata": {},
   "outputs": [],
   "source": [
    "display(HTML(pd.DataFrame(fsm._runlog).to_html(escape=False, index=False)))"
   ]
  },
  {
   "cell_type": "code",
   "execution_count": null,
   "metadata": {},
   "outputs": [],
   "source": [
    "mfn = e._fname + '_messages.txt'\n",
    "fsm.save_messages(mfn)\n",
    "print(mfn)"
   ]
  },
  {
   "cell_type": "code",
   "execution_count": null,
   "metadata": {},
   "outputs": [],
   "source": [
    "from dmyplant2 import FSM\n",
    "FSM.dot(e._fname + 'FSM.dot')"
   ]
  },
  {
   "cell_type": "code",
   "execution_count": null,
   "metadata": {},
   "outputs": [],
   "source": [
    "# lfn = e._fname + '_runlog.txt'\n",
    "# fsm.save_runlog(lfn)\n",
    "# print(lfn)"
   ]
  }
 ],
 "metadata": {
  "interpreter": {
   "hash": "00e7f18031541dc25b2d1c6c1f90e0b122a906b1440859c87878a4f6b4e1a002"
  },
  "kernelspec": {
   "display_name": "Python 3.8.5 ('base')",
   "language": "python",
   "name": "python3"
  },
  "language_info": {
   "codemirror_mode": {
    "name": "ipython",
    "version": 3
   },
   "file_extension": ".py",
   "mimetype": "text/x-python",
   "name": "python",
   "nbconvert_exporter": "python",
   "pygments_lexer": "ipython3",
   "version": "3.8.5"
  },
  "orig_nbformat": 4
 },
 "nbformat": 4,
 "nbformat_minor": 2
}
