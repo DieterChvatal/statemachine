{
 "cells": [
  {
   "cell_type": "markdown",
   "metadata": {},
   "source": [
    "# INNIO Fleet Analysis"
   ]
  },
  {
   "cell_type": "code",
   "execution_count": null,
   "metadata": {},
   "outputs": [],
   "source": [
    "import pandas as pd\n",
    "pd.options.mode.chained_assignment = None # default warn => SettingWithCopyWarning\n",
    "import numpy as np\n",
    "import matplotlib.pyplot as plt\n",
    "import bokeh\n",
    "from collections import namedtuple\n",
    "from pprint import (pprint as pp, pformat as pf)\n",
    "import warnings\n",
    "warnings.simplefilter(action='ignore', category=UserWarning)\n",
    "from IPython.display import HTML, display\n",
    "import ipywidgets as widgets\n",
    "import arrow\n",
    "\n",
    "import dmyplant2\n",
    "dmyplant2.cred()\n",
    "mp = dmyplant2.MyPlant(3600)"
   ]
  },
  {
   "cell_type": "markdown",
   "metadata": {},
   "source": [
    "### Filter Engines from installed fleet "
   ]
  },
  {
   "cell_type": "code",
   "execution_count": null,
   "metadata": {},
   "outputs": [],
   "source": [
    "def sfun(x):\n",
    "    return all([\n",
    "            (\"Forsa Hartmoor\" in str(x['IB Site Name'])), \n",
    "            (x['OperationalCondition'] != 'Decommissioned')\n",
    "        ])"
   ]
  },
  {
   "cell_type": "code",
   "execution_count": null,
   "metadata": {},
   "outputs": [],
   "source": [
    "fleet = mp.search_installed_fleet(sfun).drop('index', axis=1)\n",
    "fleet = fleet.sort_values(by = \"Engine ID\",ascending=True).reset_index(drop='index')\n",
    "fleet.T;"
   ]
  },
  {
   "cell_type": "code",
   "execution_count": null,
   "metadata": {},
   "outputs": [],
   "source": [
    "ddl = pd.DataFrame(fleet['serialNumber'] + ' - ' + fleet['IB Site Name'] + ' ' + fleet['Engine ID'])[0].to_list()\n",
    "ddl = [(m, i) for i, m in enumerate(ddl)]\n",
    "dl=widgets.Dropdown(options = ddl,value=0,description='Engine:',layout={'width':'max-content'},disabled=False)\n",
    "display(dl)"
   ]
  },
  {
   "cell_type": "code",
   "execution_count": null,
   "metadata": {},
   "outputs": [],
   "source": [
    "e=dmyplant2.Engine.from_fleet(mp,motor:=fleet.iloc[dl.value])\n",
    "pd.DataFrame.from_dict(e.dash, orient='index').T"
   ]
  },
  {
   "cell_type": "code",
   "execution_count": null,
   "metadata": {},
   "outputs": [],
   "source": [
    "from dfsm import msgFSM\n",
    "#fsm = msgFSM(e, skip_days=7)\n",
    "#fsm = msgFSM(e, p_from=motor['Commissioning Date'], p_to=arrow.now() )\n",
    "fsm = msgFSM(e, p_from=\"2022-01-01\", p_to=arrow.now(), frompickle=True)\n",
    "#fsm = msgFSM(e)\n",
    "fsm.run1(enforce=False) ###### RUN 1 Finite State Machine\n",
    "fsm.store() #store reults for fusture use.\n",
    "\n",
    "# Struktur zur Aufnahme mehrerer motoren\n",
    "fsm_data = []; fsm_data.append({'engine':e, 'fsm':fsm, 'result':pd.DataFrame(fsm._starts)})\n",
    "fsm.summary(fsm_data[0])"
   ]
  },
  {
   "cell_type": "code",
   "execution_count": null,
   "metadata": {},
   "outputs": [],
   "source": [
    "rmodes = ['???','OFF','MANUAL','AUTO']; mw = [] ; modes = []\n",
    "for mm in rmodes:\n",
    "    mw.append(widgets.Checkbox(value=False, description='Mode: ' + mm))\n",
    "display(widgets.VBox(mw))"
   ]
  },
  {
   "cell_type": "code",
   "execution_count": null,
   "metadata": {},
   "outputs": [],
   "source": [
    "rsucc = [True,False]; sw = []; success=[]\n",
    "for rs in rsucc:\n",
    "    sw.append(widgets.Checkbox(value=False, description='Success: ' + str(rs)))\n",
    "display(widgets.VBox(sw))"
   ]
  },
  {
   "cell_type": "code",
   "execution_count": null,
   "metadata": {},
   "outputs": [],
   "source": [
    "rdf = fsm_data[0]['result']\n",
    "modes = [rmodes[i] for i,v in enumerate(mw) if v.value]\n",
    "modes = rmodes if not modes else modes\n",
    "success = [rsucc[i] for i,v in enumerate(sw) if v.value]\n",
    "success = rsucc if not success else success\n",
    "\n",
    "rda = rdf[:].reset_index(drop='index')\n",
    "rda['count_alarms'] = rda.apply(lambda x: len(x['alarms']), axis=1)\n",
    "rda['count_warnings'] = rda.apply(lambda x: len(x['warnings']), axis=1)\n",
    "rda = rda[((rdf['mode'].isin(modes)) & (rdf['success'].isin(success)))].reset_index(drop='index')\n",
    "print(modes, success)"
   ]
  },
  {
   "cell_type": "code",
   "execution_count": null,
   "metadata": {},
   "outputs": [],
   "source": [
    "# special filters can be added like ... \n",
    "#rda = rda[((rda['loadramp'] < 80.0) & (rda['startpreparation'] < 300.0))].reset_index(drop='index')\n",
    "\n",
    "# rda = rda[((rda['count_warnings'] == 0) & (rda['count_alarms'] == 0))].reset_index(drop='index')\n",
    "# display the filterd & selected data\n",
    "rda[fsm.filters['filter_content'] + fsm.filters['filter_alarms_and_warnings']].round(2)"
   ]
  },
  {
   "cell_type": "code",
   "execution_count": null,
   "metadata": {},
   "outputs": [],
   "source": [
    "###### RUN 1 Finite State Machine\n",
    "rda = fsm.run2(rda)\n",
    "fsm.store() #store reults for fusture use."
   ]
  },
  {
   "cell_type": "code",
   "execution_count": null,
   "metadata": {},
   "outputs": [],
   "source": [
    "rdb = rda[(rda['mode'] == 'AUTO') & rda['success'] & (rda['maxload'] > 4000.0)]\n",
    "rdb[fsm.filters['run2filter_content'] + fsm.filters['filter_alarms_and_warnings']].round(2)"
   ]
  },
  {
   "cell_type": "code",
   "execution_count": null,
   "metadata": {},
   "outputs": [],
   "source": [
    "rdb[['startpreparation','hochlauf','idle','synchronize','loadramp','maxload','ramprate','cumstarttime']].hist(bins=30,figsize=(20,20));"
   ]
  },
  {
   "cell_type": "code",
   "execution_count": null,
   "metadata": {},
   "outputs": [],
   "source": [
    "rdb[['startpreparation','hochlauf','idle','synchronize','loadramp','maxload','ramprate','cumstarttime']].describe().round(2)"
   ]
  },
  {
   "cell_type": "code",
   "execution_count": null,
   "metadata": {},
   "outputs": [],
   "source": [
    "startversuch = rda.iloc[65];\n",
    "von_dt=pd.to_datetime(startversuch['starttime']); von=int(von_dt.timestamp())\n",
    "bis_dt=pd.to_datetime(startversuch['endtime']); bis=int(bis_dt.timestamp())\n",
    "\n",
    "ftitle = f\"{fsm._e} ----- Start {startversuch.name} {startversuch['mode']} | {'SUCCESS' if startversuch['success'] else 'FAILED'} | {startversuch['starttime'].round('S')}\"\n",
    "print(f\"von: {von_dt.strftime('%d.%m.%Y %H:%M:%S')} = {von} bis: {bis_dt.strftime('%d.%m.%Y %H:%M:%S')} = {bis}\")"
   ]
  },
  {
   "cell_type": "code",
   "execution_count": null,
   "metadata": {},
   "outputs": [],
   "source": [
    "vset = fsm._data_spec + ['Hyd_PressCrankCase','Hyd_PressOilDif','Hyd_PressOil','Hyd_TempOil']\n",
    "data = fsm.get_cycle_data(startversuch, max_length=None, min_length=None, cycletime=1, silent=False, p_data=vset)"
   ]
  },
  {
   "cell_type": "code",
   "execution_count": null,
   "metadata": {},
   "outputs": [],
   "source": [
    "dset = [\n",
    "    {'col':['Power_PowerAct'], 'ylim':(0,5000), 'color':'red'},\n",
    "    {'col':['Various_Values_SpeedAct'],'ylim': [0, 2500], 'color':'blue'},\n",
    "    {'col':['Hyd_PressCrankCase'],'ylim': [-100, 100], 'color':'orange'},\n",
    "    #{'col':['Hyd_PressOilDif'],'ylim': [0, 2], 'color':'black'},\n",
    "    {'col':['Hyd_PressOil'],'ylim': [0, 10], 'color':'brown'},\n",
    "    {'col':['Hyd_TempOil'],'ylim': [0, 110], 'color':'#2171b5'}\n",
    "]\n",
    "fig = dmyplant2.dbokeh_chart(data, dset, title=ftitle, figsize=(16,10), style='line', line_width=0)\n",
    "\n",
    "sv_lines = [v for v in startversuch[fsm.filters['vertical_lines_times']] if v==v]\n",
    "start = startversuch['starttime']; lines=list(np.cumsum(sv_lines))\n",
    "vlines=[start + pd.Timedelta(value=v,unit='sec') for v in [0] + lines]\n",
    "dmyplant2.add_dbokeh_vlines(vlines,fig,line_color='red', line_dash='solid', line_alpha=0.4)\n",
    "\n",
    "bokeh.plotting.show(fig)"
   ]
  },
  {
   "cell_type": "code",
   "execution_count": null,
   "metadata": {},
   "outputs": [],
   "source": [
    "%load_ext autoreload\n",
    "%autoreload 2\n",
    "dset = [\n",
    "    #{'col':['Power_PowerAct_left','Power_PowerAct_right','Various_Values_SpeedAct_left', 'Various_Values_SpeedAct_right'], 'ylim':(0,30000)},\n",
    "    {'col':['Power_PowerAct'], 'ylim':(0,5000), 'color':'red'},\n",
    "    {'col':['Various_Values_SpeedAct'],'ylim': [0, 2500], 'color':'blue'},\n",
    "    {'col':['Hyd_PressCrankCase'],'ylim': [-100, 100], 'color':'orange'},\n",
    "    {'col':['Hyd_PressOilDif'],'ylim': [0, 2], 'color':'black'},\n",
    "    {'col':['Hyd_PressOil'],'ylim': [0, 10], 'color':'brown'},\n",
    "    {'col':['Hyd_TempOil'],'ylim': [0, 110], 'color':'#2171b5'}\n",
    "    ]\n",
    "\n",
    "pl = fsm.detect_edge(data, 'Power_PowerAct', kind='left')\n",
    "pr = fsm.detect_edge(data, 'Power_PowerAct', kind='right')\n",
    "sl = fsm.detect_edge(data, 'Various_Values_SpeedAct', kind='left')\n",
    "sr = fsm.detect_edge(data, 'Various_Values_SpeedAct', kind='right')\n",
    "\n",
    "summary = pd.DataFrame(startversuch[fsm.filters['filter_times']], dtype=np.float64).round(2).T\n",
    "display(HTML('<h3>'+ summary.to_html(escape=False, index=False) + '</h3>'))\n",
    "\n",
    "fig = dmyplant2.dbokeh_chart(data, dset, title=ftitle, figsize=(24,14), style='line', line_width=0)\n",
    "fig = dmyplant2.dbokeh_chart(data, dset, title=ftitle, figsize=(24,14), style='circle', line_width=0)\n",
    "dmyplant2.add_dbokeh_vlines(fsm.states_lines(startversuch), fig,line_color='purple', line_dash='solid', line_alpha=1)\n",
    "dmyplant2.add_dbokeh_vlines([sl.loc], fig,line_color='red', line_dash='solid', line_alpha=0.4)\n",
    "dmyplant2.add_dbokeh_vlines([sr.loc], fig,line_color='red', line_dash='solid', line_alpha=0.4)\n",
    "dmyplant2.add_dbokeh_vlines([pl.loc], fig,line_color='red', line_dash='solid', line_alpha=0.4)\n",
    "dmyplant2.add_dbokeh_vlines([pr.loc], fig,line_color='red', line_dash='solid', line_alpha=0.4)\n",
    "\n",
    "dmyplant2.add_dbokeh_hlines([0], fig,line_color='blue', line_dash='solid', line_alpha=0.4)\n",
    "bokeh.plotting.show(fig)\n"
   ]
  },
  {
   "cell_type": "code",
   "execution_count": null,
   "metadata": {},
   "outputs": [],
   "source": [
    "# dset = [\n",
    "#     {'col':['Power_PowerAct','Various_Values_SpeedAct'], '_ylim':(0,10000)}\n",
    "# ]\n",
    "dset = [\n",
    "    {'col':['Power_PowerAct'], '_ylim':(0,5000), 'color':'red'},\n",
    "    {'col':['Various_Values_SpeedAct'],'_ylim': [0, 2500], 'color':'blue'},\n",
    "    {'col':['Hyd_PressCrankCase'],'_ylim': [-100, 100], 'color':'orange'},\n",
    "    {'col':['Hyd_PressOilDif'],'_ylim': [0, 2], 'color':'black'},\n",
    "    {'col':['Hyd_TempOil'],'_ylim': [60, 110], 'color':'#2171b5'}\n",
    "]\n",
    "for ii,startversuch in rda.iterrows():\n",
    "        if ii < 0:\n",
    "                continue\n",
    "        if ii > 1:\n",
    "                break\n",
    "        data = fsm.get_cycle_data(startversuch, max_length=None, min_length=None, cycletime=1, p_data=fsm._data_spec + ['Hyd_PressCrankCase','Hyd_PressOilDif','Hyd_TempOil'])\n",
    "\n",
    "        pl = fsm.detect_edge(data, 'Power_PowerAct', kind='left')\n",
    "        pr = fsm.detect_edge(data, 'Power_PowerAct', kind='right')\n",
    "        sl = fsm.detect_edge(data, 'Various_Values_SpeedAct', kind='left')\n",
    "        sr = fsm.detect_edge(data, 'Various_Values_SpeedAct', kind='right')\n",
    "\n",
    "        ftitle = f\"{fsm._e} ----- Start {startversuch['index']} {startversuch['mode']} | {'SUCCESS' if startversuch['success'] else 'FAILED'} | {startversuch['starttime'].round('S')}\"\n",
    "\n",
    "        fig = dmyplant2.dbokeh_chart(data, dset, title=ftitle, figsize=(16,10), style='line', line_width=0)\n",
    "\n",
    "        ml = (data.iloc[-1]['time'] - data.iloc[0]['time']) // 1000\n",
    "        sv_lines = [v for v in startversuch[fsm.filters['vertical_lines_times']]]\n",
    "        start = startversuch['starttime']; \n",
    "        #lines=list(np.cumsum(sv_lines))\n",
    "        nsv_lines = [v for v in sv_lines if ((v==v) and (v <= ml)) ]\n",
    "        lines=list(np.cumsum(nsv_lines))\n",
    "        dmyplant2.add_dbokeh_lines(start, lines, fig,line_color='red', line_dash='solid', line_alpha=0.4)\n",
    "\n",
    "        dmyplant2.add_dbokeh_lines(sl.loc, [], fig,line_color='red', line_dash='solid', line_alpha=0.4)\n",
    "        dmyplant2.add_dbokeh_lines(sr.loc, [], fig,line_color='red', line_dash='solid', line_alpha=0.4)\n",
    "        dmyplant2.add_dbokeh_lines(pl.loc, [], fig,line_color='red', line_dash='solid', line_alpha=0.4)\n",
    "        dmyplant2.add_dbokeh_lines(pr.loc, [], fig,line_color='red', line_dash='solid', line_alpha=0.4)\n",
    "        bokeh.plotting.show(fig) \n",
    "                \n",
    "        svdf = pd.DataFrame(sv_lines, index=fsm.filters['vertical_lines_times'], columns=['FSM']).fillna(0)\n",
    "        svdf['RUN2'] = svdf['FSM']\n",
    "        #if svdf.at['hochlauf','FSM'] > 0.0:\n",
    "        #        svdf.at['hochlauf','RUN2'] = sl.loc.timestamp() - start.timestamp() - np.cumsum(svdf['RUN2'])['starter']\n",
    "        #        svdf.at['idle','RUN2'] = svdf.at['idle','FSM'] - (svdf.at['hochlauf','RUN2'] - svdf.at['hochlauf','FSM'])\n",
    "        if svdf.at['loadramp','FSM'] > 0.0:\n",
    "                svdf.at['loadramp','RUN2'] = pl.loc.timestamp() - start.timestamp() - np.cumsum(svdf['RUN2'])['synchronize']\n",
    "        with warnings.catch_warnings():\n",
    "                warnings.simplefilter(\"ignore\")\n",
    "                svdf = pd.concat([\n",
    "                        svdf, \n",
    "                        pd.DataFrame.from_dict(\n",
    "                                {       'maxload':['-',pl.val],\n",
    "                                        'ramp':['-',(pl.val / fsm._e['Power_PowerNominal']) * 100 / svdf.at['loadramp','RUN2']],\n",
    "                                        'cumstarttime':[np.cumsum(svdf['FSM'])['loadramp'], np.cumsum(svdf['RUN2'])['loadramp']]\n",
    "                                }, \n",
    "                                columns=['FSM','RUN2'],\n",
    "                                orient='index')]\n",
    "                        )\n",
    "        summary = pd.DataFrame(startversuch[fsm.filters['filter_times']], dtype=np.float64).round(2).T\n",
    "        display(HTML('<h3>'+ summary.to_html(escape=False, index=False) + '</h3>'))\n",
    "\n",
    "        for i, al in enumerate(startversuch['alarms']):\n",
    "                print(f\"{al['state']:16} {fsm.msgtxt(al['msg'],i)}\")\n",
    "\n",
    "        for i, w in enumerate(startversuch['warnings']):\n",
    "                print(f\"{w['state']:16} {fsm.msgtxt(w['msg'],i)}\")\n",
    "\n",
    "        #plt.show();"
   ]
  },
  {
   "cell_type": "code",
   "execution_count": null,
   "metadata": {},
   "outputs": [],
   "source": [
    "rdc = rdb[rdb.starttime > '2022-01-01']\n",
    "dset = [\n",
    "    {'col':['ramprate'],'ylim':(-1,3)},\n",
    "    {'col':['cumstarttime'],'ylim':(0,900), 'color':'darkblue'},\n",
    "    {'col':['synchronize'],'ylim':(0,400)},\n",
    "    {'col':['startpreparation'],'ylim':(-100,200)},\n",
    "    {'col':['hochlauf'],'ylim':(0,100), 'color':'black'},\n",
    "    {'col':['maxload'],'ylim':(500,5500) }\n",
    "]\n",
    "ftitle = f\"{fsm._e}\"\n",
    "fig = dmyplant2.dbokeh_chart(rdc, dset, x='starttime', figsize=(16,10) ,title=ftitle);\n",
    "bokeh.plotting.show(fig)"
   ]
  },
  {
   "cell_type": "code",
   "execution_count": null,
   "metadata": {},
   "outputs": [],
   "source": [
    "nalarms = []\n",
    "ct = 0\n",
    "ct2 = 0\n",
    "mini = 0\n",
    "maxi = 100\n",
    "for i,startversuch in rdf.iterrows():\n",
    "    if len(startversuch['alarms']) > 0 and not startversuch['success']:\n",
    "        ct += 1\n",
    "        print(f\"\\nStartversuch: {i}, Success: {startversuch['success']}\")\n",
    "        for a in startversuch['alarms']:\n",
    "            nalarms.append(a['msg'])\n",
    "            _txt = f\"{ct2} {startversuch['mode']:10} {a['state']:20} {a['msg']['severity']} {a['msg']['name']} {a['msg']['timestamp']} {pd.to_datetime(int(a['msg']['timestamp'])*1e6).strftime('%d.%m.%Y %H:%M:%S')} {a['msg']['message']}\"\n",
    "            print(_txt)\n",
    "            if ct2 >= mini and ct2 <= maxi:\n",
    "                summary = pd.DataFrame(startversuch[fsm.filters['filter_times']], dtype=np.float64).round(2).T\n",
    "                display(HTML('<h3>'+ summary.to_html(escape=False, index=False) + '</h3>'))\n",
    "                data = fsm.get_cycle_data(startversuch, max_length=None, min_length=None, cycletime=1, silent=True, p_data=fsm._data_spec + ['Hyd_PressCrankCase','Hyd_PressOilDif','Hyd_TempOil'])\n",
    "                fig = dmyplant2.dbokeh_chart(data, dset, title=ftitle, figsize=(16,10), style='line', line_width=0)\n",
    "                dmyplant2.add_dbokeh_lines(pd.to_datetime(int(a['msg']['timestamp']) * 1000000), [], fig,line_color='purple', line_dash='solid', line_alpha=1)\n",
    "                bokeh.plotting.show(fig)                 \n",
    "                #fsm.plot_cycle(c, ylim=(0,2500), cycletime=1, marker=None,figsize=(20,12), title=f\"{i:3d} - {fsm._e} {_txt}\")\n",
    "                #plt.show()\n",
    "            ct2 += 1\n",
    "\n",
    "print(f\"\"\"\n",
    "***********************************\n",
    "** {ct:3} nicht erfolgreiche Starts **\n",
    "***********************************\n",
    "\"\"\")"
   ]
  }
 ],
 "metadata": {
  "interpreter": {
   "hash": "00e7f18031541dc25b2d1c6c1f90e0b122a906b1440859c87878a4f6b4e1a002"
  },
  "kernelspec": {
   "display_name": "Python 3.8.5 ('base')",
   "language": "python",
   "name": "python3"
  },
  "language_info": {
   "codemirror_mode": {
    "name": "ipython",
    "version": 3
   },
   "file_extension": ".py",
   "mimetype": "text/x-python",
   "name": "python",
   "nbconvert_exporter": "python",
   "pygments_lexer": "ipython3",
   "version": "3.8.5"
  },
  "orig_nbformat": 4
 },
 "nbformat": 4,
 "nbformat_minor": 2
}
