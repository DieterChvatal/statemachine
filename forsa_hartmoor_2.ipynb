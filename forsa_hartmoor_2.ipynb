{
 "cells": [
  {
   "cell_type": "code",
   "execution_count": 1,
   "metadata": {},
   "outputs": [
    {
     "data": {
      "text/html": [
       "<div>\n",
       "<style scoped>\n",
       "    .dataframe tbody tr th:only-of-type {\n",
       "        vertical-align: middle;\n",
       "    }\n",
       "\n",
       "    .dataframe tbody tr th {\n",
       "        vertical-align: top;\n",
       "    }\n",
       "\n",
       "    .dataframe thead th {\n",
       "        text-align: right;\n",
       "    }\n",
       "</style>\n",
       "<table border=\"1\" class=\"dataframe\">\n",
       "  <thead>\n",
       "    <tr style=\"text-align: right;\">\n",
       "      <th></th>\n",
       "      <th>1486144</th>\n",
       "      <th>1486174</th>\n",
       "    </tr>\n",
       "  </thead>\n",
       "  <tbody>\n",
       "    <tr>\n",
       "      <th>Asset ID</th>\n",
       "      <td>159396</td>\n",
       "      <td>159398</td>\n",
       "    </tr>\n",
       "    <tr>\n",
       "      <th>Validation Engine</th>\n",
       "      <td>Forsa Hartmoor M01</td>\n",
       "      <td>Forsa Hartmoor M04</td>\n",
       "    </tr>\n",
       "    <tr>\n",
       "      <th>n</th>\n",
       "      <td>999</td>\n",
       "      <td>999</td>\n",
       "    </tr>\n",
       "    <tr>\n",
       "      <th>oph@start</th>\n",
       "      <td>63.0</td>\n",
       "      <td>44.0</td>\n",
       "    </tr>\n",
       "    <tr>\n",
       "      <th>serialNumber</th>\n",
       "      <td>1486144</td>\n",
       "      <td>1486174</td>\n",
       "    </tr>\n",
       "    <tr>\n",
       "      <th>starts@start</th>\n",
       "      <td>74.0</td>\n",
       "      <td>61.0</td>\n",
       "    </tr>\n",
       "    <tr>\n",
       "      <th>val start</th>\n",
       "      <td>2022-01-10 00:00:00</td>\n",
       "      <td>2022-01-11 00:00:00</td>\n",
       "    </tr>\n",
       "    <tr>\n",
       "      <th>source</th>\n",
       "      <td>from_MyPlant</td>\n",
       "      <td>from_MyPlant</td>\n",
       "    </tr>\n",
       "  </tbody>\n",
       "</table>\n",
       "</div>"
      ],
      "text/plain": [
       "                               1486144              1486174\n",
       "Asset ID                        159396               159398\n",
       "Validation Engine   Forsa Hartmoor M01   Forsa Hartmoor M04\n",
       "n                                  999                  999\n",
       "oph@start                         63.0                 44.0\n",
       "serialNumber                   1486144              1486174\n",
       "starts@start                      74.0                 61.0\n",
       "val start          2022-01-10 00:00:00  2022-01-11 00:00:00\n",
       "source                    from_MyPlant         from_MyPlant"
      ]
     },
     "execution_count": 1,
     "metadata": {},
     "output_type": "execute_result"
    }
   ],
   "source": [
    "import pandas as pd; pd.options.mode.chained_assignment = None # default warn => SettingWithCopyWarning\n",
    "import numpy as np\n",
    "from datetime import datetime\n",
    "import warnings; warnings.simplefilter(action='ignore', category=UserWarning)\n",
    "from IPython.display import HTML, display\n",
    "from ipywidgets import AppLayout, Button, Layout, VBox, HBox, Label, HTML, interact, IntSlider\n",
    "import ipywidgets as widgets\n",
    "import arrow\n",
    "\n",
    "#import dmyplant2\n",
    "from dmyplant2 import (\n",
    "    cred, MyPlant, Engine, \n",
    "    msgFSM, filterFSM, FSMPlot_Start, \n",
    "    bokeh_show, dbokeh_chart, add_dbokeh_vlines, get_cycle_data2, \n",
    "    disp_result, alarms_pareto, warnings_pareto, states_lines,\n",
    "    detect_edge_right, detect_edge_left)\n",
    "    \n",
    "cred()\n",
    "mp = MyPlant(3600)\n",
    "Engine._list_cached_validations()"
   ]
  },
  {
   "cell_type": "code",
   "execution_count": 2,
   "metadata": {},
   "outputs": [],
   "source": [
    "def sfun(x):\n",
    "    return all([ (\"Forsa Hartmoor\" in str(x['IB Site Name'])),  (x['OperationalCondition'] != 'Decommissioned') ])\n",
    "fleet = mp.search_installed_fleet(sfun).drop('index', axis=1)\n",
    "fleet = fleet.sort_values(by = \"Engine ID\",ascending=True).reset_index(drop='index')\n",
    "fleet.T;"
   ]
  },
  {
   "cell_type": "code",
   "execution_count": 3,
   "metadata": {},
   "outputs": [
    {
     "data": {
      "text/plain": [
       "('Forsa Hartmoor M04', ['???', 'OFF', 'MANUAL', 'AUTO'], [True, False])"
      ]
     },
     "execution_count": 3,
     "metadata": {},
     "output_type": "execute_result"
    }
   ],
   "source": [
    "motor = fleet.iloc[3]\n",
    "modes = ['???','OFF','MANUAL','AUTO']\n",
    "success = [True,False]\n",
    "#success = [True]\n",
    "motor['IB Site Name'] + ' ' + motor['Engine ID'], modes, success"
   ]
  },
  {
   "cell_type": "code",
   "execution_count": 4,
   "metadata": {},
   "outputs": [
    {
     "name": "stderr",
     "output_type": "stream",
     "text": [
      "FSM: 100%|███████████████████████████| 419/419 [00:00<00:00, 2746.12 messages/s]\n"
     ]
    }
   ],
   "source": [
    "e=Engine.from_fleet(mp,motor)\n",
    "#fsm = msgFSM(e, p_from=e['Commissioning Date'], p_to=datetime.now(), successtime=600)\n",
    "#fsm = msgFSM(e, p_to='2022-02-01', successtime=600)\n",
    "fsm = msgFSM(e, p_from='2022-01-26', p_to='2022-02-01', successtime=600)\n",
    "fsm.run1(enforce=True) # run Finite State Machine\n",
    "fsm.store()"
   ]
  },
  {
   "cell_type": "code",
   "execution_count": 5,
   "metadata": {},
   "outputs": [
    {
     "data": {
      "application/vnd.jupyter.widget-view+json": {
       "model_id": "d84a0c64c4ae498f91ff32ce700bdb41",
       "version_major": 2,
       "version_minor": 0
      },
      "text/plain": [
       "HTML(value='<table border=\"1\" class=\"dataframe\">\\n  <thead>\\n    <tr style=\"text-align: right;\">\\n      <th>Na…"
      ]
     },
     "metadata": {},
     "output_type": "display_data"
    },
    {
     "name": "stdout",
     "output_type": "stream",
     "text": [
      "Starts: 5, Successful: 4, Failed: 1 => 80.0%\n"
     ]
    }
   ],
   "source": [
    "rdf = fsm.starts\n",
    "rda = rdf[:].reset_index(drop='index')\n",
    "rda = rda[(rda['mode'].isin(modes) & rda['success'].isin(success))].reset_index(drop='index')\n",
    "display(HTML(pd.DataFrame.from_dict(e.dash, orient='index').T.to_html(escape=False, index=False)))\n",
    "#rda[filterFSM.run2filter_content].round(2)\n",
    "print(f\"Starts: {rdf.shape[0]}, Successful: {rdf[rdf['success'] == True].shape[0]}, Failed: {rdf[rdf['success'] == False].shape[0]} => {rdf[rdf['success'] == True].shape[0]/rdf.shape[0]*100.0:3.1f}%\")"
   ]
  },
  {
   "cell_type": "code",
   "execution_count": 6,
   "metadata": {},
   "outputs": [
    {
     "data": {
      "text/html": [
       "<div>\n",
       "<style scoped>\n",
       "    .dataframe tbody tr th:only-of-type {\n",
       "        vertical-align: middle;\n",
       "    }\n",
       "\n",
       "    .dataframe tbody tr th {\n",
       "        vertical-align: top;\n",
       "    }\n",
       "\n",
       "    .dataframe thead th {\n",
       "        text-align: right;\n",
       "    }\n",
       "</style>\n",
       "<table border=\"1\" class=\"dataframe\">\n",
       "  <thead>\n",
       "    <tr style=\"text-align: right;\">\n",
       "      <th></th>\n",
       "      <th>no</th>\n",
       "      <th>success</th>\n",
       "      <th>mode</th>\n",
       "      <th>startpreparation</th>\n",
       "      <th>starter</th>\n",
       "      <th>speedup</th>\n",
       "      <th>idle</th>\n",
       "      <th>synchronize</th>\n",
       "      <th>loadramp</th>\n",
       "      <th>cumstarttime</th>\n",
       "      <th>maxload</th>\n",
       "      <th>ramprate</th>\n",
       "      <th>targetoperation</th>\n",
       "      <th>rampdown</th>\n",
       "      <th>coolrun</th>\n",
       "      <th>runout</th>\n",
       "      <th>count_alarms</th>\n",
       "      <th>count_warnings</th>\n",
       "    </tr>\n",
       "  </thead>\n",
       "  <tbody>\n",
       "    <tr>\n",
       "      <th>0</th>\n",
       "      <td>0</td>\n",
       "      <td>True</td>\n",
       "      <td>???</td>\n",
       "      <td>97.938000</td>\n",
       "      <td>3.732000</td>\n",
       "      <td>23.211</td>\n",
       "      <td>4.440999</td>\n",
       "      <td>37.436999</td>\n",
       "      <td>110.371000</td>\n",
       "      <td>277.129998</td>\n",
       "      <td>NaN</td>\n",
       "      <td>NaN</td>\n",
       "      <td>3622.060999</td>\n",
       "      <td>127.611</td>\n",
       "      <td>9.981999</td>\n",
       "      <td>49.117000</td>\n",
       "      <td>0</td>\n",
       "      <td>0</td>\n",
       "    </tr>\n",
       "    <tr>\n",
       "      <th>1</th>\n",
       "      <td>1</td>\n",
       "      <td>True</td>\n",
       "      <td>???</td>\n",
       "      <td>100.072000</td>\n",
       "      <td>3.732000</td>\n",
       "      <td>19.990</td>\n",
       "      <td>4.336000</td>\n",
       "      <td>1.413999</td>\n",
       "      <td>146.844999</td>\n",
       "      <td>276.388998</td>\n",
       "      <td>NaN</td>\n",
       "      <td>NaN</td>\n",
       "      <td>1822.544999</td>\n",
       "      <td>127.508</td>\n",
       "      <td>9.981999</td>\n",
       "      <td>48.755000</td>\n",
       "      <td>0</td>\n",
       "      <td>0</td>\n",
       "    </tr>\n",
       "    <tr>\n",
       "      <th>2</th>\n",
       "      <td>2</td>\n",
       "      <td>True</td>\n",
       "      <td>???</td>\n",
       "      <td>100.389999</td>\n",
       "      <td>3.620999</td>\n",
       "      <td>25.816</td>\n",
       "      <td>4.542000</td>\n",
       "      <td>4.136999</td>\n",
       "      <td>137.892000</td>\n",
       "      <td>276.397997</td>\n",
       "      <td>NaN</td>\n",
       "      <td>NaN</td>\n",
       "      <td>13222.301999</td>\n",
       "      <td>127.370</td>\n",
       "      <td>10.007000</td>\n",
       "      <td>48.774999</td>\n",
       "      <td>0</td>\n",
       "      <td>0</td>\n",
       "    </tr>\n",
       "    <tr>\n",
       "      <th>3</th>\n",
       "      <td>3</td>\n",
       "      <td>True</td>\n",
       "      <td>???</td>\n",
       "      <td>97.091000</td>\n",
       "      <td>3.640999</td>\n",
       "      <td>22.916</td>\n",
       "      <td>4.640999</td>\n",
       "      <td>4.424999</td>\n",
       "      <td>143.491000</td>\n",
       "      <td>276.204997</td>\n",
       "      <td>NaN</td>\n",
       "      <td>NaN</td>\n",
       "      <td>5422.724999</td>\n",
       "      <td>127.355</td>\n",
       "      <td>9.990000</td>\n",
       "      <td>48.824000</td>\n",
       "      <td>0</td>\n",
       "      <td>1</td>\n",
       "    </tr>\n",
       "    <tr>\n",
       "      <th>4</th>\n",
       "      <td>4</td>\n",
       "      <td>False</td>\n",
       "      <td>???</td>\n",
       "      <td>101.892000</td>\n",
       "      <td>3.730999</td>\n",
       "      <td>21.506</td>\n",
       "      <td>NaN</td>\n",
       "      <td>NaN</td>\n",
       "      <td>NaN</td>\n",
       "      <td>127.128999</td>\n",
       "      <td>NaN</td>\n",
       "      <td>NaN</td>\n",
       "      <td>NaN</td>\n",
       "      <td>NaN</td>\n",
       "      <td>NaN</td>\n",
       "      <td>NaN</td>\n",
       "      <td>0</td>\n",
       "      <td>0</td>\n",
       "    </tr>\n",
       "  </tbody>\n",
       "</table>\n",
       "</div>"
      ],
      "text/plain": [
       "   no  success mode  startpreparation   starter  speedup      idle  \\\n",
       "0   0     True  ???         97.938000  3.732000   23.211  4.440999   \n",
       "1   1     True  ???        100.072000  3.732000   19.990  4.336000   \n",
       "2   2     True  ???        100.389999  3.620999   25.816  4.542000   \n",
       "3   3     True  ???         97.091000  3.640999   22.916  4.640999   \n",
       "4   4    False  ???        101.892000  3.730999   21.506       NaN   \n",
       "\n",
       "   synchronize    loadramp  cumstarttime  maxload  ramprate  targetoperation  \\\n",
       "0    37.436999  110.371000    277.129998      NaN       NaN      3622.060999   \n",
       "1     1.413999  146.844999    276.388998      NaN       NaN      1822.544999   \n",
       "2     4.136999  137.892000    276.397997      NaN       NaN     13222.301999   \n",
       "3     4.424999  143.491000    276.204997      NaN       NaN      5422.724999   \n",
       "4          NaN         NaN    127.128999      NaN       NaN              NaN   \n",
       "\n",
       "   rampdown    coolrun     runout  count_alarms  count_warnings  \n",
       "0   127.611   9.981999  49.117000             0               0  \n",
       "1   127.508   9.981999  48.755000             0               0  \n",
       "2   127.370  10.007000  48.774999             0               0  \n",
       "3   127.355   9.990000  48.824000             0               1  \n",
       "4       NaN        NaN        NaN             0               0  "
      ]
     },
     "execution_count": 6,
     "metadata": {},
     "output_type": "execute_result"
    }
   ],
   "source": [
    "rda[filterFSM.run2filter_content]"
   ]
  },
  {
   "cell_type": "code",
   "execution_count": 7,
   "metadata": {},
   "outputs": [],
   "source": [
    "# %load_ext autoreload\n",
    "# %aimport -pandas, -numpy\n",
    "# %autoreload 2\n",
    "# Execute FSM Run 2\n",
    "#rda = fsm.run2(rda, silent=True)\n",
    "#fsm.store()"
   ]
  },
  {
   "cell_type": "code",
   "execution_count": 8,
   "metadata": {},
   "outputs": [],
   "source": [
    "#rdb = rda[(rda['mode'].isin(['AUTO','MANUAL'])) & ((rda['count_alarms'] > 0) | (rda['count_warnings'] > 0))]\n",
    "#rdb = rda[rda['synchronize'] < 15.0]\n",
    "rdb = rda\n",
    "#rdb[filterFSM.run2filter_content].sort_values(by=[\"synchronize\",\"loadramp\"], ascending=[True,True]).round(2)"
   ]
  },
  {
   "cell_type": "code",
   "execution_count": 9,
   "metadata": {},
   "outputs": [
    {
     "data": {
      "text/html": [
       "<div>\n",
       "<style scoped>\n",
       "    .dataframe tbody tr th:only-of-type {\n",
       "        vertical-align: middle;\n",
       "    }\n",
       "\n",
       "    .dataframe tbody tr th {\n",
       "        vertical-align: top;\n",
       "    }\n",
       "\n",
       "    .dataframe thead th {\n",
       "        text-align: right;\n",
       "    }\n",
       "</style>\n",
       "<table border=\"1\" class=\"dataframe\">\n",
       "  <thead>\n",
       "    <tr style=\"text-align: right;\">\n",
       "      <th></th>\n",
       "      <th>startpreparation</th>\n",
       "      <th>speedup</th>\n",
       "      <th>idle</th>\n",
       "      <th>synchronize</th>\n",
       "      <th>loadramp</th>\n",
       "      <th>maxload</th>\n",
       "      <th>ramprate</th>\n",
       "      <th>cumstarttime</th>\n",
       "      <th>targetoperation</th>\n",
       "      <th>rampdown</th>\n",
       "      <th>coolrun</th>\n",
       "      <th>runout</th>\n",
       "    </tr>\n",
       "  </thead>\n",
       "  <tbody>\n",
       "    <tr>\n",
       "      <th>count</th>\n",
       "      <td>5.00</td>\n",
       "      <td>5.00</td>\n",
       "      <td>4.00</td>\n",
       "      <td>4.00</td>\n",
       "      <td>4.00</td>\n",
       "      <td>0.0</td>\n",
       "      <td>0.0</td>\n",
       "      <td>5.00</td>\n",
       "      <td>4.00</td>\n",
       "      <td>4.00</td>\n",
       "      <td>4.00</td>\n",
       "      <td>4.00</td>\n",
       "    </tr>\n",
       "    <tr>\n",
       "      <th>mean</th>\n",
       "      <td>99.48</td>\n",
       "      <td>22.69</td>\n",
       "      <td>4.49</td>\n",
       "      <td>11.85</td>\n",
       "      <td>134.65</td>\n",
       "      <td>NaN</td>\n",
       "      <td>NaN</td>\n",
       "      <td>246.65</td>\n",
       "      <td>6022.41</td>\n",
       "      <td>127.46</td>\n",
       "      <td>9.99</td>\n",
       "      <td>48.87</td>\n",
       "    </tr>\n",
       "    <tr>\n",
       "      <th>std</th>\n",
       "      <td>1.94</td>\n",
       "      <td>2.17</td>\n",
       "      <td>0.13</td>\n",
       "      <td>17.11</td>\n",
       "      <td>16.60</td>\n",
       "      <td>NaN</td>\n",
       "      <td>NaN</td>\n",
       "      <td>66.82</td>\n",
       "      <td>5019.91</td>\n",
       "      <td>0.12</td>\n",
       "      <td>0.01</td>\n",
       "      <td>0.17</td>\n",
       "    </tr>\n",
       "    <tr>\n",
       "      <th>min</th>\n",
       "      <td>97.09</td>\n",
       "      <td>19.99</td>\n",
       "      <td>4.34</td>\n",
       "      <td>1.41</td>\n",
       "      <td>110.37</td>\n",
       "      <td>NaN</td>\n",
       "      <td>NaN</td>\n",
       "      <td>127.13</td>\n",
       "      <td>1822.54</td>\n",
       "      <td>127.36</td>\n",
       "      <td>9.98</td>\n",
       "      <td>48.76</td>\n",
       "    </tr>\n",
       "    <tr>\n",
       "      <th>25%</th>\n",
       "      <td>97.94</td>\n",
       "      <td>21.51</td>\n",
       "      <td>4.41</td>\n",
       "      <td>3.46</td>\n",
       "      <td>131.01</td>\n",
       "      <td>NaN</td>\n",
       "      <td>NaN</td>\n",
       "      <td>276.20</td>\n",
       "      <td>3172.18</td>\n",
       "      <td>127.37</td>\n",
       "      <td>9.98</td>\n",
       "      <td>48.77</td>\n",
       "    </tr>\n",
       "    <tr>\n",
       "      <th>50%</th>\n",
       "      <td>100.07</td>\n",
       "      <td>22.92</td>\n",
       "      <td>4.49</td>\n",
       "      <td>4.28</td>\n",
       "      <td>140.69</td>\n",
       "      <td>NaN</td>\n",
       "      <td>NaN</td>\n",
       "      <td>276.39</td>\n",
       "      <td>4522.39</td>\n",
       "      <td>127.44</td>\n",
       "      <td>9.99</td>\n",
       "      <td>48.80</td>\n",
       "    </tr>\n",
       "    <tr>\n",
       "      <th>75%</th>\n",
       "      <td>100.39</td>\n",
       "      <td>23.21</td>\n",
       "      <td>4.57</td>\n",
       "      <td>12.68</td>\n",
       "      <td>144.33</td>\n",
       "      <td>NaN</td>\n",
       "      <td>NaN</td>\n",
       "      <td>276.40</td>\n",
       "      <td>7372.62</td>\n",
       "      <td>127.53</td>\n",
       "      <td>9.99</td>\n",
       "      <td>48.90</td>\n",
       "    </tr>\n",
       "    <tr>\n",
       "      <th>max</th>\n",
       "      <td>101.89</td>\n",
       "      <td>25.82</td>\n",
       "      <td>4.64</td>\n",
       "      <td>37.44</td>\n",
       "      <td>146.84</td>\n",
       "      <td>NaN</td>\n",
       "      <td>NaN</td>\n",
       "      <td>277.13</td>\n",
       "      <td>13222.30</td>\n",
       "      <td>127.61</td>\n",
       "      <td>10.01</td>\n",
       "      <td>49.12</td>\n",
       "    </tr>\n",
       "  </tbody>\n",
       "</table>\n",
       "</div>"
      ],
      "text/plain": [
       "       startpreparation  speedup  idle  synchronize  loadramp  maxload  \\\n",
       "count              5.00     5.00  4.00         4.00      4.00      0.0   \n",
       "mean              99.48    22.69  4.49        11.85    134.65      NaN   \n",
       "std                1.94     2.17  0.13        17.11     16.60      NaN   \n",
       "min               97.09    19.99  4.34         1.41    110.37      NaN   \n",
       "25%               97.94    21.51  4.41         3.46    131.01      NaN   \n",
       "50%              100.07    22.92  4.49         4.28    140.69      NaN   \n",
       "75%              100.39    23.21  4.57        12.68    144.33      NaN   \n",
       "max              101.89    25.82  4.64        37.44    146.84      NaN   \n",
       "\n",
       "       ramprate  cumstarttime  targetoperation  rampdown  coolrun  runout  \n",
       "count       0.0          5.00             4.00      4.00     4.00    4.00  \n",
       "mean        NaN        246.65          6022.41    127.46     9.99   48.87  \n",
       "std         NaN         66.82          5019.91      0.12     0.01    0.17  \n",
       "min         NaN        127.13          1822.54    127.36     9.98   48.76  \n",
       "25%         NaN        276.20          3172.18    127.37     9.98   48.77  \n",
       "50%         NaN        276.39          4522.39    127.44     9.99   48.80  \n",
       "75%         NaN        276.40          7372.62    127.53     9.99   48.90  \n",
       "max         NaN        277.13         13222.30    127.61    10.01   49.12  "
      ]
     },
     "metadata": {},
     "output_type": "display_data"
    },
    {
     "data": {
      "image/png": "[encoded data removed]",
      "text/plain": [
       "<Figure size 1440x1440 with 12 Axes>"
      ]
     },
     "metadata": {
      "needs_background": "light"
     },
     "output_type": "display_data"
    }
   ],
   "source": [
    "vec = ['startpreparation','speedup','idle','synchronize','loadramp','maxload','ramprate','cumstarttime','targetoperation','rampdown','coolrun','runout']\n",
    "display(_=rdb[vec].hist(bins=30,figsize=(20,20)))\n",
    "display(rdb[vec].describe().round(2))"
   ]
  },
  {
   "cell_type": "code",
   "execution_count": 10,
   "metadata": {},
   "outputs": [
    {
     "data": {
      "application/javascript": "\n(function(root) {\n  function now() {\n    return new Date();\n  }\n\n  const force = true;\n\n  if (typeof root._bokeh_onload_callbacks === \"undefined\" || force === true) {\n    root._bokeh_onload_callbacks = [];\n    root._bokeh_is_loading = undefined;\n  }\n\n  const JS_MIME_TYPE = 'application/javascript';\n  const HTML_MIME_TYPE = 'text/html';\n  const EXEC_MIME_TYPE = 'application/vnd.bokehjs_exec.v0+json';\n  const CLASS_NAME = 'output_bokeh rendered_html';\n\n  /**\n   * Render data to the DOM node\n   */\n  function render(props, node) {\n    const script = document.createElement(\"script\");\n    node.appendChild(script);\n  }\n\n  /**\n   * Handle when an output is cleared or removed\n   */\n  function handleClearOutput(event, handle) {\n    const cell = handle.cell;\n\n    const id = cell.output_area._bokeh_element_id;\n    const server_id = cell.output_area._bokeh_server_id;\n    // Clean up Bokeh references\n    if (id != null && id in Bokeh.index) {\n      Bokeh.index[id].model.document.clear();\n      delete Bokeh.index[id];\n    }\n\n    if (server_id !== undefined) {\n      // Clean up Bokeh references\n      const cmd_clean = \"from bokeh.io.state import curstate; print(curstate().uuid_to_server['\" + server_id + \"'].get_sessions()[0].document.roots[0]._id)\";\n      cell.notebook.kernel.execute(cmd_clean, {\n        iopub: {\n          output: function(msg) {\n            const id = msg.content.text.trim();\n            if (id in Bokeh.index) {\n              Bokeh.index[id].model.document.clear();\n              delete Bokeh.index[id];\n            }\n          }\n        }\n      });\n      // Destroy server and session\n      const cmd_destroy = \"import bokeh.io.notebook as ion; ion.destroy_server('\" + server_id + \"')\";\n      cell.notebook.kernel.execute(cmd_destroy);\n    }\n  }\n\n  /**\n   * Handle when a new output is added\n   */\n  function handleAddOutput(event, handle) {\n    const output_area = handle.output_area;\n    const output = handle.output;\n\n    // limit handleAddOutput to display_data with EXEC_MIME_TYPE content only\n    if ((output.output_type != \"display_data\") || (!Object.prototype.hasOwnProperty.call(output.data, EXEC_MIME_TYPE))) {\n      return\n    }\n\n    const toinsert = output_area.element.find(\".\" + CLASS_NAME.split(' ')[0]);\n\n    if (output.metadata[EXEC_MIME_TYPE][\"id\"] !== undefined) {\n      toinsert[toinsert.length - 1].firstChild.textContent = output.data[JS_MIME_TYPE];\n      // store reference to embed id on output_area\n      output_area._bokeh_element_id = output.metadata[EXEC_MIME_TYPE][\"id\"];\n    }\n    if (output.metadata[EXEC_MIME_TYPE][\"server_id\"] !== undefined) {\n      const bk_div = document.createElement(\"div\");\n      bk_div.innerHTML = output.data[HTML_MIME_TYPE];\n      const script_attrs = bk_div.children[0].attributes;\n      for (let i = 0; i < script_attrs.length; i++) {\n        toinsert[toinsert.length - 1].firstChild.setAttribute(script_attrs[i].name, script_attrs[i].value);\n        toinsert[toinsert.length - 1].firstChild.textContent = bk_div.children[0].textContent\n      }\n      // store reference to server id on output_area\n      output_area._bokeh_server_id = output.metadata[EXEC_MIME_TYPE][\"server_id\"];\n    }\n  }\n\n  function register_renderer(events, OutputArea) {\n\n    function append_mime(data, metadata, element) {\n      // create a DOM node to render to\n      const toinsert = this.create_output_subarea(\n        metadata,\n        CLASS_NAME,\n        EXEC_MIME_TYPE\n      );\n      this.keyboard_manager.register_events(toinsert);\n      // Render to node\n      const props = {data: data, metadata: metadata[EXEC_MIME_TYPE]};\n      render(props, toinsert[toinsert.length - 1]);\n      element.append(toinsert);\n      return toinsert\n    }\n\n    /* Handle when an output is cleared or removed */\n    events.on('clear_output.CodeCell', handleClearOutput);\n    events.on('delete.Cell', handleClearOutput);\n\n    /* Handle when a new output is added */\n    events.on('output_added.OutputArea', handleAddOutput);\n\n    /**\n     * Register the mime type and append_mime function with output_area\n     */\n    OutputArea.prototype.register_mime_type(EXEC_MIME_TYPE, append_mime, {\n      /* Is output safe? */\n      safe: true,\n      /* Index of renderer in `output_area.display_order` */\n      index: 0\n    });\n  }\n\n  // register the mime type if in Jupyter Notebook environment and previously unregistered\n  if (root.Jupyter !== undefined) {\n    const events = require('base/js/events');\n    const OutputArea = require('notebook/js/outputarea').OutputArea;\n\n    if (OutputArea.prototype.mime_types().indexOf(EXEC_MIME_TYPE) == -1) {\n      register_renderer(events, OutputArea);\n    }\n  }\n\n  \n  if (typeof (root._bokeh_timeout) === \"undefined\" || force === true) {\n    root._bokeh_timeout = Date.now() + 5000;\n    root._bokeh_failed_load = false;\n  }\n\n  const NB_LOAD_WARNING = {'data': {'text/html':\n     \"<div style='background-color: #fdd'>\\n\"+\n     \"<p>\\n\"+\n     \"BokehJS does not appear to have successfully loaded. If loading BokehJS from CDN, this \\n\"+\n     \"may be due to a slow or bad network connection. Possible fixes:\\n\"+\n     \"</p>\\n\"+\n     \"<ul>\\n\"+\n     \"<li>re-rerun `output_notebook()` to attempt to load from CDN again, or</li>\\n\"+\n     \"<li>use INLINE resources instead, as so:</li>\\n\"+\n     \"</ul>\\n\"+\n     \"<code>\\n\"+\n     \"from bokeh.resources import INLINE\\n\"+\n     \"output_notebook(resources=INLINE)\\n\"+\n     \"</code>\\n\"+\n     \"</div>\"}};\n\n  function display_loaded() {\n    const el = document.getElementById(null);\n    if (el != null) {\n      el.textContent = \"BokehJS is loading...\";\n    }\n    if (root.Bokeh !== undefined) {\n      if (el != null) {\n        el.textContent = \"BokehJS \" + root.Bokeh.version + \" successfully loaded.\";\n      }\n    } else if (Date.now() < root._bokeh_timeout) {\n      setTimeout(display_loaded, 100)\n    }\n  }\n\n\n  function run_callbacks() {\n    try {\n      root._bokeh_onload_callbacks.forEach(function(callback) {\n        if (callback != null)\n          callback();\n      });\n    } finally {\n      delete root._bokeh_onload_callbacks\n    }\n    console.debug(\"Bokeh: all callbacks have finished\");\n  }\n\n  function load_libs(css_urls, js_urls, callback) {\n    if (css_urls == null) css_urls = [];\n    if (js_urls == null) js_urls = [];\n\n    root._bokeh_onload_callbacks.push(callback);\n    if (root._bokeh_is_loading > 0) {\n      console.debug(\"Bokeh: BokehJS is being loaded, scheduling callback at\", now());\n      return null;\n    }\n    if (js_urls == null || js_urls.length === 0) {\n      run_callbacks();\n      return null;\n    }\n    console.debug(\"Bokeh: BokehJS not loaded, scheduling load and callback at\", now());\n    root._bokeh_is_loading = css_urls.length + js_urls.length;\n\n    function on_load() {\n      root._bokeh_is_loading--;\n      if (root._bokeh_is_loading === 0) {\n        console.debug(\"Bokeh: all BokehJS libraries/stylesheets loaded\");\n        run_callbacks()\n      }\n    }\n\n    function on_error(url) {\n      console.error(\"failed to load \" + url);\n    }\n\n    for (let i = 0; i < css_urls.length; i++) {\n      const url = css_urls[i];\n      const element = document.createElement(\"link\");\n      element.onload = on_load;\n      element.onerror = on_error.bind(null, url);\n      element.rel = \"stylesheet\";\n      element.type = \"text/css\";\n      element.href = url;\n      console.debug(\"Bokeh: injecting link tag for BokehJS stylesheet: \", url);\n      document.body.appendChild(element);\n    }\n\n    for (let i = 0; i < js_urls.length; i++) {\n      const url = js_urls[i];\n      const element = document.createElement('script');\n      element.onload = on_load;\n      element.onerror = on_error.bind(null, url);\n      element.async = false;\n      element.src = url;\n      console.debug(\"Bokeh: injecting script tag for BokehJS library: \", url);\n      document.head.appendChild(element);\n    }\n  };\n\n  function inject_raw_css(css) {\n    const element = document.createElement(\"style\");\n    element.appendChild(document.createTextNode(css));\n    document.body.appendChild(element);\n  }\n\n  \n  const js_urls = [\"https://cdn.bokeh.org/bokeh/release/bokeh-2.4.2.min.js\", \"https://cdn.bokeh.org/bokeh/release/bokeh-gl-2.4.2.min.js\", \"https://cdn.bokeh.org/bokeh/release/bokeh-widgets-2.4.2.min.js\", \"https://cdn.bokeh.org/bokeh/release/bokeh-tables-2.4.2.min.js\", \"https://cdn.bokeh.org/bokeh/release/bokeh-mathjax-2.4.2.min.js\"];\n  const css_urls = [];\n  \n\n  const inline_js = [\n    function(Bokeh) {\n      Bokeh.set_log_level(\"info\");\n    },\n    function(Bokeh) {\n    \n    \n    }\n  ];\n\n  function run_inline_js() {\n    \n    if (root.Bokeh !== undefined || force === true) {\n      \n    for (let i = 0; i < inline_js.length; i++) {\n      inline_js[i].call(root, root.Bokeh);\n    }\n    } else if (Date.now() < root._bokeh_timeout) {\n      setTimeout(run_inline_js, 100);\n    } else if (!root._bokeh_failed_load) {\n      console.log(\"Bokeh: BokehJS failed to load within specified timeout.\");\n      root._bokeh_failed_load = true;\n    } else if (force !== true) {\n      const cell = $(document.getElementById(null)).parents('.cell').data().cell;\n      cell.output_area.append_execute_result(NB_LOAD_WARNING)\n    }\n\n  }\n\n  if (root._bokeh_is_loading === 0) {\n    console.debug(\"Bokeh: BokehJS loaded, going straight to plotting\");\n    run_inline_js();\n  } else {\n    load_libs(css_urls, js_urls, function() {\n      console.debug(\"Bokeh: BokehJS plotting callback run at\", now());\n      run_inline_js();\n    });\n  }\n}(window));",
      "application/vnd.bokehjs_load.v0+json": ""
     },
     "metadata": {},
     "output_type": "display_data"
    },
    {
     "data": {
      "text/html": [
       "\n",
       "\n",
       "\n",
       "\n",
       "\n",
       "\n",
       "  <div class=\"bk-root\" id=\"628fec6a-ca3e-485e-a588-b447ce33f33c\" data-root-id=\"1003\"></div>\n"
      ]
     },
     "metadata": {},
     "output_type": "display_data"
    },
    {
     "data": {
      "application/javascript": "(function(root) {\n  function embed_document(root) {\n    \n  const docs_json = {\"e4d3e22a-db98-4bb3-b22b-887ccc1441ed\":{\"defs\":[],\"roots\":{\"references\":[{\"attributes\":{\"below\":[{\"id\":\"1012\"}],\"center\":[{\"id\":\"1015\"},{\"id\":\"1019\"},{\"id\":\"1068\"}],\"extra_y_ranges\":{\"0\":{\"id\":\"1037\"},\"1\":{\"id\":\"1101\"},\"2\":{\"id\":\"1170\"},\"4\":{\"id\":\"1245\"},\"5\":{\"id\":\"1326\"},\"6\":{\"id\":\"1413\"},\"7\":{\"id\":\"1506\"}},\"height\":528,\"left\":[{\"id\":\"1016\"},{\"id\":\"1100\"},{\"id\":\"1169\"},{\"id\":\"1244\"},{\"id\":\"1325\"},{\"id\":\"1412\"},{\"id\":\"1505\"},{\"id\":\"1604\"}],\"renderers\":[{\"id\":\"1042\"},{\"id\":\"1074\"},{\"id\":\"1106\"},{\"id\":\"1140\"},{\"id\":\"1175\"},{\"id\":\"1212\"},{\"id\":\"1250\"},{\"id\":\"1290\"},{\"id\":\"1331\"},{\"id\":\"1374\"},{\"id\":\"1418\"},{\"id\":\"1464\"},{\"id\":\"1511\"},{\"id\":\"1560\"}],\"title\":{\"id\":\"1044\"},\"toolbar\":{\"id\":\"1029\"},\"width\":792,\"x_range\":{\"id\":\"1004\"},\"x_scale\":{\"id\":\"1008\"},\"y_range\":{\"id\":\"1006\"},\"y_scale\":{\"id\":\"1010\"}},\"id\":\"1003\",\"subtype\":\"Figure\",\"type\":\"Plot\"},{\"attributes\":{},\"id\":\"1006\",\"type\":\"DataRange1d\"},{\"attributes\":{\"fill_alpha\":{\"value\":0.1},\"fill_color\":{\"value\":\"#2ca02c\"},\"hatch_alpha\":{\"value\":0.1},\"hatch_color\":{\"value\":\"#2ca02c\"},\"line_alpha\":{\"value\":0.1},\"line_color\":{\"value\":\"#2ca02c\"},\"line_width\":{\"value\":2},\"x\":{\"field\":\"datetime\"},\"y\":{\"field\":\"synchronize\"}},\"id\":\"1138\",\"type\":\"Circle\"},{\"attributes\":{\"line_color\":\"#9467bd\",\"line_width\":2,\"x\":{\"field\":\"datetime\"},\"y\":{\"field\":\"startpreparation\"}},\"id\":\"1172\",\"type\":\"Line\"},{\"attributes\":{\"line_width\":2,\"x\":{\"field\":\"datetime\"},\"y\":{\"field\":\"no\"}},\"id\":\"1415\",\"type\":\"Line\"},{\"attributes\":{\"axis\":{\"id\":\"1016\"},\"coordinates\":null,\"dimension\":1,\"group\":null,\"ticker\":null},\"id\":\"1019\",\"type\":\"Grid\"},{\"attributes\":{},\"id\":\"1017\",\"type\":\"BasicTicker\"},{\"attributes\":{\"coordinates\":null,\"formatter\":{\"id\":\"1047\"},\"group\":null,\"major_label_policy\":{\"id\":\"1048\"},\"ticker\":{\"id\":\"1017\"},\"visible\":false},\"id\":\"1016\",\"type\":\"LinearAxis\"},{\"attributes\":{\"bottom_units\":\"screen\",\"coordinates\":null,\"fill_alpha\":0.5,\"fill_color\":\"lightgrey\",\"group\":null,\"left_units\":\"screen\",\"level\":\"overlay\",\"line_alpha\":1.0,\"line_color\":\"black\",\"line_dash\":[4,4],\"line_width\":2,\"right_units\":\"screen\",\"syncable\":false,\"top_units\":\"screen\"},\"id\":\"1028\",\"type\":\"BoxAnnotation\"},{\"attributes\":{\"line_alpha\":0.1,\"line_width\":2,\"x\":{\"field\":\"datetime\"},\"y\":{\"field\":\"no\"}},\"id\":\"1416\",\"type\":\"Line\"},{\"attributes\":{\"coordinates\":null,\"data_source\":{\"id\":\"1002\"},\"glyph\":{\"id\":\"1172\"},\"group\":null,\"hover_glyph\":null,\"muted_glyph\":{\"id\":\"1174\"},\"nonselection_glyph\":{\"id\":\"1173\"},\"view\":{\"id\":\"1176\"},\"y_range_name\":\"2\"},\"id\":\"1175\",\"type\":\"GlyphRenderer\"},{\"attributes\":{\"fill_color\":{\"value\":\"black\"},\"line_width\":{\"value\":2},\"x\":{\"field\":\"datetime\"},\"y\":{\"field\":\"no\"}},\"id\":\"1461\",\"type\":\"Circle\"},{\"attributes\":{},\"id\":\"1020\",\"type\":\"PanTool\"},{\"attributes\":{\"source\":{\"id\":\"1002\"}},\"id\":\"1419\",\"type\":\"CDSView\"},{\"attributes\":{},\"id\":\"1187\",\"type\":\"AllLabels\"},{\"attributes\":{},\"id\":\"1631\",\"type\":\"BasicTickFormatter\"},{\"attributes\":{\"label\":{\"value\":\"no\"},\"renderers\":[{\"id\":\"1418\"},{\"id\":\"1464\"}]},\"id\":\"1459\",\"type\":\"LegendItem\"},{\"attributes\":{\"line_alpha\":0.1,\"line_color\":\"#9467bd\",\"line_width\":2,\"x\":{\"field\":\"datetime\"},\"y\":{\"field\":\"startpreparation\"}},\"id\":\"1173\",\"type\":\"Line\"},{\"attributes\":{},\"id\":\"1632\",\"type\":\"AllLabels\"},{\"attributes\":{},\"id\":\"1186\",\"type\":\"BasicTickFormatter\"},{\"attributes\":{},\"id\":\"1004\",\"type\":\"DataRange1d\"},{\"attributes\":{\"line_alpha\":0.1,\"line_color\":\"darkblue\",\"line_width\":2,\"x\":{\"field\":\"datetime\"},\"y\":{\"field\":\"cumstarttime\"}},\"id\":\"1040\",\"type\":\"Line\"},{\"attributes\":{\"fill_alpha\":{\"value\":0.1},\"fill_color\":{\"value\":\"black\"},\"hatch_alpha\":{\"value\":0.1},\"line_alpha\":{\"value\":0.1},\"line_width\":{\"value\":2},\"x\":{\"field\":\"datetime\"},\"y\":{\"field\":\"no\"}},\"id\":\"1462\",\"type\":\"Circle\"},{\"attributes\":{},\"id\":\"1630\",\"type\":\"BasicTicker\"},{\"attributes\":{\"line_alpha\":0.2,\"line_color\":\"darkblue\",\"line_width\":2,\"x\":{\"field\":\"datetime\"},\"y\":{\"field\":\"cumstarttime\"}},\"id\":\"1041\",\"type\":\"Line\"},{\"attributes\":{\"active_drag\":null,\"active_scroll\":null,\"tools\":[{\"id\":\"1020\"},{\"id\":\"1021\"},{\"id\":\"1022\"},{\"id\":\"1023\"},{\"id\":\"1024\"},{\"id\":\"1025\"},{\"id\":\"1026\"},{\"id\":\"1605\"}]},\"id\":\"1029\",\"type\":\"Toolbar\"},{\"attributes\":{\"fill_alpha\":{\"value\":0.1},\"fill_color\":{\"value\":\"darkblue\"},\"hatch_alpha\":{\"value\":0.1},\"hatch_color\":{\"value\":\"darkblue\"},\"line_alpha\":{\"value\":0.1},\"line_color\":{\"value\":\"darkblue\"},\"line_width\":{\"value\":2},\"x\":{\"field\":\"datetime\"},\"y\":{\"field\":\"cumstarttime\"}},\"id\":\"1072\",\"type\":\"Circle\"},{\"attributes\":{\"axis_label\":\"cumstarttime []\",\"axis_label_text_color\":\"darkblue\",\"coordinates\":null,\"formatter\":{\"id\":\"1114\"},\"group\":null,\"major_label_policy\":{\"id\":\"1115\"},\"ticker\":{\"id\":\"1113\"},\"y_range_name\":\"0\"},\"id\":\"1100\",\"type\":\"LinearAxis\"},{\"attributes\":{\"click_policy\":\"hide\",\"coordinates\":null,\"group\":null,\"items\":[{\"id\":\"1069\"},{\"id\":\"1135\"},{\"id\":\"1207\"},{\"id\":\"1285\"},{\"id\":\"1369\"},{\"id\":\"1459\"},{\"id\":\"1555\"}],\"location\":\"top_left\"},\"id\":\"1068\",\"type\":\"Legend\"},{\"attributes\":{\"coordinates\":null,\"data_source\":{\"id\":\"1002\"},\"glyph\":{\"id\":\"1071\"},\"group\":null,\"hover_glyph\":null,\"muted_glyph\":{\"id\":\"1073\"},\"nonselection_glyph\":{\"id\":\"1072\"},\"view\":{\"id\":\"1075\"},\"y_range_name\":\"0\"},\"id\":\"1074\",\"type\":\"GlyphRenderer\"},{\"attributes\":{\"end\":300,\"start\":-600},\"id\":\"1170\",\"type\":\"Range1d\"},{\"attributes\":{\"line_color\":\"#1f77b4\",\"line_width\":2,\"x\":{\"field\":\"datetime\"},\"y\":{\"field\":\"maxload\"}},\"id\":\"1508\",\"type\":\"Line\"},{\"attributes\":{\"fill_color\":{\"value\":\"darkblue\"},\"hatch_color\":{\"value\":\"darkblue\"},\"line_color\":{\"value\":\"darkblue\"},\"line_width\":{\"value\":2},\"x\":{\"field\":\"datetime\"},\"y\":{\"field\":\"cumstarttime\"}},\"id\":\"1071\",\"type\":\"Circle\"},{\"attributes\":{},\"id\":\"1048\",\"type\":\"AllLabels\"},{\"attributes\":{\"end\":300,\"start\":-20},\"id\":\"1101\",\"type\":\"Range1d\"},{\"attributes\":{\"fill_alpha\":{\"value\":0.2},\"fill_color\":{\"value\":\"darkblue\"},\"hatch_alpha\":{\"value\":0.2},\"hatch_color\":{\"value\":\"darkblue\"},\"line_alpha\":{\"value\":0.2},\"line_color\":{\"value\":\"darkblue\"},\"line_width\":{\"value\":2},\"x\":{\"field\":\"datetime\"},\"y\":{\"field\":\"cumstarttime\"}},\"id\":\"1073\",\"type\":\"Circle\"},{\"attributes\":{\"coordinates\":null,\"data_source\":{\"id\":\"1002\"},\"glyph\":{\"id\":\"1137\"},\"group\":null,\"hover_glyph\":null,\"muted_glyph\":{\"id\":\"1139\"},\"nonselection_glyph\":{\"id\":\"1138\"},\"view\":{\"id\":\"1141\"},\"y_range_name\":\"1\"},\"id\":\"1140\",\"type\":\"GlyphRenderer\"},{\"attributes\":{\"callback\":null,\"formatters\":{\"@datetime\":\"datetime\"},\"tooltips\":[[\"Datetime\",\"@datetime{%F %T}\"],[\"cumstarttime\",\"@{cumstarttime}{0.2 f} \"],[\"synchronize\",\"@{synchronize}{0.2 f} \"],[\"startpreparation\",\"@{startpreparation}{0.2 f} \"],[\"loadramp\",\"@{loadramp}{0.2 f} \"],[\"ramprate\",\"@{ramprate}{0.2 f} \"],[\"no\",\"@{no}{0.2 f} \"],[\"maxload\",\"@{maxload}{0.2 f} \"]]},\"id\":\"1605\",\"type\":\"HoverTool\"},{\"attributes\":{\"coordinates\":null,\"data_source\":{\"id\":\"1002\"},\"glyph\":{\"id\":\"1039\"},\"group\":null,\"hover_glyph\":null,\"muted_glyph\":{\"id\":\"1041\"},\"nonselection_glyph\":{\"id\":\"1040\"},\"view\":{\"id\":\"1043\"},\"y_range_name\":\"0\"},\"id\":\"1042\",\"type\":\"GlyphRenderer\"},{\"attributes\":{\"coordinates\":null,\"data_source\":{\"id\":\"1002\"},\"glyph\":{\"id\":\"1461\"},\"group\":null,\"hover_glyph\":null,\"muted_glyph\":{\"id\":\"1463\"},\"nonselection_glyph\":{\"id\":\"1462\"},\"view\":{\"id\":\"1465\"},\"y_range_name\":\"6\"},\"id\":\"1464\",\"type\":\"GlyphRenderer\"},{\"attributes\":{\"source\":{\"id\":\"1002\"}},\"id\":\"1043\",\"type\":\"CDSView\"},{\"attributes\":{\"source\":{\"id\":\"1002\"}},\"id\":\"1075\",\"type\":\"CDSView\"},{\"attributes\":{\"source\":{\"id\":\"1002\"}},\"id\":\"1465\",\"type\":\"CDSView\"},{\"attributes\":{},\"id\":\"1051\",\"type\":\"AllLabels\"},{\"attributes\":{\"end\":900,\"start\":-400},\"id\":\"1037\",\"type\":\"Range1d\"},{\"attributes\":{},\"id\":\"1052\",\"type\":\"UnionRenderers\"},{\"attributes\":{\"coordinates\":null,\"formatter\":{\"id\":\"1050\"},\"group\":null,\"major_label_policy\":{\"id\":\"1051\"},\"ticker\":{\"id\":\"1013\"}},\"id\":\"1012\",\"type\":\"DatetimeAxis\"},{\"attributes\":{},\"id\":\"1439\",\"type\":\"AllLabels\"},{\"attributes\":{},\"id\":\"1437\",\"type\":\"BasicTicker\"},{\"attributes\":{\"bottom_units\":\"screen\",\"coordinates\":null,\"fill_alpha\":0.5,\"fill_color\":\"lightgrey\",\"group\":null,\"left_units\":\"screen\",\"level\":\"overlay\",\"line_alpha\":1.0,\"line_color\":\"black\",\"line_dash\":[4,4],\"line_width\":2,\"right_units\":\"screen\",\"syncable\":false,\"top_units\":\"screen\"},\"id\":\"1027\",\"type\":\"BoxAnnotation\"},{\"attributes\":{\"fill_alpha\":{\"value\":0.2},\"fill_color\":{\"value\":\"black\"},\"hatch_alpha\":{\"value\":0.2},\"line_alpha\":{\"value\":0.2},\"line_width\":{\"value\":2},\"x\":{\"field\":\"datetime\"},\"y\":{\"field\":\"no\"}},\"id\":\"1463\",\"type\":\"Circle\"},{\"attributes\":{\"axis\":{\"id\":\"1012\"},\"coordinates\":null,\"group\":null,\"ticker\":null},\"id\":\"1015\",\"type\":\"Grid\"},{\"attributes\":{},\"id\":\"1010\",\"type\":\"LinearScale\"},{\"attributes\":{\"axis_label\":\"no []\",\"axis_label_text_color\":\"black\",\"coordinates\":null,\"formatter\":{\"id\":\"1534\"},\"group\":null,\"major_label_policy\":{\"id\":\"1535\"},\"ticker\":{\"id\":\"1533\"},\"y_range_name\":\"6\"},\"id\":\"1505\",\"type\":\"LinearAxis\"},{\"attributes\":{},\"id\":\"1024\",\"type\":\"UndoTool\"},{\"attributes\":{},\"id\":\"1008\",\"type\":\"LinearScale\"},{\"attributes\":{},\"id\":\"1185\",\"type\":\"BasicTicker\"},{\"attributes\":{},\"id\":\"1438\",\"type\":\"BasicTickFormatter\"},{\"attributes\":{\"line_alpha\":0.2,\"line_color\":\"#2ca02c\",\"line_width\":2,\"x\":{\"field\":\"datetime\"},\"y\":{\"field\":\"synchronize\"}},\"id\":\"1105\",\"type\":\"Line\"},{\"attributes\":{},\"id\":\"1115\",\"type\":\"AllLabels\"},{\"attributes\":{\"coordinates\":null,\"group\":null,\"text\":\"1486174 Forsa Hartmoor M04\",\"text_font_size\":\"16px\"},\"id\":\"1044\",\"type\":\"Title\"},{\"attributes\":{\"coordinates\":null,\"data_source\":{\"id\":\"1002\"},\"glyph\":{\"id\":\"1415\"},\"group\":null,\"hover_glyph\":null,\"muted_glyph\":{\"id\":\"1417\"},\"nonselection_glyph\":{\"id\":\"1416\"},\"view\":{\"id\":\"1419\"},\"y_range_name\":\"6\"},\"id\":\"1418\",\"type\":\"GlyphRenderer\"},{\"attributes\":{\"line_color\":\"darkblue\",\"line_width\":2,\"x\":{\"field\":\"datetime\"},\"y\":{\"field\":\"cumstarttime\"}},\"id\":\"1039\",\"type\":\"Line\"},{\"attributes\":{\"num_minor_ticks\":5,\"tickers\":[{\"id\":\"1056\"},{\"id\":\"1057\"},{\"id\":\"1058\"},{\"id\":\"1059\"},{\"id\":\"1060\"},{\"id\":\"1061\"},{\"id\":\"1062\"},{\"id\":\"1063\"},{\"id\":\"1064\"},{\"id\":\"1065\"},{\"id\":\"1066\"},{\"id\":\"1067\"}]},\"id\":\"1013\",\"type\":\"DatetimeTicker\"},{\"attributes\":{\"source\":{\"id\":\"1002\"}},\"id\":\"1141\",\"type\":\"CDSView\"},{\"attributes\":{\"source\":{\"id\":\"1002\"}},\"id\":\"1375\",\"type\":\"CDSView\"},{\"attributes\":{\"fill_color\":{\"value\":\"#9467bd\"},\"hatch_color\":{\"value\":\"#9467bd\"},\"line_color\":{\"value\":\"#9467bd\"},\"line_width\":{\"value\":2},\"x\":{\"field\":\"datetime\"},\"y\":{\"field\":\"startpreparation\"}},\"id\":\"1209\",\"type\":\"Circle\"},{\"attributes\":{\"coordinates\":null,\"data_source\":{\"id\":\"1002\"},\"glyph\":{\"id\":\"1103\"},\"group\":null,\"hover_glyph\":null,\"muted_glyph\":{\"id\":\"1105\"},\"nonselection_glyph\":{\"id\":\"1104\"},\"view\":{\"id\":\"1107\"},\"y_range_name\":\"1\"},\"id\":\"1106\",\"type\":\"GlyphRenderer\"},{\"attributes\":{\"overlay\":{\"id\":\"1028\"}},\"id\":\"1021\",\"type\":\"BoxZoomTool\"},{\"attributes\":{\"axis_label\":\"synchronize []\",\"axis_label_text_color\":\"#2ca02c\",\"coordinates\":null,\"formatter\":{\"id\":\"1186\"},\"group\":null,\"major_label_policy\":{\"id\":\"1187\"},\"ticker\":{\"id\":\"1185\"},\"y_range_name\":\"1\"},\"id\":\"1169\",\"type\":\"LinearAxis\"},{\"attributes\":{\"axis_label\":\"ramprate []\",\"axis_label_text_color\":\"#7f7f7f\",\"coordinates\":null,\"formatter\":{\"id\":\"1438\"},\"group\":null,\"major_label_policy\":{\"id\":\"1439\"},\"ticker\":{\"id\":\"1437\"},\"y_range_name\":\"5\"},\"id\":\"1412\",\"type\":\"LinearAxis\"},{\"attributes\":{\"overlay\":{\"id\":\"1027\"}},\"id\":\"1023\",\"type\":\"BoxSelectTool\"},{\"attributes\":{\"end\":900,\"start\":-150},\"id\":\"1245\",\"type\":\"Range1d\"},{\"attributes\":{},\"id\":\"1025\",\"type\":\"ResetTool\"},{\"attributes\":{\"label\":{\"value\":\"cumstarttime\"},\"renderers\":[{\"id\":\"1042\"},{\"id\":\"1074\"}]},\"id\":\"1069\",\"type\":\"LegendItem\"},{\"attributes\":{\"dimensions\":\"width\"},\"id\":\"1022\",\"type\":\"WheelZoomTool\"},{\"attributes\":{\"end\":5000,\"start\":500},\"id\":\"1506\",\"type\":\"Range1d\"},{\"attributes\":{\"line_alpha\":0.1,\"line_color\":\"#2ca02c\",\"line_width\":2,\"x\":{\"field\":\"datetime\"},\"y\":{\"field\":\"synchronize\"}},\"id\":\"1104\",\"type\":\"Line\"},{\"attributes\":{\"coordinates\":null,\"data_source\":{\"id\":\"1002\"},\"glyph\":{\"id\":\"1371\"},\"group\":null,\"hover_glyph\":null,\"muted_glyph\":{\"id\":\"1373\"},\"nonselection_glyph\":{\"id\":\"1372\"},\"view\":{\"id\":\"1375\"},\"y_range_name\":\"5\"},\"id\":\"1374\",\"type\":\"GlyphRenderer\"},{\"attributes\":{},\"id\":\"1050\",\"type\":\"DatetimeTickFormatter\"},{\"attributes\":{\"source\":{\"id\":\"1002\"}},\"id\":\"1176\",\"type\":\"CDSView\"},{\"attributes\":{},\"id\":\"1026\",\"type\":\"SaveTool\"},{\"attributes\":{\"label\":{\"value\":\"synchronize\"},\"renderers\":[{\"id\":\"1106\"},{\"id\":\"1140\"}]},\"id\":\"1135\",\"type\":\"LegendItem\"},{\"attributes\":{\"fill_alpha\":{\"value\":0.2},\"fill_color\":{\"value\":\"#2ca02c\"},\"hatch_alpha\":{\"value\":0.2},\"hatch_color\":{\"value\":\"#2ca02c\"},\"line_alpha\":{\"value\":0.2},\"line_color\":{\"value\":\"#2ca02c\"},\"line_width\":{\"value\":2},\"x\":{\"field\":\"datetime\"},\"y\":{\"field\":\"synchronize\"}},\"id\":\"1139\",\"type\":\"Circle\"},{\"attributes\":{\"line_alpha\":0.2,\"line_width\":2,\"x\":{\"field\":\"datetime\"},\"y\":{\"field\":\"no\"}},\"id\":\"1417\",\"type\":\"Line\"},{\"attributes\":{\"line_alpha\":0.2,\"line_color\":\"#9467bd\",\"line_width\":2,\"x\":{\"field\":\"datetime\"},\"y\":{\"field\":\"startpreparation\"}},\"id\":\"1174\",\"type\":\"Line\"},{\"attributes\":{\"line_color\":\"#2ca02c\",\"line_width\":2,\"x\":{\"field\":\"datetime\"},\"y\":{\"field\":\"synchronize\"}},\"id\":\"1103\",\"type\":\"Line\"},{\"attributes\":{},\"id\":\"1113\",\"type\":\"BasicTicker\"},{\"attributes\":{},\"id\":\"1053\",\"type\":\"Selection\"},{\"attributes\":{\"source\":{\"id\":\"1002\"}},\"id\":\"1107\",\"type\":\"CDSView\"},{\"attributes\":{},\"id\":\"1047\",\"type\":\"BasicTickFormatter\"},{\"attributes\":{},\"id\":\"1114\",\"type\":\"BasicTickFormatter\"},{\"attributes\":{\"label\":{\"value\":\"startpreparation\"},\"renderers\":[{\"id\":\"1175\"},{\"id\":\"1212\"}]},\"id\":\"1207\",\"type\":\"LegendItem\"},{\"attributes\":{\"axis_label\":\"maxload []\",\"axis_label_text_color\":\"#1f77b4\",\"coordinates\":null,\"formatter\":{\"id\":\"1631\"},\"group\":null,\"major_label_policy\":{\"id\":\"1632\"},\"ticker\":{\"id\":\"1630\"},\"y_range_name\":\"7\"},\"id\":\"1604\",\"type\":\"LinearAxis\"},{\"attributes\":{\"source\":{\"id\":\"1002\"}},\"id\":\"1332\",\"type\":\"CDSView\"},{\"attributes\":{\"coordinates\":null,\"data_source\":{\"id\":\"1002\"},\"glyph\":{\"id\":\"1557\"},\"group\":null,\"hover_glyph\":null,\"muted_glyph\":{\"id\":\"1559\"},\"nonselection_glyph\":{\"id\":\"1558\"},\"view\":{\"id\":\"1561\"},\"y_range_name\":\"7\"},\"id\":\"1560\",\"type\":\"GlyphRenderer\"},{\"attributes\":{\"fill_alpha\":{\"value\":0.2},\"fill_color\":{\"value\":\"#1f77b4\"},\"hatch_alpha\":{\"value\":0.2},\"hatch_color\":{\"value\":\"#1f77b4\"},\"line_alpha\":{\"value\":0.2},\"line_color\":{\"value\":\"#1f77b4\"},\"line_width\":{\"value\":2},\"x\":{\"field\":\"datetime\"},\"y\":{\"field\":\"maxload\"}},\"id\":\"1559\",\"type\":\"Circle\"},{\"attributes\":{\"fill_alpha\":{\"value\":0.1},\"fill_color\":{\"value\":\"#1f77b4\"},\"hatch_alpha\":{\"value\":0.1},\"hatch_color\":{\"value\":\"#1f77b4\"},\"line_alpha\":{\"value\":0.1},\"line_color\":{\"value\":\"#1f77b4\"},\"line_width\":{\"value\":2},\"x\":{\"field\":\"datetime\"},\"y\":{\"field\":\"maxload\"}},\"id\":\"1558\",\"type\":\"Circle\"},{\"attributes\":{\"label\":{\"value\":\"ramprate\"},\"renderers\":[{\"id\":\"1331\"},{\"id\":\"1374\"}]},\"id\":\"1369\",\"type\":\"LegendItem\"},{\"attributes\":{\"end\":10000,\"start\":-100},\"id\":\"1413\",\"type\":\"Range1d\"},{\"attributes\":{\"line_alpha\":0.2,\"line_color\":\"#7f7f7f\",\"line_width\":2,\"x\":{\"field\":\"datetime\"},\"y\":{\"field\":\"ramprate\"}},\"id\":\"1330\",\"type\":\"Line\"},{\"attributes\":{\"line_alpha\":0.1,\"line_color\":\"#7f7f7f\",\"line_width\":2,\"x\":{\"field\":\"datetime\"},\"y\":{\"field\":\"ramprate\"}},\"id\":\"1329\",\"type\":\"Line\"},{\"attributes\":{},\"id\":\"1348\",\"type\":\"BasicTickFormatter\"},{\"attributes\":{\"line_color\":\"#7f7f7f\",\"line_width\":2,\"x\":{\"field\":\"datetime\"},\"y\":{\"field\":\"ramprate\"}},\"id\":\"1328\",\"type\":\"Line\"},{\"attributes\":{\"fill_color\":{\"value\":\"#2ca02c\"},\"hatch_color\":{\"value\":\"#2ca02c\"},\"line_color\":{\"value\":\"#2ca02c\"},\"line_width\":{\"value\":2},\"x\":{\"field\":\"datetime\"},\"y\":{\"field\":\"synchronize\"}},\"id\":\"1137\",\"type\":\"Circle\"},{\"attributes\":{\"fill_alpha\":{\"value\":0.1},\"fill_color\":{\"value\":\"#9467bd\"},\"hatch_alpha\":{\"value\":0.1},\"hatch_color\":{\"value\":\"#9467bd\"},\"line_alpha\":{\"value\":0.1},\"line_color\":{\"value\":\"#9467bd\"},\"line_width\":{\"value\":2},\"x\":{\"field\":\"datetime\"},\"y\":{\"field\":\"startpreparation\"}},\"id\":\"1210\",\"type\":\"Circle\"},{\"attributes\":{},\"id\":\"1349\",\"type\":\"AllLabels\"},{\"attributes\":{\"axis_label\":\"startpreparation []\",\"axis_label_text_color\":\"#9467bd\",\"coordinates\":null,\"formatter\":{\"id\":\"1264\"},\"group\":null,\"major_label_policy\":{\"id\":\"1265\"},\"ticker\":{\"id\":\"1263\"},\"y_range_name\":\"2\"},\"id\":\"1244\",\"type\":\"LinearAxis\"},{\"attributes\":{\"base\":24,\"mantissas\":[1,2,4,6,8,12],\"max_interval\":43200000.0,\"min_interval\":3600000.0,\"num_minor_ticks\":0},\"id\":\"1058\",\"type\":\"AdaptiveTicker\"},{\"attributes\":{\"label\":{\"value\":\"loadramp\"},\"renderers\":[{\"id\":\"1250\"},{\"id\":\"1290\"}]},\"id\":\"1285\",\"type\":\"LegendItem\"},{\"attributes\":{\"days\":[1,15]},\"id\":\"1062\",\"type\":\"DaysTicker\"},{\"attributes\":{\"days\":[1,2,3,4,5,6,7,8,9,10,11,12,13,14,15,16,17,18,19,20,21,22,23,24,25,26,27,28,29,30,31]},\"id\":\"1059\",\"type\":\"DaysTicker\"},{\"attributes\":{\"days\":[1,4,7,10,13,16,19,22,25,28]},\"id\":\"1060\",\"type\":\"DaysTicker\"},{\"attributes\":{\"coordinates\":null,\"data_source\":{\"id\":\"1002\"},\"glyph\":{\"id\":\"1209\"},\"group\":null,\"hover_glyph\":null,\"muted_glyph\":{\"id\":\"1211\"},\"nonselection_glyph\":{\"id\":\"1210\"},\"view\":{\"id\":\"1213\"},\"y_range_name\":\"2\"},\"id\":\"1212\",\"type\":\"GlyphRenderer\"},{\"attributes\":{\"months\":[0,6]},\"id\":\"1066\",\"type\":\"MonthsTicker\"},{\"attributes\":{\"months\":[0,2,4,6,8,10]},\"id\":\"1064\",\"type\":\"MonthsTicker\"},{\"attributes\":{\"months\":[0,4,8]},\"id\":\"1065\",\"type\":\"MonthsTicker\"},{\"attributes\":{\"days\":[1,8,15,22]},\"id\":\"1061\",\"type\":\"DaysTicker\"},{\"attributes\":{\"fill_alpha\":{\"value\":0.2},\"fill_color\":{\"value\":\"#9467bd\"},\"hatch_alpha\":{\"value\":0.2},\"hatch_color\":{\"value\":\"#9467bd\"},\"line_alpha\":{\"value\":0.2},\"line_color\":{\"value\":\"#9467bd\"},\"line_width\":{\"value\":2},\"x\":{\"field\":\"datetime\"},\"y\":{\"field\":\"startpreparation\"}},\"id\":\"1211\",\"type\":\"Circle\"},{\"attributes\":{\"fill_color\":{\"value\":\"red\"},\"hatch_color\":{\"value\":\"red\"},\"line_color\":{\"value\":\"red\"},\"line_width\":{\"value\":2},\"x\":{\"field\":\"datetime\"},\"y\":{\"field\":\"loadramp\"}},\"id\":\"1287\",\"type\":\"Circle\"},{\"attributes\":{\"source\":{\"id\":\"1002\"}},\"id\":\"1251\",\"type\":\"CDSView\"},{\"attributes\":{\"fill_alpha\":{\"value\":0.2},\"fill_color\":{\"value\":\"red\"},\"hatch_alpha\":{\"value\":0.2},\"hatch_color\":{\"value\":\"red\"},\"line_alpha\":{\"value\":0.2},\"line_color\":{\"value\":\"red\"},\"line_width\":{\"value\":2},\"x\":{\"field\":\"datetime\"},\"y\":{\"field\":\"loadramp\"}},\"id\":\"1289\",\"type\":\"Circle\"},{\"attributes\":{\"coordinates\":null,\"data_source\":{\"id\":\"1002\"},\"glyph\":{\"id\":\"1247\"},\"group\":null,\"hover_glyph\":null,\"muted_glyph\":{\"id\":\"1249\"},\"nonselection_glyph\":{\"id\":\"1248\"},\"view\":{\"id\":\"1251\"},\"y_range_name\":\"4\"},\"id\":\"1250\",\"type\":\"GlyphRenderer\"},{\"attributes\":{\"fill_color\":{\"value\":\"#7f7f7f\"},\"hatch_color\":{\"value\":\"#7f7f7f\"},\"line_color\":{\"value\":\"#7f7f7f\"},\"line_width\":{\"value\":2},\"x\":{\"field\":\"datetime\"},\"y\":{\"field\":\"ramprate\"}},\"id\":\"1371\",\"type\":\"Circle\"},{\"attributes\":{\"fill_alpha\":{\"value\":0.2},\"fill_color\":{\"value\":\"#7f7f7f\"},\"hatch_alpha\":{\"value\":0.2},\"hatch_color\":{\"value\":\"#7f7f7f\"},\"line_alpha\":{\"value\":0.2},\"line_color\":{\"value\":\"#7f7f7f\"},\"line_width\":{\"value\":2},\"x\":{\"field\":\"datetime\"},\"y\":{\"field\":\"ramprate\"}},\"id\":\"1373\",\"type\":\"Circle\"},{\"attributes\":{},\"id\":\"1535\",\"type\":\"AllLabels\"},{\"attributes\":{\"fill_alpha\":{\"value\":0.1},\"fill_color\":{\"value\":\"#7f7f7f\"},\"hatch_alpha\":{\"value\":0.1},\"hatch_color\":{\"value\":\"#7f7f7f\"},\"line_alpha\":{\"value\":0.1},\"line_color\":{\"value\":\"#7f7f7f\"},\"line_width\":{\"value\":2},\"x\":{\"field\":\"datetime\"},\"y\":{\"field\":\"ramprate\"}},\"id\":\"1372\",\"type\":\"Circle\"},{\"attributes\":{},\"id\":\"1534\",\"type\":\"BasicTickFormatter\"},{\"attributes\":{\"source\":{\"id\":\"1002\"}},\"id\":\"1512\",\"type\":\"CDSView\"},{\"attributes\":{\"label\":{\"value\":\"maxload\"},\"renderers\":[{\"id\":\"1511\"},{\"id\":\"1560\"}]},\"id\":\"1555\",\"type\":\"LegendItem\"},{\"attributes\":{\"line_alpha\":0.2,\"line_color\":\"#1f77b4\",\"line_width\":2,\"x\":{\"field\":\"datetime\"},\"y\":{\"field\":\"maxload\"}},\"id\":\"1510\",\"type\":\"Line\"},{\"attributes\":{\"coordinates\":null,\"data_source\":{\"id\":\"1002\"},\"glyph\":{\"id\":\"1508\"},\"group\":null,\"hover_glyph\":null,\"muted_glyph\":{\"id\":\"1510\"},\"nonselection_glyph\":{\"id\":\"1509\"},\"view\":{\"id\":\"1512\"},\"y_range_name\":\"7\"},\"id\":\"1511\",\"type\":\"GlyphRenderer\"},{\"attributes\":{},\"id\":\"1265\",\"type\":\"AllLabels\"},{\"attributes\":{},\"id\":\"1263\",\"type\":\"BasicTicker\"},{\"attributes\":{\"fill_alpha\":{\"value\":0.1},\"fill_color\":{\"value\":\"red\"},\"hatch_alpha\":{\"value\":0.1},\"hatch_color\":{\"value\":\"red\"},\"line_alpha\":{\"value\":0.1},\"line_color\":{\"value\":\"red\"},\"line_width\":{\"value\":2},\"x\":{\"field\":\"datetime\"},\"y\":{\"field\":\"loadramp\"}},\"id\":\"1288\",\"type\":\"Circle\"},{\"attributes\":{\"line_alpha\":0.1,\"line_color\":\"#1f77b4\",\"line_width\":2,\"x\":{\"field\":\"datetime\"},\"y\":{\"field\":\"maxload\"}},\"id\":\"1509\",\"type\":\"Line\"},{\"attributes\":{\"coordinates\":null,\"data_source\":{\"id\":\"1002\"},\"glyph\":{\"id\":\"1287\"},\"group\":null,\"hover_glyph\":null,\"muted_glyph\":{\"id\":\"1289\"},\"nonselection_glyph\":{\"id\":\"1288\"},\"view\":{\"id\":\"1291\"},\"y_range_name\":\"4\"},\"id\":\"1290\",\"type\":\"GlyphRenderer\"},{\"attributes\":{\"fill_color\":{\"value\":\"#1f77b4\"},\"hatch_color\":{\"value\":\"#1f77b4\"},\"line_color\":{\"value\":\"#1f77b4\"},\"line_width\":{\"value\":2},\"x\":{\"field\":\"datetime\"},\"y\":{\"field\":\"maxload\"}},\"id\":\"1557\",\"type\":\"Circle\"},{\"attributes\":{\"line_alpha\":0.1,\"line_color\":\"red\",\"line_width\":2,\"x\":{\"field\":\"datetime\"},\"y\":{\"field\":\"loadramp\"}},\"id\":\"1248\",\"type\":\"Line\"},{\"attributes\":{\"source\":{\"id\":\"1002\"}},\"id\":\"1291\",\"type\":\"CDSView\"},{\"attributes\":{\"source\":{\"id\":\"1002\"}},\"id\":\"1561\",\"type\":\"CDSView\"},{\"attributes\":{\"axis_label\":\"loadramp []\",\"axis_label_text_color\":\"red\",\"coordinates\":null,\"formatter\":{\"id\":\"1348\"},\"group\":null,\"major_label_policy\":{\"id\":\"1349\"},\"ticker\":{\"id\":\"1347\"},\"y_range_name\":\"4\"},\"id\":\"1325\",\"type\":\"LinearAxis\"},{\"attributes\":{},\"id\":\"1533\",\"type\":\"BasicTicker\"},{\"attributes\":{\"line_color\":\"red\",\"line_width\":2,\"x\":{\"field\":\"datetime\"},\"y\":{\"field\":\"loadramp\"}},\"id\":\"1247\",\"type\":\"Line\"},{\"attributes\":{\"coordinates\":null,\"data_source\":{\"id\":\"1002\"},\"glyph\":{\"id\":\"1328\"},\"group\":null,\"hover_glyph\":null,\"muted_glyph\":{\"id\":\"1330\"},\"nonselection_glyph\":{\"id\":\"1329\"},\"view\":{\"id\":\"1332\"},\"y_range_name\":\"5\"},\"id\":\"1331\",\"type\":\"GlyphRenderer\"},{\"attributes\":{\"data\":{\"alarms\":[[],[],[],[]],\"coolrun\":{\"__ndarray__\":\"z2irksj2I0DPaKuSyPYjQN0kBoGVAyRAexSuR+H6I0A=\",\"dtype\":\"float64\",\"order\":\"little\",\"shape\":[4]},\"count_alarms\":[0,0,0,0],\"count_warnings\":[0,0,0,1],\"cumstarttime\":{\"__ndarray__\":\"umjIeBRScUBag/dVOUZxQIAuGjJeRnFAdCzvqkdDcUA=\",\"dtype\":\"float64\",\"order\":\"little\",\"shape\":[4]},\"datetime\":{\"__ndarray__\":\"/B8QYVTpd0IAwE/2XOl3QgBgOtLG6XdCAAC3LPnpd0I=\",\"dtype\":\"float64\",\"order\":\"little\",\"shape\":[4]},\"endtime\":{\"__ndarray__\":\"APCYRljpd0IAcDckX+l3QvyfQd/T6XdCALCByf7pd0I=\",\"dtype\":\"float64\",\"order\":\"little\",\"shape\":[4]},\"idle\":{\"__ndarray__\":\"WkbqPZXDEUDy0k1iEFgRQF66SQwCKxJAJxO3CmKQEkA=\",\"dtype\":\"float64\",\"order\":\"little\",\"shape\":[4]},\"index\":[0,1,2,3],\"loadramp\":{\"__ndarray__\":\"ObTIdr6XW0DjxFc7CltiQAaBlUOLPGFAwcqhRbbvYUA=\",\"dtype\":\"float64\",\"order\":\"little\",\"shape\":[4]},\"maxload\":{\"__ndarray__\":\"AAAAAAAA+H8AAAAAAAD4fwAAAAAAAPh/AAAAAAAA+H8=\",\"dtype\":\"float64\",\"order\":\"little\",\"shape\":[4]},\"mode\":[\"???\",\"???\",\"???\",\"???\"],\"no\":[0,1,2,3],\"rampdown\":{\"__ndarray__\":\"yXa+nxrnX0CNl24Sg+BfQEjhehSu119AH4XrUbjWX0A=\",\"dtype\":\"float64\",\"order\":\"little\",\"shape\":[4]},\"ramprate\":{\"__ndarray__\":\"AAAAAAAA+H8AAAAAAAD4fwAAAAAAAPh/AAAAAAAA+H8=\",\"dtype\":\"float64\",\"order\":\"little\",\"shape\":[4]},\"run2\":[false,false,false,false],\"runout\":{\"__ndarray__\":\"5dAi2/mOSEBxPQrXo2BIQGO3zyozY0hAtvP91HhpSEA=\",\"dtype\":\"float64\",\"order\":\"little\",\"shape\":[4]},\"speedup\":{\"__ndarray__\":\"vHSTGAQ2N0A9CtejcP0zQDeJQWDl0DlA0SLb+X7qNkA=\",\"dtype\":\"float64\",\"order\":\"little\",\"shape\":[4]},\"starter\":{\"__ndarray__\":\"QmDl0CLbDUBCYOXQItsNQCXK3lLO9wxATiZuFcQgDUA=\",\"dtype\":\"float64\",\"order\":\"little\",\"shape\":[4]},\"startpreparation\":{\"__ndarray__\":\"eekmMQh8WED4U+OlmwRZQEGeXb71GFlA5/up8dJFWEA=\",\"dtype\":\"float64\",\"order\":\"little\",\"shape\":[4]},\"starttime\":{\"__ndarray__\":\"/B8QYVTpd0IAwE/2XOl3QgBgOtLG6XdCAAC3LPnpd0I=\",\"dtype\":\"float64\",\"order\":\"little\",\"shape\":[4]},\"success\":[true,true,true,true],\"synchronize\":{\"__ndarray__\":\"PrFOle+3QkAuOllqvZ/2P71WQndJjBBAsFQX8DKzEUA=\",\"dtype\":\"float64\",\"order\":\"little\",\"shape\":[4]},\"targetoperation\":{\"__ndarray__\":\"LcxCOx9MrEBpxTcULnqcQDY656cm08lAotKImbkutUA=\",\"dtype\":\"float64\",\"order\":\"little\",\"shape\":[4]},\"timing\":[{\"end_coolrun\":1643185940913.9998,\"end_idle\":1643182033452.0,\"end_loadramp\":1643182181260.0,\"end_rampdown\":1643185930932.0,\"end_runout\":1643185990031.0,\"end_speedup\":1643182029011.0,\"end_starter\":1643182005800.0,\"end_startpreparation\":1643182002068.0,\"end_synchronize\":1643182070889.0,\"end_targetoperation\":1643185803321.0,\"start_coolrun\":1643185930932.0,\"start_idle\":1643182029011.0,\"start_loadramp\":1643182070889.0,\"start_rampdown\":1643185803321.0,\"start_runout\":1643185940913.9998,\"start_speedup\":1643182005800.0,\"start_starter\":1643182002068.0,\"start_startpreparation\":1643181904129.9998,\"start_synchronize\":1643182033452.0,\"start_targetoperation\":1643182181260.0},{\"end_coolrun\":1643193140484.0,\"end_idle\":1643191032190.0002,\"end_loadramp\":1643191180449.0,\"end_rampdown\":1643193130502.0002,\"end_runout\":1643193189239.0,\"end_speedup\":1643191027854.0002,\"end_starter\":1643191007864.0,\"end_startpreparation\":1643191004132.0,\"end_synchronize\":1643191033604.0,\"end_targetoperation\":1643193002993.9998,\"start_coolrun\":1643193130502.0002,\"start_idle\":1643191027854.0002,\"start_loadramp\":1643191033604.0,\"start_rampdown\":1643193002993.9998,\"start_runout\":1643193140484.0,\"start_speedup\":1643191007864.0,\"start_starter\":1643191004132.0,\"start_startpreparation\":1643190904060.0,\"start_synchronize\":1643191032190.0002,\"start_targetoperation\":1643191180449.0},{\"end_coolrun\":1643315541395.0,\"end_idle\":1643302039687.0,\"end_loadramp\":1643302181716.0,\"end_rampdown\":1643315531388.0,\"end_runout\":1643315590169.9998,\"end_speedup\":1643302035145.0,\"end_starter\":1643302009329.0,\"end_startpreparation\":1643302005708.0,\"end_synchronize\":1643302043824.0,\"end_targetoperation\":1643315404017.9998,\"start_coolrun\":1643315531388.0,\"start_idle\":1643302035145.0,\"start_loadramp\":1643302043824.0,\"start_rampdown\":1643315404017.9998,\"start_runout\":1643315541395.0,\"start_speedup\":1643302009329.0,\"start_starter\":1643302005708.0,\"start_startpreparation\":1643301905318.0002,\"start_synchronize\":1643302039687.0,\"start_targetoperation\":1643302181716.0},{\"end_coolrun\":1643360541027.0,\"end_idle\":1643354833041.0,\"end_loadramp\":1643354980957.0,\"end_rampdown\":1643360531037.0,\"end_runout\":1643360589851.0,\"end_speedup\":1643354828400.0,\"end_starter\":1643354805484.0,\"end_startpreparation\":1643354801843.0,\"end_synchronize\":1643354837465.9998,\"end_targetoperation\":1643360403681.9998,\"start_coolrun\":1643360531037.0,\"start_idle\":1643354828400.0,\"start_loadramp\":1643354837465.9998,\"start_rampdown\":1643360403681.9998,\"start_runout\":1643360541027.0,\"start_speedup\":1643354805484.0,\"start_starter\":1643354801843.0,\"start_startpreparation\":1643354704752.0,\"start_synchronize\":1643354833041.0,\"start_targetoperation\":1643354980957.0}],\"warnings\":[[],[],[],[{\"msg\":[3029,159398,false,\"Generator current at synchronization too high\",\"2688\",700,1643354843630,\"NaN\"],\"state\":\"loadramp\"}]]},\"selected\":{\"id\":\"1053\"},\"selection_policy\":{\"id\":\"1052\"}},\"id\":\"1002\",\"type\":\"ColumnDataSource\"},{\"attributes\":{},\"id\":\"1264\",\"type\":\"BasicTickFormatter\"},{\"attributes\":{\"line_alpha\":0.2,\"line_color\":\"red\",\"line_width\":2,\"x\":{\"field\":\"datetime\"},\"y\":{\"field\":\"loadramp\"}},\"id\":\"1249\",\"type\":\"Line\"},{\"attributes\":{},\"id\":\"1347\",\"type\":\"BasicTicker\"},{\"attributes\":{\"end\":3,\"start\":-3},\"id\":\"1326\",\"type\":\"Range1d\"},{\"attributes\":{\"months\":[0,1,2,3,4,5,6,7,8,9,10,11]},\"id\":\"1063\",\"type\":\"MonthsTicker\"},{\"attributes\":{\"base\":60,\"mantissas\":[1,2,5,10,15,20,30],\"max_interval\":1800000.0,\"min_interval\":1000.0,\"num_minor_ticks\":0},\"id\":\"1057\",\"type\":\"AdaptiveTicker\"},{\"attributes\":{\"source\":{\"id\":\"1002\"}},\"id\":\"1213\",\"type\":\"CDSView\"},{\"attributes\":{},\"id\":\"1067\",\"type\":\"YearsTicker\"},{\"attributes\":{\"mantissas\":[1,2,5],\"max_interval\":500.0,\"num_minor_ticks\":0},\"id\":\"1056\",\"type\":\"AdaptiveTicker\"}],\"root_ids\":[\"1003\"]},\"title\":\"Bokeh Application\",\"version\":\"2.4.2\"}};\n  const render_items = [{\"docid\":\"e4d3e22a-db98-4bb3-b22b-887ccc1441ed\",\"root_ids\":[\"1003\"],\"roots\":{\"1003\":\"628fec6a-ca3e-485e-a588-b447ce33f33c\"}}];\n  root.Bokeh.embed.embed_items_notebook(docs_json, render_items);\n\n  }\n  if (root.Bokeh !== undefined) {\n    embed_document(root);\n  } else {\n    let attempts = 0;\n    const timer = setInterval(function(root) {\n      if (root.Bokeh !== undefined) {\n        clearInterval(timer);\n        embed_document(root);\n      } else {\n        attempts++;\n        if (attempts > 100) {\n          clearInterval(timer);\n          console.log(\"Bokeh: ERROR: Unable to run BokehJS code because BokehJS library is missing\");\n        }\n      }\n    }, 10, root)\n  }\n})(window);",
      "application/vnd.bokehjs_exec.v0+json": ""
     },
     "metadata": {
      "application/vnd.bokehjs_exec.v0+json": {
       "id": "1003"
      }
     },
     "output_type": "display_data"
    }
   ],
   "source": [
    "rde = rda[(rda.starttime > fsm._e['Commissioning Date']) & (rda['success'])].copy()\n",
    "rde['datetime'] = pd.to_datetime(rde['starttime'])\n",
    "dfigsize = (12,8)\n",
    "dset = [\n",
    "    {'col':['cumstarttime'],'ylim':(-400,900), 'color':'darkblue'},\n",
    "    {'col':['synchronize'],'ylim':(-20,300)},\n",
    "    {'col':['startpreparation'],'ylim':(-600,300)},\n",
    "    {'col':['hochlauf'],'ylim':(-100,200), 'color':'orange'},\n",
    "    {'col':['loadramp'],'ylim':(-150,900), 'color':'red'},\n",
    "    {'col':['ramprate'],'ylim':(-3,3)},\n",
    "    {'col':['no'],'ylim':(-100,10000),'color':'black'},\n",
    "    {'col':['maxload'],'ylim':(500,5000) }\n",
    "]\n",
    "ftitle = f\"{fsm._e}\"\n",
    "fig = dbokeh_chart(rde, dset, style='both', figsize=dfigsize ,title=ftitle);\n",
    "bokeh_show(fig)\n",
    "del(fig)"
   ]
  },
  {
   "cell_type": "code",
   "execution_count": 11,
   "metadata": {},
   "outputs": [],
   "source": [
    "vset = ['Various_Values_SpeedAct','Power_PowerAct','Hyd_PressCrankCase','Hyd_PressOilDif','Hyd_PressOil','Hyd_TempOil']\n",
    "dset = [\n",
    "    {'col':['Power_PowerAct'], 'ylim':(0,5000), 'color':'red'},\n",
    "    {'col':['Various_Values_SpeedAct'],'ylim': [0, 2500], 'color':'blue'},\n",
    "    #{'col':['Hyd_PressCrankCase'],'ylim': [-100, 100], 'color':'orange'},\n",
    "    #{'col':['Hyd_PressOilDif'],'ylim': [0, 2], 'color':'black'},\n",
    "    {'col':['Hyd_PressOil'],'ylim': [0, 10], 'color':'brown'},\n",
    "    {'col':['Hyd_TempOil'],'ylim': [0, 110], 'color':'#2171b5'}\n",
    "]\n"
   ]
  },
  {
   "cell_type": "code",
   "execution_count": 20,
   "metadata": {},
   "outputs": [],
   "source": [
    "from pprint import pprint as pp, pformat as pf\n",
    "\n",
    "def plot_with_additional_results(\n",
    "        startversuch, \n",
    "        vset=None, \n",
    "        dset = [\n",
    "        {'col':['Power_PowerAct'], 'ylim':(0,5000), 'color':'red'},\n",
    "        {'col':['Various_Values_SpeedAct'],'ylim': [0, 2500], 'color':'blue'}\n",
    "    ]):\n",
    "\n",
    "    if vset == None:\n",
    "        vset = []\n",
    "        for rec in dset:\n",
    "            for d in rec['col']:\n",
    "                vset.append(d) \n",
    "        vset = list(set(vset))\n",
    "\n",
    "    data = get_cycle_data2(fsm, startversuch, max_length=None, min_length=None, cycletime=1, silent=False, p_data=vset)\n",
    "    fig = FSMPlot_Start(fsm, startversuch, data, vset, dset, figsize=dfigsize); \n",
    "    #fsm run 2 results\n",
    "    lcol='blue'\n",
    "    pl, _ = detect_edge_left(data, 'Power_PowerAct', startversuch)\n",
    "    pr, _ = detect_edge_right(data, 'Power_PowerAct', startversuch)\n",
    "    sl, _ = detect_edge_left(data, 'Various_Values_SpeedAct', startversuch)\n",
    "    sr, _ = detect_edge_right(data, 'Various_Values_SpeedAct', startversuch)\n",
    "    add_dbokeh_vlines([sl.loc], fig,line_color=lcol, line_dash='solid', line_alpha=0.4)\n",
    "    add_dbokeh_vlines([sr.loc], fig,line_color=lcol, line_dash='solid', line_alpha=0.4)\n",
    "    add_dbokeh_vlines([pl.loc], fig,line_color=lcol, line_dash='solid', line_alpha=0.4)\n",
    "    add_dbokeh_vlines([pr.loc], fig,line_color=lcol, line_dash='solid', line_alpha=0.4)\n",
    "\n",
    "    #pp(startversuch['timing']) # ['timings']['start_loadramp'])\n",
    "    if 'end_loadramp' in startversuch['timing']:\n",
    "        add_dbokeh_vlines([startversuch['timing']['end_loadramp']], fig,line_color='green', line_dash='solid', line_alpha=0.4)\n",
    "\n",
    "    #new_lines = [startversuch['starttime']] + [startversuch[k] for k in startversuch.keys() if k.endswith('_time')]\n",
    "    #add_dbokeh_vlines(new_lines,fig,line_color='green', line_dash='solid', line_alpha=0.4)\n",
    "    bokeh_show(fig)\n",
    "    del(fig)"
   ]
  },
  {
   "cell_type": "code",
   "execution_count": 13,
   "metadata": {},
   "outputs": [
    {
     "data": {
      "text/html": [
       "<div>\n",
       "<style scoped>\n",
       "    .dataframe tbody tr th:only-of-type {\n",
       "        vertical-align: middle;\n",
       "    }\n",
       "\n",
       "    .dataframe tbody tr th {\n",
       "        vertical-align: top;\n",
       "    }\n",
       "\n",
       "    .dataframe thead th {\n",
       "        text-align: right;\n",
       "    }\n",
       "</style>\n",
       "<table border=\"1\" class=\"dataframe\">\n",
       "  <thead>\n",
       "    <tr style=\"text-align: right;\">\n",
       "      <th></th>\n",
       "      <th>no</th>\n",
       "      <th>success</th>\n",
       "      <th>mode</th>\n",
       "      <th>startpreparation</th>\n",
       "      <th>starter</th>\n",
       "      <th>speedup</th>\n",
       "      <th>idle</th>\n",
       "      <th>synchronize</th>\n",
       "      <th>loadramp</th>\n",
       "      <th>cumstarttime</th>\n",
       "      <th>maxload</th>\n",
       "      <th>ramprate</th>\n",
       "      <th>targetoperation</th>\n",
       "      <th>rampdown</th>\n",
       "      <th>coolrun</th>\n",
       "      <th>runout</th>\n",
       "      <th>count_alarms</th>\n",
       "      <th>count_warnings</th>\n",
       "    </tr>\n",
       "  </thead>\n",
       "  <tbody>\n",
       "    <tr>\n",
       "      <th>1</th>\n",
       "      <td>1</td>\n",
       "      <td>True</td>\n",
       "      <td>???</td>\n",
       "      <td>100.07</td>\n",
       "      <td>3.73</td>\n",
       "      <td>19.99</td>\n",
       "      <td>4.34</td>\n",
       "      <td>1.41</td>\n",
       "      <td>146.84</td>\n",
       "      <td>276.39</td>\n",
       "      <td></td>\n",
       "      <td></td>\n",
       "      <td>1822.54</td>\n",
       "      <td>127.51</td>\n",
       "      <td>9.98</td>\n",
       "      <td>48.76</td>\n",
       "      <td>0</td>\n",
       "      <td>0</td>\n",
       "    </tr>\n",
       "    <tr>\n",
       "      <th>2</th>\n",
       "      <td>2</td>\n",
       "      <td>True</td>\n",
       "      <td>???</td>\n",
       "      <td>100.39</td>\n",
       "      <td>3.62</td>\n",
       "      <td>25.82</td>\n",
       "      <td>4.54</td>\n",
       "      <td>4.14</td>\n",
       "      <td>137.89</td>\n",
       "      <td>276.40</td>\n",
       "      <td></td>\n",
       "      <td></td>\n",
       "      <td>13222.3</td>\n",
       "      <td>127.37</td>\n",
       "      <td>10.01</td>\n",
       "      <td>48.77</td>\n",
       "      <td>0</td>\n",
       "      <td>0</td>\n",
       "    </tr>\n",
       "    <tr>\n",
       "      <th>3</th>\n",
       "      <td>3</td>\n",
       "      <td>True</td>\n",
       "      <td>???</td>\n",
       "      <td>97.09</td>\n",
       "      <td>3.64</td>\n",
       "      <td>22.92</td>\n",
       "      <td>4.64</td>\n",
       "      <td>4.42</td>\n",
       "      <td>143.49</td>\n",
       "      <td>276.20</td>\n",
       "      <td></td>\n",
       "      <td></td>\n",
       "      <td>5422.72</td>\n",
       "      <td>127.36</td>\n",
       "      <td>9.99</td>\n",
       "      <td>48.82</td>\n",
       "      <td>0</td>\n",
       "      <td>1</td>\n",
       "    </tr>\n",
       "    <tr>\n",
       "      <th>0</th>\n",
       "      <td>0</td>\n",
       "      <td>True</td>\n",
       "      <td>???</td>\n",
       "      <td>97.94</td>\n",
       "      <td>3.73</td>\n",
       "      <td>23.21</td>\n",
       "      <td>4.44</td>\n",
       "      <td>37.44</td>\n",
       "      <td>110.37</td>\n",
       "      <td>277.13</td>\n",
       "      <td></td>\n",
       "      <td></td>\n",
       "      <td>3622.06</td>\n",
       "      <td>127.61</td>\n",
       "      <td>9.98</td>\n",
       "      <td>49.12</td>\n",
       "      <td>0</td>\n",
       "      <td>0</td>\n",
       "    </tr>\n",
       "    <tr>\n",
       "      <th>4</th>\n",
       "      <td>4</td>\n",
       "      <td>False</td>\n",
       "      <td>???</td>\n",
       "      <td>101.89</td>\n",
       "      <td>3.73</td>\n",
       "      <td>21.51</td>\n",
       "      <td></td>\n",
       "      <td></td>\n",
       "      <td></td>\n",
       "      <td>127.13</td>\n",
       "      <td></td>\n",
       "      <td></td>\n",
       "      <td></td>\n",
       "      <td></td>\n",
       "      <td></td>\n",
       "      <td></td>\n",
       "      <td>0</td>\n",
       "      <td>0</td>\n",
       "    </tr>\n",
       "  </tbody>\n",
       "</table>\n",
       "</div>"
      ],
      "text/plain": [
       "   no  success mode  startpreparation  starter  speedup  idle synchronize  \\\n",
       "1   1     True  ???            100.07     3.73    19.99  4.34        1.41   \n",
       "2   2     True  ???            100.39     3.62    25.82  4.54        4.14   \n",
       "3   3     True  ???             97.09     3.64    22.92  4.64        4.42   \n",
       "0   0     True  ???             97.94     3.73    23.21  4.44       37.44   \n",
       "4   4    False  ???            101.89     3.73    21.51                     \n",
       "\n",
       "  loadramp  cumstarttime maxload ramprate targetoperation rampdown coolrun  \\\n",
       "1   146.84        276.39                          1822.54   127.51    9.98   \n",
       "2   137.89        276.40                          13222.3   127.37   10.01   \n",
       "3   143.49        276.20                          5422.72   127.36    9.99   \n",
       "0   110.37        277.13                          3622.06   127.61    9.98   \n",
       "4                 127.13                                                     \n",
       "\n",
       "  runout  count_alarms  count_warnings  \n",
       "1  48.76             0               0  \n",
       "2  48.77             0               0  \n",
       "3  48.82             0               1  \n",
       "0  49.12             0               0  \n",
       "4                    0               0  "
      ]
     },
     "execution_count": 13,
     "metadata": {},
     "output_type": "execute_result"
    }
   ],
   "source": [
    "rdb[filterFSM.run2filter_content].sort_values(by=[\"synchronize\",\"loadramp\"], ascending=[True,True]).round(2).fillna('')"
   ]
  },
  {
   "cell_type": "code",
   "execution_count": 14,
   "metadata": {},
   "outputs": [
    {
     "data": {
      "application/vnd.jupyter.widget-view+json": {
       "model_id": "2823358bdcf348679abe078b6a6b398a",
       "version_major": 2,
       "version_minor": 0
      },
      "text/plain": [
       "interactive(children=(IntSlider(value=0, description='x', layout=Layout(width='70%'), max=4), Output()), _dom_…"
      ]
     },
     "metadata": {},
     "output_type": "display_data"
    }
   ],
   "source": [
    "def f(x=0):\n",
    "    global v; v = x; startversuch = rdb.iloc[x]\n",
    "    ftitle = f\"{fsm._e} ----- Start {startversuch['no']} {startversuch['mode']} | {'SUCCESS' if startversuch['success'] else 'FAILED'} | {startversuch['starttime'].round('S')}\"\n",
    "    display(HTML(ftitle));\n",
    "    disp_result(startversuch)\n",
    "interact(f, x = IntSlider(0, 0, rdb.shape[0]-1 , 1, layout=widgets.Layout(width='70%')));"
   ]
  },
  {
   "cell_type": "code",
   "execution_count": 21,
   "metadata": {},
   "outputs": [
    {
     "name": "stdout",
     "output_type": "stream",
     "text": [
      "von: 31.01.2022 16:55:08 bis: 31.01.2022 16:57:15\n"
     ]
    },
    {
     "data": {
      "application/javascript": "\n(function(root) {\n  function now() {\n    return new Date();\n  }\n\n  const force = true;\n\n  if (typeof root._bokeh_onload_callbacks === \"undefined\" || force === true) {\n    root._bokeh_onload_callbacks = [];\n    root._bokeh_is_loading = undefined;\n  }\n\n  const JS_MIME_TYPE = 'application/javascript';\n  const HTML_MIME_TYPE = 'text/html';\n  const EXEC_MIME_TYPE = 'application/vnd.bokehjs_exec.v0+json';\n  const CLASS_NAME = 'output_bokeh rendered_html';\n\n  /**\n   * Render data to the DOM node\n   */\n  function render(props, node) {\n    const script = document.createElement(\"script\");\n    node.appendChild(script);\n  }\n\n  /**\n   * Handle when an output is cleared or removed\n   */\n  function handleClearOutput(event, handle) {\n    const cell = handle.cell;\n\n    const id = cell.output_area._bokeh_element_id;\n    const server_id = cell.output_area._bokeh_server_id;\n    // Clean up Bokeh references\n    if (id != null && id in Bokeh.index) {\n      Bokeh.index[id].model.document.clear();\n      delete Bokeh.index[id];\n    }\n\n    if (server_id !== undefined) {\n      // Clean up Bokeh references\n      const cmd_clean = \"from bokeh.io.state import curstate; print(curstate().uuid_to_server['\" + server_id + \"'].get_sessions()[0].document.roots[0]._id)\";\n      cell.notebook.kernel.execute(cmd_clean, {\n        iopub: {\n          output: function(msg) {\n            const id = msg.content.text.trim();\n            if (id in Bokeh.index) {\n              Bokeh.index[id].model.document.clear();\n              delete Bokeh.index[id];\n            }\n          }\n        }\n      });\n      // Destroy server and session\n      const cmd_destroy = \"import bokeh.io.notebook as ion; ion.destroy_server('\" + server_id + \"')\";\n      cell.notebook.kernel.execute(cmd_destroy);\n    }\n  }\n\n  /**\n   * Handle when a new output is added\n   */\n  function handleAddOutput(event, handle) {\n    const output_area = handle.output_area;\n    const output = handle.output;\n\n    // limit handleAddOutput to display_data with EXEC_MIME_TYPE content only\n    if ((output.output_type != \"display_data\") || (!Object.prototype.hasOwnProperty.call(output.data, EXEC_MIME_TYPE))) {\n      return\n    }\n\n    const toinsert = output_area.element.find(\".\" + CLASS_NAME.split(' ')[0]);\n\n    if (output.metadata[EXEC_MIME_TYPE][\"id\"] !== undefined) {\n      toinsert[toinsert.length - 1].firstChild.textContent = output.data[JS_MIME_TYPE];\n      // store reference to embed id on output_area\n      output_area._bokeh_element_id = output.metadata[EXEC_MIME_TYPE][\"id\"];\n    }\n    if (output.metadata[EXEC_MIME_TYPE][\"server_id\"] !== undefined) {\n      const bk_div = document.createElement(\"div\");\n      bk_div.innerHTML = output.data[HTML_MIME_TYPE];\n      const script_attrs = bk_div.children[0].attributes;\n      for (let i = 0; i < script_attrs.length; i++) {\n        toinsert[toinsert.length - 1].firstChild.setAttribute(script_attrs[i].name, script_attrs[i].value);\n        toinsert[toinsert.length - 1].firstChild.textContent = bk_div.children[0].textContent\n      }\n      // store reference to server id on output_area\n      output_area._bokeh_server_id = output.metadata[EXEC_MIME_TYPE][\"server_id\"];\n    }\n  }\n\n  function register_renderer(events, OutputArea) {\n\n    function append_mime(data, metadata, element) {\n      // create a DOM node to render to\n      const toinsert = this.create_output_subarea(\n        metadata,\n        CLASS_NAME,\n        EXEC_MIME_TYPE\n      );\n      this.keyboard_manager.register_events(toinsert);\n      // Render to node\n      const props = {data: data, metadata: metadata[EXEC_MIME_TYPE]};\n      render(props, toinsert[toinsert.length - 1]);\n      element.append(toinsert);\n      return toinsert\n    }\n\n    /* Handle when an output is cleared or removed */\n    events.on('clear_output.CodeCell', handleClearOutput);\n    events.on('delete.Cell', handleClearOutput);\n\n    /* Handle when a new output is added */\n    events.on('output_added.OutputArea', handleAddOutput);\n\n    /**\n     * Register the mime type and append_mime function with output_area\n     */\n    OutputArea.prototype.register_mime_type(EXEC_MIME_TYPE, append_mime, {\n      /* Is output safe? */\n      safe: true,\n      /* Index of renderer in `output_area.display_order` */\n      index: 0\n    });\n  }\n\n  // register the mime type if in Jupyter Notebook environment and previously unregistered\n  if (root.Jupyter !== undefined) {\n    const events = require('base/js/events');\n    const OutputArea = require('notebook/js/outputarea').OutputArea;\n\n    if (OutputArea.prototype.mime_types().indexOf(EXEC_MIME_TYPE) == -1) {\n      register_renderer(events, OutputArea);\n    }\n  }\n\n  \n  if (typeof (root._bokeh_timeout) === \"undefined\" || force === true) {\n    root._bokeh_timeout = Date.now() + 5000;\n    root._bokeh_failed_load = false;\n  }\n\n  const NB_LOAD_WARNING = {'data': {'text/html':\n     \"<div style='background-color: #fdd'>\\n\"+\n     \"<p>\\n\"+\n     \"BokehJS does not appear to have successfully loaded. If loading BokehJS from CDN, this \\n\"+\n     \"may be due to a slow or bad network connection. Possible fixes:\\n\"+\n     \"</p>\\n\"+\n     \"<ul>\\n\"+\n     \"<li>re-rerun `output_notebook()` to attempt to load from CDN again, or</li>\\n\"+\n     \"<li>use INLINE resources instead, as so:</li>\\n\"+\n     \"</ul>\\n\"+\n     \"<code>\\n\"+\n     \"from bokeh.resources import INLINE\\n\"+\n     \"output_notebook(resources=INLINE)\\n\"+\n     \"</code>\\n\"+\n     \"</div>\"}};\n\n  function display_loaded() {\n    const el = document.getElementById(null);\n    if (el != null) {\n      el.textContent = \"BokehJS is loading...\";\n    }\n    if (root.Bokeh !== undefined) {\n      if (el != null) {\n        el.textContent = \"BokehJS \" + root.Bokeh.version + \" successfully loaded.\";\n      }\n    } else if (Date.now() < root._bokeh_timeout) {\n      setTimeout(display_loaded, 100)\n    }\n  }\n\n\n  function run_callbacks() {\n    try {\n      root._bokeh_onload_callbacks.forEach(function(callback) {\n        if (callback != null)\n          callback();\n      });\n    } finally {\n      delete root._bokeh_onload_callbacks\n    }\n    console.debug(\"Bokeh: all callbacks have finished\");\n  }\n\n  function load_libs(css_urls, js_urls, callback) {\n    if (css_urls == null) css_urls = [];\n    if (js_urls == null) js_urls = [];\n\n    root._bokeh_onload_callbacks.push(callback);\n    if (root._bokeh_is_loading > 0) {\n      console.debug(\"Bokeh: BokehJS is being loaded, scheduling callback at\", now());\n      return null;\n    }\n    if (js_urls == null || js_urls.length === 0) {\n      run_callbacks();\n      return null;\n    }\n    console.debug(\"Bokeh: BokehJS not loaded, scheduling load and callback at\", now());\n    root._bokeh_is_loading = css_urls.length + js_urls.length;\n\n    function on_load() {\n      root._bokeh_is_loading--;\n      if (root._bokeh_is_loading === 0) {\n        console.debug(\"Bokeh: all BokehJS libraries/stylesheets loaded\");\n        run_callbacks()\n      }\n    }\n\n    function on_error(url) {\n      console.error(\"failed to load \" + url);\n    }\n\n    for (let i = 0; i < css_urls.length; i++) {\n      const url = css_urls[i];\n      const element = document.createElement(\"link\");\n      element.onload = on_load;\n      element.onerror = on_error.bind(null, url);\n      element.rel = \"stylesheet\";\n      element.type = \"text/css\";\n      element.href = url;\n      console.debug(\"Bokeh: injecting link tag for BokehJS stylesheet: \", url);\n      document.body.appendChild(element);\n    }\n\n    for (let i = 0; i < js_urls.length; i++) {\n      const url = js_urls[i];\n      const element = document.createElement('script');\n      element.onload = on_load;\n      element.onerror = on_error.bind(null, url);\n      element.async = false;\n      element.src = url;\n      console.debug(\"Bokeh: injecting script tag for BokehJS library: \", url);\n      document.head.appendChild(element);\n    }\n  };\n\n  function inject_raw_css(css) {\n    const element = document.createElement(\"style\");\n    element.appendChild(document.createTextNode(css));\n    document.body.appendChild(element);\n  }\n\n  \n  const js_urls = [\"https://cdn.bokeh.org/bokeh/release/bokeh-2.4.2.min.js\", \"https://cdn.bokeh.org/bokeh/release/bokeh-gl-2.4.2.min.js\", \"https://cdn.bokeh.org/bokeh/release/bokeh-widgets-2.4.2.min.js\", \"https://cdn.bokeh.org/bokeh/release/bokeh-tables-2.4.2.min.js\", \"https://cdn.bokeh.org/bokeh/release/bokeh-mathjax-2.4.2.min.js\"];\n  const css_urls = [];\n  \n\n  const inline_js = [\n    function(Bokeh) {\n      Bokeh.set_log_level(\"info\");\n    },\n    function(Bokeh) {\n    \n    \n    }\n  ];\n\n  function run_inline_js() {\n    \n    if (root.Bokeh !== undefined || force === true) {\n      \n    for (let i = 0; i < inline_js.length; i++) {\n      inline_js[i].call(root, root.Bokeh);\n    }\n    } else if (Date.now() < root._bokeh_timeout) {\n      setTimeout(run_inline_js, 100);\n    } else if (!root._bokeh_failed_load) {\n      console.log(\"Bokeh: BokehJS failed to load within specified timeout.\");\n      root._bokeh_failed_load = true;\n    } else if (force !== true) {\n      const cell = $(document.getElementById(null)).parents('.cell').data().cell;\n      cell.output_area.append_execute_result(NB_LOAD_WARNING)\n    }\n\n  }\n\n  if (root._bokeh_is_loading === 0) {\n    console.debug(\"Bokeh: BokehJS loaded, going straight to plotting\");\n    run_inline_js();\n  } else {\n    load_libs(css_urls, js_urls, function() {\n      console.debug(\"Bokeh: BokehJS plotting callback run at\", now());\n      run_inline_js();\n    });\n  }\n}(window));",
      "application/vnd.bokehjs_load.v0+json": ""
     },
     "metadata": {},
     "output_type": "display_data"
    },
    {
     "data": {
      "text/html": [
       "\n",
       "\n",
       "\n",
       "\n",
       "\n",
       "\n",
       "  <div class=\"bk-root\" id=\"87adee83-0603-4a41-bcb6-9e3c1d382a57\" data-root-id=\"4258\"></div>\n"
      ]
     },
     "metadata": {},
     "output_type": "display_data"
    },
    {
     "data": {
      "application/javascript": "(function(root) {\n  function embed_document(root) {\n    \n  const docs_json = {\"4fed1882-f715-4e7b-a042-c1c9c98531ea\":{\"defs\":[],\"roots\":{\"references\":[{\"attributes\":{\"below\":[{\"id\":\"4267\"}],\"center\":[{\"id\":\"4270\"},{\"id\":\"4274\"},{\"id\":\"4323\"},{\"id\":\"4521\"},{\"id\":\"4522\"},{\"id\":\"4523\"},{\"id\":\"4524\"},{\"id\":\"4525\"},{\"id\":\"4526\"},{\"id\":\"4527\"},{\"id\":\"4528\"},{\"id\":\"4529\"},{\"id\":\"4530\"}],\"extra_y_ranges\":{\"0\":{\"id\":\"4292\"},\"1\":{\"id\":\"4326\"},\"2\":{\"id\":\"4362\"},\"3\":{\"id\":\"4401\"}},\"height\":528,\"left\":[{\"id\":\"4271\"},{\"id\":\"4325\"},{\"id\":\"4361\"},{\"id\":\"4400\"},{\"id\":\"4442\"}],\"renderers\":[{\"id\":\"4297\"},{\"id\":\"4331\"},{\"id\":\"4367\"},{\"id\":\"4406\"}],\"title\":{\"id\":\"4299\"},\"toolbar\":{\"id\":\"4284\"},\"width\":792,\"x_range\":{\"id\":\"4259\"},\"x_scale\":{\"id\":\"4263\"},\"y_range\":{\"id\":\"4261\"},\"y_scale\":{\"id\":\"4265\"}},\"id\":\"4258\",\"subtype\":\"Figure\",\"type\":\"Plot\"},{\"attributes\":{\"months\":[0,6]},\"id\":\"4321\",\"type\":\"MonthsTicker\"},{\"attributes\":{\"click_policy\":\"hide\",\"coordinates\":null,\"group\":null,\"items\":[{\"id\":\"4324\"},{\"id\":\"4360\"},{\"id\":\"4399\"},{\"id\":\"4441\"}],\"location\":\"top_left\"},\"id\":\"4323\",\"type\":\"Legend\"},{\"attributes\":{\"days\":[1,8,15,22]},\"id\":\"4316\",\"type\":\"DaysTicker\"},{\"attributes\":{},\"id\":\"4280\",\"type\":\"ResetTool\"},{\"attributes\":{\"bottom_units\":\"screen\",\"coordinates\":null,\"fill_alpha\":0.5,\"fill_color\":\"lightgrey\",\"group\":null,\"left_units\":\"screen\",\"level\":\"overlay\",\"line_alpha\":1.0,\"line_color\":\"black\",\"line_dash\":[4,4],\"line_width\":2,\"right_units\":\"screen\",\"syncable\":false,\"top_units\":\"screen\"},\"id\":\"4283\",\"type\":\"BoxAnnotation\"},{\"attributes\":{\"axis_label\":\"Power_PowerAct []\",\"axis_label_text_color\":\"red\",\"coordinates\":null,\"formatter\":{\"id\":\"4339\"},\"group\":null,\"major_label_policy\":{\"id\":\"4340\"},\"ticker\":{\"id\":\"4338\"},\"y_range_name\":\"0\"},\"id\":\"4325\",\"type\":\"LinearAxis\"},{\"attributes\":{\"base\":24,\"mantissas\":[1,2,4,6,8,12],\"max_interval\":43200000.0,\"min_interval\":3600000.0,\"num_minor_ticks\":0},\"id\":\"4313\",\"type\":\"AdaptiveTicker\"},{\"attributes\":{\"end\":10},\"id\":\"4362\",\"type\":\"Range1d\"},{\"attributes\":{\"days\":[1,4,7,10,13,16,19,22,25,28]},\"id\":\"4315\",\"type\":\"DaysTicker\"},{\"attributes\":{\"days\":[1,2,3,4,5,6,7,8,9,10,11,12,13,14,15,16,17,18,19,20,21,22,23,24,25,26,27,28,29,30,31]},\"id\":\"4314\",\"type\":\"DaysTicker\"},{\"attributes\":{},\"id\":\"4339\",\"type\":\"BasicTickFormatter\"},{\"attributes\":{\"bottom_units\":\"screen\",\"coordinates\":null,\"fill_alpha\":0.5,\"fill_color\":\"lightgrey\",\"group\":null,\"left_units\":\"screen\",\"level\":\"overlay\",\"line_alpha\":1.0,\"line_color\":\"black\",\"line_dash\":[4,4],\"line_width\":2,\"right_units\":\"screen\",\"syncable\":false,\"top_units\":\"screen\"},\"id\":\"4282\",\"type\":\"BoxAnnotation\"},{\"attributes\":{\"coordinates\":null,\"group\":null,\"line_alpha\":0.4,\"line_color\":\"blue\",\"location\":1500,\"y_range_name\":\"1\"},\"id\":\"4526\",\"type\":\"Span\"},{\"attributes\":{\"dimensions\":\"width\"},\"id\":\"4277\",\"type\":\"WheelZoomTool\"},{\"attributes\":{\"source\":{\"id\":\"4257\"}},\"id\":\"4332\",\"type\":\"CDSView\"},{\"attributes\":{\"axis_label\":\"Various_Values_SpeedAct []\",\"axis_label_text_color\":\"blue\",\"coordinates\":null,\"formatter\":{\"id\":\"4378\"},\"group\":null,\"major_label_policy\":{\"id\":\"4379\"},\"ticker\":{\"id\":\"4377\"},\"y_range_name\":\"1\"},\"id\":\"4361\",\"type\":\"LinearAxis\"},{\"attributes\":{\"coordinates\":null,\"dimension\":\"height\",\"group\":null,\"line_alpha\":0.4,\"line_color\":\"blue\",\"location\":1643648109000.0},\"id\":\"4529\",\"type\":\"Span\"},{\"attributes\":{\"base\":60,\"mantissas\":[1,2,5,10,15,20,30],\"max_interval\":1800000.0,\"min_interval\":1000.0,\"num_minor_ticks\":0},\"id\":\"4312\",\"type\":\"AdaptiveTicker\"},{\"attributes\":{\"months\":[0,1,2,3,4,5,6,7,8,9,10,11]},\"id\":\"4318\",\"type\":\"MonthsTicker\"},{\"attributes\":{},\"id\":\"4340\",\"type\":\"AllLabels\"},{\"attributes\":{\"coordinates\":null,\"data_source\":{\"id\":\"4257\"},\"glyph\":{\"id\":\"4294\"},\"group\":null,\"hover_glyph\":null,\"muted_glyph\":{\"id\":\"4296\"},\"nonselection_glyph\":{\"id\":\"4295\"},\"view\":{\"id\":\"4298\"},\"y_range_name\":\"0\"},\"id\":\"4297\",\"type\":\"GlyphRenderer\"},{\"attributes\":{},\"id\":\"4275\",\"type\":\"PanTool\"},{\"attributes\":{\"label\":{\"value\":\"Various_Values_SpeedAct\"},\"renderers\":[{\"id\":\"4331\"}]},\"id\":\"4360\",\"type\":\"LegendItem\"},{\"attributes\":{\"days\":[1,15]},\"id\":\"4317\",\"type\":\"DaysTicker\"},{\"attributes\":{\"coordinates\":null,\"dimension\":\"height\",\"group\":null,\"line_alpha\":0.4,\"line_color\":\"blue\",\"location\":1643648109000.0},\"id\":\"4530\",\"type\":\"Span\"},{\"attributes\":{\"months\":[0,2,4,6,8,10]},\"id\":\"4319\",\"type\":\"MonthsTicker\"},{\"attributes\":{\"data\":{\"Hyd_PressCrankCase\":{\"__ndarray__\":\"mpmZmZmZuT+amZmZmZm5P5qZmZmZmbk/mpmZmZmZuT+amZmZmZm5P5qZmZmZmbk/mpmZmZmZuT+amZmZmZm5P5qZmZmZmbk/mpmZmZmZuT/b+X5qvHSjPwAAAAAAAAAAAAAAAAAAAABNFYxK6gSkP5qZmZmZmbk/mpmZmZmZuT+amZmZmZm5P5qZmZmZmbk/mpmZmZmZuT+amZmZmZm5P5qZmZmZmbk/mpmZmZmZuT+amZmZmZm5P5qZmZmZmbk/mpmZmZmZuT+amZmZmZm5P5qZmZmZmbk/mpmZmZmZuT+amZmZmZm5P5qZmZmZmbk/mpmZmZmZuT+amZmZmZm5P5qZmZmZmbk/mpmZmZmZuT+amZmZmZm5P5qZmZmZmbk/Ak2EDU+vtD8AAAAAAAAAAAAAAAAAAAAAAAAAAAAAAACMSuoENBG2P5qZmZmZmbk/mpmZmZmZuT+amZmZmZm5P5qZmZmZmbk/mpmZmZmZuT+amZmZmZm5P5qZmZmZmbk/mpmZmZmZuT+amZmZmZm5P5qZmZmZmbk/mpmZmZmZuT+amZmZmZm5P5qZmZmZmbk/mpmZmZmZuT+amZmZmZm5P5qZmZmZmbk/mpmZmZmZuT+amZmZmZm5P5qZmZmZmbk/mpmZmZmZuT+amZmZmZm5P5qZmZmZmbk/mpmZmZmZuT+amZmZmZm5P5qZmZmZmbk/mpmZmZmZuT+amZmZmZm5P5qZmZmZmbk/mpmZmZmZuT+amZmZmZm5P5qZmZmZmbk/mpmZmZmZuT+amZmZmZm5P5qZmZmZmbk/mpmZmZmZuT+amZmZmZm5P5qZmZmZmbk/mpmZmZmZuT+amZmZmZm5P5qZmZmZmbk/mpmZmZmZuT+amZmZmZm5P5qZmZmZmbk/wh4h6Nzzwj+amZmZmZnJP5qZmZmZmck/mpmZmZmZyT+amZmZmZnJP5qZmZmZmck/mpmZmZmZyT+amZmZmZnJP5qZmZmZmck/mpmZmZmZyT+amZmZmZnJP5qZmZmZmck/mpmZmZmZyT+amZmZmZnJP5qZmZmZmck/mpmZmZmZyT+amZmZmZnJP5qZmZmZmck//fZ16OALyz9GtvMlUdrTPw4tsg1oItw/yHa+j0rq4D/Idr6PSurgP8h2vo9K6uA/DI6Sa3Bb3D+amZmZmZnZP5qZmZmZmdk/ZapgVFIn0D+amZmZmZnJP5qZmZmZmck/mpmZmZmZyT8YJlMFo5LSPzMzMzMzM9M/MzMzMzMz0z8zMzMzMzPTPzMzMzMzM9M/MzMzMzMz0z8zMzMzMzPTPzMzMzMzM9M/MzMzMzMz0z8zMzMzMzPTPzMzMzMzM9M/MzMzMzMz0z8zMzMzMzPTPzMzMzMzM9M/MzMzMzMz0z8zMzMzMzPTPw==\",\"dtype\":\"float64\",\"order\":\"little\",\"shape\":[131]},\"Hyd_PressOil\":{\"__ndarray__\":\"AAAAAAAAAAAAAAAAAAAAAAAAAAAAAAAAAAAAAAAAAAAAAAAAAAAAAAAAAAAAAAAAAAAAAAAAAAAAAAAAAAAAAAAAAAAAAAAAAAAAAAAAAAAAAAAAAAAAAAAAAAAAAAAAAAAAAAAAAAAAAAAAAAAAAAAAAAAAAAAAAAAAAAAAAAAAAAAAAAAAAAAAAAAAAAAAAAAAAAAAAAAAAAAAAAAAAAAAAAAAAAAAAAAAAAAAAAAAAAAAAAAAAAAAAAAAAAAAAAAAAAAAAAAAAAAAAAAAAAAAAAAAAAAAAAAAAAAAAAA3bFuU2SBzP3sUrkfheoQ/Gy/dJAaBlT+4HoXrUbieP9M1k2+2uaE/mpmZmZmZqT8v/yH99nWwP/CnxlNEhrU/TmIQLPaXwT/8qfEsBDnQPzEIrAiZZNY/D1g5mKIj2z+km8Q4l+LeP14py17AEuE/arx0M+oh4j/jpZtIRs7kPxKDwM6uQug/JzEILOPf6T+e76dG7nfqPwIrh0ap2eo/5dAiDxcr6z8zMzMzMzPrPzMzMzMzM+s/9ihcv+MU6z9wPQpHa5rqP3A9Ckdrmuo/cD0KR2ua6j9R2hvMWLvqP+F6FK5H4eo/iUFgJb4T6z8zMzMzMzPrPzMzMzMzM+s/MzMzMzMz6z9sfZHQlnPrP4XrUbgehes/hetRuB6F6z+F61G4HoXrP4XrUbgehes/hetRuB6F6z+F61G4HoXrP4XrUbgehes/Emba/pWV6z/Xo3A9CtfrP9ejcD0K1+s/16NwPQrX6z/Xo3A9CtfrP9ejcD0K1+s/16NwPQrX6z/Xo3A9CtfrP9ejcD0K1+s/16NwPQrX6z/Xo3A9CtfrP9ejcD0K1+s/RnwnZr0Y7D8pXI/C9SjsPylcj8L1KOw/KVyPwvUo7D8pXI/C9SjsPylcj8L1KOw/KVyPwvUo7D8pXI/C9SjsPylcj8L1KOw/KVyPwvUo7D8pXI/C9SjsPylcj8L1KOw/KVyPwvUo7D8pXI/C9SjsPylcj8L1KOw/KVyPwvUo7D8pXI/C9SjsPylcj8L1KOw/KVyPwvUo7D8pXI/C9SjsPyb8Uj9vKuw/ukkMTrSr7T/Xo3BVFzfwP58aL8EhVPI/cmiRZQod9D8K16NEB+v0PwrXo0QH6/Q/5ocRQjFe9T/dJAaBb9P1P3A9Cm/wBfY/cD0Kb/AF9j9wPQpv8AX2P7T9K5oAOPY/ZmZmZmZm9j9mZmZmZmb2P2ZmZmZmZvY/ZmZmZmZm9j9mZmZmZmb2P240gEdoS/Y/8xvbzHYr9j/zG9vMdiv2P/Mb28x2K/Y/8xvbzHYr9j/zG9vMdiv2P/Mb28x2K/Y/8xvbzHYr9j/zG9vMdiv2P/Mb28x2K/Y/8xvbzHYr9j/zG9vMdiv2Pw==\",\"dtype\":\"float64\",\"order\":\"little\",\"shape\":[131]},\"Hyd_PressOilDif\":{\"__ndarray__\":\"7FG4HoXrsT8+eVioNc2zP3sUrkfherQ/exSuR+F6tD97FK5H4Xq0P3sUrkfherQ/exSuR+F6tD97FK5H4Xq0P3sUrkfherQ/exSuR+F6tD/+1HjpJjG4Pxr/PuPCgcA/8rp+wW7Ywj+reCPzyB/EP3sUrkfhesQ/exSuR+F6xD97FK5H4XrEP3sUrkfhesQ/Su8bX3tmxT/D9Shcj8LFP8P1KFyPwsU/w/UoXI/CxT/D9Shcj8LFP8P1KFyPwsU/w/UoXI/CxT/D9Shcj8LFP8P1KFyPwsU/l5APejarxj+yDHGsi9vIP0LPZtXnass/KVyPwvUozD8pXI/C9SjMPylcj8L1KMw/KVyPwvUozD8pXI/C9SjMPylcj8L1KMw/kNrEyf0OzT87wmnBi77KP8E+OnXls8g/UrgehetRyD9SuB6F61HIP1K4HoXrUcg/UrgehetRyD9LB+v/HObLP3E9CtejcM0/znADPj+MzD8Ts14M5UTLP+F6FK5H4co/29yYnrDEyz8pXI/C9SjMPylcj8L1KMw/12SNeohGyz/hehSuR+HKPxgrajANw8s/KVyPwvUozD9ExTh/EwrNP+P3Nv3Zj8w/KX6MuWsJzT9xPQrXo3DNP3E9CtejcM0/cT0K16NwzT9xPQrXo3DNP3E9CtejcM0/cT0K16NwzT9xPQrXo3DNP3E9CtejcM0/cT0K16NwzT9xPQrXo3DNP3E9CtejcM0/cT0K16NwzT9xPQrXo3DNP3E9CtejcM0/cT0K16NwzT9xPQrXo3DNP3E9CtejcM0/cT0K16NwzT9xPQrXo3DNP3E9CtejcM0/cT0K16NwzT9xPQrXo3DNP3E9CtejcM0/cT0K16NwzT9xPQrXo3DNP3E9CtejcM0/cT0K16NwzT9xPQrXo3DNP3E9CtejcM0/cT0K16NwzT9xPQrXo3DNP3E9CtejcM0/cT0K16NwzT9xPQrXo3DNP3E9CtejcM0/cT0K16NwzT9xPQrXo3DNP3E9CtejcM0/cT0K16NwzT9xPQrXo3DNP3E9CtejcM0/cT0K16NwzT9xPQrXo3DNP3E9CtejcM0/RWlv8IXJ0D+hLedSXFXSP8E5I0p7g9c/PQrXo3A92j/cY+lDF9TZP7RZ9bnaitc/BOJ1/YLd2D89CtejcD3aP4XOa+wS1dk/xLEubqMB2j/aA63AkNXZP5qZmZmZmdk/mpmZmZmZ2T+amZmZmZnZP5qZmZmZmdk/mpmZmZmZ2T+amZmZmZnZP5qZmZmZmdk/mpmZmZmZ2T+amZmZmZnZP5qZmZmZmdk/mpmZmZmZ2T+amZmZmZnZP5qZmZmZmdk/HqfoSC7/2T+amZmZmZnZPx6n6Egu/9k/mpmZmZmZ2T8ep+hILv/ZPw==\",\"dtype\":\"float64\",\"order\":\"little\",\"shape\":[131]},\"Hyd_TempOil\":{\"__ndarray__\":\"mpmZmZmZPkCamZmZmZk+QJqZmZmZmT5AmpmZmZmZPkCamZmZmZk+QJqZmZmZmT5AmpmZmZmZPkCamZmZmZk+QJqZmZmZmT5AmpmZmZmZPkCamZmZmZk+QJqZmZmZmT5AmpmZmZmZPkAukKD4MaY+QDMzMzMzsz5AMzMzMzOzPkDwOEVHcsk+QD4K14/E0D5AZmZmZmbmPkDsfD8pIe8+QAAAAAAAAD9AAAAAAAAAP0CASL99HQg/QJqZmZmZGT9AKe0NhgZAP0CPwvWEl14/QLByaCn2dz9AzczM+CiMP0Ai2/kqjqU/QFyPwjWJwT9AzczMzMzMP0DsfD+Jh9U/QA0tsi3m7j9AeekmsfwHQEDXo3B5pRRAQOomMchUIUBAmpmZbbwsQEC8dJNg/jtAQLx0k2D+O0BAvHSTYP47QECAKJhkrj1AQJqZmZmZWUBAhslUwahcQEBmZmZmZmZAQGZmZmZmZkBAzV1LyAdtQEAzMzMzM3NAQDMzMzMzc0BAMzMzMzNzQEAzMzMzM3NAQJ88LNSaZkBAZmZmZmZmQEBmZmZmZmZAQBdIUPwYU0BAzczMzMxMQED/snuODTdAQAaBlasuJkBA16Nw7eIWQEDy0k0yxgxAQDvfT337+j9AZmZmZmbmP0BmZmZmZuY/QHOKjuTyzz9AzczMzMzMP0DNzMzMzMw/QNnw9EpZpj9AmpmZmZmZP0CamZmZmZk/QAu1pnnHiT9AAAAAAACAP0AAAAAAAIA/QAAAAAAAgD9AAAAAAACAP0AAAAAAAIA/QAAAAAAAgD9AAAAAAACAP0AAAAAAAIA/QB6n6Egufz9AZmZmZmZmP0BmZmZmZmY/QGZmZmZmZj9AZmZmZmZmP0BmZmZmZmY/QGZmZmZmZj9AZmZmZmZmP0BmZmZmZmY/QGZmZmZmZj9AZmZmZmZmP0BmZmZmZmY/QGZmZmZmZj9AZmZmZmZmP0BmZmZmZmY/QGZmZmZmZj9AZmZmZmZmP0CAt0CC4nc/QAAAAAAAgD9AAAAAAACAP0D6fmq8dJM/QJqZmZmZmT9AmpmZmZmZP0Aj2/l+aqw/QDMzMzMzsz9AMzMzMzOzP0ByGw3gLcA/QM3MzMzMzD9AzczMzMzMP0DNzMzMzMw/QM3MzMzMzD9Ardhfdk/OP0BmZmZmZuY/QGZmZmZm5j9AWDm0yHb+P0AAAAAAAABAQAAAAAAAAEBAfPKwUGsKQECamZmZmRlAQAWjkjoBJUBAuB6Fr88tQEBSuB49CDRAQLKd7x9KQ0BAzczMzMxMQEDNzMzMzExAQM3MzMzMTEBA4lgXt9FQQECamZmZmVlAQPw6cM6IYkBAexSuP1drQED8OnDOiGJAQHsUrj9Xa0BA/DpwzohiQEB7FK4/V2tAQA==\",\"dtype\":\"float64\",\"order\":\"little\",\"shape\":[131]},\"Power_PowerAct\":{\"__ndarray__\":\"AAAAAAAAAAAAAAAAAAAAAAAAAAAAAAAAAAAAAAAAAAAAAAAAAAAAAAAAAAAAAAAAAAAAAAAAAAAAAAAAAAAAAAAAAAAAAAAAAAAAAAAAAAAAAAAAAAAAAAAAAAAAAAAAAAAAAAAAAAAAAAAAAAAAAAAAAAAAAAAAAAAAAAAAAAAAAAAAAAAAAAAAAAAAAAAAAAAAAAAAAAAAAAAAAAAAAAAAAAAAAAAAAAAAAAAAAAAAAAAAAAAAAAAAAAAAAAAAAAAAAAAAAAAAAAAAAAAAAAAAAAAAAAAAAAAAAAAAAAAAAAAAAAAAAAAAAAAAAAAAAAAAAAAAAAAAAAAAAAAAAAAAAAAAAAAAAAAAAAAAAAAAAAAAAAAAAAAAAAAAAAAAAAAAAAAAAAAAAAAAAAAAAAAAAAAAAAAAAAAAAAAAAAAAAAAAAAAAAAAAAAAAAAAAAAAAAAAAAAAAAAAAAAAAAAAAAAAAAAAAAAAAAAAAAAAAAAAAAAAAAAAAAAAAAAAAAAAAAAAAAAAAAAAAAAAAAAAAAAAAAAAAAAAAAAAAAAAAAAAAAAAAAAAAAAAAAAAAAAAAAAAAAAAAAAAAAAAAAAAAAAAAAAAAAAAAAAAAAAAAAAAAAAAAAAAAAAAAAAAAAAAAAAAAAAAAAAAAAAAAAAAAAAAAAAAAAAAAAAAAAAAAAAAAAAAAAAAAAAAAAAAAAAAAAAAAAAAAAAAAAAAAAAAAAAAAAAAAAAAAAAAAAAAAAAAAAAAAAAAAAAAAAAAAAAAAAAAAAAAAAAAAAAAAAAAAAAAAAAAAAAAAAAAAAAAAAAAAAAAAAAAAAAAAAAAAAAAAAAAAAAAAAAAAAAAAAAAAAAAAAAAAAAAAAAAAAAAAAAAAAAAAAAAAAAAAAAAAAAAAAAAAAAAAAAAAAAAAAAAAAAAAAAAAAAAAAAAAAAAAAAAAAAAAAAAAAAAAAAAAAAAAAAAAAAAAAAAAAAAAAAAAAAAAAAAAAAAAAAAAAAAAAAAAAAAAAAAAAAAAAAAAAAAAAAAAAAAAAAAAAAAAAAAAAAAAAAAAAAAAAAAAAAAAAAAAAAAAAAAAAAAAAAAAAAAAAAAAAAAAAAAAAAAAAAAAAAAAAAAAAAAAAAAAAAAAAAAAAAAAAAAAAAAAAAAAAAAAAAAAAAAAAAAAAAAAAAAAAAAAAAAAAAAAAAAAAAAAAAAAAAAAAAAAAAAAAAAAAAAAAAAAAAAAAAAAAAAAAAAAAAAAAAAAAAAAAAAAAAAAAAAAAAAAAAAAAAAAAAAAAAAAAAAAAAAAAAAAAAAAAAAAAAAAAAAAAAAAAAAAAAAAAAAAAAAAAAAAAAAAAAAAAAAAAAAAAAAAAAAAAAAAAAAAAAAAAAAAAAAAAAAAAAAAAAAAAAAAAA==\",\"dtype\":\"float64\",\"order\":\"little\",\"shape\":[131]},\"Various_Values_SpeedAct\":{\"__ndarray__\":\"AAAAAAAAAAAAAAAAAAAAAAAAAAAAAAAAAAAAAAAAAAAAAAAAAAAAAAAAAAAAAAAAAAAAAAAAAAAAAAAAAAAAAAAAAAAAAAAAAAAAAAAAAAAAAAAAAAAAAAAAAAAAAAAAAAAAAAAAAAAAAAAAAAAAAAAAAAAAAAAAAAAAAAAAAAAAAAAAAAAAAAAAAAAAAAAAAAAAAAAAAAAAAAAAAAAAAAAAAAAAAAAAAAAAAAAAAAAAAAAAAAAAAAAAAAAAAAAAAAAAAAAAAAAAAAAAAAAAAAAAAAAAAAAAAAAAAAAAAAAAAAAAAAAAAAAAAAAAAAAAAAAAAAAAAAAAAAAAAAAAAAAAAAAAAAAAAAAAAAAAAAAAAAAAAAAAAAAAAAAAAAAAAAAAAAAAAAAAAAAAAAAAAAAAAAAAAAAAAAAAAAAAAAAAAAAAAAAAAAAAAAAAAAAAAAAAAAAAAAAAAAAAAAAAAAAAAAAAAAAAAAAAAAAAAAAAAAAAAAAAAAAAAAAAAAAAAAAAAAAAAAAAAAAAAAAAAAAAAAAAAAAAAAAAAAAAAAAAAAAAAAAAAAAAAAAAAAAAAAAAAAAAAAAAAAAAAAAAAAAAAAAAAAAAAAAAAAAAAAAAAAAAAAAAAAAAAAAAAAAAAAAAAAAAAAAAAAAAAAAAAAAAAAAAAAAAAAAAAAAAAAAAAAAAAAAAAAAAAAAAAAAAAAAAAAAAAAAAAAAAAAAAAAAAAAAAAAAAAAAAAAAAAAAAAAAAAAAAAAAAAAAAAAAAAAAAAAAAAAAAAAAAAAAAAAAAAAAAAAAAAAAAAAAAAAAAAAAAAAAAAAAAAAAAAAAAAAAAAAAAAAAAAAAAAAAAAAAAAAAAAAAAAAAAAAAAAAAAAAAAAAAAAAAAAAAAAAAAAAAAAAAAAAAAAAAAAAAAAAAAAAAAAAAAAAAAAAAAAAAAAAAAAAAAAAAAAAAAAAAAAAAAAAAAAAAAAAAAAAAAAAAAAAAAAAAAAAAAAAAAAAAAAAAAAAAAAAAAAAAAAAAAAAAAAAAAAAAAAAAAAAAAAAAAAAAAAAAAAAAAAAAAAAAAAAAAAAAAAD0K16NwPQBAgZVDi2wPUUDSTWIQWElcQKRwPQrXi2BAZmZmZmbWYUCe76fGS7tiQN0kBoGVX2NA8/3UeOnSY0CYbhKDwCZkQLPIdr6famRA0SLb+X6mZEAW2c73U7tkQAAAAAAA4GRAAAAAAADgZEA730+Nl9ZkQHvKXmFNyGRAe8peYU3IZEB7yl5hTchkQHjs2VyZv2RAAAAAAADAZEAQWDm0yK5kQBBYObTIrmRAEFg5tMiuZEAQWDm0yK5kQHEjZYukvmRAN4lBYOU0ZkBxI2WLpL5kQDeJQWDlNGZAcSNli6S+ZEA3iUFg5TRmQA==\",\"dtype\":\"float64\",\"order\":\"little\",\"shape\":[131]},\"datetime\":{\"__ndarray__\":\"AICc/BDrd0IAANv8EOt3QgCAGf0Q63dCAABY/RDrd0IAgJb9EOt3QgAA1f0Q63dCAIAT/hDrd0IAAFL+EOt3QgCAkP4Q63dCAADP/hDrd0IAgA3/EOt3QgAATP8Q63dCAICK/xDrd0IAAMn/EOt3QgCABwAR63dCAABGABHrd0IAgIQAEet3QgAAwwAR63dCAIABARHrd0IAAEABEet3QgCAfgER63dCAAC9ARHrd0IAgPsBEet3QgAAOgIR63dCAIB4AhHrd0IAALcCEet3QgCA9QIR63dCAAA0AxHrd0IAgHIDEet3QgAAsQMR63dCAIDvAxHrd0IAAC4EEet3QgCAbAQR63dCAACrBBHrd0IAgOkEEet3QgAAKAUR63dCAIBmBRHrd0IAAKUFEet3QgCA4wUR63dCAAAiBhHrd0IAgGAGEet3QgAAnwYR63dCAIDdBhHrd0IAABwHEet3QgCAWgcR63dCAACZBxHrd0IAgNcHEet3QgAAFggR63dCAIBUCBHrd0IAAJMIEet3QgCA0QgR63dCAAAQCRHrd0IAgE4JEet3QgAAjQkR63dCAIDLCRHrd0IAAAoKEet3QgCASAoR63dCAACHChHrd0IAgMUKEet3QgAABAsR63dCAIBCCxHrd0IAAIELEet3QgCAvwsR63dCAAD+CxHrd0IAgDwMEet3QgAAewwR63dCAIC5DBHrd0IAAPgMEet3QgCANg0R63dCAAB1DRHrd0IAgLMNEet3QgAA8g0R63dCAIAwDhHrd0IAAG8OEet3QgCArQ4R63dCAADsDhHrd0IAgCoPEet3QgAAaQ8R63dCAICnDxHrd0IAAOYPEet3QgCAJBAR63dCAABjEBHrd0IAgKEQEet3QgAA4BAR63dCAIAeERHrd0IAAF0REet3QgCAmxER63dCAADaERHrd0IAgBgSEet3QgAAVxIR63dCAICVEhHrd0IAANQSEet3QgCAEhMR63dCAABRExHrd0IAgI8TEet3QgAAzhMR63dCAIAMFBHrd0IAAEsUEet3QgCAiRQR63dCAADIFBHrd0IAgAYVEet3QgAARRUR63dCAICDFRHrd0IAAMIVEet3QgCAABYR63dCAAA/FhHrd0IAgH0WEet3QgAAvBYR63dCAID6FhHrd0IAADkXEet3QgCAdxcR63dCAAC2FxHrd0IAgPQXEet3QgAAMxgR63dCAIBxGBHrd0IAALAYEet3QgCA7hgR63dCAAAtGRHrd0IAgGsZEet3QgAAqhkR63dCAIDoGRHrd0IAACcaEet3QgCAZRoR63dCAACkGhHrd0IAgOIaEet3QgAAIRsR63dCAIBfGxHrd0IAACEbEet3QgCAXxsR63dCAAAhGxHrd0IAgF8bEet3Qg==\",\"dtype\":\"float64\",\"order\":\"little\",\"shape\":[131]},\"index\":[0,1,2,3,4,5,6,7,8,9,10,11,12,13,14,15,16,17,18,19,20,21,22,23,24,25,26,27,28,29,30,31,32,33,34,35,36,37,38,39,40,41,42,43,44,45,46,47,48,49,50,51,52,53,54,55,56,57,58,59,60,61,62,63,64,65,66,67,68,69,70,71,72,73,74,75,76,77,78,79,80,81,82,83,84,85,86,87,88,89,90,91,92,93,94,95,96,97,98,99,100,101,102,103,104,105,106,107,108,109,110,111,112,113,114,115,116,117,118,119,120,121,122,123,124,125,126,127,128,129,130],\"time\":[1643648109000,1643648110000,1643648111000,1643648112000,1643648113000,1643648114000,1643648115000,1643648116000,1643648117000,1643648118000,1643648119000,1643648120000,1643648121000,1643648122000,1643648123000,1643648124000,1643648125000,1643648126000,1643648127000,1643648128000,1643648129000,1643648130000,1643648131000,1643648132000,1643648133000,1643648134000,1643648135000,1643648136000,1643648137000,1643648138000,1643648139000,1643648140000,1643648141000,1643648142000,1643648143000,1643648144000,1643648145000,1643648146000,1643648147000,1643648148000,1643648149000,1643648150000,1643648151000,1643648152000,1643648153000,1643648154000,1643648155000,1643648156000,1643648157000,1643648158000,1643648159000,1643648160000,1643648161000,1643648162000,1643648163000,1643648164000,1643648165000,1643648166000,1643648167000,1643648168000,1643648169000,1643648170000,1643648171000,1643648172000,1643648173000,1643648174000,1643648175000,1643648176000,1643648177000,1643648178000,1643648179000,1643648180000,1643648181000,1643648182000,1643648183000,1643648184000,1643648185000,1643648186000,1643648187000,1643648188000,1643648189000,1643648190000,1643648191000,1643648192000,1643648193000,1643648194000,1643648195000,1643648196000,1643648197000,1643648198000,1643648199000,1643648200000,1643648201000,1643648202000,1643648203000,1643648204000,1643648205000,1643648206000,1643648207000,1643648208000,1643648209000,1643648210000,1643648211000,1643648212000,1643648213000,1643648214000,1643648215000,1643648216000,1643648217000,1643648218000,1643648219000,1643648220000,1643648221000,1643648222000,1643648223000,1643648224000,1643648225000,1643648226000,1643648227000,1643648228000,1643648229000,1643648230000,1643648231000,1643648232000,1643648233000,1643648234000,1643648235000,1643648234000,1643648235000,1643648234000,1643648235000]},\"selected\":{\"id\":\"4308\"},\"selection_policy\":{\"id\":\"4307\"}},\"id\":\"4257\",\"type\":\"ColumnDataSource\"},{\"attributes\":{\"overlay\":{\"id\":\"4282\"}},\"id\":\"4278\",\"type\":\"BoxSelectTool\"},{\"attributes\":{\"end\":110},\"id\":\"4401\",\"type\":\"Range1d\"},{\"attributes\":{\"mantissas\":[1,2,5],\"max_interval\":500.0,\"num_minor_ticks\":0},\"id\":\"4311\",\"type\":\"AdaptiveTicker\"},{\"attributes\":{},\"id\":\"4420\",\"type\":\"BasicTickFormatter\"},{\"attributes\":{\"coordinates\":null,\"dimension\":\"height\",\"group\":null,\"line_alpha\":0.4,\"line_color\":\"blue\",\"location\":1643648220000.0},\"id\":\"4527\",\"type\":\"Span\"},{\"attributes\":{\"line_alpha\":0.2,\"line_color\":\"blue\",\"line_width\":2,\"x\":{\"field\":\"datetime\"},\"y\":{\"field\":\"Various_Values_SpeedAct\"}},\"id\":\"4330\",\"type\":\"Line\"},{\"attributes\":{\"line_color\":\"blue\",\"line_width\":2,\"x\":{\"field\":\"datetime\"},\"y\":{\"field\":\"Various_Values_SpeedAct\"}},\"id\":\"4328\",\"type\":\"Line\"},{\"attributes\":{},\"id\":\"4419\",\"type\":\"BasicTicker\"},{\"attributes\":{\"coordinates\":null,\"group\":null,\"text\":\"1486174 Forsa Hartmoor M04 ----- Start 4 ??? | FAILED | 2022-01-31 16:55:09\",\"text_font_size\":\"16px\"},\"id\":\"4299\",\"type\":\"Title\"},{\"attributes\":{},\"id\":\"4281\",\"type\":\"SaveTool\"},{\"attributes\":{\"line_alpha\":0.1,\"line_color\":\"blue\",\"line_width\":2,\"x\":{\"field\":\"datetime\"},\"y\":{\"field\":\"Various_Values_SpeedAct\"}},\"id\":\"4329\",\"type\":\"Line\"},{\"attributes\":{\"label\":{\"value\":\"Power_PowerAct\"},\"renderers\":[{\"id\":\"4297\"}]},\"id\":\"4324\",\"type\":\"LegendItem\"},{\"attributes\":{\"coordinates\":null,\"dimension\":\"height\",\"group\":null,\"line_alpha\":0.4,\"line_color\":\"blue\",\"location\":1643648235000.0},\"id\":\"4528\",\"type\":\"Span\"},{\"attributes\":{\"line_alpha\":0.2,\"line_color\":\"red\",\"line_width\":2,\"x\":{\"field\":\"datetime\"},\"y\":{\"field\":\"Power_PowerAct\"}},\"id\":\"4296\",\"type\":\"Line\"},{\"attributes\":{},\"id\":\"4322\",\"type\":\"YearsTicker\"},{\"attributes\":{\"source\":{\"id\":\"4257\"}},\"id\":\"4298\",\"type\":\"CDSView\"},{\"attributes\":{\"line_alpha\":0.1,\"line_color\":\"red\",\"line_width\":2,\"x\":{\"field\":\"datetime\"},\"y\":{\"field\":\"Power_PowerAct\"}},\"id\":\"4295\",\"type\":\"Line\"},{\"attributes\":{\"coordinates\":null,\"formatter\":{\"id\":\"4302\"},\"group\":null,\"major_label_policy\":{\"id\":\"4303\"},\"ticker\":{\"id\":\"4272\"},\"visible\":false},\"id\":\"4271\",\"type\":\"LinearAxis\"},{\"attributes\":{\"coordinates\":null,\"data_source\":{\"id\":\"4257\"},\"glyph\":{\"id\":\"4328\"},\"group\":null,\"hover_glyph\":null,\"muted_glyph\":{\"id\":\"4330\"},\"nonselection_glyph\":{\"id\":\"4329\"},\"view\":{\"id\":\"4332\"},\"y_range_name\":\"1\"},\"id\":\"4331\",\"type\":\"GlyphRenderer\"},{\"attributes\":{\"months\":[0,4,8]},\"id\":\"4320\",\"type\":\"MonthsTicker\"},{\"attributes\":{},\"id\":\"4338\",\"type\":\"BasicTicker\"},{\"attributes\":{\"overlay\":{\"id\":\"4283\"}},\"id\":\"4276\",\"type\":\"BoxZoomTool\"},{\"attributes\":{},\"id\":\"4279\",\"type\":\"UndoTool\"},{\"attributes\":{},\"id\":\"4378\",\"type\":\"BasicTickFormatter\"},{\"attributes\":{},\"id\":\"4305\",\"type\":\"DatetimeTickFormatter\"},{\"attributes\":{},\"id\":\"4303\",\"type\":\"AllLabels\"},{\"attributes\":{},\"id\":\"4265\",\"type\":\"LinearScale\"},{\"attributes\":{\"line_color\":\"#2171b5\",\"line_width\":2,\"x\":{\"field\":\"datetime\"},\"y\":{\"field\":\"Hyd_TempOil\"}},\"id\":\"4403\",\"type\":\"Line\"},{\"attributes\":{\"coordinates\":null,\"formatter\":{\"id\":\"4305\"},\"group\":null,\"major_label_policy\":{\"id\":\"4306\"},\"ticker\":{\"id\":\"4268\"}},\"id\":\"4267\",\"type\":\"DatetimeAxis\"},{\"attributes\":{},\"id\":\"4421\",\"type\":\"AllLabels\"},{\"attributes\":{},\"id\":\"4272\",\"type\":\"BasicTicker\"},{\"attributes\":{\"coordinates\":null,\"dimension\":\"height\",\"group\":null,\"line_alpha\":0.4,\"line_color\":\"red\",\"location\":1643648214209.999},\"id\":\"4523\",\"type\":\"Span\"},{\"attributes\":{},\"id\":\"4308\",\"type\":\"Selection\"},{\"attributes\":{\"axis_label\":\"Hyd_PressOil []\",\"axis_label_text_color\":\"brown\",\"coordinates\":null,\"formatter\":{\"id\":\"4420\"},\"group\":null,\"major_label_policy\":{\"id\":\"4421\"},\"ticker\":{\"id\":\"4419\"},\"y_range_name\":\"2\"},\"id\":\"4400\",\"type\":\"LinearAxis\"},{\"attributes\":{},\"id\":\"4259\",\"type\":\"DataRange1d\"},{\"attributes\":{\"callback\":null,\"formatters\":{\"@datetime\":\"datetime\"},\"tooltips\":[[\"Datetime\",\"@datetime{%F %T}\"],[\"Power_PowerAct\",\"@{Power_PowerAct}{0.2 f} \"],[\"Various_Values_SpeedAct\",\"@{Various_Values_SpeedAct}{0.2 f} \"],[\"Hyd_PressOil\",\"@{Hyd_PressOil}{0.2 f} \"],[\"Hyd_TempOil\",\"@{Hyd_TempOil}{0.2 f} \"]]},\"id\":\"4443\",\"type\":\"HoverTool\"},{\"attributes\":{\"end\":2500},\"id\":\"4326\",\"type\":\"Range1d\"},{\"attributes\":{},\"id\":\"4306\",\"type\":\"AllLabels\"},{\"attributes\":{\"coordinates\":null,\"dimension\":\"height\",\"group\":null,\"line_alpha\":0.4,\"line_color\":\"red\",\"location\":1643648235715.999},\"id\":\"4524\",\"type\":\"Span\"},{\"attributes\":{},\"id\":\"4263\",\"type\":\"LinearScale\"},{\"attributes\":{\"line_alpha\":0.2,\"line_color\":\"#2171b5\",\"line_width\":2,\"x\":{\"field\":\"datetime\"},\"y\":{\"field\":\"Hyd_TempOil\"}},\"id\":\"4405\",\"type\":\"Line\"},{\"attributes\":{\"coordinates\":null,\"data_source\":{\"id\":\"4257\"},\"glyph\":{\"id\":\"4403\"},\"group\":null,\"hover_glyph\":null,\"muted_glyph\":{\"id\":\"4405\"},\"nonselection_glyph\":{\"id\":\"4404\"},\"view\":{\"id\":\"4407\"},\"y_range_name\":\"3\"},\"id\":\"4406\",\"type\":\"GlyphRenderer\"},{\"attributes\":{\"coordinates\":null,\"group\":null,\"line_alpha\":0.4,\"line_color\":\"red\",\"location\":4495.0,\"y_range_name\":\"0\"},\"id\":\"4525\",\"type\":\"Span\"},{\"attributes\":{},\"id\":\"4379\",\"type\":\"AllLabels\"},{\"attributes\":{},\"id\":\"4377\",\"type\":\"BasicTicker\"},{\"attributes\":{\"label\":{\"value\":\"Hyd_TempOil\"},\"renderers\":[{\"id\":\"4406\"}]},\"id\":\"4441\",\"type\":\"LegendItem\"},{\"attributes\":{},\"id\":\"4302\",\"type\":\"BasicTickFormatter\"},{\"attributes\":{\"coordinates\":null,\"dimension\":\"height\",\"group\":null,\"line_alpha\":0.4,\"line_color\":\"red\",\"location\":1643648108587.0},\"id\":\"4521\",\"type\":\"Span\"},{\"attributes\":{},\"id\":\"4307\",\"type\":\"UnionRenderers\"},{\"attributes\":{\"line_alpha\":0.1,\"line_color\":\"#2171b5\",\"line_width\":2,\"x\":{\"field\":\"datetime\"},\"y\":{\"field\":\"Hyd_TempOil\"}},\"id\":\"4404\",\"type\":\"Line\"},{\"attributes\":{\"axis\":{\"id\":\"4267\"},\"coordinates\":null,\"grid_line_color\":null,\"group\":null,\"ticker\":null},\"id\":\"4270\",\"type\":\"Grid\"},{\"attributes\":{\"source\":{\"id\":\"4257\"}},\"id\":\"4407\",\"type\":\"CDSView\"},{\"attributes\":{\"line_alpha\":0.2,\"line_color\":\"brown\",\"line_width\":2,\"x\":{\"field\":\"datetime\"},\"y\":{\"field\":\"Hyd_PressOil\"}},\"id\":\"4366\",\"type\":\"Line\"},{\"attributes\":{\"end\":5000},\"id\":\"4292\",\"type\":\"Range1d\"},{\"attributes\":{},\"id\":\"4261\",\"type\":\"DataRange1d\"},{\"attributes\":{\"axis\":{\"id\":\"4271\"},\"coordinates\":null,\"dimension\":1,\"grid_line_color\":null,\"group\":null,\"ticker\":null},\"id\":\"4274\",\"type\":\"Grid\"},{\"attributes\":{},\"id\":\"4459\",\"type\":\"BasicTicker\"},{\"attributes\":{\"num_minor_ticks\":5,\"tickers\":[{\"id\":\"4311\"},{\"id\":\"4312\"},{\"id\":\"4313\"},{\"id\":\"4314\"},{\"id\":\"4315\"},{\"id\":\"4316\"},{\"id\":\"4317\"},{\"id\":\"4318\"},{\"id\":\"4319\"},{\"id\":\"4320\"},{\"id\":\"4321\"},{\"id\":\"4322\"}]},\"id\":\"4268\",\"type\":\"DatetimeTicker\"},{\"attributes\":{\"coordinates\":null,\"dimension\":\"height\",\"group\":null,\"line_alpha\":0.4,\"line_color\":\"red\",\"location\":1643648210479.0},\"id\":\"4522\",\"type\":\"Span\"},{\"attributes\":{\"coordinates\":null,\"data_source\":{\"id\":\"4257\"},\"glyph\":{\"id\":\"4364\"},\"group\":null,\"hover_glyph\":null,\"muted_glyph\":{\"id\":\"4366\"},\"nonselection_glyph\":{\"id\":\"4365\"},\"view\":{\"id\":\"4368\"},\"y_range_name\":\"2\"},\"id\":\"4367\",\"type\":\"GlyphRenderer\"},{\"attributes\":{\"line_alpha\":0.1,\"line_color\":\"brown\",\"line_width\":2,\"x\":{\"field\":\"datetime\"},\"y\":{\"field\":\"Hyd_PressOil\"}},\"id\":\"4365\",\"type\":\"Line\"},{\"attributes\":{\"axis_label\":\"Hyd_TempOil []\",\"axis_label_text_color\":\"#2171b5\",\"coordinates\":null,\"formatter\":{\"id\":\"4460\"},\"group\":null,\"major_label_policy\":{\"id\":\"4461\"},\"ticker\":{\"id\":\"4459\"},\"y_range_name\":\"3\"},\"id\":\"4442\",\"type\":\"LinearAxis\"},{\"attributes\":{},\"id\":\"4461\",\"type\":\"AllLabels\"},{\"attributes\":{\"label\":{\"value\":\"Hyd_PressOil\"},\"renderers\":[{\"id\":\"4367\"}]},\"id\":\"4399\",\"type\":\"LegendItem\"},{\"attributes\":{\"source\":{\"id\":\"4257\"}},\"id\":\"4368\",\"type\":\"CDSView\"},{\"attributes\":{\"active_drag\":null,\"active_scroll\":null,\"tools\":[{\"id\":\"4275\"},{\"id\":\"4276\"},{\"id\":\"4277\"},{\"id\":\"4278\"},{\"id\":\"4279\"},{\"id\":\"4280\"},{\"id\":\"4281\"},{\"id\":\"4443\"}]},\"id\":\"4284\",\"type\":\"Toolbar\"},{\"attributes\":{\"line_color\":\"brown\",\"line_width\":2,\"x\":{\"field\":\"datetime\"},\"y\":{\"field\":\"Hyd_PressOil\"}},\"id\":\"4364\",\"type\":\"Line\"},{\"attributes\":{},\"id\":\"4460\",\"type\":\"BasicTickFormatter\"},{\"attributes\":{\"line_color\":\"red\",\"line_width\":2,\"x\":{\"field\":\"datetime\"},\"y\":{\"field\":\"Power_PowerAct\"}},\"id\":\"4294\",\"type\":\"Line\"}],\"root_ids\":[\"4258\"]},\"title\":\"Bokeh Application\",\"version\":\"2.4.2\"}};\n  const render_items = [{\"docid\":\"4fed1882-f715-4e7b-a042-c1c9c98531ea\",\"root_ids\":[\"4258\"],\"roots\":{\"4258\":\"87adee83-0603-4a41-bcb6-9e3c1d382a57\"}}];\n  root.Bokeh.embed.embed_items_notebook(docs_json, render_items);\n\n  }\n  if (root.Bokeh !== undefined) {\n    embed_document(root);\n  } else {\n    let attempts = 0;\n    const timer = setInterval(function(root) {\n      if (root.Bokeh !== undefined) {\n        clearInterval(timer);\n        embed_document(root);\n      } else {\n        attempts++;\n        if (attempts > 100) {\n          clearInterval(timer);\n          console.log(\"Bokeh: ERROR: Unable to run BokehJS code because BokehJS library is missing\");\n        }\n      }\n    }, 10, root)\n  }\n})(window);",
      "application/vnd.bokehjs_exec.v0+json": ""
     },
     "metadata": {
      "application/vnd.bokehjs_exec.v0+json": {
       "id": "4258"
      }
     },
     "output_type": "display_data"
    }
   ],
   "source": [
    "startversuch = rdb.iloc[v]; plot_with_additional_results(startversuch, vset, dset) \n",
    "#fsm.starts.iloc[v].to_dict()"
   ]
  },
  {
   "cell_type": "code",
   "execution_count": null,
   "metadata": {},
   "outputs": [],
   "source": [
    "fsm._runlogdetail"
   ]
  },
  {
   "cell_type": "code",
   "execution_count": null,
   "metadata": {},
   "outputs": [],
   "source": [
    "startversuch = rdb.iloc[v]\n",
    "display(HTML(pd.DataFrame.from_dict(dict(zip(filterFSM.vertical_lines_times, states_lines(startversuch))), orient='index').T.to_html(escape=False,index=False)))\n",
    "td = {\n",
    "    'start': [v for k,v in startversuch['timing'].items() if k.startswith('start_')],\n",
    "    'end': [v for k,v in startversuch['timing'].items() if k.startswith('end_')]\n",
    "}\n",
    "columns = [k[4:] for k in startversuch['timing'].keys() if k.startswith('end_')]\n",
    "#display(HTML(pd.DataFrame.from_dict(td,orient='index').T.to_html(escape=False,index=False)))\n",
    "pd.DataFrame.from_dict(td,orient='index', columns=columns)"
   ]
  },
  {
   "cell_type": "code",
   "execution_count": null,
   "metadata": {},
   "outputs": [],
   "source": [
    "nalarms = []\n",
    "ct = 0\n",
    "ct2 = 0\n",
    "mini = 0\n",
    "maxi = 100\n",
    "_txt = ''\n",
    "for i,c in rdf.iterrows():\n",
    "    if len(c['alarms']) > 0 and not c['success']:\n",
    "        ct += 1\n",
    "        _txt += f\"<h3>Startversuch: {i}, Success: {c['success']}</h3>\"\n",
    "        #display(HTML(f\"\\n<hr><h3>Startversuch: {i}, Success: {c['success']}</h3>\"))\n",
    "        print()\n",
    "        for a in c['alarms']:\n",
    "            nalarms.append(a['msg'])\n",
    "            _txt += f\"{ct2} {c['mode']:15} {a['state']:20} \" + fsm.msgtxt(a['msg']) + \"<br>\"\n",
    "            #_txt = f\"{ct2} {c['mode']:15} {a['state']:20} {a['msg']['timestamp']} {pd.to_datetime(int(a['msg']['timestamp'])*1e6).strftime('%d.%m.%Y %H:%M:%S')} {a['msg']['name']} {a['msg']['message']}\"\n",
    "            #if ct2 >= mini and ct2 <= maxi:\n",
    "                #fsm.plot_cycle(c, ylim=(0,2500), cycletime=1, marker=None,figsize=(20,12), title=f\"{i:3d} - {fsm._e} {_txt}\")\n",
    "                #plt.show()\n",
    "            ct2 += 1\n",
    "_txt = f\"<h2>{fsm._e}, <br>{ct:3} not successful starts</h2>\" + _txt\n",
    "display(HTML(_txt))\n"
   ]
  },
  {
   "cell_type": "code",
   "execution_count": null,
   "metadata": {},
   "outputs": [],
   "source": [
    "rdf['alarms']"
   ]
  },
  {
   "cell_type": "code",
   "execution_count": null,
   "metadata": {},
   "outputs": [],
   "source": [
    "phases = [['startpreparation','starter','hochlauf','idle','synchronize','loadramp','targetoperation','coolrun'],'startpreparation','starter','hochlauf','idle','synchronize','loadramp','targetoperation','coolrun']\n",
    "for phase in phases:\n",
    "    al = alarms_pareto(fsm, phase)\n",
    "    if not al.empty:\n",
    "        display(HTML(f\"<h3>{phase}:</h3>\"))\n",
    "        al.sort_values(by = \"anz\",ascending=True)\n",
    "        display(HTML(al.to_html(escape=False, index=False)))"
   ]
  },
  {
   "cell_type": "code",
   "execution_count": null,
   "metadata": {},
   "outputs": [],
   "source": [
    "for phase in phases:\n",
    "    wr = warnings_pareto(fsm, phase)\n",
    "    if not wr.empty:\n",
    "        display(HTML(f\"<h3>{phase}:</h3>\"))\n",
    "        wr.sort_values(by = \"anz\",ascending=True)\n",
    "        display(HTML(wr.to_html(escape=False, index=False)))"
   ]
  },
  {
   "cell_type": "code",
   "execution_count": null,
   "metadata": {},
   "outputs": [],
   "source": [
    "display(HTML(pd.DataFrame(fsm._runlog).to_html(escape=False, index=False)))"
   ]
  },
  {
   "cell_type": "code",
   "execution_count": null,
   "metadata": {},
   "outputs": [],
   "source": [
    "mfn = e._fname + '_messages.txt'\n",
    "fsm.save_messages(mfn)\n",
    "print(mfn)"
   ]
  },
  {
   "cell_type": "code",
   "execution_count": null,
   "metadata": {},
   "outputs": [],
   "source": [
    "from dmyplant2 import operationFSM\n",
    "ofsm = operationFSM(e)\n",
    "ofsm.dot(e._fname + 'FSM.dot')"
   ]
  },
  {
   "cell_type": "code",
   "execution_count": null,
   "metadata": {},
   "outputs": [],
   "source": [
    "# lfn = e._fname + '_runlog.txt'\n",
    "# fsm.save_runlog(lfn)\n",
    "# print(lfn)"
   ]
  }
 ],
 "metadata": {
  "interpreter": {
   "hash": "00e7f18031541dc25b2d1c6c1f90e0b122a906b1440859c87878a4f6b4e1a002"
  },
  "kernelspec": {
   "display_name": "Python 3.8.5 ('base')",
   "language": "python",
   "name": "python3"
  },
  "language_info": {
   "codemirror_mode": {
    "name": "ipython",
    "version": 3
   },
   "file_extension": ".py",
   "mimetype": "text/x-python",
   "name": "python",
   "nbconvert_exporter": "python",
   "pygments_lexer": "ipython3",
   "version": "3.9.7"
  },
  "orig_nbformat": 4
 },
 "nbformat": 4,
 "nbformat_minor": 2
}
