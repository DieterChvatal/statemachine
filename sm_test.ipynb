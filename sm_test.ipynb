{
 "cells": [
  {
   "cell_type": "markdown",
   "metadata": {},
   "source": [
    "## Statemachine test"
   ]
  },
  {
   "cell_type": "code",
   "execution_count": 14,
   "metadata": {
    "scrolled": false
   },
   "outputs": [
    {
     "name": "stdout",
     "output_type": "stream",
     "text": [
      "The autoreload extension is already loaded. To reload it, use:\n",
      "  %reload_ext autoreload\n"
     ]
    }
   ],
   "source": [
    "%load_ext autoreload\n",
    "%autoreload 2\n",
    "import pandas as pd\n",
    "import numpy as np"
   ]
  },
  {
   "cell_type": "code",
   "execution_count": 6,
   "metadata": {},
   "outputs": [],
   "source": [
    "# import dmyplant2\n",
    "# dmyplant2.cred()\n",
    "# mp = dmyplant2.MyPlant(600)\n",
    "# e=dmyplant2.Engine.from_sn(mp,1184199)\n",
    "#print(f\"{e}\")\n",
    "#e.dash\n",
    "#dtrips = e.batch_hist_alarms(p_severities=[600,650,700,800], p_offset=0, p_limit=200000)\n",
    "#dtrips.to_pickle('1184199_messages.pkl')"
   ]
  },
  {
   "cell_type": "code",
   "execution_count": 31,
   "metadata": {},
   "outputs": [
    {
     "data": {
      "text/plain": [
       "(127515, 8)"
      ]
     },
     "execution_count": 31,
     "metadata": {},
     "output_type": "execute_result"
    }
   ],
   "source": [
    "from dfsm import msgFSM\n",
    "messages = pd.read_pickle('1184199_messages.pkl')\n",
    "messages.shape"
   ]
  },
  {
   "cell_type": "code",
   "execution_count": 33,
   "metadata": {},
   "outputs": [
    {
     "name": "stdout",
     "output_type": "stream",
     "text": [
      "S  -> Q1\n",
      "Q1 -> Q2\n",
      "Q2 -> Q3\n"
     ]
    },
    {
     "data": {
      "text/plain": [
       "True"
      ]
     },
     "execution_count": 33,
     "metadata": {},
     "output_type": "execute_result"
    }
   ],
   "source": [
    "from dfsm import regexFSM, grep_regex\n",
    "grep_regex(\"abc\")"
   ]
  }
 ],
 "metadata": {
  "interpreter": {
   "hash": "7b827b5f1f2836ddadb8fbc7a8e8e99004f7285a204f4c797dc2931fe1207e23"
  },
  "kernelspec": {
   "display_name": "Python 3.8.5 64-bit",
   "language": "python",
   "name": "python3"
  },
  "language_info": {
   "codemirror_mode": {
    "name": "ipython",
    "version": 3
   },
   "file_extension": ".py",
   "mimetype": "text/x-python",
   "name": "python",
   "nbconvert_exporter": "python",
   "pygments_lexer": "ipython3",
   "version": "3.9.7"
  }
 },
 "nbformat": 4,
 "nbformat_minor": 4
}
