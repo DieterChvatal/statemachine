{
 "cells": [
  {
   "cell_type": "markdown",
   "metadata": {},
   "source": [
    "## Statemachine test"
   ]
  },
  {
   "cell_type": "code",
   "execution_count": 85,
   "metadata": {
    "scrolled": false
   },
   "outputs": [
    {
     "name": "stdout",
     "output_type": "stream",
     "text": [
      "The autoreload extension is already loaded. To reload it, use:\n",
      "  %reload_ext autoreload\n"
     ]
    }
   ],
   "source": [
    "%load_ext autoreload\n",
    "%autoreload 2\n",
    "import pandas as pd\n",
    "import numpy as np"
   ]
  },
  {
   "cell_type": "code",
   "execution_count": 86,
   "metadata": {},
   "outputs": [
    {
     "name": "stdout",
     "output_type": "stream",
     "text": [
      "1184199 M01 ROCHE PENZBERG KWKK    \n"
     ]
    }
   ],
   "source": [
    "# import dmyplant2\n",
    "# dmyplant2.cred()\n",
    "# mp = dmyplant2.MyPlant(600)\n",
    "# e=dmyplant2.Engine.from_sn(mp,1184199)\n",
    "# print(f\"{e}\")\n",
    "# e.dash\n",
    "# dtrips = e.batch_hist_alarms(p_severities=[600,650,700,800], p_offset=0, p_limit=200000)\n",
    "# dtrips = dtrips.iloc[::-1] # Alarme umdrehen \n",
    "# dtrips.to_pickle('1184199_messages.pkl')"
   ]
  },
  {
   "cell_type": "code",
   "execution_count": 89,
   "metadata": {},
   "outputs": [
    {
     "data": {
      "text/plain": [
       "(127539, 7)"
      ]
     },
     "execution_count": 89,
     "metadata": {},
     "output_type": "execute_result"
    }
   ],
   "source": [
    "from dfsm import msgFSM\n",
    "messages = pd.read_pickle('1184199_messages.pkl')\n",
    "messages.shape"
   ]
  },
  {
   "cell_type": "code",
   "execution_count": 90,
   "metadata": {},
   "outputs": [
    {
     "data": {
      "text/html": [
       "<table border=\"1\" class=\"dataframe\">\n",
       "  <thead>\n",
       "    <tr style=\"text-align: right;\">\n",
       "      <th></th>\n",
       "      <th>assetId</th>\n",
       "      <th>isPrimary</th>\n",
       "      <th>message</th>\n",
       "      <th>name</th>\n",
       "      <th>severity</th>\n",
       "      <th>timestamp</th>\n",
       "      <th>associatedValues</th>\n",
       "    </tr>\n",
       "  </thead>\n",
       "  <tbody>\n",
       "    <tr>\n",
       "      <th>1596</th>\n",
       "      <td>108532</td>\n",
       "      <td>False</td>\n",
       "      <td>Group alarm - warning</td>\n",
       "      <td>1240</td>\n",
       "      <td>600</td>\n",
       "      <td>1642430202174</td>\n",
       "      <td>NaN</td>\n",
       "    </tr>\n",
       "    <tr>\n",
       "      <th>1595</th>\n",
       "      <td>108532</td>\n",
       "      <td>False</td>\n",
       "      <td>Cylinder exhaust gas temperature negative deviation from average value</td>\n",
       "      <td>3239</td>\n",
       "      <td>600</td>\n",
       "      <td>1642430203084</td>\n",
       "      <td>[{'name': 'EngineController_.MM2VIS.iMsg3239', 'value': '13'}]</td>\n",
       "    </tr>\n",
       "    <tr>\n",
       "      <th>1594</th>\n",
       "      <td>108532</td>\n",
       "      <td>False</td>\n",
       "      <td>Operation off</td>\n",
       "      <td>1234</td>\n",
       "      <td>600</td>\n",
       "      <td>1642430204775</td>\n",
       "      <td>[{'name': 'Count_OpHour', 'value': '38882'}]</td>\n",
       "    </tr>\n",
       "    <tr>\n",
       "      <th>1593</th>\n",
       "      <td>108532</td>\n",
       "      <td>False</td>\n",
       "      <td>Request module off</td>\n",
       "      <td>1232</td>\n",
       "      <td>600</td>\n",
       "      <td>1642430204775</td>\n",
       "      <td>NaN</td>\n",
       "    </tr>\n",
       "    <tr>\n",
       "      <th>1592</th>\n",
       "      <td>108532</td>\n",
       "      <td>False</td>\n",
       "      <td>Demand exhaust gas scavenging fan off</td>\n",
       "      <td>1278</td>\n",
       "      <td>600</td>\n",
       "      <td>1642430204878</td>\n",
       "      <td>NaN</td>\n",
       "    </tr>\n",
       "  </tbody>\n",
       "</table>"
      ],
      "text/plain": [
       "<IPython.core.display.HTML object>"
      ]
     },
     "metadata": {},
     "output_type": "display_data"
    }
   ],
   "source": [
    "from IPython.display import HTML, display\n",
    "m = messages[messages.name != '9007'] # filter out hourly messages\n",
    "m = m[-1000:]\n",
    "display(HTML(m[:5].to_html(escape=False)))"
   ]
  },
  {
   "cell_type": "code",
   "execution_count": 91,
   "metadata": {},
   "outputs": [],
   "source": [
    "def Start_FSM(msgs):\n",
    "    fsmrunner = msgFSM()\n",
    "    for index, msg in msgs.iterrows():\n",
    "        #print(msg['message'])\n",
    "        fsmrunner.send(msg)\n",
    "    return fsmrunner.completed()"
   ]
  },
  {
   "cell_type": "code",
   "execution_count": 94,
   "metadata": {},
   "outputs": [
    {
     "data": {
      "text/plain": [
       "[{'t0': [1642430227877, 'Demand oil pump on'],\n",
       "  't1': [1642430707920, 'Demand oil pump off'],\n",
       "  't0->t1': 480.043},\n",
       " {'t0': [1642430862790, 'Demand oil pump on'],\n",
       "  't1': [1642431475737, 'Demand oil pump off'],\n",
       "  't0->t1': 612.947},\n",
       " {'t0': [1642431690678, 'Demand oil pump on'],\n",
       "  't1': [1642432890620, 'Demand oil pump off'],\n",
       "  't0->t1': 1199.942},\n",
       " {'t0': [1642436437987, 'Demand oil pump on'],\n",
       "  't1': [1642436621312, 'Demand oil pump off'],\n",
       "  't0->t1': 183.325},\n",
       " {'t0': [1642437841301, 'Demand oil pump on'],\n",
       "  't1': [1642439114934, 'Demand oil pump off'],\n",
       "  't0->t1': 1273.633},\n",
       " {'t0': [1642443562463, 'Demand oil pump on'],\n",
       "  't1': [1642444762354, 'Demand oil pump off'],\n",
       "  't0->t1': 1199.891},\n",
       " {'t0': [1642446167034, 'Demand oil pump on'],\n",
       "  't1': [1642446342097, 'Demand oil pump off'],\n",
       "  't0->t1': 175.063},\n",
       " {'t0': [1642491599713, 'Demand oil pump on'],\n",
       "  't1': [1642492596960, 'Demand oil pump off'],\n",
       "  't0->t1': 997.247},\n",
       " {'t0': [1642496670195, 'Demand oil pump on'],\n",
       "  't1': [1642497990086, 'Demand oil pump off'],\n",
       "  't0->t1': 1319.891},\n",
       " {'t0': [1642508821823, 'Demand oil pump on'],\n",
       "  't1': [1642509022411, 'Demand oil pump off'],\n",
       "  't0->t1': 200.588},\n",
       " {'t0': [1643112119155, 'Demand oil pump on'],\n",
       "  't1': [1643113318961, 'Demand oil pump off'],\n",
       "  't0->t1': 1199.806},\n",
       " {'t0': [1643119889783, 'Demand oil pump on'],\n",
       "  't1': [1643120091645, 'Demand oil pump off'],\n",
       "  't0->t1': 201.862},\n",
       " {'t0': [1643120607255, 'Demand oil pump on'],\n",
       "  't1': [1643121806936, 'Demand oil pump off'],\n",
       "  't0->t1': 1199.681},\n",
       " {'t0': [1643212568423, 'Demand oil pump on'],\n",
       "  't1': [1643212759996, 'Demand oil pump off'],\n",
       "  't0->t1': 191.573},\n",
       " {'t0': [1643213254435, 'Demand oil pump on'],\n",
       "  't1': [1643213801925, 'Demand oil pump off'],\n",
       "  't0->t1': 547.49},\n",
       " {'t0': [1643214295091, 'Demand oil pump on'],\n",
       "  't1': [1643214818643, 'Demand oil pump off'],\n",
       "  't0->t1': 523.552},\n",
       " {'t0': [1643214895002, 'Demand oil pump on'],\n",
       "  't1': [1643215392227, 'Demand oil pump off'],\n",
       "  't0->t1': 497.225},\n",
       " {'t0': [1643393799712, 'Demand oil pump on'],\n",
       "  't1': [1643394157209, 'Demand oil pump off'],\n",
       "  't0->t1': 357.497},\n",
       " {'t0': [1643752597872, 'Demand oil pump on'],\n",
       "  't1': [1643752833506, 'Demand oil pump off'],\n",
       "  't0->t1': 235.634},\n",
       " {'t0': [1643899121755, 'Demand oil pump on'],\n",
       "  't1': [1643900322247, 'Demand oil pump off'],\n",
       "  't0->t1': 1200.492},\n",
       " {'t0': [1643900678530, 'Demand oil pump on'],\n",
       "  't1': [1643900861344, 'Demand oil pump off'],\n",
       "  't0->t1': 182.814},\n",
       " {'t0': [1643901801854, 'Demand oil pump on'],\n",
       "  't1': [1643902904496, 'Demand oil pump off'],\n",
       "  't0->t1': 1102.642},\n",
       " {'t0': [1643903496278, 'Demand oil pump on'],\n",
       "  't1': [1643904696248, 'Demand oil pump off'],\n",
       "  't0->t1': 1199.97},\n",
       " {'t0': [1643906872566, 'Demand oil pump on'],\n",
       "  't1': [1643907751096, 'Demand oil pump off'],\n",
       "  't0->t1': 878.53},\n",
       " {'t0': [1644485594383, 'Demand oil pump on'],\n",
       "  't1': [1644486794839, 'Demand oil pump off'],\n",
       "  't0->t1': 1200.456}]"
      ]
     },
     "execution_count": 94,
     "metadata": {},
     "output_type": "execute_result"
    }
   ],
   "source": [
    "Start_FSM(m)"
   ]
  },
  {
   "cell_type": "code",
   "execution_count": null,
   "metadata": {},
   "outputs": [],
   "source": []
  }
 ],
 "metadata": {
  "interpreter": {
   "hash": "7b827b5f1f2836ddadb8fbc7a8e8e99004f7285a204f4c797dc2931fe1207e23"
  },
  "kernelspec": {
   "display_name": "Python 3.8.5 64-bit",
   "language": "python",
   "name": "python3"
  },
  "language_info": {
   "codemirror_mode": {
    "name": "ipython",
    "version": 3
   },
   "file_extension": ".py",
   "mimetype": "text/x-python",
   "name": "python",
   "nbconvert_exporter": "python",
   "pygments_lexer": "ipython3",
   "version": "3.9.7"
  }
 },
 "nbformat": 4,
 "nbformat_minor": 4
}
