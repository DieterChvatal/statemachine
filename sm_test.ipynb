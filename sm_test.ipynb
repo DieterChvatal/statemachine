{
 "cells": [
  {
   "cell_type": "markdown",
   "metadata": {},
   "source": [
    "## Statemachine test"
   ]
  },
  {
   "cell_type": "code",
   "execution_count": 1,
   "metadata": {
    "scrolled": false
   },
   "outputs": [],
   "source": [
    "%load_ext autoreload\n",
    "%autoreload 2\n",
    "import pandas as pd\n",
    "import numpy as np"
   ]
  },
  {
   "cell_type": "code",
   "execution_count": 2,
   "metadata": {},
   "outputs": [
    {
     "data": {
      "text/plain": [
       "{'Name': 'ROCHE PENZBERG KWKK',\n",
       " 'Engine ID': 'M01',\n",
       " 'Design Number': 'U233',\n",
       " 'Engine Type': '624',\n",
       " 'Engine Version': 'H02',\n",
       " 'P': 24,\n",
       " 'P_nom': 4489.3,\n",
       " 'BMEP': 24.0,\n",
       " 'serialNumber': '1184199',\n",
       " 'id': 108532,\n",
       " 'Count_OpHour': 39422.0,\n",
       " 'val start': Timestamp('2016-12-22 00:00:00'),\n",
       " 'oph@start': 0,\n",
       " 'oph parts': 39422,\n",
       " 'LOC': 0.014}"
      ]
     },
     "execution_count": 2,
     "metadata": {},
     "output_type": "execute_result"
    }
   ],
   "source": [
    "import dmyplant2\n",
    "dmyplant2.cred()\n",
    "mp = dmyplant2.MyPlant(600)\n",
    "e=dmyplant2.Engine.from_sn(mp,1184199)\n",
    "# print(f\"{e}\")\n",
    "e.dash\n",
    "# dtrips = e.batch_hist_alarms(p_severities=[600,650,700,800], p_offset=0, p_limit=200000)\n",
    "# dtrips = dtrips.iloc[::-1] # Alarme umdrehen \n",
    "# dtrips.to_pickle('1184199_messages.pkl')\n",
    "# manual = e.batch_hist_alarms(p_severities=[600], p_offset=0, p_limit=200000)\n",
    "# manual = manual.iloc[::-1] # Alarme umdrehen \n",
    "# manual.to_pickle('1184199_manual.pkl')\n",
    "# manual = pd.read_pickle('1184199_manual.pkl').reset_index()\n",
    "# manual.head()"
   ]
  },
  {
   "cell_type": "code",
   "execution_count": 3,
   "metadata": {},
   "outputs": [
    {
     "data": {
      "text/plain": [
       "(127539, 8)"
      ]
     },
     "execution_count": 3,
     "metadata": {},
     "output_type": "execute_result"
    }
   ],
   "source": [
    "#from dfsm import msgFSM\n",
    "messages = pd.read_pickle('1184199_messages.pkl').reset_index()\n",
    "messages.shape"
   ]
  },
  {
   "cell_type": "code",
   "execution_count": 26,
   "metadata": {},
   "outputs": [],
   "source": [
    "# with open('msg.txt', 'w') as f:\n",
    "#     for index, msg in messages.iterrows():\n",
    "#         f.write(f\"{index:>06} {msg['severity']} {pd.to_datetime(int(msg['timestamp'])*1e6).strftime('%d.%m.%Y %H:%M:%S')} {msg['name']} {msg['message']}\\n\")"
   ]
  },
  {
   "cell_type": "code",
   "execution_count": null,
   "metadata": {},
   "outputs": [],
   "source": [
    "# with open('manual.txt', 'w') as f:\n",
    "#     for index, msg in manual.iterrows():\n",
    "#         f.write(f\"{index:>06} {msg['severity']} {pd.to_datetime(int(msg['timestamp'])*1e6).strftime('%d.%m.%Y %H:%M:%S')} {msg['name']} {msg['message']}\\n\")"
   ]
  },
  {
   "cell_type": "code",
   "execution_count": 4,
   "metadata": {},
   "outputs": [],
   "source": [
    "for index, msg in messages[:100000].iterrows():\n",
    "    if str(msg['message']).startswith('Ready'):\n",
    "    #if str(msg['message']).startswith('Cold start CPU'):\n",
    "    #if str(msg['message']).startswith('Service selector'):\n",
    "        pass\n",
    "        #print(f\"{index:>06} {msg['severity']} {pd.to_datetime(int(msg['timestamp'])*1e6).strftime('%d.%m.%Y %H:%M:%S')} {msg['name']} {msg['message']}\")"
   ]
  },
  {
   "cell_type": "code",
   "execution_count": 10,
   "metadata": {},
   "outputs": [
    {
     "data": {
      "text/html": [
       "<table border=\"1\" class=\"dataframe\">\n",
       "  <thead>\n",
       "    <tr style=\"text-align: right;\">\n",
       "      <th></th>\n",
       "      <th>index</th>\n",
       "      <th>assetId</th>\n",
       "      <th>isPrimary</th>\n",
       "      <th>message</th>\n",
       "      <th>name</th>\n",
       "      <th>severity</th>\n",
       "      <th>timestamp</th>\n",
       "      <th>associatedValues</th>\n",
       "    </tr>\n",
       "  </thead>\n",
       "  <tbody>\n",
       "    <tr>\n",
       "      <th>0</th>\n",
       "      <td>127538</td>\n",
       "      <td>108532</td>\n",
       "      <td>NaN</td>\n",
       "      <td>Ignition point optimization</td>\n",
       "      <td>2141</td>\n",
       "      <td>600</td>\n",
       "      <td>1466768043798</td>\n",
       "      <td>NaN</td>\n",
       "    </tr>\n",
       "    <tr>\n",
       "      <th>1</th>\n",
       "      <td>127537</td>\n",
       "      <td>108532</td>\n",
       "      <td>NaN</td>\n",
       "      <td>Cold start CPU</td>\n",
       "      <td>1254</td>\n",
       "      <td>600</td>\n",
       "      <td>1466768043798</td>\n",
       "      <td>NaN</td>\n",
       "    </tr>\n",
       "    <tr>\n",
       "      <th>2</th>\n",
       "      <td>127536</td>\n",
       "      <td>108532</td>\n",
       "      <td>NaN</td>\n",
       "      <td>Misfire controller shutdown</td>\n",
       "      <td>2876</td>\n",
       "      <td>600</td>\n",
       "      <td>1466768043799</td>\n",
       "      <td>NaN</td>\n",
       "    </tr>\n",
       "    <tr>\n",
       "      <th>3</th>\n",
       "      <td>127535</td>\n",
       "      <td>108532</td>\n",
       "      <td>NaN</td>\n",
       "      <td>Speed setpoint input - internal (DIA.NE)</td>\n",
       "      <td>2136</td>\n",
       "      <td>600</td>\n",
       "      <td>1466768043899</td>\n",
       "      <td>NaN</td>\n",
       "    </tr>\n",
       "    <tr>\n",
       "      <th>4</th>\n",
       "      <td>127534</td>\n",
       "      <td>108532</td>\n",
       "      <td>NaN</td>\n",
       "      <td>Power setpoint input - internal (DIA.NE)</td>\n",
       "      <td>2133</td>\n",
       "      <td>600</td>\n",
       "      <td>1466768043899</td>\n",
       "      <td>NaN</td>\n",
       "    </tr>\n",
       "  </tbody>\n",
       "</table>"
      ],
      "text/plain": [
       "<IPython.core.display.HTML object>"
      ]
     },
     "metadata": {},
     "output_type": "display_data"
    }
   ],
   "source": [
    "from IPython.display import HTML, display\n",
    "m = messages[messages.name != '9007'] # filter out hourly messages\n",
    "m = m[:]\n",
    "display(HTML(m[:5].to_html(escape=False)))"
   ]
  },
  {
   "cell_type": "code",
   "execution_count": 12,
   "metadata": {},
   "outputs": [
    {
     "data": {
      "text/html": [
       "<div>\n",
       "<style scoped>\n",
       "    .dataframe tbody tr th:only-of-type {\n",
       "        vertical-align: middle;\n",
       "    }\n",
       "\n",
       "    .dataframe tbody tr th {\n",
       "        vertical-align: top;\n",
       "    }\n",
       "\n",
       "    .dataframe thead th {\n",
       "        text-align: right;\n",
       "    }\n",
       "</style>\n",
       "<table border=\"1\" class=\"dataframe\">\n",
       "  <thead>\n",
       "    <tr style=\"text-align: right;\">\n",
       "      <th></th>\n",
       "      <th>warnings</th>\n",
       "      <th>alarms</th>\n",
       "      <th>operations</th>\n",
       "      <th>mode</th>\n",
       "      <th>msg</th>\n",
       "    </tr>\n",
       "  </thead>\n",
       "  <tbody>\n",
       "    <tr>\n",
       "      <th>0</th>\n",
       "      <td>[]</td>\n",
       "      <td>[]</td>\n",
       "      <td>[[127537, 108532, nan, Cold start CPU, 1254, 6...</td>\n",
       "      <td>FSM-start</td>\n",
       "      <td>index                       127537\n",
       "assetId    ...</td>\n",
       "    </tr>\n",
       "    <tr>\n",
       "      <th>1</th>\n",
       "      <td>[]</td>\n",
       "      <td>[]</td>\n",
       "      <td>[[126441, 108532, nan, Service selector switch...</td>\n",
       "      <td>mode-manual</td>\n",
       "      <td>index                                       12...</td>\n",
       "    </tr>\n",
       "    <tr>\n",
       "      <th>2</th>\n",
       "      <td>[[126421, 108532, False, Measuring signal fail...</td>\n",
       "      <td>[[126423, 108532, nan, Gas alarm, 1053, 800, 1...</td>\n",
       "      <td>[[126431, 108532, nan, Demand oil pump on, 125...</td>\n",
       "      <td>mode-off</td>\n",
       "      <td>index                                    12639...</td>\n",
       "    </tr>\n",
       "    <tr>\n",
       "      <th>3</th>\n",
       "      <td>[[126421, 108532, False, Measuring signal fail...</td>\n",
       "      <td>[[126423, 108532, nan, Gas alarm, 1053, 800, 1...</td>\n",
       "      <td>[[126431, 108532, nan, Demand oil pump on, 125...</td>\n",
       "      <td>mode-off</td>\n",
       "      <td>index                                    12639...</td>\n",
       "    </tr>\n",
       "    <tr>\n",
       "      <th>4</th>\n",
       "      <td>[]</td>\n",
       "      <td>[]</td>\n",
       "      <td>[[126389, 108532, nan, Service selector switch...</td>\n",
       "      <td>mode-automatic</td>\n",
       "      <td>index                                         ...</td>\n",
       "    </tr>\n",
       "    <tr>\n",
       "      <th>...</th>\n",
       "      <td>...</td>\n",
       "      <td>...</td>\n",
       "      <td>...</td>\n",
       "      <td>...</td>\n",
       "      <td>...</td>\n",
       "    </tr>\n",
       "    <tr>\n",
       "      <th>2801</th>\n",
       "      <td>[[146, 108532, False, Lifetime reached - NOx s...</td>\n",
       "      <td>[[36, 108532, False, Jacket water pressure low...</td>\n",
       "      <td>[[279, 108532, False, Demand oil pump on, 1259...</td>\n",
       "      <td>mode-off</td>\n",
       "      <td>index                                        3...</td>\n",
       "    </tr>\n",
       "    <tr>\n",
       "      <th>2802</th>\n",
       "      <td>[[146, 108532, False, Lifetime reached - NOx s...</td>\n",
       "      <td>[[36, 108532, False, Jacket water pressure low...</td>\n",
       "      <td>[[279, 108532, False, Demand oil pump on, 1259...</td>\n",
       "      <td>mode-off</td>\n",
       "      <td>index                                        3...</td>\n",
       "    </tr>\n",
       "    <tr>\n",
       "      <th>2803</th>\n",
       "      <td>[]</td>\n",
       "      <td>[]</td>\n",
       "      <td>[[13, 108532, False, Service selector switch M...</td>\n",
       "      <td>mode-manual</td>\n",
       "      <td>index                                         ...</td>\n",
       "    </tr>\n",
       "    <tr>\n",
       "      <th>2804</th>\n",
       "      <td>[]</td>\n",
       "      <td>[]</td>\n",
       "      <td>[[8, 108532, False, Service selector switch Of...</td>\n",
       "      <td>mode-off</td>\n",
       "      <td>index                                         ...</td>\n",
       "    </tr>\n",
       "    <tr>\n",
       "      <th>2805</th>\n",
       "      <td>[]</td>\n",
       "      <td>[]</td>\n",
       "      <td>[[6, 108532, False, Service selector switch Ma...</td>\n",
       "      <td>mode-manual</td>\n",
       "      <td>index                                         ...</td>\n",
       "    </tr>\n",
       "  </tbody>\n",
       "</table>\n",
       "<p>2806 rows × 5 columns</p>\n",
       "</div>"
      ],
      "text/plain": [
       "                                               warnings  \\\n",
       "0                                                    []   \n",
       "1                                                    []   \n",
       "2     [[126421, 108532, False, Measuring signal fail...   \n",
       "3     [[126421, 108532, False, Measuring signal fail...   \n",
       "4                                                    []   \n",
       "...                                                 ...   \n",
       "2801  [[146, 108532, False, Lifetime reached - NOx s...   \n",
       "2802  [[146, 108532, False, Lifetime reached - NOx s...   \n",
       "2803                                                 []   \n",
       "2804                                                 []   \n",
       "2805                                                 []   \n",
       "\n",
       "                                                 alarms  \\\n",
       "0                                                    []   \n",
       "1                                                    []   \n",
       "2     [[126423, 108532, nan, Gas alarm, 1053, 800, 1...   \n",
       "3     [[126423, 108532, nan, Gas alarm, 1053, 800, 1...   \n",
       "4                                                    []   \n",
       "...                                                 ...   \n",
       "2801  [[36, 108532, False, Jacket water pressure low...   \n",
       "2802  [[36, 108532, False, Jacket water pressure low...   \n",
       "2803                                                 []   \n",
       "2804                                                 []   \n",
       "2805                                                 []   \n",
       "\n",
       "                                             operations            mode  \\\n",
       "0     [[127537, 108532, nan, Cold start CPU, 1254, 6...       FSM-start   \n",
       "1     [[126441, 108532, nan, Service selector switch...     mode-manual   \n",
       "2     [[126431, 108532, nan, Demand oil pump on, 125...        mode-off   \n",
       "3     [[126431, 108532, nan, Demand oil pump on, 125...        mode-off   \n",
       "4     [[126389, 108532, nan, Service selector switch...  mode-automatic   \n",
       "...                                                 ...             ...   \n",
       "2801  [[279, 108532, False, Demand oil pump on, 1259...        mode-off   \n",
       "2802  [[279, 108532, False, Demand oil pump on, 1259...        mode-off   \n",
       "2803  [[13, 108532, False, Service selector switch M...     mode-manual   \n",
       "2804  [[8, 108532, False, Service selector switch Of...        mode-off   \n",
       "2805  [[6, 108532, False, Service selector switch Ma...     mode-manual   \n",
       "\n",
       "                                                    msg  \n",
       "0     index                       127537\n",
       "assetId    ...  \n",
       "1     index                                       12...  \n",
       "2     index                                    12639...  \n",
       "3     index                                    12639...  \n",
       "4     index                                         ...  \n",
       "...                                                 ...  \n",
       "2801  index                                        3...  \n",
       "2802  index                                        3...  \n",
       "2803  index                                         ...  \n",
       "2804  index                                         ...  \n",
       "2805  index                                         ...  \n",
       "\n",
       "[2806 rows x 5 columns]"
      ]
     },
     "execution_count": 12,
     "metadata": {},
     "output_type": "execute_result"
    }
   ],
   "source": [
    "from dfsm import Start_FSM\n",
    "from pprint import pprint as pp\n",
    "result = pd.DataFrame(Start_FSM(m))\n"
   ]
  },
  {
   "cell_type": "code",
   "execution_count": 14,
   "metadata": {},
   "outputs": [
    {
     "data": {
      "text/plain": [
       "[index                       127537\n",
       " assetId                     108532\n",
       " isPrimary                      NaN\n",
       " message             Cold start CPU\n",
       " name                          1254\n",
       " severity                       600\n",
       " timestamp            1466768043798\n",
       " associatedValues               NaN\n",
       " Name: 1, dtype: object]"
      ]
     },
     "execution_count": 14,
     "metadata": {},
     "output_type": "execute_result"
    }
   ],
   "source": [
    "\n",
    "result.iloc[0]['operations']"
   ]
  }
 ],
 "metadata": {
  "interpreter": {
   "hash": "7b827b5f1f2836ddadb8fbc7a8e8e99004f7285a204f4c797dc2931fe1207e23"
  },
  "kernelspec": {
   "display_name": "Python 3.8.5 64-bit",
   "language": "python",
   "name": "python3"
  },
  "language_info": {
   "codemirror_mode": {
    "name": "ipython",
    "version": 3
   },
   "file_extension": ".py",
   "mimetype": "text/x-python",
   "name": "python",
   "nbconvert_exporter": "python",
   "pygments_lexer": "ipython3",
   "version": "3.9.7"
  }
 },
 "nbformat": 4,
 "nbformat_minor": 4
}
