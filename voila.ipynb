{
 "cells": [
  {
   "cell_type": "code",
   "execution_count": null,
   "metadata": {},
   "outputs": [],
   "source": [
    "import pandas as pd; pd.options.mode.chained_assignment = None # default warn => SettingWithCopyWarning\n",
    "import numpy as np\n",
    "from datetime import datetime\n",
    "import warnings; warnings.simplefilter(action='ignore', category=UserWarning)\n",
    "from IPython.display import HTML, display\n",
    "from ipywidgets import AppLayout, Button, Layout, VBox, HBox, Label, HTML, interact, interact_manual, IntSlider\n",
    "import ipywidgets as widgets\n",
    "import arrow\n",
    "\n",
    "#import dmyplant2\n",
    "from dmyplant2 import (\n",
    "    cred, MyPlant, Engine, \n",
    "    FSMOperator, filterFSM, FSMPlot_Start, \n",
    "    bokeh_show, dbokeh_chart, add_dbokeh_vlines, get_cycle_data2, \n",
    "    disp_result, alarms_pareto, warnings_pareto, states_lines,\n",
    "    detect_edge_right, detect_edge_left)\n",
    "    \n",
    "cred()\n",
    "mp = MyPlant(3600)\n",
    "Engine._list_cached_validations();"
   ]
  },
  {
   "cell_type": "code",
   "execution_count": null,
   "metadata": {},
   "outputs": [],
   "source": [
    "fleet = mp.search_installed_fleet_by_contains_name('Forsa Hartmoor')\n",
    "motor = fleet.iloc[0]\n",
    "text = widgets.Text(value='', placeholder='Searchstring for installed Fleet', description='Search for:', disabled=False)\n",
    "display(text)\n",
    "\n",
    "def callback(wdgt):\n",
    "    global fleet\n",
    "    fleet = mp.search_installed_fleet_by_contains_name(wdgt.value)\n",
    "\n",
    "text.on_submit(callback)"
   ]
  },
  {
   "cell_type": "code",
   "execution_count": null,
   "metadata": {},
   "outputs": [],
   "source": [
    "fleet.T"
   ]
  },
  {
   "cell_type": "code",
   "execution_count": null,
   "metadata": {},
   "outputs": [],
   "source": [
    "def f(x=0):\n",
    "    global motor\n",
    "    motor = fleet.iloc[x]\n",
    "interact_manual(f, x = IntSlider(0, 0, fleet.shape[0]-1 , 1, layout=widgets.Layout(width='40%')));"
   ]
  },
  {
   "cell_type": "code",
   "execution_count": null,
   "metadata": {},
   "outputs": [],
   "source": [
    "modes = ['undefined','OFF','MAN','AUTO']\n",
    "success = [True,False]\n",
    "#success = [True]\n",
    "motor['IB Site Name'] + ' ' + motor['Engine ID'], modes, success"
   ]
  },
  {
   "cell_type": "code",
   "execution_count": null,
   "metadata": {},
   "outputs": [],
   "source": [
    "e=Engine.from_fleet(mp,motor)\n",
    "fsm = FSMOperator(e, p_from=e['Commissioning Date'], p_to=datetime.now(), frompickle=True, successtime=600)\n",
    "fsm.run1(enforce=False, silent=True) # run Finite State Machine\n",
    "fsm.store()\n",
    "fsm.starts;"
   ]
  },
  {
   "cell_type": "code",
   "execution_count": null,
   "metadata": {},
   "outputs": [],
   "source": [
    "rdf = fsm.starts\n",
    "rda = rdf[:].reset_index(drop='index')\n",
    "rda = rda[(rda['mode'].isin(modes) & rda['success'].isin(success))].reset_index(drop='index')\n",
    "display(HTML(pd.DataFrame.from_dict(e.dash, orient='index').T.to_html(escape=False, index=False)))\n",
    "#rda[startstopFSM.run2filter_content].round(2)\n",
    "print(f\"Starts: {rdf.shape[0]}, Successful: {rdf[rdf['success'] == True].shape[0]}, Failed: {rdf[rdf['success'] == False].shape[0]} => {rdf[rdf['success'] == True].shape[0]/rdf.shape[0]*100.0:3.1f}% starting Reliability in period\")"
   ]
  },
  {
   "cell_type": "code",
   "execution_count": null,
   "metadata": {},
   "outputs": [],
   "source": [
    "rda[startstopFSM.run2filter_content];"
   ]
  },
  {
   "cell_type": "code",
   "execution_count": null,
   "metadata": {},
   "outputs": [],
   "source": [
    "# %load_ext autoreload\n",
    "# %aimport -pandas, -numpy\n",
    "# %autoreload 2\n",
    "# Execute FSM Run 2\n",
    "#rda = fsm.run2(rda)\n",
    "#fsm.store()"
   ]
  },
  {
   "cell_type": "code",
   "execution_count": null,
   "metadata": {},
   "outputs": [],
   "source": [
    "#rdb = rda[(rda['mode'].isin(['AUTO','MAN'])) & ((rda['count_alarms'] > 0) | (rda['count_warnings'] > 0))]\n",
    "#rdb = rda[rda['synchronize'] < 15.0]\n",
    "rdb = rda\n",
    "#rdb[startstopFSM.run2filter_content].sort_values(by=[\"synchronize\",\"loadramp\"], ascending=[True,True]).round(2)"
   ]
  },
  {
   "cell_type": "code",
   "execution_count": null,
   "metadata": {},
   "outputs": [],
   "source": [
    "vec = ['startpreparation','speedup','idle','synchronize','loadramp','maxload','ramprate','cumstarttime','targetoperation','rampdown','coolrun','runout']\n",
    "display(_=rdb[vec].hist(bins=30,figsize=(20,20)))\n",
    "display(rdb[vec].describe().round(2));"
   ]
  },
  {
   "cell_type": "code",
   "execution_count": null,
   "metadata": {},
   "outputs": [],
   "source": [
    "rde = rda[(rda.starttime > fsm._e['Commissioning Date']) & (rda['success'])].copy()\n",
    "rde['datetime'] = pd.to_datetime(rde['starttime'])\n",
    "dfigsize = (16,10)\n",
    "dset = [\n",
    "    {'col':['cumstarttime'],'ylim':(-400,900), 'color':'darkblue'},\n",
    "    {'col':['synchronize'],'ylim':(-20,300)},\n",
    "    {'col':['startpreparation'],'ylim':(-600,300)},\n",
    "    {'col':['hochlauf'],'ylim':(-100,200), 'color':'orange'},\n",
    "    {'col':['loadramp'],'ylim':(-150,900), 'color':'red'},\n",
    "    {'col':['ramprate'],'ylim':(-3,3)},\n",
    "    {'col':['no'],'ylim':(-100,10000),'color':'black'},\n",
    "    {'col':['maxload'],'ylim':(500,5000) }\n",
    "]\n",
    "ftitle = f\"{fsm._e}\"\n",
    "fig = dbokeh_chart(rde, dset, style='both', figsize=dfigsize ,title=ftitle);\n",
    "bokeh_show(fig)\n",
    "del(fig)"
   ]
  },
  {
   "cell_type": "code",
   "execution_count": null,
   "metadata": {},
   "outputs": [],
   "source": [
    "vset = ['Various_Values_SpeedAct','Power_PowerAct','Hyd_PressCrankCase','Hyd_PressOilDif','Hyd_PressOil','Hyd_TempOil']\n",
    "dset = [\n",
    "    {'col':['Power_PowerAct'], 'ylim':(0,5000), 'color':'red'},\n",
    "    {'col':['Various_Values_SpeedAct'],'ylim': [0, 2500], 'color':'blue'},\n",
    "    #{'col':['Hyd_PressCrankCase'],'ylim': [-100, 100], 'color':'orange'},\n",
    "    #{'col':['Hyd_PressOilDif'],'ylim': [0, 2], 'color':'black'},\n",
    "    {'col':['Hyd_PressOil'],'ylim': [0, 10], 'color':'brown'},\n",
    "    {'col':['Hyd_TempOil'],'ylim': [0, 110], 'color':'#2171b5'}\n",
    "]\n"
   ]
  },
  {
   "cell_type": "code",
   "execution_count": null,
   "metadata": {},
   "outputs": [],
   "source": [
    "def plot_with_additional_results(\n",
    "        startversuch, \n",
    "        vset=None, \n",
    "        dset = [\n",
    "        {'col':['Power_PowerAct'], 'ylim':(0,5000), 'color':'red'},\n",
    "        {'col':['Various_Values_SpeedAct'],'ylim': [0, 2500], 'color':'blue'}\n",
    "    ]):\n",
    "\n",
    "    if vset == None:\n",
    "        vset = []\n",
    "        for rec in dset:\n",
    "            for d in rec['col']:\n",
    "                vset.append(d) \n",
    "        vset = list(set(vset))\n",
    "\n",
    "    data = get_cycle_data2(fsm, startversuch, max_length=None, min_length=None, cycletime=1, silent=False, p_data=vset)\n",
    "    fig = FSMPlot_Start(fsm, startversuch, data, vset, dset, figsize=dfigsize); \n",
    "    #fsm run 2 results\n",
    "    #lcol='blue'\n",
    "    # pl, _ = detect_edge_left(data, 'Power_PowerAct', startversuch)\n",
    "    # pr, _ = detect_edge_right(data, 'Power_PowerAct', startversuch)\n",
    "    # sl, _ = detect_edge_left(data, 'Various_Values_SpeedAct', startversuch)\n",
    "    # sr, _ = detect_edge_right(data, 'Various_Values_SpeedAct', startversuch)\n",
    "    # add_dbokeh_vlines([sl.loc], fig,line_color=lcol, line_dash='solid', line_alpha=0.4)\n",
    "    # add_dbokeh_vlines([sr.loc], fig,line_color=lcol, line_dash='solid', line_alpha=0.4)\n",
    "    # add_dbokeh_vlines([pl.loc], fig,line_color=lcol, line_dash='solid', line_alpha=0.4)\n",
    "    # add_dbokeh_vlines([pr.loc], fig,line_color=lcol, line_dash='solid', line_alpha=0.4)\n",
    "\n",
    "    #new_lines = [startversuch['starttime']] + [startversuch[k] for k in startversuch.keys() if k.endswith('_time')]\n",
    "    #add_dbokeh_vlines(new_lines,fig,line_color='green', line_dash='solid', line_alpha=0.4)\n",
    "    bokeh_show(fig)"
   ]
  },
  {
   "cell_type": "code",
   "execution_count": null,
   "metadata": {},
   "outputs": [],
   "source": [
    "def f(x=0):\n",
    "    global v; v = x; \n",
    "    startversuch = rdb.iloc[x]\n",
    "    ftitle = f\"{fsm._e} ----- Start {startversuch['no']} {startversuch['mode']} | {'SUCCESS' if startversuch['success'] else 'FAILED'} | {startversuch['starttime'].round('S')}\"\n",
    "    display(HTML(ftitle));\n",
    "    disp_result(startversuch)\n",
    "    plot_with_additional_results(startversuch, vset, dset) \n",
    "interact_manual(f, x = IntSlider(0, 0, rdb.shape[0]-1 , 1, layout=widgets.Layout(width='80%')));"
   ]
  },
  {
   "cell_type": "code",
   "execution_count": null,
   "metadata": {},
   "outputs": [],
   "source": [
    "s = '''\n",
    "<style>\n",
    "    table, td, th {\n",
    "        border: 1px solid grey;\n",
    "        border-collapse: collapse;\n",
    "        padding: 5px;\n",
    "    }\n",
    "    tfoot {\n",
    "        text-align: left;\n",
    "    }\n",
    "</style>\n",
    "'''\n",
    "display(HTML(s + rdb[startstopFSM.run2filter_content].sort_values(by=[\"synchronize\",\"loadramp\"], ascending=[True,True]).round(2).to_html(escape=False, index=False, na_rep='', decimal='.')))"
   ]
  }
 ],
 "metadata": {
  "interpreter": {
   "hash": "00e7f18031541dc25b2d1c6c1f90e0b122a906b1440859c87878a4f6b4e1a002"
  },
  "kernelspec": {
   "display_name": "Python 3 (ipykernel)",
   "language": "python",
   "name": "python3"
  },
  "language_info": {
   "codemirror_mode": {
    "name": "ipython",
    "version": 3
   },
   "file_extension": ".py",
   "mimetype": "text/x-python",
   "name": "python",
   "nbconvert_exporter": "python",
   "pygments_lexer": "ipython3",
   "version": "3.9.7"
  }
 },
 "nbformat": 4,
 "nbformat_minor": 4
}
