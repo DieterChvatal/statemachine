{
 "cells": [
  {
   "cell_type": "code",
   "execution_count": null,
   "metadata": {},
   "outputs": [],
   "source": [
    "import warnings\n",
    "import pandas as pd\n",
    "# , Range1d#, LabelSet\n",
    "from bokeh.models import ColumnDataSource, Label, Text, Span, HoverTool\n",
    "from dmyplant2 import (\n",
    "    cred, MyPlant, Engine,\n",
    "    FSMOperator, filterFSM, FSM_splot, FSM_VLine, FSM_add_Notations, FSM_add_Alarms, FSM_add_Warnings,\n",
    "    bokeh_show, dbokeh_chart, add_dbokeh_vlines, get_cycle_data2, disp_result, disp_alarms, disp_warnings,\n",
    "    cvset, load_data, get_cycle_data, get_cycle_data2, figures)\n",
    "import dmyplant2\n",
    "import time\n",
    "import scipy.fftpack\n",
    "from scipy.signal import savgol_filter\n",
    "import matplotlib.pyplot as plt\n",
    "from tqdm.auto import tqdm\n",
    "import arrow\n",
    "import ipywidgets as widgets\n",
    "from ipywidgets import AppLayout, Button, Layout, VBox, HBox, Label, HTML, interact, IntSlider\n",
    "from IPython.display import HTML, display\n",
    "from pprint import pprint as pp\n",
    "from datetime import datetime\n",
    "import numpy as np\n",
    "from bokeh.plotting import figure, output_file, show\n",
    "import bokeh\n",
    "%load_ext autoreload\n",
    "%autoreload 2\n",
    "# default warn => SettingWithCopyWarning\n",
    "pd.options.mode.chained_assignment = None\n",
    "warnings.simplefilter(action='ignore', category=UserWarning)\n",
    "\n",
    "\n",
    "#import dmyplant2\n",
    "\n",
    "cred()\n",
    "mp = MyPlant(3600)\n",
    "Engine._list_cached_validations()\n",
    "# mp._fetch_installed_base(); # refresh local installed fleet database\n"
   ]
  },
  {
   "cell_type": "code",
   "execution_count": null,
   "metadata": {},
   "outputs": [],
   "source": [
    "def sfun(x):\n",
    "    return all([(\"BMW Landshut 4.10\" in str(x['IB Site Name'])),  (x['OperationalCondition'] != 'Decommissioned')])\n",
    "\n",
    "\n",
    "fleet = mp.search_installed_fleet(sfun).drop('index', axis=1)\n",
    "fleet = fleet.sort_values(\n",
    "    by=\"Engine ID\", ascending=True).reset_index(drop='index')\n",
    "fleet.T\n"
   ]
  },
  {
   "cell_type": "code",
   "execution_count": null,
   "metadata": {},
   "outputs": [],
   "source": [
    "motor = fleet.iloc[3]\n",
    "modes = ['undefined', 'OFF', 'MAN', 'AUTO']\n",
    "success = [True, False]\n",
    "#success = [True]\n",
    "motor['IB Site Name'] + ' ' + motor['Engine ID'], modes, success"
   ]
  },
  {
   "cell_type": "code",
   "execution_count": null,
   "metadata": {},
   "outputs": [],
   "source": [
    "e = Engine.from_fleet(mp, motor)\n",
    "fsm = FSMOperator(e, p_from=e['Commissioning Date'], p_to=datetime.now())"
   ]
  },
  {
   "cell_type": "code",
   "execution_count": null,
   "metadata": {},
   "outputs": [],
   "source": [
    "fsm.restore()"
   ]
  },
  {
   "cell_type": "code",
   "execution_count": null,
   "metadata": {},
   "outputs": [],
   "source": [
    "fsm.run0(enforce=True, silent=False, debug=False)\n",
    "fsm.run1(silent=False, successtime=300, debug=False)"
   ]
  },
  {
   "cell_type": "code",
   "execution_count": null,
   "metadata": {},
   "outputs": [],
   "source": [
    "fsm.run2(silent=False)"
   ]
  },
  {
   "cell_type": "code",
   "execution_count": null,
   "metadata": {},
   "outputs": [],
   "source": [
    "#fsm.store()"
   ]
  },
  {
   "cell_type": "code",
   "execution_count": null,
   "metadata": {},
   "outputs": [],
   "source": [
    "rdf = fsm.starts\n",
    "rda = rdf[:].reset_index(drop='index')\n",
    "rda = rda[(rda['mode'].isin(modes) & rda['success'].isin(success))\n",
    "          ].reset_index(drop='index')\n",
    "display(HTML(pd.DataFrame.from_dict(\n",
    "    e.dash, orient='index').T.to_html(escape=False, index=False)))\n",
    "# rda[startstopFSM.run2filter_content].round(2)\n",
    "print(f\"Starts: {rdf.shape[0]}, Successful: {rdf[rdf['success'] == True].shape[0]}, Failed: {rdf[rdf['success'] == False].shape[0]} => {rdf[rdf['success'] == True].shape[0]/rdf.shape[0]*100.0:3.1f}%\")\n"
   ]
  },
  {
   "cell_type": "code",
   "execution_count": null,
   "metadata": {},
   "outputs": [],
   "source": [
    "rda[startstopFSM.run2filter_content].round(2).fillna('')\n"
   ]
  },
  {
   "cell_type": "code",
   "execution_count": null,
   "metadata": {},
   "outputs": [],
   "source": [
    "rdd = rda[rda['loadramp'] < 0.0]\n",
    "rdd[startstopFSM.run2filter_content].round(2).fillna('')\n"
   ]
  },
  {
   "cell_type": "code",
   "execution_count": null,
   "metadata": {},
   "outputs": [],
   "source": [
    "fsm.results['starts'][0]\n"
   ]
  },
  {
   "cell_type": "code",
   "execution_count": null,
   "metadata": {},
   "outputs": [],
   "source": [
    "#rdb = rda[(rda['mode'].isin(['AUTO','MAN'])) & ((rda['count_alarms'] > 0) | (rda['count_warnings'] > 0))]\n",
    "#rdb = rda[rda['synchronize'] < 15.0]\n",
    "rdb = rda\n",
    "#rdb[startstopFSM.run2filter_content].sort_values(by=[\"synchronize\",\"loadramp\"], ascending=[True,True]).round(2)\n"
   ]
  },
  {
   "cell_type": "code",
   "execution_count": null,
   "metadata": {},
   "outputs": [],
   "source": [
    "vec = ['startpreparation', 'speedup', 'idle', 'synchronize', 'loadramp', 'targetload',\n",
    "       'ramprate', 'cumstarttime', 'targetoperation', 'rampdown', 'coolrun', 'runout']\n",
    "display(_=rdb[vec].hist(bins=30, figsize=(20, 20)))\n",
    "# ax_list[0][2].set_xlim((0,10))\n",
    "# display(rdb[vec].hist(bins=30,figsize=(20,20)))\n",
    "display(rdb[vec].describe().round(2))\n"
   ]
  },
  {
   "cell_type": "code",
   "execution_count": null,
   "metadata": {},
   "outputs": [],
   "source": [
    "rde = rda[(rda.starttime > fsm._e['Commissioning Date'])\n",
    "          & (rda['success'])].copy()\n",
    "rde['datetime'] = pd.to_datetime(rde['starttime'])\n",
    "dfigsize = (18, 12)\n",
    "dset = [\n",
    "    {'col': ['cumstarttime'], 'ylim':(-400, 900), 'color':'darkblue'},\n",
    "    {'col': ['synchronize'], 'ylim':(-20, 300)},\n",
    "    {'col': ['startpreparation'], 'ylim':(-600, 300)},\n",
    "    {'col': ['hochlauf'], 'ylim':(-100, 200), 'color':'orange'},\n",
    "    {'col': ['loadramp'], 'ylim':(-150, 900), 'color':'red'},\n",
    "    {'col': ['ramprate'], 'ylim':(-3, 3)},\n",
    "    {'col': ['no'], 'ylim':(-100, 10000), 'color':'black'},\n",
    "    {'col': ['targetload'], 'ylim':(500, 5000)},\n",
    "    {'col': ['runout'], 'ylim':(0, 100), 'color':'orange'},\n",
    "]\n",
    "ftitle = f\"{fsm._e}\"\n",
    "fig = dbokeh_chart(rde, dset, style='both', figsize=dfigsize, title=ftitle)\n",
    "bokeh_show(fig)\n",
    "del(fig)\n"
   ]
  },
  {
   "cell_type": "code",
   "execution_count": null,
   "metadata": {},
   "outputs": [],
   "source": [
    "vset = ['Various_Values_SpeedAct', 'Power_PowerAct',\n",
    "        'Hyd_PressCrankCase', 'Hyd_PressOilDif', 'Hyd_PressOil', 'Hyd_TempOil']\n",
    "dset = [\n",
    "    {'col': ['Power_PowerAct'], 'ylim':(0, 5000), 'color':'red'},\n",
    "    {'col': ['Various_Values_SpeedAct'], 'ylim': [0, 2500], 'color':'blue'},\n",
    "    {'col': ['Hyd_PressCrankCase'], 'ylim': [-100, 100], 'color':'orange'},\n",
    "    {'col': ['Hyd_PressOilDif'], 'ylim': [0, 2], 'color':'black'},\n",
    "    {'col': ['Hyd_PressOil'], 'ylim': [0, 10], 'color':'brown'},\n",
    "    {'col': ['Hyd_TempOil'], 'ylim': [0, 110], 'color':'#2171b5'}\n",
    "]\n"
   ]
  },
  {
   "cell_type": "code",
   "execution_count": null,
   "metadata": {},
   "outputs": [],
   "source": [
    "rdb[startstopFSM.run2filter_content].sort_values(\n",
    "    by=[\"synchronize\", \"loadramp\"], ascending=[True, True]).round(2).fillna('')\n"
   ]
  },
  {
   "cell_type": "code",
   "execution_count": null,
   "metadata": {},
   "outputs": [],
   "source": [
    "def f(x=0):\n",
    "    global vv\n",
    "    vv = x\n",
    "    startversuch = rdb.iloc[x]\n",
    "    ftitle = f\"{fsm._e} ----- Start {startversuch['no']} {startversuch['mode']} | {'SUCCESS' if startversuch['success'] else 'FAILED'} | {startversuch['starttime'].round('S')} CumStart: {startversuch['cumstarttime']:0.1f}\"\n",
    "    display(HTML(ftitle))\n",
    "    disp_result(startversuch)\n",
    "\n",
    "\n",
    "interact(f, x=IntSlider(\n",
    "    0, 0, rdb.shape[0]-1, 1, layout=widgets.Layout(width='90%')));\n"
   ]
  },
  {
   "cell_type": "code",
   "execution_count": null,
   "metadata": {},
   "outputs": [],
   "source": [
    "# PLotter\n",
    "lfigures = figures(fsm._e)\n",
    "for f in lfigures:\n",
    "    print(f, end=', ')\n",
    "data = pd.DataFrame([])\n",
    "#plotdef = ['actors','lubrication']\n",
    "plotdef = list(lfigures.keys())\n",
    "vset = []\n",
    "for p in plotdef:\n",
    "    dset = lfigures[p]\n",
    "    vset += cvset(mp, dset)\n",
    "vset = list(set(vset))\n",
    "startversuch = rdb.iloc[vv]\n",
    "dmaxlength = None\n",
    "dminlength = None\n",
    "#dmaxlength = 1200\n",
    "#dminlength = 200000\n",
    "data = get_cycle_data2(fsm, startversuch, max_length=dmaxlength,\n",
    "                       min_length=dminlength, cycletime=1, silent=True, p_data=vset)\n",
    "data['power_diff'] = pd.Series(np.gradient(data['Power_PowerAct']))\n",
    "\n",
    "# pp(vset)\n",
    "for doplot in plotdef:\n",
    "    # for doplot in ['actors']:\n",
    "    dset = lfigures[doplot]\n",
    "    try:\n",
    "        fig = FSM_splot(fsm, startversuch, data, dset, figsize=(18, 10))\n",
    "        fig = FSM_add_Notations(fig, fsm, startversuch)\n",
    "        disp_alarms(startversuch)\n",
    "        disp_warnings(startversuch)\n",
    "        fig = FSM_add_Alarms(fig, fsm, startversuch)\n",
    "        fig = FSM_add_Warnings(fig, fsm, startversuch)\n",
    "        bokeh_show(fig)\n",
    "    except Exception as err:\n",
    "        print(err)\n"
   ]
  },
  {
   "cell_type": "code",
   "execution_count": null,
   "metadata": {},
   "outputs": [],
   "source": [
    "sv = startversuch.to_dict()\n",
    "x0 = sv['startstoptiming']['loadramp'][-1]['start']\n",
    "y0 = 0.0\n",
    "default_ramp_duration = 100.0 / fsm._e['rP_Ramp_Set']\n",
    "x1 = x0 + pd.Timedelta(default_ramp_duration, unit='sec')\n",
    "y1 = fsm._e['Power_PowerNominal']\n",
    "x0, x1, y0, y1, default_ramp_duration\n"
   ]
  },
  {
   "cell_type": "code",
   "execution_count": null,
   "metadata": {},
   "outputs": [],
   "source": [
    "from bokeh.models import Span\n",
    "ramp = fig.line(x=[x0, x1], y=[y0, y1], y_range_name='0',\n",
    "                line_color='green', line_dash='dotted', line_alpha=0.4, line_width=4)\n",
    "fig.add_layout(ramp)\n",
    "\n",
    "c = fig.circle(x0, y0)\n",
    "fig.add_layout(c)\n",
    "\n",
    "this = Span(location=x0, dimension='height', y_range_name='0',\n",
    "            line_color='blue', line_dash='solid', line_alpha=0.4, line_width=4)\n",
    "fig.add_layout(this)\n",
    "\n",
    "bokeh_show(fig)\n"
   ]
  },
  {
   "cell_type": "code",
   "execution_count": null,
   "metadata": {},
   "outputs": [],
   "source": [
    "fsm.starts.iloc[vv].to_dict();"
   ]
  },
  {
   "cell_type": "code",
   "execution_count": null,
   "metadata": {},
   "outputs": [],
   "source": [
    "for i, v in enumerate(fsm.runlogdetail(startversuch, statechanges_only=False)):\n",
    "    print(f\"{i:3} {v}\")"
   ]
  },
  {
   "cell_type": "code",
   "execution_count": null,
   "metadata": {},
   "outputs": [],
   "source": [
    "mfn = e._fname + '_messages.txt'\n",
    "fsm.save_messages(mfn)\n",
    "print(mfn)\n"
   ]
  }
 ],
 "metadata": {
  "interpreter": {
   "hash": "00e7f18031541dc25b2d1c6c1f90e0b122a906b1440859c87878a4f6b4e1a002"
  },
  "kernelspec": {
   "display_name": "Python 3.8.5 ('base')",
   "language": "python",
   "name": "python3"
  },
  "language_info": {
   "codemirror_mode": {
    "name": "ipython",
    "version": 3
   },
   "file_extension": ".py",
   "mimetype": "text/x-python",
   "name": "python",
   "nbconvert_exporter": "python",
   "pygments_lexer": "ipython3",
   "version": "3.9.7"
  },
  "orig_nbformat": 4
 },
 "nbformat": 4,
 "nbformat_minor": 2
}
