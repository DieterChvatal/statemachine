{
 "cells": [
  {
   "cell_type": "code",
   "execution_count": null,
   "metadata": {},
   "outputs": [],
   "source": [
    "import pandas as pd; pd.options.mode.chained_assignment = None # default warn => SettingWithCopyWarning\n",
    "import numpy as np\n",
    "from datetime import datetime\n",
    "from pprint import pprint as pp\n",
    "import warnings; warnings.simplefilter(action='ignore', category=UserWarning)\n",
    "from IPython.display import HTML, display\n",
    "from ipywidgets import AppLayout, Button, Layout, VBox, HBox, Label, HTML, interact, IntSlider\n",
    "import ipywidgets as widgets\n",
    "import arrow\n",
    "\n",
    "#import dmyplant2\n",
    "from dmyplant2 import (\n",
    "    cred, MyPlant, Engine, \n",
    "    msgFSM, filterFSM, FSM_splot, FSM_add_Notations, FSM_add_Alarms, FSM_add_Warnings, FSMPlot_Start, \n",
    "    bokeh_show, dbokeh_chart, add_dbokeh_vlines, get_cycle_data2, \n",
    "    disp_result, alarms_pareto, warnings_pareto, states_lines,\n",
    "    detect_edge_right, detect_edge_left, cvset, load_data, get_cycle_data, get_cycle_data2)\n",
    "    \n",
    "cred()\n",
    "mp = MyPlant(3600)\n",
    "Engine._list_cached_validations();"
   ]
  },
  {
   "cell_type": "code",
   "execution_count": null,
   "metadata": {},
   "outputs": [],
   "source": [
    "def sfun(x):\n",
    "    return all([ (\"Pforzheim\" in str(x['IB Site Name'])),  (x['OperationalCondition'] != 'Decommissioned') ])\n",
    "    #return all([ (\"BMW Landshut 4.10\" in str(x['IB Site Name'])),  (x['OperationalCondition'] != 'Decommissioned') ])\n",
    "fleet = mp.search_installed_fleet(sfun).drop('index', axis=1)\n",
    "fleet = fleet.sort_values(by = \"Engine ID\",ascending=True).reset_index(drop='index')\n",
    "fleet.T"
   ]
  },
  {
   "cell_type": "code",
   "execution_count": null,
   "metadata": {},
   "outputs": [],
   "source": [
    "motor = fleet.iloc[2]\n",
    "modes = ['???','OFF','MANUAL','AUTO']\n",
    "success = [True,False]\n",
    "#success = [True]\n",
    "motor['IB Site Name'] + ' ' + motor['Engine ID'], modes, success"
   ]
  },
  {
   "cell_type": "code",
   "execution_count": null,
   "metadata": {},
   "outputs": [],
   "source": [
    "e=Engine.from_fleet(mp,motor)\n",
    "#fsm = msgFSM(e, p_from=e['Commissioning Date'], p_to='2019-01-16', successtime=300)\n",
    "#fsm = msgFSM(e, p_to='2022-02-01', successtime=600)\n",
    "#fsm = msgFSM(e, p_from='2022-01-26', p_to='2022-02-01', successtime=600)\n",
    "fsm = msgFSM(e, p_from=e['Commissioning Date'], p_to=datetime.now(), successtime=300)"
   ]
  },
  {
   "cell_type": "code",
   "execution_count": null,
   "metadata": {},
   "outputs": [],
   "source": [
    "fsm.run1(enforce=False, silent=False) # run Finite State Machine\n",
    "#fsm.store()"
   ]
  },
  {
   "cell_type": "code",
   "execution_count": null,
   "metadata": {},
   "outputs": [],
   "source": [
    "rdf = fsm.starts\n",
    "rda = rdf[:].reset_index(drop='index')\n",
    "rda = rda[(rda['mode'].isin(modes) & rda['success'].isin(success))].reset_index(drop='index')\n",
    "display(HTML(pd.DataFrame.from_dict(e.dash, orient='index').T.to_html(escape=False, index=False)))\n",
    "#rda[filterFSM.run2filter_content].round(2)\n",
    "print(f\"Starts: {rdf.shape[0]}, Successful: {rdf[rdf['success'] == True].shape[0]}, Failed: {rdf[rdf['success'] == False].shape[0]} => {rdf[rdf['success'] == True].shape[0]/rdf.shape[0]*100.0:3.1f}%\")"
   ]
  },
  {
   "cell_type": "code",
   "execution_count": null,
   "metadata": {},
   "outputs": [],
   "source": [
    "rda[filterFSM.run2filter_content].round(2).fillna('')"
   ]
  },
  {
   "cell_type": "code",
   "execution_count": null,
   "metadata": {},
   "outputs": [],
   "source": [
    "#test for failures\n",
    "rdd = rda[rda['loadramp'] < 0.0]\n",
    "rdd[filterFSM.run2filter_content].round(2).fillna('')"
   ]
  },
  {
   "cell_type": "code",
   "execution_count": null,
   "metadata": {},
   "outputs": [],
   "source": [
    "rdb = rda\n",
    "#rdb = rda[(rda['mode'].isin(['AUTO','MANUAL'])) & ((rda['count_alarms'] > 0) | (rda['count_warnings'] > 0))]\n",
    "#rdb = rda[rda['synchronize'] < 15.0]\n",
    "#rdb[filterFSM.run2filter_content].sort_values(by=[\"synchronize\",\"loadramp\"], ascending=[True,True]).round(2)"
   ]
  },
  {
   "cell_type": "code",
   "execution_count": null,
   "metadata": {},
   "outputs": [],
   "source": [
    "vec = ['startpreparation','speedup','idle','synchronize','loadramp','maxload','ramprate','cumstarttime','targetoperation','rampdown','coolrun','runout']\n",
    "display(_=rdb[vec].hist(bins=30,figsize=(20,20)))\n",
    "#ax_list[0][2].set_xlim((0,10))\n",
    "#display(rdb[vec].hist(bins=30,figsize=(20,20)))\n",
    "display(rdb[vec].describe().round(2))"
   ]
  },
  {
   "cell_type": "code",
   "execution_count": null,
   "metadata": {},
   "outputs": [],
   "source": [
    "rde = rda[(rda.starttime > fsm._e['Commissioning Date']) & (rda['success'])].copy()\n",
    "rde['datetime'] = pd.to_datetime(rde['starttime'])\n",
    "dfigsize = (18,12)\n",
    "dset = [\n",
    "    {'col':['cumstarttime'],'ylim':(-400,900), 'color':'darkblue'},\n",
    "    {'col':['synchronize'],'ylim':(-20,300)},\n",
    "    {'col':['startpreparation'],'ylim':(-600,1200)},\n",
    "    {'col':['hochlauf'],'ylim':(-100,200), 'color':'orange'},\n",
    "    {'col':['loadramp'],'ylim':(-150,900), 'color':'red'},\n",
    "    {'col':['ramprate'],'ylim':(-3,3)},\n",
    "    {'col':['no'],'ylim':(-100,10000),'color':'black'},\n",
    "    {'col':['maxload'],'ylim':(500,5000) }\n",
    "]\n",
    "ftitle = f\"{fsm._e}\"\n",
    "fig = dbokeh_chart(rde, dset, style='both', figsize=dfigsize ,title=ftitle);\n",
    "bokeh_show(fig)"
   ]
  },
  {
   "cell_type": "code",
   "execution_count": null,
   "metadata": {},
   "outputs": [],
   "source": [
    "#vset = ['Various_Values_SpeedAct','Power_PowerAct','Hyd_PressCrankCase','Hyd_PressOilDif','Hyd_PressOil','Hyd_TempOil']\n",
    "dset = [\n",
    "    {'col':['Power_PowerAct'], 'ylim':(0,5000), 'color':'red', 'unit':'kW'},\n",
    "    {'col':['Various_Values_SpeedAct'],'ylim': [0, 2500], 'color':'blue', 'unit':'rpm'},\n",
    "    {'col':['Hyd_PressCrankCase'],'ylim': [-100, 100], 'color':'orange', 'unit':'mbar'},\n",
    "    {'col':['Hyd_PressOilDif'],'ylim': [0, 2], 'color':'black', 'unit': 'bar'},\n",
    "    {'col':['Hyd_PressOil'],'ylim': [0, 10], 'color':'brown', 'unit': 'bar'},\n",
    "    {'col':['Hyd_TempOil','Hyd_TempCoolWat','Hyd_TempWatRetCoolOut'],'ylim': [0, 110], 'color':['#2171b5','orangered','hotpink'], 'unit':'°C'},\n",
    "]\n",
    "vset = cvset(mp,dset)"
   ]
  },
  {
   "cell_type": "code",
   "execution_count": null,
   "metadata": {},
   "outputs": [],
   "source": [
    "rdb[filterFSM.run2filter_content].sort_values(by=[\"synchronize\",\"loadramp\"], ascending=[True,True]).round(2).fillna('')"
   ]
  },
  {
   "cell_type": "code",
   "execution_count": null,
   "metadata": {},
   "outputs": [],
   "source": [
    "def f(x=0):\n",
    "    global vv; vv = x; startversuch = rdb.iloc[x]\n",
    "    ftitle = f\"{fsm._e} ----- Start {startversuch['no']} {startversuch['mode']} | {'SUCCESS' if startversuch['success'] else 'FAILED'} | {startversuch['starttime'].round('S')}\"\n",
    "    display(HTML(ftitle));\n",
    "    disp_result(startversuch)\n",
    "interact(f, x = IntSlider(0, 0, rdb.shape[0]-1 , 1, layout=widgets.Layout(width='90%')));"
   ]
  },
  {
   "cell_type": "code",
   "execution_count": null,
   "metadata": {},
   "outputs": [],
   "source": [
    "startversuch = rdb.iloc[vv]; \n",
    "#startversuch = rdb.iloc[900]; \n",
    "\n",
    "# download myplant data\n",
    "data = get_cycle_data2(fsm, startversuch, max_length=1200, min_length=None, cycletime=1, silent=True, p_data=cvset(mp,dset))\n",
    "\n",
    "# calculated data\n",
    "data['power_diff'] = pd.Series(np.gradient(data['Power_PowerAct']))\n",
    "\n",
    "fig = FSM_splot(fsm, startversuch, data, dset, figsize=(16,8))\n",
    "fig = FSM_add_Notations(fig, fsm, startversuch)\n",
    "bokeh_show(fig)"
   ]
  },
  {
   "cell_type": "code",
   "execution_count": null,
   "metadata": {},
   "outputs": [],
   "source": [
    "def f(x=0):\n",
    "    global vvv; vvv = x; startversuch = rdb.iloc[x]\n",
    "    ftitle = f\"{fsm._e} ----- Start {startversuch['no']} {startversuch['mode']} | {'SUCCESS' if startversuch['success'] else 'FAILED'} | {startversuch['starttime'].round('S')}\"\n",
    "    display(HTML(ftitle));\n",
    "    disp_result(startversuch)\n",
    "interact(f, x = IntSlider(0, 0, rdb.shape[0]-1 , 1, layout=widgets.Layout(width='90%')));"
   ]
  },
  {
   "cell_type": "code",
   "execution_count": null,
   "metadata": {},
   "outputs": [],
   "source": [
    "import bokeh\n",
    "from bokeh.models import ColumnDataSource, Label, Text, Span, HoverTool #, Range1d#, LabelSet\n",
    "from bokeh.plotting import figure, output_file, show\n",
    "\n",
    "#startversuch = rdb.iloc[vvv];\n",
    "periodfactor = 1.5 # times calculated period length\n",
    "helplinefactor = 0.8 # overlay slope to -fac * end value \n",
    "#interestingcycles = [0,1,8, 62, 65, 76, 77, 80, 95, 96, 97, 98, 99, 252, 678] # BMW Landshut M4\n",
    "#interestingcycles = [0,64, 66, 82] # Forsa Hartmoor M4\n",
    "#interestingcycles = [0] # Pforzheim M4\n",
    "interestingcycles = [12]\n",
    "disp_result(rdb.iloc[interestingcycles[0]])"
   ]
  },
  {
   "cell_type": "code",
   "execution_count": null,
   "metadata": {},
   "outputs": [],
   "source": [
    "for vk in interestingcycles: \n",
    "    startversuch = rdb.iloc[vk]; \n",
    "    #disp_result(startversuch)\n",
    "\n",
    "    dset2 = [{'col':['Power_PowerAct','helpline'], 'ylim':(-1000,12000), 'color':['red','rgba(0,128,0,0.2)'], 'unit':'kW'},\n",
    "            {'col':['power_diff','power_diff_help'], '_ylim':(0,5000), 'color':['rgba(255,0,0,0.2)','rgba(0,128,0,0.2)'], 'unit':'kW/s'}\n",
    "            ]\n",
    "    #vset2 = cvset(mp,dset2)\n",
    "\n",
    "    if 'loadramp' in startversuch['timing']:\n",
    "        s = startversuch['timing']['loadramp'][-1]['start'].timestamp()\n",
    "        e = startversuch['timing']['loadramp'][-1]['end'].timestamp()\n",
    "        e2 = s + periodfactor * (e-s)\n",
    "        data = load_data(fsm, cycletime=1, tts_from=s, tts_to=e2, silent=False, p_data=['Power_PowerAct'], p_forceReload=True)\n",
    "        if not data.empty:\n",
    "            data = data[(data['time'] >= int(s * 1000)) & (data['time'] <= int(e2 * 1000))]\n",
    "            #s,e,e2, data.iloc[0]['time'], data.iloc[-1]['time'],\n",
    "            x0 = data.iloc[0]['datetime']\n",
    "            y0 = 0.0\n",
    "            x1 = data.iloc[-1]['datetime']\n",
    "            y1 = data.iloc[-1]['Power_PowerAct'] * helplinefactor\n",
    "            data['helpline'] = data['Power_PowerAct'] + (x0 - data['datetime'])* (y1-y0)/(x1-x0) + y0\n",
    "            data['power_diff'] = pd.Series(np.gradient(data['Power_PowerAct']))\n",
    "            data['power_diff_help'] = pd.Series(np.gradient(data['helpline']))\n",
    "\n",
    "            edge = data.loc[data['helpline'].idxmax()]\n",
    "            xmax = edge['datetime']\n",
    "            ymax = data.at[edge.name,'Power_PowerAct']\n",
    "\n",
    "            fig = FSM_splot(fsm, startversuch, data, dset2, figsize=(16,8))\n",
    "            fig.add_layout(Span(location=0.0,dimension='width',x_range_name='default', y_range_name='0',line_color='black', line_dash='solid', line_alpha=0.4)) \n",
    "            fig.add_layout(Span(location=ymax,dimension='width',x_range_name='default', y_range_name='0',line_color='blueviolet', line_dash='dashdot', line_alpha=0.4, line_width=2)) \n",
    "            fig.add_layout(Span(location=xmax,dimension='height',line_color='blueviolet', line_dash='dashdot', line_alpha=0.4, line_width=2)) \n",
    "            fig = FSM_add_Notations(fig, fsm, startversuch)\n",
    "            #fig = FSM_add_Alarms(fig, fsm, startversuch)\n",
    "            #fig = FSM_add_Warnings(fig, fsm, startversuch)\n",
    "            bokeh_show(fig)\n",
    "            print(xmax, ymax, xmax.timestamp()-s)\n",
    "        else:\n",
    "            print('no data found')\n",
    "    else:\n",
    "        print('loadramp state not reached.' )"
   ]
  },
  {
   "cell_type": "code",
   "execution_count": null,
   "metadata": {},
   "outputs": [],
   "source": [
    "from dowork import plot_plotly\n",
    "fig2 = plot_plotly(fsm, data, startversuch, cvset(mp,dset), dset, dfigsize=(15,9))\n",
    "fig2.show(config={'scrollZoom': True})"
   ]
  },
  {
   "cell_type": "code",
   "execution_count": null,
   "metadata": {},
   "outputs": [],
   "source": [
    "fsm.starts.iloc[vv].to_dict();"
   ]
  },
  {
   "cell_type": "code",
   "execution_count": null,
   "metadata": {},
   "outputs": [],
   "source": [
    "for i, v in enumerate(fsm.runlogdetail(startversuch, statechanges_only=True)):\n",
    "    print(f\"{i:3} {v}\")"
   ]
  },
  {
   "cell_type": "code",
   "execution_count": null,
   "metadata": {},
   "outputs": [],
   "source": [
    "mfn = e._fname + '_messages.txt'\n",
    "fsm.save_messages(mfn)\n",
    "print(mfn)"
   ]
  }
 ],
 "metadata": {
  "interpreter": {
   "hash": "00e7f18031541dc25b2d1c6c1f90e0b122a906b1440859c87878a4f6b4e1a002"
  },
  "kernelspec": {
   "display_name": "Python 3.8.5 ('base')",
   "language": "python",
   "name": "python3"
  },
  "language_info": {
   "codemirror_mode": {
    "name": "ipython",
    "version": 3
   },
   "file_extension": ".py",
   "mimetype": "text/x-python",
   "name": "python",
   "nbconvert_exporter": "python",
   "pygments_lexer": "ipython3",
   "version": "3.9.7"
  },
  "orig_nbformat": 4
 },
 "nbformat": 4,
 "nbformat_minor": 2
}
