{
 "cells": [
  {
   "cell_type": "code",
   "execution_count": null,
   "metadata": {},
   "outputs": [],
   "source": [
    "%load_ext autoreload\n",
    "%aimport -pandas, -numpy\n",
    "%autoreload 2\n",
    "import pandas as pd\n",
    "import numpy as np\n",
    "import arrow\n",
    "from dfsm import FSMOperator"
   ]
  },
  {
   "cell_type": "code",
   "execution_count": null,
   "metadata": {},
   "outputs": [],
   "source": [
    "import dmyplant2\n",
    "dmyplant2.cred()\n",
    "mp = dmyplant2.MyPlant(0)"
   ]
  },
  {
   "cell_type": "code",
   "execution_count": null,
   "metadata": {},
   "outputs": [],
   "source": [
    "dval = dmyplant2.Validation.load_def_csv(\"input2.csv\")\n",
    "i = 5\n",
    "vale = dval.iloc[i]\n",
    "#[['serialNumber','Validation Engine','val start']]\n",
    "vale"
   ]
  },
  {
   "cell_type": "code",
   "execution_count": null,
   "metadata": {},
   "outputs": [],
   "source": [
    "sn = 1243362\n",
    "e=dmyplant2.Engine.from_sn(mp,sn, valstart='2020-09-07')\n",
    "pd.DataFrame.from_dict(e.dash, orient='index').T"
   ]
  },
  {
   "cell_type": "code",
   "execution_count": null,
   "metadata": {},
   "outputs": [],
   "source": [
    "e.get_dataItems(['Count_OpHour','Count_Start'])"
   ]
  },
  {
   "cell_type": "code",
   "execution_count": null,
   "metadata": {},
   "outputs": [],
   "source": [
    "e.fetch_dataItems(1645281269000,['Count_OpHour','Count_Start'])"
   ]
  },
  {
   "cell_type": "code",
   "execution_count": null,
   "metadata": {},
   "outputs": [],
   "source": [
    "id = 157701\n",
    "ts = int(pd.to_datetime('2022-01-10').timestamp()*1e3)\n",
    "print(ts)\n",
    "#ts = 1645281269000\n",
    "erg = mp._fetch_oph_starts(ts,id)\n",
    "erg\n"
   ]
  },
  {
   "cell_type": "code",
   "execution_count": null,
   "metadata": {},
   "outputs": [],
   "source": [
    "mp.historical_dataItem(157701, 161, 1641772800000).get('value', None)"
   ]
  },
  {
   "cell_type": "code",
   "execution_count": null,
   "metadata": {},
   "outputs": [],
   "source": [
    "mp.historical_dataItem(157701, 179, 1641772800000).get('value', None)"
   ]
  },
  {
   "cell_type": "code",
   "execution_count": null,
   "metadata": {},
   "outputs": [],
   "source": [
    "for d in e.properties:\n",
    "        print(d, e[d])"
   ]
  },
  {
   "cell_type": "code",
   "execution_count": null,
   "metadata": {},
   "outputs": [],
   "source": [
    "res = e.get_keyItem_data('dataItems','Count_OpHour')\n",
    "{ res['id'] : [res['name'],res['unit']] }"
   ]
  },
  {
   "cell_type": "code",
   "execution_count": null,
   "metadata": {},
   "outputs": [],
   "source": [
    "e.get_keyItem('Count_OpHour')"
   ]
  },
  {
   "cell_type": "code",
   "execution_count": null,
   "metadata": {},
   "outputs": [],
   "source": [
    "e.get_keyId('Count_OpHour')"
   ]
  },
  {
   "cell_type": "code",
   "execution_count": null,
   "metadata": {},
   "outputs": [],
   "source": [
    "datal = ['Count_OpHour','Power_PowerAct','Hyd_PressCrankCase','Hyd_PressOilDif']\n",
    "dat = e.get_dataItems(['Count_OpHour','Count_Start','startup_counter'])\n",
    "dat"
   ]
  },
  {
   "cell_type": "code",
   "execution_count": null,
   "metadata": {},
   "outputs": [],
   "source": [
    "#def _batch_hist_dataItems(self, itemIds={161: ['CountOph', 'h']}, p_limit=None, p_from=None, p_to=None, timeCycle=3600,\n",
    "#                              assetType='J-Engine', includeMinMax='false', forceDownSampling='false'):\n",
    "e._batch_hist_dataItems(dat, p_from=1645281269000, p_to=1645281269000).iloc[0]"
   ]
  },
  {
   "cell_type": "code",
   "execution_count": null,
   "metadata": {},
   "outputs": [],
   "source": [
    "def fetch_dataItems(e, items, ts):\n",
    "    itemIds = e.get_dataItems(items)\n",
    "    tdj = ','.join([str(s) for s in itemIds])\n",
    "    url=fr\"/asset/{e['id']}/history/batchdata?assetType=J-Engine&from={ts}&to={ts}&dataItemIds={tdj}&timeCycle=30\"\n",
    "    data =  e._mp.fetchdata(url)\n",
    "    # # restructure data to dict\n",
    "    # ds = {}\n",
    "    # ds['labels'] = ['timestamp'] + [itemIds[x][0] for x in data['columns'][1]]\n",
    "    # ds['data'] = [[r[0]] + [rr[0] for rr in r[1]] for r in [data['data'][0]]]\n",
    "    # ds['index'] = [r[0] for r in data['data'][0] ]\n",
    "    # # import to Pandas DataFrame\n",
    "    # df = pd.DataFrame(ds['data'], columns=ds['labels'])\n",
    "    # return df\n",
    "    return data\n",
    "\n",
    "mdata = fetch_dataItems(e, ['Count_OpHour','Power_PowerAct','Hyd_PressCrankCase','Hyd_PressOilDif'], 1645281269000)"
   ]
  },
  {
   "cell_type": "code",
   "execution_count": null,
   "metadata": {},
   "outputs": [],
   "source": [
    "itemIds = e.get_dataItems(['Count_OpHour','Power_PowerAct','Hyd_PressCrankCase','Hyd_PressOilDif'])\n",
    "data = {\n",
    "    'columns': ['time', [161, 217, 16546, 102]],\n",
    "    'data': \n",
    "    [\n",
    "        [\n",
    "            1645281269000,\n",
    "            [\n",
    "                [71782.0],\n",
    "                [-15.90],\n",
    "                [0.5725],\n",
    "                [2009.0]\n",
    "            ]\n",
    "        ],\n",
    "        [\n",
    "            1645281269001,\n",
    "            [\n",
    "                [71783.0],\n",
    "                [-15.91],\n",
    "                [0.5726],\n",
    "                [2009.5]\n",
    "            ]\n",
    "        ]\n",
    "    ]\n",
    "}\n",
    "data"
   ]
  },
  {
   "cell_type": "code",
   "execution_count": null,
   "metadata": {},
   "outputs": [],
   "source": [
    "d = {}\n",
    "ldata = [data['data'][0]]\n",
    "for i, key in enumerate(data['columns']):\n",
    "    if isinstance(key, str):\n",
    "        d[key] = [value[i] for value in ldata]\n",
    "    if isinstance(key, list):\n",
    "        for j, skey in enumerate(key):\n",
    "            d[itemIds[skey][0]] = [ value[i][j][0] for value in ldata ]\n",
    "from pprint import pprint as pp\n",
    "pd.DataFrame(d)"
   ]
  },
  {
   "cell_type": "code",
   "execution_count": null,
   "metadata": {},
   "outputs": [],
   "source": [
    "d = []\n",
    "from pprint import pprint as pp\n",
    "for i, key in enumerate(data['columns']):\n",
    "    d.append({key: [value[i] for value in data['data']]} if isinstance(key, str) else \\\n",
    "         {itemIds[skey][0]:[value[i][j][0] for value in data['data']] for j,skey in enumerate(key)})\n",
    "{**d[0] ,**d[1]}"
   ]
  },
  {
   "cell_type": "code",
   "execution_count": null,
   "metadata": {},
   "outputs": [],
   "source": [
    "# needs python 3.9.x\n",
    "# d =  [{key: [value[i] for value in [data['data'][0]]]} if isinstance(key, str) \\\n",
    "#     else {itemIds[skey][0]:[value[i][j][0] for value in [data['data'][0]]] \\\n",
    "#         for j,skey in enumerate(key)} \\\n",
    "#             for i, key in enumerate(data['columns'])]\n",
    "# pd.DataFrame([d[0]|dd for dd in d[1:]][0])"
   ]
  },
  {
   "cell_type": "code",
   "execution_count": null,
   "metadata": {},
   "outputs": [],
   "source": [
    "# dtime = {'timestamp' : [value[0] for value in [data['data'][0]]]}\n",
    "# ddata = {itemIds[skey][0]:[value[1][j][0] for value in [data['data'][0]]] for j,skey in enumerate(data['columns'][1])}\n",
    "# d = dtime|ddata\n",
    "# d"
   ]
  },
  {
   "cell_type": "code",
   "execution_count": null,
   "metadata": {},
   "outputs": [],
   "source": [
    "e.fetch_dataItems(1645281269000,['Count_OpHour','Various_Values_SpeedAct','Power_PowerAct','Power_SetPower','Hyd_PressCrankCase','Hyd_PressCoolWat','rP_Ramp_Set'])"
   ]
  },
  {
   "cell_type": "code",
   "execution_count": null,
   "metadata": {},
   "outputs": [],
   "source": [
    "mp.fetch_dataItems(1645281269000,e['id'],['Count_OpHour','Various_Values_SpeedAct','Power_PowerAct','Power_SetPower','Hyd_PressCrankCase','Hyd_PressCoolWat','rP_Ramp_Set'])"
   ]
  },
  {
   "cell_type": "code",
   "execution_count": null,
   "metadata": {},
   "outputs": [],
   "source": [
    "e.asset['validation']"
   ]
  },
  {
   "cell_type": "code",
   "execution_count": null,
   "metadata": {},
   "outputs": [],
   "source": [
    "e['Power_PowerNominal']"
   ]
  },
  {
   "cell_type": "code",
   "execution_count": null,
   "metadata": {},
   "outputs": [],
   "source": [
    "#mp._fetch_installed_base()\n",
    "e.lookup_Installed_Fleet(mp,e._sn)"
   ]
  },
  {
   "cell_type": "code",
   "execution_count": null,
   "metadata": {},
   "outputs": [],
   "source": [
    "\n",
    "e.get_messages()"
   ]
  },
  {
   "cell_type": "code",
   "execution_count": null,
   "metadata": {},
   "outputs": [],
   "source": [
    "for k in sorted(e.properties.keys()):\n",
    "    print(k)"
   ]
  },
  {
   "cell_type": "code",
   "execution_count": null,
   "metadata": {},
   "outputs": [],
   "source": [
    "100 / e['rP_Ramp_Set']"
   ]
  },
  {
   "cell_type": "code",
   "execution_count": null,
   "metadata": {},
   "outputs": [],
   "source": [
    "'Ramp' in 'rP_Ramp_Act'"
   ]
  },
  {
   "cell_type": "code",
   "execution_count": null,
   "metadata": {},
   "outputs": [],
   "source": [
    "for i, k in enumerate(sorted(e.properties.keys())):\n",
    "    print(f\"{i:03} {k}: {e[k]}\")"
   ]
  },
  {
   "cell_type": "code",
   "execution_count": null,
   "metadata": {},
   "outputs": [],
   "source": [
    "for i, k in enumerate(sorted(e.dataItems.keys())):\n",
    "    if not k.startswith('Para_') and e[k] != None:\n",
    "        #if k.startswith('Knock_KLS98_Knock'):\n",
    "            print(f\"{i:04} {k}: {e[k]}\")"
   ]
  },
  {
   "cell_type": "code",
   "execution_count": null,
   "metadata": {},
   "outputs": [],
   "source": [
    "for k in sorted(e.dataItems.keys()):\n",
    "    if 'Ramp' in k:\n",
    "        print(k, e[k])"
   ]
  },
  {
   "cell_type": "code",
   "execution_count": null,
   "metadata": {},
   "outputs": [],
   "source": [
    "for i, k in enumerate(sorted(e.dataItems.keys())):\n",
    "    if not k.startswith('Para_') and e[k] != None:\n",
    "        if k[-2:] in [f\"{i:02}\" for i in range(1,25)]:\n",
    "            print(f\"{i:04} {k}: {e[k]}\")"
   ]
  }
 ],
 "metadata": {
  "interpreter": {
   "hash": "00e7f18031541dc25b2d1c6c1f90e0b122a906b1440859c87878a4f6b4e1a002"
  },
  "kernelspec": {
   "display_name": "Python 3.8.5 ('base')",
   "language": "python",
   "name": "python3"
  },
  "language_info": {
   "codemirror_mode": {
    "name": "ipython",
    "version": 3
   },
   "file_extension": ".py",
   "mimetype": "text/x-python",
   "name": "python",
   "nbconvert_exporter": "python",
   "pygments_lexer": "ipython3",
   "version": "3.9.7"
  },
  "orig_nbformat": 4
 },
 "nbformat": 4,
 "nbformat_minor": 2
}
