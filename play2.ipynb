{
 "cells": [
  {
   "cell_type": "code",
   "execution_count": 1,
   "metadata": {},
   "outputs": [],
   "source": [
    "%load_ext autoreload\n",
    "%aimport -pandas, -numpy\n",
    "%autoreload 2\n",
    "import pandas as pd\n",
    "import numpy as np\n",
    "import arrow\n",
    "from dfsm import msgFSM"
   ]
  },
  {
   "cell_type": "code",
   "execution_count": 2,
   "metadata": {},
   "outputs": [],
   "source": [
    "import dmyplant2\n",
    "dmyplant2.cred()\n",
    "mp = dmyplant2.MyPlant(0)\n"
   ]
  },
  {
   "cell_type": "code",
   "execution_count": 3,
   "metadata": {},
   "outputs": [
    {
     "data": {
      "text/plain": [
       "n                                                    5\n",
       "Validation Engine                           REGENSBURG\n",
       "serialNumber                                   1243362\n",
       "val start                          2020-09-07 00:00:00\n",
       "oph@start                                        62765\n",
       "starts@start                                       NaN\n",
       "Asset ID                                      157701.0\n",
       "Old PU first replaced OPH                       4913.0\n",
       "Old PUs replaced before upgrade                    1.0\n",
       "Name: 5, dtype: object"
      ]
     },
     "execution_count": 3,
     "metadata": {},
     "output_type": "execute_result"
    }
   ],
   "source": [
    "dval = dmyplant2.Validation.load_def_csv(\"input2.csv\")\n",
    "i = 5\n",
    "vale = dval.iloc[i]\n",
    "#[['serialNumber','Validation Engine','val start']]\n",
    "vale"
   ]
  },
  {
   "cell_type": "code",
   "execution_count": 4,
   "metadata": {},
   "outputs": [
    {
     "data": {
      "text/html": [
       "<div>\n",
       "<style scoped>\n",
       "    .dataframe tbody tr th:only-of-type {\n",
       "        vertical-align: middle;\n",
       "    }\n",
       "\n",
       "    .dataframe tbody tr th {\n",
       "        vertical-align: top;\n",
       "    }\n",
       "\n",
       "    .dataframe thead th {\n",
       "        text-align: right;\n",
       "    }\n",
       "</style>\n",
       "<table border=\"1\" class=\"dataframe\">\n",
       "  <thead>\n",
       "    <tr style=\"text-align: right;\">\n",
       "      <th></th>\n",
       "      <th>Name</th>\n",
       "      <th>Engine ID</th>\n",
       "      <th>Design Number</th>\n",
       "      <th>Engine Type</th>\n",
       "      <th>Engine Version</th>\n",
       "      <th>P</th>\n",
       "      <th>P_nom</th>\n",
       "      <th>BMEP</th>\n",
       "      <th>serialNumber</th>\n",
       "      <th>id</th>\n",
       "      <th>Count_OpHour</th>\n",
       "      <th>val start</th>\n",
       "      <th>oph@start</th>\n",
       "      <th>oph parts</th>\n",
       "      <th>LOC</th>\n",
       "    </tr>\n",
       "  </thead>\n",
       "  <tbody>\n",
       "    <tr>\n",
       "      <th>0</th>\n",
       "      <td>BMW Regensburg</td>\n",
       "      <td>M2</td>\n",
       "      <td>I448</td>\n",
       "      <td>616</td>\n",
       "      <td>J01</td>\n",
       "      <td>16</td>\n",
       "      <td>2744.9</td>\n",
       "      <td>22.0</td>\n",
       "      <td>1243362</td>\n",
       "      <td>157701</td>\n",
       "      <td>71738.0</td>\n",
       "      <td>2020-09-07</td>\n",
       "      <td>0</td>\n",
       "      <td>71738</td>\n",
       "      <td>None</td>\n",
       "    </tr>\n",
       "  </tbody>\n",
       "</table>\n",
       "</div>"
      ],
      "text/plain": [
       "             Name Engine ID Design Number Engine Type Engine Version   P  \\\n",
       "0  BMW Regensburg        M2          I448         616            J01  16   \n",
       "\n",
       "    P_nom  BMEP serialNumber      id Count_OpHour  val start oph@start  \\\n",
       "0  2744.9  22.0      1243362  157701      71738.0 2020-09-07         0   \n",
       "\n",
       "  oph parts   LOC  \n",
       "0     71738  None  "
      ]
     },
     "execution_count": 4,
     "metadata": {},
     "output_type": "execute_result"
    }
   ],
   "source": [
    "sn = 1243362\n",
    "e=dmyplant2.Engine.from_sn(mp,sn, valstart='2020-09-07')\n",
    "pd.DataFrame.from_dict(e.dash, orient='index').T"
   ]
  },
  {
   "cell_type": "code",
   "execution_count": 5,
   "metadata": {},
   "outputs": [
    {
     "data": {
      "text/plain": [
       "{161: ['Count_OpHour', 'h']}"
      ]
     },
     "execution_count": 5,
     "metadata": {},
     "output_type": "execute_result"
    }
   ],
   "source": [
    "res = e.get_keyItem_data('dataItems','Count_OpHour')\n",
    "{ res['id'] : [res['name'],res['unit']] }"
   ]
  },
  {
   "cell_type": "code",
   "execution_count": 6,
   "metadata": {},
   "outputs": [
    {
     "data": {
      "text/plain": [
       "{'id': 161,\n",
       " 'name': 'Count_OpHour',\n",
       " 'timestamp': 1645360471187,\n",
       " 'unit': 'h',\n",
       " 'value': 71805.0}"
      ]
     },
     "execution_count": 6,
     "metadata": {},
     "output_type": "execute_result"
    }
   ],
   "source": [
    "e.get_keyItem('Count_OpHour')"
   ]
  },
  {
   "cell_type": "code",
   "execution_count": 7,
   "metadata": {},
   "outputs": [
    {
     "data": {
      "text/plain": [
       "161"
      ]
     },
     "execution_count": 7,
     "metadata": {},
     "output_type": "execute_result"
    }
   ],
   "source": [
    "e.get_keyId('Count_OpHour')"
   ]
  },
  {
   "cell_type": "code",
   "execution_count": 8,
   "metadata": {},
   "outputs": [],
   "source": [
    "datal = ['Count_OpHour','Power_PowerAct','Hyd_PressCrankCase','Hyd_PressOilDif']\n",
    "dat = e.get_dataItems(['Count_OpHour','Power_PowerAct','Hyd_PressCrankCase','Hyd_PressOilDif'])"
   ]
  },
  {
   "cell_type": "code",
   "execution_count": 9,
   "metadata": {},
   "outputs": [
    {
     "data": {
      "text/plain": [
       "time                        1645281269000\n",
       "Hyd_PressCrankCase             -15.344637\n",
       "Power_PowerAct                1976.519094\n",
       "Hyd_PressOilDif                  0.572489\n",
       "Count_OpHour                 71782.425063\n",
       "datetime              2022-02-19 14:34:29\n",
       "Name: 0, dtype: object"
      ]
     },
     "execution_count": 9,
     "metadata": {},
     "output_type": "execute_result"
    }
   ],
   "source": [
    "#def _batch_hist_dataItems(self, itemIds={161: ['CountOph', 'h']}, p_limit=None, p_from=None, p_to=None, timeCycle=3600,\n",
    "#                              assetType='J-Engine', includeMinMax='false', forceDownSampling='false'):\n",
    "e._batch_hist_dataItems(dat, p_from=1645281269000, p_to=1645281269000).iloc[0]"
   ]
  },
  {
   "cell_type": "code",
   "execution_count": 10,
   "metadata": {},
   "outputs": [],
   "source": [
    "def fetch_dataItems(e, items, ts):\n",
    "    itemIds = e.get_dataItems(items)\n",
    "    tdj = ','.join([str(s) for s in itemIds])\n",
    "    url=fr\"/asset/{e['id']}/history/batchdata?assetType=J-Engine&from={ts}&to={ts}&dataItemIds={tdj}&timeCycle=30\"\n",
    "    data =  e._mp.fetchdata(url)\n",
    "    # # restructure data to dict\n",
    "    # ds = {}\n",
    "    # ds['labels'] = ['timestamp'] + [itemIds[x][0] for x in data['columns'][1]]\n",
    "    # ds['data'] = [[r[0]] + [rr[0] for rr in r[1]] for r in [data['data'][0]]]\n",
    "    # ds['index'] = [r[0] for r in data['data'][0] ]\n",
    "    # # import to Pandas DataFrame\n",
    "    # df = pd.DataFrame(ds['data'], columns=ds['labels'])\n",
    "    # return df\n",
    "    return data\n",
    "\n",
    "mdata = fetch_dataItems(e, ['Count_OpHour','Power_PowerAct','Hyd_PressCrankCase','Hyd_PressOilDif'], 1645281269000)"
   ]
  },
  {
   "cell_type": "code",
   "execution_count": 11,
   "metadata": {},
   "outputs": [
    {
     "data": {
      "text/plain": [
       "{'columns': ['time', [161, 217, 16546, 102]],\n",
       " 'data': [[1645281269000, [[71782.0], [-15.9], [0.5725], [2009.0]]],\n",
       "  [1645281269001, [[71783.0], [-15.91], [0.5726], [2009.5]]]]}"
      ]
     },
     "execution_count": 11,
     "metadata": {},
     "output_type": "execute_result"
    }
   ],
   "source": [
    "itemIds = e.get_dataItems(['Count_OpHour','Power_PowerAct','Hyd_PressCrankCase','Hyd_PressOilDif'])\n",
    "data = {\n",
    "    'columns': ['time', [161, 217, 16546, 102]],\n",
    "    'data': \n",
    "    [\n",
    "        [\n",
    "            1645281269000,\n",
    "            [\n",
    "                [71782.0],\n",
    "                [-15.90],\n",
    "                [0.5725],\n",
    "                [2009.0]\n",
    "            ]\n",
    "        ],\n",
    "        [\n",
    "            1645281269001,\n",
    "            [\n",
    "                [71783.0],\n",
    "                [-15.91],\n",
    "                [0.5726],\n",
    "                [2009.5]\n",
    "            ]\n",
    "        ]\n",
    "    ]\n",
    "}\n",
    "data"
   ]
  },
  {
   "cell_type": "code",
   "execution_count": 12,
   "metadata": {},
   "outputs": [
    {
     "data": {
      "text/html": [
       "<div>\n",
       "<style scoped>\n",
       "    .dataframe tbody tr th:only-of-type {\n",
       "        vertical-align: middle;\n",
       "    }\n",
       "\n",
       "    .dataframe tbody tr th {\n",
       "        vertical-align: top;\n",
       "    }\n",
       "\n",
       "    .dataframe thead th {\n",
       "        text-align: right;\n",
       "    }\n",
       "</style>\n",
       "<table border=\"1\" class=\"dataframe\">\n",
       "  <thead>\n",
       "    <tr style=\"text-align: right;\">\n",
       "      <th></th>\n",
       "      <th>time</th>\n",
       "      <th>Count_OpHour</th>\n",
       "      <th>Hyd_PressCrankCase</th>\n",
       "      <th>Hyd_PressOilDif</th>\n",
       "      <th>Power_PowerAct</th>\n",
       "    </tr>\n",
       "  </thead>\n",
       "  <tbody>\n",
       "    <tr>\n",
       "      <th>0</th>\n",
       "      <td>1645281269000</td>\n",
       "      <td>71782.0</td>\n",
       "      <td>-15.9</td>\n",
       "      <td>0.5725</td>\n",
       "      <td>2009.0</td>\n",
       "    </tr>\n",
       "  </tbody>\n",
       "</table>\n",
       "</div>"
      ],
      "text/plain": [
       "            time  Count_OpHour  Hyd_PressCrankCase  Hyd_PressOilDif  \\\n",
       "0  1645281269000       71782.0               -15.9           0.5725   \n",
       "\n",
       "   Power_PowerAct  \n",
       "0          2009.0  "
      ]
     },
     "execution_count": 12,
     "metadata": {},
     "output_type": "execute_result"
    }
   ],
   "source": [
    "d = {}\n",
    "ldata = [data['data'][0]]\n",
    "for i, key in enumerate(data['columns']):\n",
    "    if isinstance(key, str):\n",
    "        d[key] = [value[i] for value in ldata]\n",
    "    if isinstance(key, list):\n",
    "        for j, skey in enumerate(key):\n",
    "            d[itemIds[skey][0]] = [ value[i][j][0] for value in ldata ]\n",
    "from pprint import pprint as pp\n",
    "pd.DataFrame(d)"
   ]
  },
  {
   "cell_type": "code",
   "execution_count": 13,
   "metadata": {},
   "outputs": [
    {
     "data": {
      "text/plain": [
       "{'time': [1645281269000, 1645281269001],\n",
       " 'Count_OpHour': [71782.0, 71783.0],\n",
       " 'Hyd_PressCrankCase': [-15.9, -15.91],\n",
       " 'Hyd_PressOilDif': [0.5725, 0.5726],\n",
       " 'Power_PowerAct': [2009.0, 2009.5]}"
      ]
     },
     "execution_count": 13,
     "metadata": {},
     "output_type": "execute_result"
    }
   ],
   "source": [
    "d = []\n",
    "from pprint import pprint as pp\n",
    "for i, key in enumerate(data['columns']):\n",
    "    d.append({key: [value[i] for value in data['data']]} if isinstance(key, str) else \\\n",
    "         {itemIds[skey][0]:[value[i][j][0] for value in data['data']] for j,skey in enumerate(key)})\n",
    "{**d[0] ,**d[1]}"
   ]
  },
  {
   "cell_type": "code",
   "execution_count": 14,
   "metadata": {},
   "outputs": [
    {
     "data": {
      "text/html": [
       "<div>\n",
       "<style scoped>\n",
       "    .dataframe tbody tr th:only-of-type {\n",
       "        vertical-align: middle;\n",
       "    }\n",
       "\n",
       "    .dataframe tbody tr th {\n",
       "        vertical-align: top;\n",
       "    }\n",
       "\n",
       "    .dataframe thead th {\n",
       "        text-align: right;\n",
       "    }\n",
       "</style>\n",
       "<table border=\"1\" class=\"dataframe\">\n",
       "  <thead>\n",
       "    <tr style=\"text-align: right;\">\n",
       "      <th></th>\n",
       "      <th>time</th>\n",
       "      <th>Count_OpHour</th>\n",
       "      <th>Hyd_PressCrankCase</th>\n",
       "      <th>Hyd_PressOilDif</th>\n",
       "      <th>Power_PowerAct</th>\n",
       "    </tr>\n",
       "  </thead>\n",
       "  <tbody>\n",
       "    <tr>\n",
       "      <th>0</th>\n",
       "      <td>1645281269000</td>\n",
       "      <td>71782.0</td>\n",
       "      <td>-15.9</td>\n",
       "      <td>0.5725</td>\n",
       "      <td>2009.0</td>\n",
       "    </tr>\n",
       "  </tbody>\n",
       "</table>\n",
       "</div>"
      ],
      "text/plain": [
       "            time  Count_OpHour  Hyd_PressCrankCase  Hyd_PressOilDif  \\\n",
       "0  1645281269000       71782.0               -15.9           0.5725   \n",
       "\n",
       "   Power_PowerAct  \n",
       "0          2009.0  "
      ]
     },
     "execution_count": 14,
     "metadata": {},
     "output_type": "execute_result"
    }
   ],
   "source": [
    "d =  [{key: [value[i] for value in [data['data'][0]]]} if isinstance(key, str) \\\n",
    "    else {itemIds[skey][0]:[value[i][j][0] for value in [data['data'][0]]] \\\n",
    "        for j,skey in enumerate(key)} \\\n",
    "            for i, key in enumerate(data['columns'])]\n",
    "pd.DataFrame([d[0]|dd for dd in d[1:]][0])"
   ]
  },
  {
   "cell_type": "code",
   "execution_count": 20,
   "metadata": {},
   "outputs": [
    {
     "data": {
      "text/plain": [
       "{'timestamp': [1645281269000],\n",
       " 'Count_OpHour': [71782.0],\n",
       " 'Hyd_PressCrankCase': [-15.9],\n",
       " 'Hyd_PressOilDif': [0.5725],\n",
       " 'Power_PowerAct': [2009.0]}"
      ]
     },
     "execution_count": 20,
     "metadata": {},
     "output_type": "execute_result"
    }
   ],
   "source": [
    "dtime = {'timestamp' : [value[0] for value in [data['data'][0]]]}\n",
    "ddata = {itemIds[skey][0]:[value[1][j][0] for value in [data['data'][0]]] for j,skey in enumerate(data['columns'][1])}\n",
    "d = dtime|ddata\n",
    "d"
   ]
  },
  {
   "cell_type": "code",
   "execution_count": 23,
   "metadata": {},
   "outputs": [
    {
     "data": {
      "text/html": [
       "<div>\n",
       "<style scoped>\n",
       "    .dataframe tbody tr th:only-of-type {\n",
       "        vertical-align: middle;\n",
       "    }\n",
       "\n",
       "    .dataframe tbody tr th {\n",
       "        vertical-align: top;\n",
       "    }\n",
       "\n",
       "    .dataframe thead th {\n",
       "        text-align: right;\n",
       "    }\n",
       "</style>\n",
       "<table border=\"1\" class=\"dataframe\">\n",
       "  <thead>\n",
       "    <tr style=\"text-align: right;\">\n",
       "      <th></th>\n",
       "      <th>timestamp</th>\n",
       "      <th>Various_Values_SpeedAct</th>\n",
       "      <th>rP_Ramp_Set</th>\n",
       "      <th>Count_OpHour</th>\n",
       "      <th>Hyd_PressCoolWat</th>\n",
       "      <th>Hyd_PressCrankCase</th>\n",
       "      <th>Power_SetPower</th>\n",
       "      <th>Power_PowerAct</th>\n",
       "    </tr>\n",
       "  </thead>\n",
       "  <tbody>\n",
       "    <tr>\n",
       "      <th>0</th>\n",
       "      <td>1645281269000</td>\n",
       "      <td>1499.0</td>\n",
       "      <td>0.63</td>\n",
       "      <td>71782.007533</td>\n",
       "      <td>1.56</td>\n",
       "      <td>-15.90832</td>\n",
       "      <td>2006.641167</td>\n",
       "      <td>2009.9376</td>\n",
       "    </tr>\n",
       "  </tbody>\n",
       "</table>\n",
       "</div>"
      ],
      "text/plain": [
       "       timestamp  Various_Values_SpeedAct  rP_Ramp_Set  Count_OpHour  \\\n",
       "0  1645281269000                   1499.0         0.63  71782.007533   \n",
       "\n",
       "   Hyd_PressCoolWat  Hyd_PressCrankCase  Power_SetPower  Power_PowerAct  \n",
       "0              1.56           -15.90832     2006.641167       2009.9376  "
      ]
     },
     "execution_count": 23,
     "metadata": {},
     "output_type": "execute_result"
    }
   ],
   "source": [
    "e.fetch_dataItems(1645281269000,['Count_OpHour','Various_Values_SpeedAct','Power_PowerAct','Power_SetPower','Hyd_PressCrankCase','Hyd_PressCoolWat','rP_Ramp_Set'])"
   ]
  },
  {
   "cell_type": "code",
   "execution_count": null,
   "metadata": {},
   "outputs": [],
   "source": [
    "e.asset['validation']"
   ]
  },
  {
   "cell_type": "code",
   "execution_count": null,
   "metadata": {},
   "outputs": [],
   "source": [
    "e['Power_PowerNominal']"
   ]
  },
  {
   "cell_type": "code",
   "execution_count": null,
   "metadata": {},
   "outputs": [],
   "source": [
    "#mp._fetch_installed_base()\n",
    "e.lookup_Installed_Fleet(mp,e._sn)"
   ]
  },
  {
   "cell_type": "code",
   "execution_count": null,
   "metadata": {},
   "outputs": [],
   "source": [
    "\n",
    "e.get_messages()"
   ]
  },
  {
   "cell_type": "code",
   "execution_count": null,
   "metadata": {},
   "outputs": [],
   "source": [
    "for k in sorted(e.properties.keys()):\n",
    "    print(k)"
   ]
  },
  {
   "cell_type": "code",
   "execution_count": null,
   "metadata": {},
   "outputs": [],
   "source": [
    "100 / e['rP_Ramp_Set']"
   ]
  },
  {
   "cell_type": "code",
   "execution_count": null,
   "metadata": {},
   "outputs": [],
   "source": [
    "'Ramp' in 'rP_Ramp_Act'"
   ]
  },
  {
   "cell_type": "code",
   "execution_count": null,
   "metadata": {},
   "outputs": [],
   "source": [
    "for i, k in enumerate(sorted(e.properties.keys())):\n",
    "    print(f\"{i:03} {k}: {e[k]}\")"
   ]
  },
  {
   "cell_type": "code",
   "execution_count": null,
   "metadata": {},
   "outputs": [],
   "source": [
    "for i, k in enumerate(sorted(e.dataItems.keys())):\n",
    "    if not k.startswith('Para_') and e[k] != None:\n",
    "        #if k.startswith('Knock_KLS98_Knock'):\n",
    "            print(f\"{i:04} {k}: {e[k]}\")"
   ]
  },
  {
   "cell_type": "code",
   "execution_count": null,
   "metadata": {},
   "outputs": [],
   "source": [
    "for k in sorted(e.dataItems.keys()):\n",
    "    if 'Ramp' in k:\n",
    "        print(k, e[k])"
   ]
  },
  {
   "cell_type": "code",
   "execution_count": null,
   "metadata": {},
   "outputs": [],
   "source": [
    "for i, k in enumerate(sorted(e.dataItems.keys())):\n",
    "    if not k.startswith('Para_') and e[k] != None:\n",
    "        if k[-2:] in [f\"{i:02}\" for i in range(1,25)]:\n",
    "            print(f\"{i:04} {k}: {e[k]}\")"
   ]
  }
 ],
 "metadata": {
  "interpreter": {
   "hash": "00e7f18031541dc25b2d1c6c1f90e0b122a906b1440859c87878a4f6b4e1a002"
  },
  "kernelspec": {
   "display_name": "Python 3.8.5 ('base')",
   "language": "python",
   "name": "python3"
  },
  "language_info": {
   "codemirror_mode": {
    "name": "ipython",
    "version": 3
   },
   "file_extension": ".py",
   "mimetype": "text/x-python",
   "name": "python",
   "nbconvert_exporter": "python",
   "pygments_lexer": "ipython3",
   "version": "3.9.7"
  },
  "orig_nbformat": 4
 },
 "nbformat": 4,
 "nbformat_minor": 2
}
