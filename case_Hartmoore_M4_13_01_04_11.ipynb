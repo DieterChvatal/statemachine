{
 "cells": [
  {
   "cell_type": "code",
   "execution_count": null,
   "metadata": {},
   "outputs": [],
   "source": [
    "import pandas as pd\n",
    "from dmyplant2 import cred, MyPlant, Engine, msgFSM, plot_with_additional_results\n",
    "from pprint import pprint as pp\n",
    "    \n",
    "cred()\n",
    "mp = MyPlant(0)\n",
    "Engine._list_cached_validations();"
   ]
  },
  {
   "cell_type": "code",
   "execution_count": null,
   "metadata": {},
   "outputs": [],
   "source": [
    "e=Engine.from_sn(mp,1486174)\n",
    "modes = ['???','OFF','MANUAL','AUTO']\n",
    "success = [True,False]\n",
    "e['IB Site Name'] + ' ' + e['Engine ID'], modes, success"
   ]
  },
  {
   "cell_type": "code",
   "execution_count": null,
   "metadata": {},
   "outputs": [],
   "source": [
    "e=Engine.from_sn(mp,1486174)\n",
    "fsm = msgFSM(e, p_from=e['Commissioning Date'], p_to='2022-01-15', successtime=300)\n",
    "fsm.run1(enforce=True) # run Finite State Machine"
   ]
  },
  {
   "cell_type": "code",
   "execution_count": null,
   "metadata": {},
   "outputs": [],
   "source": [
    "rda = fsm.starts\n",
    "rda['stime'] = rda.apply(lambda x: x['starttime'].strftime('%d.%m.%Y %H:%M:%S'), axis=1)\n",
    "rda['etime'] = rda.apply(lambda x: x['endtime'].strftime('%d.%m.%Y %H:%M:%S'), axis=1)\n",
    "rda[['no','success','mode','stime','etime','startpreparation','starter','speedup','idle','synchronize','loadramp','cumstarttime','targetoperation','rampdown','coolrun','runout']].round(2)"
   ]
  },
  {
   "cell_type": "code",
   "execution_count": null,
   "metadata": {},
   "outputs": [],
   "source": [
    "vset = ['Various_Values_SpeedAct','Power_PowerAct','Hyd_PressCrankCase','Hyd_PressOilDif','Hyd_PressOil','Hyd_TempOil']\n",
    "dset = [{'col':['Power_PowerAct'], 'ylim':(0,5000), 'color':'red'},\n",
    "        {'col':['Various_Values_SpeedAct'],'ylim': [0, 2500], 'color':'blue'},\n",
    "        #{'col':['Hyd_PressCrankCase'],'ylim': [-100, 100], 'color':'orange'},\n",
    "        #{'col':['Hyd_PressOilDif'],'ylim': [0, 2], 'color':'black'},\n",
    "        {'col':['Hyd_PressOil'],'ylim': [0, 10], 'color':'brown'},\n",
    "        {'col':['Hyd_TempOil'],'ylim': [0, 110], 'color':'#2171b5'}]\n",
    "startversuch = rda.iloc[6]; \n",
    "plot_with_additional_results(fsm,startversuch, vset, dset, dfigsize=(16,10)) \n"
   ]
  },
  {
   "cell_type": "code",
   "execution_count": null,
   "metadata": {},
   "outputs": [],
   "source": [
    "startversuch=fsm.starts.iloc[6].to_dict()\n",
    "pp(startversuch)"
   ]
  },
  {
   "cell_type": "code",
   "execution_count": null,
   "metadata": {},
   "outputs": [],
   "source": [
    "# calc phase durations\n",
    "# targetoperation, zusammemspielen aller Einträge\n",
    "tlr = startversuch['timing']['targetoperation']\n",
    "tlr = [{'start':tlr[0]['start'], 'end':tlr[-1]['end']}]\n",
    "startversuch['timing']['targetoperation'] = tlr\n",
    "phases = list(startversuch['timing'].keys())\n",
    "durations = { ph:pd.Timedelta(startversuch['timing'][ph][-1]['end'] - startversuch['timing'][ph][-1]['start']).total_seconds() for ph in phases}\n",
    "durations['cumstarttime'] = sum([v for k,v in durations.items() if k in ['startpreparation','starter','speedup','idle','synchronize','loadramp']])\n",
    "startversuch.update(durations)\n",
    "pp(startversuch)\n",
    "\n",
    "#### phases = [x[6:] for x in self.results['starts'][-1]['timing'] if x.startswith('start_')]\n",
    "# durations = { ph:pd.Timedelta(self.results['starts'][-1]['timing']['end_'+ph] - self.results['starts'][-1]['timing']['start_'+ph]).total_seconds() for ph in phases}\n",
    "# durations['cumstarttime'] = sum([v for k,v in durations.items() if k in ['startpreparation','starter','speedup','idle','synchronize','loadramp']])\n",
    "# self.results['starts'][-1].update(durations)\n",
    "# if 'targetoperation' in self.results['starts'][-1]:\n",
    "#     #successful if the targetoperation run was longer than specified\n",
    "#     self.results['starts'][-1]['success'] = (self.results['starts'][-1]['targetoperation'] > self._successtime)\n",
    "# self.results['starts'][-1]['count_alarms'] = len(self.results['starts'][-1]['alarms'])\n",
    "# self.results['starts'][-1]['count_warnings'] = len(self.results['starts'][-1]['warnings'])"
   ]
  },
  {
   "cell_type": "code",
   "execution_count": null,
   "metadata": {},
   "outputs": [],
   "source": [
    "fsm._runlogdetail[350:]\n",
    "[x for x in fsm._runlogdetail if x.startswith('*')][50:]"
   ]
  }
 ],
 "metadata": {
  "interpreter": {
   "hash": "00e7f18031541dc25b2d1c6c1f90e0b122a906b1440859c87878a4f6b4e1a002"
  },
  "kernelspec": {
   "display_name": "Python 3.8.5 ('base')",
   "language": "python",
   "name": "python3"
  },
  "language_info": {
   "codemirror_mode": {
    "name": "ipython",
    "version": 3
   },
   "file_extension": ".py",
   "mimetype": "text/x-python",
   "name": "python",
   "nbconvert_exporter": "python",
   "pygments_lexer": "ipython3",
   "version": "3.9.7"
  },
  "orig_nbformat": 4
 },
 "nbformat": 4,
 "nbformat_minor": 2
}
