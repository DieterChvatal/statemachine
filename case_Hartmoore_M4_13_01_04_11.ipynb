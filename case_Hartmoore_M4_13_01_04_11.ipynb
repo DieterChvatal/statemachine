{
 "cells": [
  {
   "cell_type": "code",
   "execution_count": null,
   "metadata": {},
   "outputs": [],
   "source": [
    "%reload_ext autoreload\n",
    "%aimport -pandas, -numpy\n",
    "%autoreload 2\n",
    "import pandas as pd\n",
    "import numpy as np\n",
    "from dmyplant2 import (\n",
    "    cred, MyPlant, Engine, FSMOperator, FSM, bokeh_show, get_cycle_data2, get_cycle_data, cvset, chart, FSMPlot_Start, dbokeh_chart, FSM_splot\n",
    ")\n",
    "from pprint import pprint as pp\n",
    "import time\n",
    "\n",
    "\n",
    "import plotly.graph_objects as go\n",
    "import plotly.io as pio\n",
    "pio.templates.default='simple_white'\n",
    "pio.renderers.default = \"notebook\"\n",
    "    \n",
    "cred()\n",
    "mp = MyPlant(0)\n",
    "Engine._list_cached_validations();"
   ]
  },
  {
   "cell_type": "code",
   "execution_count": null,
   "metadata": {},
   "outputs": [],
   "source": [
    "pio.templates;"
   ]
  },
  {
   "cell_type": "code",
   "execution_count": null,
   "metadata": {},
   "outputs": [],
   "source": [
    "fleet = mp.search_installed_fleet_by_contains_name(\"Forsa Hartmoor\")\n",
    "fleet = fleet.sort_values(by = \"Engine ID\",ascending=True).reset_index(drop='index')\n",
    "motor = fleet.iloc[3]\n",
    "modes = ['undefined','OFF','MAN','AUTO']\n",
    "success = [True,False]\n",
    "#success = [True]\n",
    "fleet.T\n"
   ]
  },
  {
   "cell_type": "code",
   "execution_count": null,
   "metadata": {},
   "outputs": [],
   "source": [
    "motor['IB Site Name'] + ' ' + motor['Engine ID'], modes, success"
   ]
  },
  {
   "cell_type": "code",
   "execution_count": null,
   "metadata": {},
   "outputs": [],
   "source": [
    "t0 = time.time(); e=Engine.from_fleet(mp,motor);t1 = time.time()\n",
    "fsm = FSMOperator(e, p_from=e['Commissioning Date'], p_to='2022-01-15', successtime=300); t2 = time.time()\n",
    "fsm.run1(enforce=True, silent=False); t3 = time.time()\n",
    "print(f\"engine: {t1-t0:3.2f} sec\\n   fsm: {t2-t1:3.2f} sec\\n  run1: {t3-t2:3.2f} sec\")"
   ]
  },
  {
   "cell_type": "code",
   "execution_count": null,
   "metadata": {},
   "outputs": [],
   "source": [
    "rda = fsm.starts\n",
    "rda['stime'] = rda.apply(lambda x: x['starttime'].strftime('%d.%m.%Y %H:%M:%S'), axis=1)\n",
    "rda['etime'] = rda.apply(lambda x: x['endtime'].strftime('%d.%m.%Y %H:%M:%S'), axis=1)\n",
    "rda[['no','success','mode','stime','etime','startpreparation','starter','speedup','idle','synchronize','loadramp','cumstarttime','targetoperation','rampdown','coolrun','runout']].round(2)"
   ]
  },
  {
   "cell_type": "code",
   "execution_count": null,
   "metadata": {},
   "outputs": [],
   "source": [
    "from dowork import plot_now\n",
    "dset = [{'col':['Power_SetPower','Power_PowerAct'], 'ylim':(0,5000), 'color':['dodgerblue','red'], 'unit':'kW'},\n",
    "        {'col':['power_diff'],'ylim': [-300, 300], 'color':'black', 'unit':'kW/s'},\n",
    "        {'col':['Various_Bits_CollAlarm'],'ylim': [0, 10], 'color':'black', 'unit':''},\n",
    "        {'col':['Hyd_PressCrankCase'],'ylim': [-100, 100], 'color':'orange', 'unit':'mbar'},\n",
    "        {'col':['Hyd_TempOilPumpOut'],'ylim': [0, 100], 'color':'violet', 'unit':'°C'},\n",
    "        {'col':['Hyd_PressOilDif'],'ylim': [0, 10], 'color':'midnightblue', 'unit':'bar'},\n",
    "        {'col':['Hyd_PressOil'],'ylim': [0, 10], 'color':'dodgerblue', 'unit':'bar'},\n",
    "        {'col':['Various_Values_SpeedAct'],'ylim': [0, 2500], 'color':'blue','unit':'rpm'}]\n",
    "startversuch = rda.iloc[8];\n",
    "data = get_cycle_data(fsm, startversuch, max_length=None, min_length=None, cycletime=1, silent=True, p_data=cvset(mp,dset))\n",
    "data.head(5)"
   ]
  },
  {
   "cell_type": "code",
   "execution_count": null,
   "metadata": {},
   "outputs": [],
   "source": [
    "data['power_diff'] = pd.Series(np.gradient(data['Power_PowerAct']))\n",
    "#fig = FSM_splot(fsm, startversuch, data, dset, figsize=(16,5))\n",
    "#fig = FSMPlot_Start(fsm, startversuch, data, v(mp,dset), dset, figsize=(16,10))\n",
    "fig = plot_now(fsm, data, startversuch,cvset(mp,dset), dset, dfigsize=(16,10))\n",
    "bokeh_show(fig)"
   ]
  },
  {
   "cell_type": "code",
   "execution_count": null,
   "metadata": {},
   "outputs": [],
   "source": [
    "from dowork import plot_plotly\n",
    "fig2 = plot_plotly(fsm, data, startversuch, cvset(mp,dset), dset, dfigsize=(16,10))\n",
    "fig2.show(config={'scrollZoom': True})"
   ]
  },
  {
   "cell_type": "code",
   "execution_count": null,
   "metadata": {},
   "outputs": [],
   "source": [
    "from dowork import plot_plotly\n",
    "ddset = [{'col':['Power_SetPower','Power_PowerAct'], 'ylim':(0,5000), 'color':['dodgerblue','red'], 'unit':'kW'},\n",
    "        {'col':['Hyd_TempOil'],'ylim': [0, 100], 'color':'violet', 'unit':'°C'},\n",
    "        {'col':['Hyd_PressOil','Hyd_PressOilDif'],'ylim': [0, 10], 'color':['indigo','darkorange'], 'unit':'bar'},\n",
    "        {'col':['Various_Values_SpeedAct'],'ylim': [0, 2500], 'color':'blue','unit':'rpm'}]\n",
    "dvset = cvset(mp,ddset)\n",
    "data = get_cycle_data(fsm, startversuch, max_length=None, min_length=None, cycletime=1, silent=True, p_data=dvset)\n",
    "#data['power_diff'] = pd.Series(np.gradient(data['Power_PowerAct']))\n",
    "fig2 = plot_plotly(fsm, data, startversuch,dvset, ddset, dfigsize=(12,8))\n",
    "config = dict({'scrollZoom': True})\n",
    "fig2.add_vline(x=startversuch['endtime'],line_dash='solid',line_width=1,line_color='red')\n",
    "fig2.add_hline(y=1500.0,yref='y2',ysizemode='scaled',line_dash='solid',line_color='blue',line_width=3)\n",
    "fig2.show(config=config)\n",
    "#[e for rec in ddset for e in rec['col']]"
   ]
  },
  {
   "cell_type": "code",
   "execution_count": null,
   "metadata": {},
   "outputs": [],
   "source": [
    "# from dowork import plotly_verstehen\n",
    "# plotly_verstehen(fsm, startversuch, data)"
   ]
  },
  {
   "cell_type": "code",
   "execution_count": null,
   "metadata": {},
   "outputs": [],
   "source": [
    "#chart(data,dset, figsize=(16,10));"
   ]
  },
  {
   "cell_type": "code",
   "execution_count": null,
   "metadata": {},
   "outputs": [],
   "source": [
    "svdetail=fsm.starts.iloc[6].to_dict()\n",
    "#pp(svdetail);"
   ]
  },
  {
   "cell_type": "code",
   "execution_count": null,
   "metadata": {},
   "outputs": [],
   "source": [
    "for i, v in enumerate(fsm.runlogdetail(startversuch, statechanges_only=True)):\n",
    "    print(f\"{i:3} {v}\")"
   ]
  },
  {
   "cell_type": "code",
   "execution_count": null,
   "metadata": {},
   "outputs": [],
   "source": [
    "print(fsm.results['runlogdetail'][0])\n",
    "print(fsm.results['runlogdetail'][-1])"
   ]
  },
  {
   "cell_type": "code",
   "execution_count": null,
   "metadata": {},
   "outputs": [],
   "source": [
    "print(len(fsm.results['runlogdetail']))"
   ]
  }
 ],
 "metadata": {
  "interpreter": {
   "hash": "00e7f18031541dc25b2d1c6c1f90e0b122a906b1440859c87878a4f6b4e1a002"
  },
  "kernelspec": {
   "display_name": "Python 3 (ipykernel)",
   "language": "python",
   "name": "python3"
  },
  "language_info": {
   "codemirror_mode": {
    "name": "ipython",
    "version": 3
   },
   "file_extension": ".py",
   "mimetype": "text/x-python",
   "name": "python",
   "nbconvert_exporter": "python",
   "pygments_lexer": "ipython3",
   "version": "3.9.7"
  }
 },
 "nbformat": 4,
 "nbformat_minor": 4
}
