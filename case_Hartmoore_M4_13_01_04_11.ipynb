{
 "cells": [
  {
   "cell_type": "code",
   "execution_count": null,
   "metadata": {},
   "outputs": [],
   "source": [
    "%reload_ext autoreload\n",
    "%aimport -pandas, -numpy\n",
    "%autoreload 2\n",
    "import pandas as pd\n",
    "import numpy as np\n",
    "from dmyplant2 import (\n",
    "    cred, MyPlant, Engine, msgFSM, FSM, bokeh_show, get_cycle_data2, get_cycle_data, v, chart, FSMPlot_Start, dbokeh_chart, FSM_splot\n",
    ")\n",
    "from pprint import pprint as pp\n",
    "import time\n",
    "\n",
    "\n",
    "import plotly.graph_objects as go\n",
    "import plotly.io as pio\n",
    "pio.templates.default='simple_white'\n",
    "pio.renderers.default = \"notebook\"\n",
    "    \n",
    "cred()\n",
    "mp = MyPlant(0)\n",
    "Engine._list_cached_validations();"
   ]
  },
  {
   "cell_type": "code",
   "execution_count": null,
   "metadata": {},
   "outputs": [],
   "source": [
    "pio.templates;"
   ]
  },
  {
   "cell_type": "code",
   "execution_count": null,
   "metadata": {},
   "outputs": [],
   "source": [
    "fleet = mp.search_installed_fleet_by_contains_name(\"Forsa Hartmoor\")\n",
    "fleet = fleet.sort_values(by = \"Engine ID\",ascending=True).reset_index(drop='index')\n",
    "motor = fleet.iloc[3]\n",
    "modes = ['???','OFF','MANUAL','AUTO']\n",
    "success = [True,False]\n",
    "#success = [True]\n",
    "fleet.T\n",
    "motor['IB Site Name'] + ' ' + motor['Engine ID'], modes, success"
   ]
  },
  {
   "cell_type": "code",
   "execution_count": null,
   "metadata": {},
   "outputs": [],
   "source": [
    "t0 = time.time(); e=Engine.from_fleet(mp,motor);t1 = time.time()\n",
    "fsm = msgFSM(e, p_from=e['Commissioning Date'], p_to='2022-01-15', successtime=300); t2 = time.time()\n",
    "fsm.run1(enforce=True, silent=False); t3 = time.time()\n",
    "print(f\"engine: {t1-t0:3.2f} sec\\n   fsm: {t2-t1:3.2f} sec\\n  run1: {t3-t2:3.2f} sec\")"
   ]
  },
  {
   "cell_type": "code",
   "execution_count": null,
   "metadata": {},
   "outputs": [],
   "source": [
    "rda = fsm.starts\n",
    "rda['stime'] = rda.apply(lambda x: x['starttime'].strftime('%d.%m.%Y %H:%M:%S'), axis=1)\n",
    "rda['etime'] = rda.apply(lambda x: x['endtime'].strftime('%d.%m.%Y %H:%M:%S'), axis=1)\n",
    "rda[['no','success','mode','stime','etime','startpreparation','starter','speedup','idle','synchronize','loadramp','cumstarttime','targetoperation','rampdown','coolrun','runout']].round(2)"
   ]
  },
  {
   "cell_type": "code",
   "execution_count": null,
   "metadata": {},
   "outputs": [],
   "source": [
    "from dowork import plot_now\n",
    "dset = [{'col':['Power_SetPower','Power_PowerAct'], 'ylim':(0,5000), 'color':['dodgerblue','red'], 'unit':'kW'},\n",
    "        {'col':['power_diff'],'ylim': [-300, 300], 'color':'black', 'unit':'kW/s'},\n",
    "        {'col':['Various_Bits_CollAlarm'],'ylim': [-5, 5], 'color':'black', 'unit':'-'},\n",
    "        {'col':['Hyd_PressCrankCase'],'ylim': [-100, 100], 'color':'orange', 'unit':'mbar'},\n",
    "        {'col':['Hyd_TempOil'],'ylim': [0, 100], 'color':'violet', 'unit':'°C'},\n",
    "        {'col':['Hyd_PressOilDif'],'ylim': [0, 10], 'color':'midnightblue', 'unit':'bar'},\n",
    "        {'col':['Hyd_PressOil'],'ylim': [0, 10], 'color':'dodgerblue', 'unit':'bar'},\n",
    "        {'col':['Various_Values_SpeedAct'],'ylim': [0, 2500], 'color':'blue','unit':'rpm'}]\n",
    "startversuch = rda.iloc[8];\n",
    "data = get_cycle_data(fsm, startversuch, max_length=None, min_length=None, cycletime=1, silent=True, p_data=v(mp,dset))"
   ]
  },
  {
   "cell_type": "code",
   "execution_count": null,
   "metadata": {},
   "outputs": [],
   "source": [
    "data.head(5)"
   ]
  },
  {
   "cell_type": "code",
   "execution_count": null,
   "metadata": {},
   "outputs": [],
   "source": [
    "data['power_diff'] = pd.Series(np.gradient(data['Power_PowerAct']))\n",
    "#fig = FSM_splot(fsm, startversuch, data, dset, figsize=(16,5))\n",
    "#fig = FSMPlot_Start(fsm, startversuch, data, v(mp,dset), dset, figsize=(16,10))\n",
    "fig = plot_now(fsm, data, startversuch,v(mp,dset), dset, dfigsize=(20,14))\n",
    "bokeh_show(fig)"
   ]
  },
  {
   "cell_type": "code",
   "execution_count": null,
   "metadata": {},
   "outputs": [],
   "source": [
    "from dowork import plot_plotly\n",
    "fig2 = plot_plotly(fsm, data, startversuch, v(mp,dset), dset, dfigsize=(18,12))\n",
    "fig2.show(config={'scrollZoom': True})"
   ]
  },
  {
   "cell_type": "code",
   "execution_count": null,
   "metadata": {},
   "outputs": [],
   "source": [
    "from dowork import plot_plotly\n",
    "dvset = ['Various_Values_SpeedAct','Power_PowerAct','Power_SetPower','Hyd_PressCrankCase','Hyd_PressOilDif','Hyd_PressOil','Hyd_TempOil']\n",
    "ddset = [{'col':['Power_SetPower','Power_PowerAct'], 'ylim':(0,5000), 'color':['dodgerblue','red'], 'unit':'kW'},\n",
    "        {'col':['Hyd_TempOil'],'ylim': [0, 100], 'color':'violet', 'unit':'°C'},\n",
    "        {'col':['Hyd_PressOil','Hyd_PressOilDif'],'ylim': [0, 10], 'color':['indigo','darkorange'], 'unit':'bar'},\n",
    "        {'col':['Various_Values_SpeedAct'],'ylim': [0, 2500], 'color':'blue','unit':'rpm'}]\n",
    "data = get_cycle_data(fsm, startversuch, max_length=None, min_length=None, cycletime=1, silent=True, p_data=dvset)\n",
    "data['power_diff'] = pd.Series(np.gradient(data['Power_PowerAct']))\n",
    "fig2 = plot_plotly(fsm, data, startversuch,dvset, ddset, dfigsize=(12,8))\n",
    "config = dict({'scrollZoom': True})\n",
    "fig2.add_vline(x=startversuch['endtime'],line_dash='solid',line_width=1,line_color='red')\n",
    "fig2.add_hline(y=1500.0,yref='y2',ysizemode='scaled',line_dash='solid',line_color='blue',line_width=3)\n",
    "fig2.show(config=config)\n",
    "#[e for rec in ddset for e in rec['col']]"
   ]
  },
  {
   "cell_type": "code",
   "execution_count": null,
   "metadata": {},
   "outputs": [],
   "source": [
    "import plotly.graph_objects as go\n",
    "import plotly.io as pio\n",
    "\n",
    "playout = {\n",
    "    'hovermode':\"x unified\",\n",
    "    'showlegend':True,\n",
    "    'legend': { 'yanchor':'top', 'y':0.99,'xanchor':'left', 'x':0.01,'bgcolor': 'rgba(255,255,255,0.4)'},\n",
    "    'title_text': f\"{fsm._e} -- Start {startversuch['no']} {startversuch['mode']} | {'SUCCESS' if startversuch['success'] else 'FAILED'} | {startversuch['starttime'].round('S')}\",\n",
    "    'width':1000,\n",
    "    'height':600,\n",
    "    'hoverlabel':{\n",
    "        'bgcolor': 'rgba(240,240,240,0.7)',\n",
    "        'font_family': 'Courier',\n",
    "        'namelength': -1,\n",
    "        },\n",
    "    'xaxis':{ 'domain':[0,0.85]},\n",
    "    'yaxis':{\n",
    "        'title':'PowerAct, SpeedAct',\n",
    "        #'color':\"#1f77b4\",\n",
    "        'color':\"black\",\n",
    "        'anchor':\"x\",\n",
    "        'overlaying':\"y\",'side':\"left\",'position':0.0,\n",
    "        'title_standoff': 4,\n",
    "        'range':(0,5000),\n",
    "        },\n",
    "    'yaxis2':{\n",
    "        'title':\"PressOil\",\n",
    "        'color':\"#d62728\",\n",
    "        'anchor':\"free\",'overlaying':\"free\",'side':\"right\",'position':0.85,\n",
    "        'title_standoff': 4,\n",
    "        'range':(0,10),\n",
    "        'showgrid':True,\n",
    "        'showline':True\n",
    "        },\n",
    "    'yaxis3':{\n",
    "        'title':\"TempOil\",\n",
    "        'color':\"#9467bd\",\n",
    "        'anchor':\"free\",'overlaying':\"y\",'side':\"right\",'position':0.95,\n",
    "        'title_standoff': 4,\n",
    "        'range':(0,100),\n",
    "        },\n",
    "    # 'yaxis4':{\n",
    "    #     'title':\"SpeedAct\",\n",
    "    #     'color':\"#ff7f0e\",\n",
    "    #     'anchor':\"free\",\n",
    "    #     'overlaying':'y','side':\"right\",'position':0.7,\n",
    "    #     'range':(0,2000),\n",
    "    #     },\n",
    "    'yaxis4':{\n",
    "        'title':\"\",\n",
    "        'color':\"#ffffff\",\n",
    "        'anchor':\"free\",\n",
    "        'overlaying':'y','side':\"right\",'position':1.0,\n",
    "        'title_standoff': 4,\n",
    "        'range':(0,100),\n",
    "        'showline':False,\n",
    "        'nticks':0\n",
    "        },\n",
    "}\n",
    "\n",
    "data['hover'] = 60\n",
    "\n",
    "pdata = [\n",
    "    go.Scattergl(x=data['datetime'],y=data['Power_PowerAct'], name='PowerAct',yaxis=\"y\"), #Power_PowerAct\n",
    "    go.Scattergl(x=data['datetime'],y=data['Various_Values_SpeedAct'], name=\"SpeedAct\",yaxis=\"y\"),\n",
    "    go.Scattergl(x=data['datetime'],y=data['Hyd_PressOil'],name=\"PressOil\",yaxis=\"y2\"),\n",
    "    go.Scattergl(x=data['datetime'],y=data['Hyd_TempOil'],name=\"TempOil\",yaxis=\"y3\"),\n",
    "    go.Scattergl(x=data['datetime'],y=data['hover'], line_color='rgba(255,255,255,0)', name=\"\",yaxis=\"y4\"),\n",
    "]\n",
    "\n",
    "#customdata=np.stack((data['Power_PowerAct'], data['Various_Values_SpeedAct']), axis=-1)\n",
    "subdata=data[['Power_PowerAct','Various_Values_SpeedAct','Hyd_PressOil','Hyd_TempOil']]\n",
    "customdata=[tuple(x) for x in subdata.to_numpy()]\n",
    "hovertemplate = (\"Power:    %{customdata[0]:5.0f} [kW]<br>\" +\n",
    "                 \"Speed:    %{customdata[1]:5.0f} [rpm]<br>\" +\n",
    "                 \"Oilpress: %{customdata[2]:5.2f} [bar]<br>\" +\n",
    "                 \"Oiltemp:  %{customdata[3]:5.1f} [°C]<br>\" +\n",
    "                 \"<extra></extra>\")\n",
    "\n",
    "fig3 = go.Figure(data=pdata,layout=playout)\n",
    "fig3.update_traces(customdata=customdata, hovertemplate=hovertemplate)\n",
    "fig3.show()\n"
   ]
  },
  {
   "cell_type": "code",
   "execution_count": null,
   "metadata": {},
   "outputs": [],
   "source": [
    "chart(data,dset, figsize=(16,10));"
   ]
  },
  {
   "cell_type": "code",
   "execution_count": null,
   "metadata": {},
   "outputs": [],
   "source": [
    "svdetail=fsm.starts.iloc[6].to_dict()\n",
    "#pp(svdetail);"
   ]
  },
  {
   "cell_type": "code",
   "execution_count": null,
   "metadata": {},
   "outputs": [],
   "source": [
    "for i, v in enumerate(fsm.runlogdetail(startversuch, statechanges_only=False)):\n",
    "    print(f\"{i:3} {v}\")"
   ]
  },
  {
   "cell_type": "code",
   "execution_count": null,
   "metadata": {},
   "outputs": [],
   "source": [
    "print(fsm.results['runlogdetail'][0])\n",
    "print(fsm.results['runlogdetail'][-1])"
   ]
  },
  {
   "cell_type": "code",
   "execution_count": null,
   "metadata": {},
   "outputs": [],
   "source": [
    "print(len(fsm.results['runlogdetail']))"
   ]
  }
 ],
 "metadata": {
  "interpreter": {
   "hash": "00e7f18031541dc25b2d1c6c1f90e0b122a906b1440859c87878a4f6b4e1a002"
  },
  "kernelspec": {
   "display_name": "Python 3 (ipykernel)",
   "language": "python",
   "name": "python3"
  },
  "language_info": {
   "codemirror_mode": {
    "name": "ipython",
    "version": 3
   },
   "file_extension": ".py",
   "mimetype": "text/x-python",
   "name": "python",
   "nbconvert_exporter": "python",
   "pygments_lexer": "ipython3",
   "version": "3.8.5"
  }
 },
 "nbformat": 4,
 "nbformat_minor": 4
}
