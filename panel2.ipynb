{
 "cells": [
  {
   "cell_type": "code",
   "execution_count": null,
   "metadata": {},
   "outputs": [],
   "source": [
    "import pandas as pd; import numpy as np; import matplotlib.pyplot as plt\n",
    "pd.options.mode.chained_assignment = None # default warn => SettingWithCopyWarning\n",
    "from collections import namedtuple\n",
    "from pprint import (pprint as pp, pformat as pf)\n",
    "import time\n",
    "import warnings\n",
    "warnings.simplefilter(action='ignore', category=UserWarning)\n",
    "\n",
    "import dmyplant2\n",
    "dmyplant2.cred()\n",
    "mp = dmyplant2.MyPlant(3600)\n",
    "\n",
    "from dmyplant2 import FSMOperator\n",
    "\n",
    "def sfun(x):\n",
    "    return all([\n",
    "            (\"Forsa Hartmoor\" in str(x['IB Site Name'])), \n",
    "            (x['OperationalCondition'] != 'Decommissioned')\n",
    "        ])\n",
    "\n",
    "fleet = mp.search_installed_fleet(sfun).drop('index', axis=1)\n",
    "fleet = fleet.sort_values(by = \"Engine ID\",ascending=True).reset_index(drop='index')\n",
    "fleet.T;\n",
    "ddl = pd.DataFrame(fleet['serialNumber'] + ' - ' + fleet['IB Site Name'] + ' ' + fleet['Engine ID'])[0].to_list()\n",
    "ddl = [m for m in ddl]"
   ]
  },
  {
   "cell_type": "code",
   "execution_count": null,
   "metadata": {},
   "outputs": [],
   "source": [
    "import panel as pn\n",
    "import panel.widgets as pnw\n",
    "from bokeh.plotting import figure\n",
    "from panel.layout.gridstack import GridStack, GridSpec\n",
    "pn.extension()\n",
    "\n",
    "def sinus4(name='sin', amp=1.0,freq=1.0):\n",
    "    fig = figure(title=name, height=600, sizing_mode='stretch_width',margin = [10,50,10,10])\n",
    "    x = np.linspace(-np.pi, np.pi,1000)\n",
    "    y = np.sin(1/amp*freq*x) * np.sin(freq * x)\n",
    "    fig.line(x,y)\n",
    "    return fig\n",
    "\n",
    "name  = pnw.Select(name='name', value='sin', options=ddl)\n",
    "amp  = pnw.FloatSlider(name='amp', value=1.0, start=0.0, end=5.0)\n",
    "freq  = pnw.FloatSlider(name='freq', value=1.0, start=0.0, end=50.0)\n",
    "modes = pn.widgets.CheckBoxGroup(name='Checkbox Group', value=['Apple', 'Pear'], options=['Apple', 'Banana', 'Pear', 'Strawberry'],inline=True)\n",
    "\n",
    "reactive_sinus = pn.bind(sinus4, name, amp, freq)\n",
    "widget1 = pn.Column(\n",
    "        pn.Row(\n",
    "                name, \n",
    "                modes\n",
    "            ),\n",
    "        height=80, \n",
    "        margin = [0,0,0,0]\n",
    "    )\n",
    "widget2 = pn.Column(f\"#Function\", amp, freq, width=300, margin = [5,0,0,0])\n",
    "\n",
    "gspec = pn.GridSpec(height=700, sizing_mode='stretch_width')\n",
    "gspec[0,0:8] = widget1\n",
    "gspec[1:12,0] = widget2\n",
    "gspec[1:12,1:8] = reactive_sinus\n",
    "\n",
    "fleetwidget = pn.widgets.Tabulator(fleet.T, layout='fit_columns', selectable=False)\n",
    "\n",
    "tabs = pn.Tabs(('Starts', gspec), ('Fleet',fleetwidget))\n",
    "tabs"
   ]
  }
 ],
 "metadata": {
  "interpreter": {
   "hash": "7b827b5f1f2836ddadb8fbc7a8e8e99004f7285a204f4c797dc2931fe1207e23"
  },
  "kernelspec": {
   "display_name": "Python 3.9.7 ('base')",
   "language": "python",
   "name": "python3"
  },
  "language_info": {
   "codemirror_mode": {
    "name": "ipython",
    "version": 3
   },
   "file_extension": ".py",
   "mimetype": "text/x-python",
   "name": "python",
   "nbconvert_exporter": "python",
   "pygments_lexer": "ipython3",
   "version": "3.9.7"
  },
  "orig_nbformat": 4
 },
 "nbformat": 4,
 "nbformat_minor": 2
}
