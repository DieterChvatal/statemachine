{
 "cells": [
  {
   "cell_type": "code",
   "execution_count": 1,
   "metadata": {},
   "outputs": [
    {
     "name": "stdout",
     "output_type": "stream",
     "text": [
      "\n",
      "Please enter your myPlant login: \n",
      "--------------------------------\n",
      "    \n"
     ]
    },
    {
     "name": "stdin",
     "output_type": "stream",
     "text": [
      "User:  105026010\n",
      "Password:  ········\n",
      "TOTP Secret:  ········\n"
     ]
    }
   ],
   "source": [
    "import os\n",
    "if os.name != 'nt' :\n",
    "    import resource\n",
    "%matplotlib widget\n",
    "import pandas as pd\n",
    "import ipywidgets as widgets\n",
    "from IPython.display import display, HTML\n",
    "from App.common import V, init_globals, loading_bar, myfigures, get_query_list, mp, tabs_out, tabs_html\n",
    "from App import tab1, tab2, tab3, tab4, tab5, tab6, tab7\n",
    "import dmyplant2\n",
    "from dmyplant2 import cred, MyPlant, Engine, cplotdef, get_size\n",
    "import logging\n",
    "import shutil\n",
    "\n",
    "logfilename = 'FSM.log'\n",
    "if os.path.exists(logfilename):\n",
    "    shutil.copyfile(logfilename,logfilename[:-4] + '_bak.log')\n",
    "\n",
    "logging.basicConfig(\n",
    "    filename=logfilename,\n",
    "    filemode='w',\n",
    "    format='%(asctime)s %(levelname)s %(message)s',\n",
    "    datefmt='%Y-%m-%d %H:%M:%S',\n",
    "    level=logging.ERROR\n",
    ")\n",
    "logging.info(\"FSM logging Start\")"
   ]
  },
  {
   "cell_type": "markdown",
   "metadata": {},
   "source": [
    "### Statemachine Engine Analysis ©2022 Dieter Chvatal"
   ]
  },
  {
   "cell_type": "code",
   "execution_count": 2,
   "metadata": {},
   "outputs": [
    {
     "data": {
      "application/vnd.jupyter.widget-view+json": {
       "model_id": "9c97ce196faa4b5cbb0590bb326ec451",
       "version_major": 2,
       "version_minor": 0
      },
      "text/plain": [
       "VBox(children=(Tab(children=(VBox(children=(Accordion(children=(HBox(children=(Button(description='Load', styl…"
      ]
     },
     "metadata": {},
     "output_type": "display_data"
    }
   ],
   "source": [
    "#########################################\n",
    "# tabs\n",
    "#########################################\n",
    "class App():\n",
    "    def __init__(self):\n",
    "        \n",
    "        self.tab_objects_list = [\n",
    "            tab1.Tab(),\n",
    "            tab2.Tab(),\n",
    "            tab3.Tab(),\n",
    "            tab4.Tab(),\n",
    "            tab5.Tab(),\n",
    "            tab6.Tab(),\n",
    "            #tab7.Tab()\n",
    "        ]\n",
    "\n",
    "        self.tabs = widgets.Tab()\n",
    "        self.tabs.observe(self.tabs_change_index, 'selected_index')\n",
    "\n",
    "        self.set_children()\n",
    "        self.set_titles()\n",
    "\n",
    "        self.tab_objects_list[0].selected() # preselect the first tab.\n",
    "\n",
    "    def show(self):\n",
    "        display(\n",
    "            widgets.VBox([\n",
    "                self.tabs,\n",
    "                tabs_out,\n",
    "                tabs_html])\n",
    "            );\n",
    "\n",
    "    def set_children(self):\n",
    "        self.tabs.children = [t.tab for t in self.tab_objects_list]\n",
    "\n",
    "    def set_titles(self):\n",
    "        for i,t in enumerate(self.tab_objects_list):\n",
    "            self.tabs.set_title(i,t.title)\n",
    "\n",
    "    def tabs_change_index(self, *args):  # the tabs callback\n",
    "        self.tab_objects_list[self.tabs.selected_index].selected()\n",
    "\n",
    "\n",
    "app = App()\n",
    "app.show()"
   ]
  },
  {
   "cell_type": "code",
   "execution_count": 21,
   "metadata": {},
   "outputs": [],
   "source": [
    "if V.fsm is not None:\n",
    "    rda = V.fsm.starts.reset_index(drop='index')"
   ]
  },
  {
   "cell_type": "code",
   "execution_count": null,
   "metadata": {},
   "outputs": [],
   "source": []
  }
 ],
 "metadata": {
  "hide_input": false,
  "kernelspec": {
   "display_name": "Python 3 (ipykernel)",
   "language": "python",
   "name": "python3"
  },
  "language_info": {
   "codemirror_mode": {
    "name": "ipython",
    "version": 3
   },
   "file_extension": ".py",
   "mimetype": "text/x-python",
   "name": "python",
   "nbconvert_exporter": "python",
   "pygments_lexer": "ipython3",
   "version": "3.10.9"
  },
  "varInspector": {
   "cols": {
    "lenName": 16,
    "lenType": 16,
    "lenVar": 40
   },
   "kernels_config": {
    "python": {
     "delete_cmd_postfix": "",
     "delete_cmd_prefix": "del ",
     "library": "var_list.py",
     "varRefreshCmd": "print(var_dic_list())"
    },
    "r": {
     "delete_cmd_postfix": ") ",
     "delete_cmd_prefix": "rm(",
     "library": "var_list.r",
     "varRefreshCmd": "cat(var_dic_list()) "
    }
   },
   "types_to_exclude": [
    "module",
    "function",
    "builtin_function_or_method",
    "instance",
    "_Feature"
   ],
   "window_display": false
  },
  "vscode": {
   "interpreter": {
    "hash": "2c491490fcbaa267d3b03bb82b8635fcb6cd691296654efb858c62ecf0590403"
   }
  }
 },
 "nbformat": 4,
 "nbformat_minor": 4
}
