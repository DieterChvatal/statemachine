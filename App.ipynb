{
 "cells": [
  {
   "cell_type": "code",
   "execution_count": 1,
   "metadata": {},
   "outputs": [],
   "source": [
    "import os\n",
    "if os.name != 'nt' :\n",
    "    import resource\n",
    "import pandas as pd\n",
    "import ipywidgets as widgets\n",
    "from IPython.display import display\n",
    "from App.common import V, init_globals, loading_bar, myfigures, get_query_list, mp, tabs_out, tabs_html\n",
    "from App import tab1, tab2, tab3, tab4, tab5, tab6\n",
    "import dmyplant2\n",
    "from dmyplant2 import cred, MyPlant, Engine, cplotdef, get_size\n",
    "\n",
    "logfilename = 'FSM.log'\n",
    "import logging\n",
    "\n",
    "logging.basicConfig(\n",
    "    filename=logfilename,\n",
    "    filemode='w',\n",
    "    format='%(levelname)s %(message)s',\n",
    "    #level=logging.INFO\n",
    "    level=logging.ERROR\n",
    ")\n",
    "logging.info(\"FSM looging Start\")"
   ]
  },
  {
   "cell_type": "markdown",
   "metadata": {},
   "source": [
    "### Statemachine Engine Analysis ©2022 Dieter Chvatal"
   ]
  },
  {
   "cell_type": "code",
   "execution_count": 2,
   "metadata": {},
   "outputs": [
    {
     "data": {
      "application/vnd.jupyter.widget-view+json": {
       "model_id": "8ff77c42918a48768c13c62bde08d805",
       "version_major": 2,
       "version_minor": 0
      },
      "text/plain": [
       "VBox(children=(Tab(children=(VBox(children=(Accordion(children=(HBox(children=(Button(description='Load', styl…"
      ]
     },
     "metadata": {},
     "output_type": "display_data"
    }
   ],
   "source": [
    "#########################################\n",
    "# tabs\n",
    "#########################################\n",
    "tabs = widgets.Tab()\n",
    "t_tab2 = tab2.Tab2()\n",
    "\n",
    "tabs.children = [tab1._tab, t_tab2.tab, tab3._tab, tab4._tab, tab5._tab, tab6._tab]\n",
    "tabs.set_title(0,'1. select Engine')\n",
    "tabs.set_title(1,'2. messages & FSM')\n",
    "tabs.set_title(2,'3. Filter Results')\n",
    "tabs.set_title(3,'4. Start Plots')\n",
    "tabs.set_title(4,'5. settings')\n",
    "tabs.set_title(5,'Playground')\n",
    "\n",
    "#@tabs_out.capture(clear_output=False)\n",
    "def tabs_change_index(*args):\n",
    "    if tabs.selected_index == 0:\n",
    "        tab1.selected()\n",
    "    elif tabs.selected_index == 1:\n",
    "        t_tab2.selected()\n",
    "    elif tabs.selected_index == 2:\n",
    "        tab3.selected()\n",
    "    elif tabs.selected_index == 3:\n",
    "        tab4.selected()\n",
    "    elif tabs.selected_index == 4:\n",
    "        tab5.selected()\n",
    "    elif tabs.selected_index == 5:\n",
    "        tab6.selected()\n",
    "      \n",
    "tab1.selected()\n",
    "tabs.observe(tabs_change_index, 'selected_index')\n",
    "\n",
    "display(widgets.VBox([tabs,tabs_out,tabs_html]));"
   ]
  },
  {
   "cell_type": "code",
   "execution_count": 3,
   "metadata": {},
   "outputs": [],
   "source": [
    "#hasattr(V.fsm, '_messages')"
   ]
  },
  {
   "cell_type": "code",
   "execution_count": 4,
   "metadata": {},
   "outputs": [],
   "source": [
    "#if V.fsm is not None:\n",
    "#    V.fsm.act_run, len(V.fsm.starts)"
   ]
  },
  {
   "cell_type": "code",
   "execution_count": 5,
   "metadata": {},
   "outputs": [],
   "source": [
    "from App import tab4\n",
    "if V.fsm is not None:\n",
    "    tab4.update_fig(tab4.sno.value, plotselection=tab4.plotselection.value,plot_range=tab4.time_range.value,fsm=V.fsm, VSC=True)"
   ]
  },
  {
   "cell_type": "code",
   "execution_count": 6,
   "metadata": {},
   "outputs": [
    {
     "name": "stdout",
     "output_type": "stream",
     "text": [
      "Script Memory Usage:   4.3 MB\n"
     ]
    }
   ],
   "source": [
    "from pprint import pprint as pp\n",
    "\n",
    "if os.name != 'nt':\n",
    "    memory = resource.getrusage(resource.RUSAGE_SELF)\n",
    "    print(f\"Script Memory Usage: {memory.ru_utime:5.1f} MB\")\n",
    "\n",
    "if V.fsm is not None:\n",
    "    print(\"\\nV.fsm:\")\n",
    "    print(\"------\")\n",
    "    print(f\"{'Size fsm in MB':>40}: {get_size(V.fsm) / (1024.0*1024.0):10.3f} MB\")\n",
    "    keys = list (V.fsm.__dict__.keys())\n",
    "    for k in keys:\n",
    "        print(f\"{k:>40}: {get_size(V.fsm.__dict__[k]) / (1024.0*1024.0):10.3f} MB\")\n",
    "\n",
    "    print(\"\\n_e:\")\n",
    "    print(\"--\")\n",
    "    print(f\"{'Size fsm._e in MB':>40}: {get_size(V.fsm._e) / (1024.0*1024.0):10.3f} MB\")\n",
    "    sshkeys = list (V.fsm._e.__dict__.keys())\n",
    "    for sshk in sshkeys:\n",
    "        print(f\"{sshk:>40}: {get_size(V.fsm._e.__dict__[sshk]) / (1024.0*1024.0):10.3f} MB\")    \n",
    "\n",
    "    print(\"\\nstartstopHandler:\")\n",
    "    print(\"-----------------\")\n",
    "    print(f\"{'Size fsm.startstopHandler in MB':>40}: {get_size(V.fsm.startstopHandler) / (1024.0*1024.0):10.3f} MB\")\n",
    "    sshkeys = list (V.fsm.startstopHandler.__dict__.keys())\n",
    "    for sshk in sshkeys:\n",
    "        print(f\"{sshk:>40}: {get_size(V.fsm.startstopHandler.__dict__[sshk]) / (1024.0*1024.0):10.3f} MB\")"
   ]
  },
  {
   "cell_type": "code",
   "execution_count": 7,
   "metadata": {},
   "outputs": [],
   "source": [
    "if V.fsm is not None:\n",
    "    print(\"\\nstartstopHandler._states:\")\n",
    "    print(\"-------------------------\")\n",
    "    print(f\"{'Size fsm.startstopHandler._states in MB':>40}: {get_size(V.fsm.startstopHandler._states) / (1024.0*1024.0):10.3f} MB\")\n",
    "    sshkeys = list (V.fsm.startstopHandler._states)\n",
    "    for sshk in sshkeys:\n",
    "        print(f\"{sshk:>40}: {get_size(V.fsm.startstopHandler._states[sshk]) / (1024.0*1024.0):10.3f} MB\")"
   ]
  },
  {
   "cell_type": "code",
   "execution_count": 8,
   "metadata": {},
   "outputs": [],
   "source": [
    "#V.fsm.save_results('test.dfsm')"
   ]
  },
  {
   "cell_type": "code",
   "execution_count": 9,
   "metadata": {},
   "outputs": [],
   "source": [
    "#V.fsm._messages"
   ]
  },
  {
   "cell_type": "code",
   "execution_count": 10,
   "metadata": {},
   "outputs": [],
   "source": [
    "#pd.DataFrame(V.fsm.message_queue[935:937])"
   ]
  },
  {
   "cell_type": "code",
   "execution_count": 11,
   "metadata": {},
   "outputs": [],
   "source": [
    "#d = V.fsm.message_queue[936:937][0]\n",
    "#d"
   ]
  },
  {
   "cell_type": "code",
   "execution_count": 12,
   "metadata": {},
   "outputs": [],
   "source": [
    "#pd.DataFrame([d])"
   ]
  },
  {
   "cell_type": "code",
   "execution_count": 13,
   "metadata": {},
   "outputs": [],
   "source": [
    "#V.fsm.message_queue[935]"
   ]
  },
  {
   "cell_type": "code",
   "execution_count": 14,
   "metadata": {},
   "outputs": [],
   "source": [
    "#d=V.fsm.message_queue[936]\n",
    "#d['assetId'] = 114517\n",
    "#d"
   ]
  },
  {
   "cell_type": "code",
   "execution_count": 15,
   "metadata": {},
   "outputs": [],
   "source": [
    "#pd.DataFrame(d, index=[0], dtype=object).T"
   ]
  },
  {
   "cell_type": "code",
   "execution_count": 16,
   "metadata": {},
   "outputs": [],
   "source": [
    "if V.fsm is not None:\n",
    "    V.fsm._e._calc_BMEP(4881.0, 1500.0)"
   ]
  }
 ],
 "metadata": {
  "hide_input": false,
  "kernelspec": {
   "display_name": "Python 3 (ipykernel)",
   "language": "python",
   "name": "python3"
  },
  "language_info": {
   "codemirror_mode": {
    "name": "ipython",
    "version": 3
   },
   "file_extension": ".py",
   "mimetype": "text/x-python",
   "name": "python",
   "nbconvert_exporter": "python",
   "pygments_lexer": "ipython3",
   "version": "3.9.7"
  },
  "varInspector": {
   "cols": {
    "lenName": 16,
    "lenType": 16,
    "lenVar": 40
   },
   "kernels_config": {
    "python": {
     "delete_cmd_postfix": "",
     "delete_cmd_prefix": "del ",
     "library": "var_list.py",
     "varRefreshCmd": "print(var_dic_list())"
    },
    "r": {
     "delete_cmd_postfix": ") ",
     "delete_cmd_prefix": "rm(",
     "library": "var_list.r",
     "varRefreshCmd": "cat(var_dic_list()) "
    }
   },
   "types_to_exclude": [
    "module",
    "function",
    "builtin_function_or_method",
    "instance",
    "_Feature"
   ],
   "window_display": false
  }
 },
 "nbformat": 4,
 "nbformat_minor": 4
}
