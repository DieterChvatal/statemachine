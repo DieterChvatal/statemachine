{
 "cells": [
  {
   "cell_type": "code",
   "execution_count": 1,
   "metadata": {},
   "outputs": [
    {
     "ename": "ImportError",
     "evalue": "cannot import name 'm' from 'App.common' (/Users/dieterchvatal/prog/python3/statemachine/App/common.py)",
     "output_type": "error",
     "traceback": [
      "\u001b[0;31m---------------------------------------------------------------------------\u001b[0m",
      "\u001b[0;31mImportError\u001b[0m                               Traceback (most recent call last)",
      "Input \u001b[0;32mIn [1]\u001b[0m, in \u001b[0;36m<cell line: 8>\u001b[0;34m()\u001b[0m\n\u001b[1;32m      6\u001b[0m \u001b[38;5;28;01mfrom\u001b[39;00m \u001b[38;5;21;01mIPython\u001b[39;00m\u001b[38;5;21;01m.\u001b[39;00m\u001b[38;5;21;01mdisplay\u001b[39;00m \u001b[38;5;28;01mimport\u001b[39;00m display\n\u001b[1;32m      7\u001b[0m \u001b[38;5;28;01mfrom\u001b[39;00m \u001b[38;5;21;01mApp\u001b[39;00m\u001b[38;5;21;01m.\u001b[39;00m\u001b[38;5;21;01mcommon\u001b[39;00m \u001b[38;5;28;01mimport\u001b[39;00m V, init_globals, loading_bar, myfigures, get_query_list, mp, tabs_out\n\u001b[0;32m----> 8\u001b[0m \u001b[38;5;28;01mfrom\u001b[39;00m \u001b[38;5;21;01mApp\u001b[39;00m \u001b[38;5;28;01mimport\u001b[39;00m tab1, tab2, tab3, tab4, tab5, tab6\n\u001b[1;32m      9\u001b[0m \u001b[38;5;28;01mimport\u001b[39;00m \u001b[38;5;21;01mdmyplant2\u001b[39;00m\n\u001b[1;32m     10\u001b[0m \u001b[38;5;28;01mfrom\u001b[39;00m \u001b[38;5;21;01mdmyplant2\u001b[39;00m \u001b[38;5;28;01mimport\u001b[39;00m cred, MyPlant, Engine, cplotdef, get_size\n",
      "File \u001b[0;32m~/prog/python3/statemachine/App/tab2.py:11\u001b[0m, in \u001b[0;36m<module>\u001b[0;34m\u001b[0m\n\u001b[1;32m      9\u001b[0m \u001b[38;5;28;01mfrom\u001b[39;00m \u001b[38;5;21;01mdmyplant2\u001b[39;00m \u001b[38;5;28;01mimport\u001b[39;00m cred, MyPlant, Engine, FSMOperator, get_size\n\u001b[1;32m     10\u001b[0m \u001b[38;5;28;01mfrom\u001b[39;00m \u001b[38;5;21;01mApp\u001b[39;00m \u001b[38;5;28;01mimport\u001b[39;00m tab1\n\u001b[0;32m---> 11\u001b[0m \u001b[38;5;28;01mfrom\u001b[39;00m \u001b[38;5;21;01mApp\u001b[39;00m\u001b[38;5;21;01m.\u001b[39;00m\u001b[38;5;21;01mcommon\u001b[39;00m \u001b[38;5;28;01mimport\u001b[39;00m loading_bar, V, m, tabs_out\n\u001b[1;32m     13\u001b[0m \u001b[38;5;66;03m#########################################\u001b[39;00m\n\u001b[1;32m     14\u001b[0m \u001b[38;5;66;03m# tab2\u001b[39;00m\n\u001b[1;32m     15\u001b[0m \u001b[38;5;66;03m#########################################\u001b[39;00m\n\u001b[1;32m     16\u001b[0m tab2_out \u001b[38;5;241m=\u001b[39m widgets\u001b[38;5;241m.\u001b[39mOutput()\n",
      "\u001b[0;31mImportError\u001b[0m: cannot import name 'm' from 'App.common' (/Users/dieterchvatal/prog/python3/statemachine/App/common.py)"
     ]
    }
   ],
   "source": [
    "import os\n",
    "if os.name != 'nt' :\n",
    "    import resource\n",
    "import pandas as pd\n",
    "import ipywidgets as widgets\n",
    "from IPython.display import display\n",
    "from App.common import V, init_globals, loading_bar, myfigures, get_query_list, mp, tabs_out\n",
    "from App import tab1, tab2, tab3, tab4, tab5, tab6\n",
    "import dmyplant2\n",
    "from dmyplant2 import cred, MyPlant, Engine, cplotdef, get_size\n",
    "\n",
    "logfilename = 'FSM.log'\n",
    "import logging\n",
    "\n",
    "logging.basicConfig(\n",
    "    filename=logfilename,\n",
    "    filemode='w',\n",
    "    format='%(levelname)s %(message)s',\n",
    "    #level=logging.INFO\n",
    "    level=logging.ERROR\n",
    ")\n",
    "logging.info(\"FSM looging Start\")"
   ]
  },
  {
   "cell_type": "markdown",
   "metadata": {},
   "source": [
    "### Statemachine Engine Analysis ©2022 Dieter Chvatal"
   ]
  },
  {
   "cell_type": "code",
   "execution_count": null,
   "metadata": {},
   "outputs": [],
   "source": [
    "#########################################\n",
    "# tabs\n",
    "#########################################\n",
    "tabs = widgets.Tab()\n",
    "tabs.children = [tab1._tab, tab2._tab, tab3._tab, tab4._tab, tab5._tab, tab6._tab]\n",
    "tabs.set_title(0,'1. select Engine')\n",
    "tabs.set_title(1,'2. messages & FSM')\n",
    "tabs.set_title(2,'3. Filter Results')\n",
    "tabs.set_title(3,'4. Start Plots')\n",
    "tabs.set_title(4,'5. settings')\n",
    "tabs.set_title(5,'Playground')\n",
    "\n",
    "#@tabs_out.capture(clear_output=False)\n",
    "def tabs_cb(*args):\n",
    "    #if tabs.selected_index >= 4:\n",
    "    #    return\n",
    "    if tabs.selected_index == 0:\n",
    "        tab1.selected()\n",
    "    elif tabs.selected_index == 1:\n",
    "        tab2.selected()\n",
    "    elif tabs.selected_index == 2:\n",
    "        tab3.selected()\n",
    "    elif tabs.selected_index == 3:\n",
    "        tab4.selected()\n",
    "    elif tabs.selected_index == 4:\n",
    "        tab5.selected()\n",
    "    elif tabs.selected_index == 5:\n",
    "        tab6.selected()\n",
    "    \n",
    "    \n",
    "    \n",
    "'''    \n",
    "    if tabs.selected_index > 0:\n",
    "        if tab1.selno.value == '-':\n",
    "            with tab1.tab1_out:\n",
    "                tab1.tab1_out.clear_output()\n",
    "                print()\n",
    "                print('Please select an Engine first.')\n",
    "            tabs.selected_index = 0\n",
    "    elif tabs.selected_index == 1:\n",
    "            if V.e is None:\n",
    "                with tab2.tab2_out:\n",
    "                    #tab2.tab2_out.clear_output()\n",
    "                    print()\n",
    "                    print('Please Wait ...')\n",
    "                    display(loading_bar)\n",
    "                    print('contacting MyPlant ...')\n",
    "                    V.e=Engine.from_fleet(mp, V.fleet.iloc[int(tab1.selno.value)])\n",
    "                    logging.info(f\"{V.e}\")\n",
    "                    tab2.tab2_out.clear_output()\n",
    "            V.lfigures = myfigures(V.e)\n",
    "            V.plotdef, V.vset = cplotdef(mp, V.lfigures)\n",
    "            tab2.el.value = tab1.selected_engine.value\n",
    "            tab2.t1.value = pd.to_datetime(V.e['Commissioning Date'])\n",
    "            #tab2.tab2_out.clear_output()\n",
    "\n",
    "        if tab1.selno.value != '-' and ((V.fsm is None) or (len(V.fsm.starts) == 0)):\n",
    "            with tab2.tab2_out:\n",
    "                #tab2.tab2_out.clear_output()\n",
    "                print()\n",
    "                print('Please load messages.')\n",
    "            tabs.selected_index = 1\n",
    "        if V.fsm is not None: \n",
    "            rdf = V.fsm.starts\n",
    "            if not rdf.empty:\n",
    "                if tab4.sno_slider.max < len(rdf):\n",
    "                    tab4.sno_slider.max = rdf.shape[0]-1\n",
    "\n",
    "with tab1.tab1_out:\n",
    "    tab1.tab1_out.clear_output()\n",
    "    print()\n",
    "    print('Please Lookup:')\n",
    "    print(' - Site Name')\n",
    "    print(' - Engine Type')\n",
    "    print(' - Engine Version')\n",
    "    print(' - Design Number')\n",
    "    print(' - serialNumber')\n",
    "    print(' - assetNumber')\n",
    "'''    \n",
    "tab1.selected()\n",
    "tabs.observe(tabs_cb, 'selected_index')\n",
    "display(widgets.VBox([tabs,tabs_out]));"
   ]
  },
  {
   "cell_type": "code",
   "execution_count": null,
   "metadata": {},
   "outputs": [],
   "source": [
    "from App import tab4\n",
    "if V.fsm is not None:\n",
    "    tab4.update_fig(tab4.sno.value, plotselection=tab4.plotselection.value,plot_range=tab4.time_range.value,fsm=V.fsm, VSC=True)"
   ]
  },
  {
   "cell_type": "code",
   "execution_count": null,
   "metadata": {},
   "outputs": [],
   "source": [
    "from pprint import pprint as pp\n",
    "\n",
    "if os.name != 'nt':\n",
    "    memory = resource.getrusage(resource.RUSAGE_SELF)\n",
    "    print(f\"Script Memory Usage: {memory.ru_utime:5.1f} MB\")\n",
    "\n",
    "if V.fsm is not None:\n",
    "    print(\"\\nV.fsm:\")\n",
    "    print(\"------\")\n",
    "    print(f\"{'Size fsm in MB':>40}: {get_size(V.fsm) / (1024.0*1024.0):10.3f} MB\")\n",
    "    keys = list (V.fsm.__dict__.keys())\n",
    "    for k in keys:\n",
    "        print(f\"{k:>40}: {get_size(V.fsm.__dict__[k]) / (1024.0*1024.0):10.3f} MB\")\n",
    "\n",
    "    print(\"\\n_e:\")\n",
    "    print(\"--\")\n",
    "    print(f\"{'Size fsm._e in MB':>40}: {get_size(V.fsm._e) / (1024.0*1024.0):10.3f} MB\")\n",
    "    sshkeys = list (V.fsm._e.__dict__.keys())\n",
    "    for sshk in sshkeys:\n",
    "        print(f\"{sshk:>40}: {get_size(V.fsm._e.__dict__[sshk]) / (1024.0*1024.0):10.3f} MB\")    \n",
    "\n",
    "    print(\"\\nstartstopHandler:\")\n",
    "    print(\"-----------------\")\n",
    "    print(f\"{'Size fsm.startstopHandler in MB':>40}: {get_size(V.fsm.startstopHandler) / (1024.0*1024.0):10.3f} MB\")\n",
    "    sshkeys = list (V.fsm.startstopHandler.__dict__.keys())\n",
    "    for sshk in sshkeys:\n",
    "        print(f\"{sshk:>40}: {get_size(V.fsm.startstopHandler.__dict__[sshk]) / (1024.0*1024.0):10.3f} MB\")"
   ]
  },
  {
   "cell_type": "code",
   "execution_count": null,
   "metadata": {},
   "outputs": [],
   "source": [
    "if V.fsm is not None:\n",
    "    print(\"\\nstartstopHandler._states:\")\n",
    "    print(\"-------------------------\")\n",
    "    print(f\"{'Size fsm.startstopHandler._states in MB':>40}: {get_size(V.fsm.startstopHandler._states) / (1024.0*1024.0):10.3f} MB\")\n",
    "    sshkeys = list (V.fsm.startstopHandler._states)\n",
    "    for sshk in sshkeys:\n",
    "        print(f\"{sshk:>40}: {get_size(V.fsm.startstopHandler._states[sshk]) / (1024.0*1024.0):10.3f} MB\")"
   ]
  },
  {
   "cell_type": "code",
   "execution_count": null,
   "metadata": {},
   "outputs": [],
   "source": [
    "#V.fsm.save_results('test.dfsm')"
   ]
  },
  {
   "cell_type": "code",
   "execution_count": null,
   "metadata": {},
   "outputs": [],
   "source": [
    "#V.fsm._messages"
   ]
  },
  {
   "cell_type": "code",
   "execution_count": null,
   "metadata": {},
   "outputs": [],
   "source": [
    "#pd.DataFrame(V.fsm.message_queue[935:937])"
   ]
  },
  {
   "cell_type": "code",
   "execution_count": null,
   "metadata": {},
   "outputs": [],
   "source": [
    "#d = V.fsm.message_queue[936:937][0]\n",
    "#d"
   ]
  },
  {
   "cell_type": "code",
   "execution_count": null,
   "metadata": {},
   "outputs": [],
   "source": [
    "#pd.DataFrame([d])"
   ]
  },
  {
   "cell_type": "code",
   "execution_count": null,
   "metadata": {},
   "outputs": [],
   "source": [
    "#V.fsm.message_queue[935]"
   ]
  },
  {
   "cell_type": "code",
   "execution_count": null,
   "metadata": {},
   "outputs": [],
   "source": [
    "#d=V.fsm.message_queue[936]\n",
    "#d['assetId'] = 114517\n",
    "#d"
   ]
  },
  {
   "cell_type": "code",
   "execution_count": null,
   "metadata": {},
   "outputs": [],
   "source": [
    "#pd.DataFrame(d, index=[0], dtype=object).T"
   ]
  },
  {
   "cell_type": "code",
   "execution_count": null,
   "metadata": {},
   "outputs": [],
   "source": [
    "if V.fsm is not None:\n",
    "    V.fsm._e._calc_BMEP(4881.0, 1500.0)"
   ]
  }
 ],
 "metadata": {
  "hide_input": false,
  "kernelspec": {
   "display_name": "Python 3 (ipykernel)",
   "language": "python",
   "name": "python3"
  },
  "language_info": {
   "codemirror_mode": {
    "name": "ipython",
    "version": 3
   },
   "file_extension": ".py",
   "mimetype": "text/x-python",
   "name": "python",
   "nbconvert_exporter": "python",
   "pygments_lexer": "ipython3",
   "version": "3.9.7"
  },
  "varInspector": {
   "cols": {
    "lenName": 16,
    "lenType": 16,
    "lenVar": 40
   },
   "kernels_config": {
    "python": {
     "delete_cmd_postfix": "",
     "delete_cmd_prefix": "del ",
     "library": "var_list.py",
     "varRefreshCmd": "print(var_dic_list())"
    },
    "r": {
     "delete_cmd_postfix": ") ",
     "delete_cmd_prefix": "rm(",
     "library": "var_list.r",
     "varRefreshCmd": "cat(var_dic_list()) "
    }
   },
   "types_to_exclude": [
    "module",
    "function",
    "builtin_function_or_method",
    "instance",
    "_Feature"
   ],
   "window_display": false
  }
 },
 "nbformat": 4,
 "nbformat_minor": 4
}
