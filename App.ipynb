{
 "cells": [
  {
   "cell_type": "code",
   "execution_count": 1,
   "metadata": {},
   "outputs": [],
   "source": [
    "import os\n",
    "if os.name != 'nt' :\n",
    "    import resource\n",
    "import pandas as pd\n",
    "import ipywidgets as widgets\n",
    "from IPython.display import display\n",
    "from App.common import V, init_globals, loading_bar, myfigures, get_query_list, mp, tabs_out, tabs_html\n",
    "from App import tab1, tab2, tab3, tab4, tab5, tab6\n",
    "import dmyplant2\n",
    "from dmyplant2 import cred, MyPlant, Engine, cplotdef, get_size\n",
    "import logging\n",
    "import shutil\n",
    "\n",
    "logfilename = 'FSM.log'\n",
    "if os.path.exists(logfilename):\n",
    "    shutil.copyfile(logfilename,logfilename[:-4] + '_bak.log')\n",
    "\n",
    "logging.basicConfig(\n",
    "    filename=logfilename,\n",
    "    filemode='w',\n",
    "    format='%(levelname)s %(message)s',\n",
    "    level=logging.DEBUG\n",
    ")\n",
    "logging.info(\"FSM looging Start\")"
   ]
  },
  {
   "cell_type": "markdown",
   "metadata": {},
   "source": [
    "### Statemachine Engine Analysis ©2022 Dieter Chvatal"
   ]
  },
  {
   "cell_type": "code",
   "execution_count": 2,
   "metadata": {},
   "outputs": [
    {
     "data": {
      "application/vnd.jupyter.widget-view+json": {
       "model_id": "1bd662948fa9450c82dda7b5ed891669",
       "version_major": 2,
       "version_minor": 0
      },
      "text/plain": [
       "VBox(children=(Tab(children=(VBox(children=(Accordion(children=(HBox(children=(Button(description='Load', styl…"
      ]
     },
     "metadata": {},
     "output_type": "display_data"
    }
   ],
   "source": [
    "#########################################\n",
    "# tabs\n",
    "#########################################\n",
    "class App():\n",
    "    def __init__(self):\n",
    "        \n",
    "        self.tab_objects_list = [\n",
    "            tab1.Tab(),\n",
    "            tab2.Tab(),\n",
    "            tab3.Tab(),\n",
    "            tab4.Tab(),\n",
    "            tab5.Tab(),\n",
    "            tab6.Tab()\n",
    "        ]\n",
    "\n",
    "        self.tabs = widgets.Tab()\n",
    "        self.tabs.observe(self.tabs_change_index, 'selected_index')\n",
    "\n",
    "        self.set_children()\n",
    "        self.set_titles()\n",
    "\n",
    "        self.tab_objects_list[0].selected() # preselect the first tab.\n",
    "\n",
    "    def show(self):\n",
    "        display(\n",
    "            widgets.VBox([\n",
    "                self.tabs,\n",
    "                tabs_out,\n",
    "                tabs_html])\n",
    "            );\n",
    "\n",
    "    def set_children(self):\n",
    "        self.tabs.children = [t.tab for t in self.tab_objects_list]\n",
    "\n",
    "    def set_titles(self):\n",
    "        for i,t in enumerate(self.tab_objects_list):\n",
    "            self.tabs.set_title(i,t.title)\n",
    "\n",
    "    def tabs_change_index(self, *args):  # the tabs callback\n",
    "        self.tab_objects_list[self.tabs.selected_index].selected()\n",
    "\n",
    "\n",
    "app = App()\n",
    "app.show()"
   ]
  },
  {
   "cell_type": "code",
   "execution_count": 3,
   "metadata": {},
   "outputs": [],
   "source": [
    "if V.fsm:\n",
    "    pp(V.fsm.results['run2_content'])"
   ]
  },
  {
   "cell_type": "code",
   "execution_count": 4,
   "metadata": {},
   "outputs": [],
   "source": [
    "if V.fsm:\n",
    "    df = V.fsm.starts[['alarms','warnings','A','W']]\n",
    "    dfw = df[df['W']>1]\n",
    "    [w['msg']['name'] for warnings in  df['warnings'] for w in warnings]"
   ]
  },
  {
   "cell_type": "code",
   "execution_count": 5,
   "metadata": {},
   "outputs": [],
   "source": [
    "if V.fsm:\n",
    "    [w['msg']['name'] == '2688' for warnings in  df['warnings'] for w in warnings]"
   ]
  },
  {
   "cell_type": "code",
   "execution_count": 6,
   "metadata": {},
   "outputs": [],
   "source": [
    "if V.fsm:\n",
    "    [w['msg']['name'] == '1105' for alarms in  df['alarms'] for w in alarms]"
   ]
  },
  {
   "cell_type": "code",
   "execution_count": 7,
   "metadata": {},
   "outputs": [],
   "source": [
    "#hasattr(V.fsm, '_messages')"
   ]
  },
  {
   "cell_type": "code",
   "execution_count": 8,
   "metadata": {},
   "outputs": [],
   "source": [
    "#if V.fsm is not None:\n",
    "#    V.fsm.act_run, len(V.fsm.starts)"
   ]
  },
  {
   "cell_type": "code",
   "execution_count": 9,
   "metadata": {},
   "outputs": [],
   "source": [
    "# from App import tab4\n",
    "# if V.fsm is not None:\n",
    "#     tab4.update_fig(tab4.sno.value, plotselection=tab4.plotselection.value,plot_range=tab4.time_range.value,fsm=V.fsm, VSC=True)"
   ]
  },
  {
   "cell_type": "code",
   "execution_count": 10,
   "metadata": {},
   "outputs": [],
   "source": [
    "from pprint import pprint as pp\n",
    "\n",
    "if os.name != 'nt':\n",
    "    pass\n",
    "    #memory = resource.getrusage(resource.RUSAGE_SELF)\n",
    "    #print(f\"Script Memory Usage: {memory.ru_utime:5.1f} MB\")\n",
    "\n",
    "if V.fsm is not None:\n",
    "    print(\"\\nV.fsm:\")\n",
    "    print(\"------\")\n",
    "    print(f\"{'Size fsm in MB':>40}: {get_size(V.fsm) / (1024.0*1024.0):10.3f} MB\")\n",
    "    keys = list (V.fsm.__dict__.keys())\n",
    "    for k in keys:\n",
    "        print(f\"{k:>40}: {get_size(V.fsm.__dict__[k]) / (1024.0*1024.0):10.3f} MB\")\n",
    "\n",
    "    print(\"\\n_e:\")\n",
    "    print(\"--\")\n",
    "    print(f\"{'Size fsm._e in MB':>40}: {get_size(V.fsm._e) / (1024.0*1024.0):10.3f} MB\")\n",
    "    sshkeys = list (V.fsm._e.__dict__.keys())\n",
    "    for sshk in sshkeys:\n",
    "        print(f\"{sshk:>40}: {get_size(V.fsm._e.__dict__[sshk]) / (1024.0*1024.0):10.3f} MB\")    \n",
    "\n",
    "    print(\"\\nstartstopHandler:\")\n",
    "    print(\"-----------------\")\n",
    "    print(f\"{'Size fsm.startstopHandler in MB':>40}: {get_size(V.fsm.startstopHandler) / (1024.0*1024.0):10.3f} MB\")\n",
    "    sshkeys = list (V.fsm.startstopHandler.__dict__.keys())\n",
    "    for sshk in sshkeys:\n",
    "        print(f\"{sshk:>40}: {get_size(V.fsm.startstopHandler.__dict__[sshk]) / (1024.0*1024.0):10.3f} MB\")"
   ]
  },
  {
   "cell_type": "code",
   "execution_count": 11,
   "metadata": {},
   "outputs": [],
   "source": [
    "if V.fsm is not None:\n",
    "    print(\"\\nstartstopHandler._states:\")\n",
    "    print(\"-------------------------\")\n",
    "    print(f\"{'Size fsm.startstopHandler._states in MB':>40}: {get_size(V.fsm.startstopHandler._states) / (1024.0*1024.0):10.3f} MB\")\n",
    "    sshkeys = list (V.fsm.startstopHandler._states)\n",
    "    for sshk in sshkeys:\n",
    "        print(f\"{sshk:>40}: {get_size(V.fsm.startstopHandler._states[sshk]) / (1024.0*1024.0):10.3f} MB\")"
   ]
  },
  {
   "cell_type": "code",
   "execution_count": 12,
   "metadata": {},
   "outputs": [],
   "source": [
    "#V.fsm.save_results('test.dfsm')"
   ]
  },
  {
   "cell_type": "code",
   "execution_count": 13,
   "metadata": {},
   "outputs": [],
   "source": [
    "#V.fsm._messages"
   ]
  },
  {
   "cell_type": "code",
   "execution_count": 14,
   "metadata": {},
   "outputs": [],
   "source": [
    "#pd.DataFrame(V.fsm.message_queue[935:937])"
   ]
  },
  {
   "cell_type": "code",
   "execution_count": 15,
   "metadata": {},
   "outputs": [],
   "source": [
    "#d = V.fsm.message_queue[936:937][0]\n",
    "#d"
   ]
  },
  {
   "cell_type": "code",
   "execution_count": 16,
   "metadata": {},
   "outputs": [],
   "source": [
    "#pd.DataFrame([d])"
   ]
  },
  {
   "cell_type": "code",
   "execution_count": 17,
   "metadata": {},
   "outputs": [],
   "source": [
    "#V.fsm.message_queue[935]"
   ]
  },
  {
   "cell_type": "code",
   "execution_count": 18,
   "metadata": {},
   "outputs": [],
   "source": [
    "#d=V.fsm.message_queue[936]\n",
    "#d['assetId'] = 114517\n",
    "#d"
   ]
  },
  {
   "cell_type": "code",
   "execution_count": 19,
   "metadata": {},
   "outputs": [],
   "source": [
    "#pd.DataFrame(d, index=[0], dtype=object).T"
   ]
  },
  {
   "cell_type": "code",
   "execution_count": 20,
   "metadata": {},
   "outputs": [],
   "source": [
    "if V.fsm is not None:\n",
    "    V.fsm._e._calc_BMEP(4881.0, 1500.0)"
   ]
  }
 ],
 "metadata": {
  "hide_input": false,
  "kernelspec": {
   "display_name": "Python 3 (ipykernel)",
   "language": "python",
   "name": "python3"
  },
  "language_info": {
   "codemirror_mode": {
    "name": "ipython",
    "version": 3
   },
   "file_extension": ".py",
   "mimetype": "text/x-python",
   "name": "python",
   "nbconvert_exporter": "python",
   "pygments_lexer": "ipython3",
   "version": "3.9.7"
  },
  "varInspector": {
   "cols": {
    "lenName": 16,
    "lenType": 16,
    "lenVar": 40
   },
   "kernels_config": {
    "python": {
     "delete_cmd_postfix": "",
     "delete_cmd_prefix": "del ",
     "library": "var_list.py",
     "varRefreshCmd": "print(var_dic_list())"
    },
    "r": {
     "delete_cmd_postfix": ") ",
     "delete_cmd_prefix": "rm(",
     "library": "var_list.r",
     "varRefreshCmd": "cat(var_dic_list()) "
    }
   },
   "types_to_exclude": [
    "module",
    "function",
    "builtin_function_or_method",
    "instance",
    "_Feature"
   ],
   "window_display": false
  }
 },
 "nbformat": 4,
 "nbformat_minor": 4
}
