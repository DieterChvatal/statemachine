{
 "cells": [
  {
   "cell_type": "code",
   "execution_count": null,
   "metadata": {
    "jupyter": {
     "source_hidden": true
    },
    "tags": []
   },
   "outputs": [],
   "source": [
    "import warnings # default warn => SettingWithCopyWarning\n",
    "warnings.simplefilter(action='ignore', category=UserWarning)\n",
    "import pandas as pd; pd.options.mode.chained_assignment = None\n",
    "import numpy as np\n",
    "from datetime import datetime, date\n",
    "import time\n",
    "import scipy.fftpack\n",
    "from scipy.signal import savgol_filter\n",
    "import matplotlib.pyplot as plt\n",
    "import arrow\n",
    "from pprint import pprint as pp\n",
    "#from tqdm import tqdm\n",
    "\n",
    "import dmyplant2\n",
    "from dmyplant2 import (\n",
    "    cred, MyPlant, Engine,\n",
    "    FSMOperator, filterFSM, FSM_splot, FSM_splotBC, FSM_VLine, FSM_add_Notations, FSM_add_Alarms, FSM_add_Warnings,\n",
    "    bokeh_show, dbokeh_chart, add_dbokeh_vlines, get_cycle_data2, disp_result, disp_alarms, disp_warnings,\n",
    "    cvset, cplotdef, equal_adjust, count_columns, load_data, get_cycle_data, get_cycle_data2, figures)\n",
    "\n",
    "import ipywidgets as widgets\n",
    "from ipywidgets import AppLayout, Button, Layout, VBox, HBox, Label, HTML, interact, interact_manual, interactive, IntSlider, Output\n",
    "from IPython.display import HTML, display\n",
    "display(HTML(\"<style>.container {width:94% !important;}</style>\"))\n",
    "\n",
    "from bokeh.io import push_notebook, show, output_notebook\n",
    "from bokeh.plotting import figure\n",
    "output_notebook()\n",
    "\n",
    "# login to myplant()\n",
    "cred()\n",
    "mp = MyPlant(3600)\n",
    "Engine._list_cached_validations();\n",
    "#mp._fetch_installed_base(); # refresh local installed fleet database"
   ]
  },
  {
   "cell_type": "code",
   "execution_count": null,
   "metadata": {},
   "outputs": [],
   "source": [
    "lookup = 'Forsa Hartmoor'\n",
    "motor_num = 2"
   ]
  },
  {
   "cell_type": "code",
   "execution_count": null,
   "metadata": {
    "jupyter": {
     "source_hidden": true
    },
    "tags": []
   },
   "outputs": [],
   "source": [
    "def sfun(x):\n",
    "    #return all([ (lookup in str(x['Design Number'])),  (x['OperationalCondition'] != 'Decommissioned') ])\n",
    "    return all([ (lookup in str(x['IB Site Name'])),  (x['OperationalCondition'] != 'Decommissioned') ])\n",
    "fleet = mp.search_installed_fleet(sfun).drop('index', axis=1)\n",
    "fleet = fleet.sort_values(by = \"Engine ID\",ascending=True).reset_index(drop='index')"
   ]
  },
  {
   "cell_type": "code",
   "execution_count": null,
   "metadata": {
    "jupyter": {
     "source_hidden": true
    },
    "tags": []
   },
   "outputs": [],
   "source": [
    "ddl = pd.DataFrame(fleet['serialNumber'] + ' - ' + fleet['IB Site Name'] + ' ' + fleet['Engine ID'])[0].to_list()\n",
    "ddl = [m for m in ddl]\n",
    "fleet.T;"
   ]
  },
  {
   "cell_type": "code",
   "execution_count": null,
   "metadata": {
    "jupyter": {
     "source_hidden": true
    },
    "tags": []
   },
   "outputs": [],
   "source": [
    "motor = fleet.iloc[motor_num]\n",
    "modes = ['undefined','OFF','MAN','AUTO']\n",
    "#success = [True,False]\n",
    "success = [True]\n",
    "e=Engine.from_fleet(mp,motor)\n",
    "pp_from=e['Commissioning Date']\n",
    "#pp_from='2022-03-28 06:00'\n",
    "#pp_to='2022-03-28 08:14'\n",
    "pp_to=datetime.now()\n",
    "motor['IB Site Name'] + ' ' + motor['Engine ID'], modes, success"
   ]
  },
  {
   "cell_type": "code",
   "execution_count": null,
   "metadata": {
    "jupyter": {
     "source_hidden": true
    },
    "tags": []
   },
   "outputs": [],
   "source": [
    "# Run State Machines\n",
    "fsm = FSMOperator(e, p_from=pp_from, p_to=pp_to)\n",
    "fsm.run0(enforce=True, silent=False, debug=False)\n",
    "fsm.run1(silent=False, successtime=300, debug=False) # run Finite State Machine\n",
    "fsm.run2(silent = False)"
   ]
  },
  {
   "cell_type": "code",
   "execution_count": null,
   "metadata": {
    "jupyter": {
     "source_hidden": true
    },
    "tags": []
   },
   "outputs": [],
   "source": [
    "rdf = fsm.starts\n",
    "rda = rdf[:].reset_index(drop='index')\n",
    "rda = rda[(rda['mode'].isin(modes) & rda['success'].isin(success))].reset_index(drop='index')\n",
    "rdb = rda\n",
    "#rda[filterFSM.run2filter_content].round(2)\n",
    "print(f\"Starts: {rdf.shape[0]}, Successful: {rdf[rdf['success'] == True].shape[0]}, Failed: {rdf[rdf['success'] == False].shape[0]} => {rdf[rdf['success'] == True].shape[0]/rdf.shape[0]*100.0:3.1f}%\")\n",
    "pd.DataFrame.from_dict(e.dash, orient='index').T"
   ]
  },
  {
   "cell_type": "code",
   "execution_count": null,
   "metadata": {
    "jupyter": {
     "source_hidden": true
    },
    "tags": []
   },
   "outputs": [],
   "source": [
    "#rde = rda[(rda.starttime > fsm._e['Commissioning Date']) & (rda['success']) & (rda.targetload > 2800.0)].copy()\n",
    "#rde = rda[(rda.starttime > fsm._e['Commissioning Date']) & (rda.count_alarms > 0)].copy()\n",
    "#rde = rda[(rda.starttime > fsm._e['Commissioning Date']) & (rda['success'])].copy()\n",
    "rde = rda\n",
    "rde['datetime'] = pd.to_datetime(rde['starttime'])\n",
    "rde['isuccess'] = rde.apply(lambda x: 1 if x['success'] else 0, axis=1)\n",
    "vec = ['startpreparation','speedup','idle','synchronize','loadramp','targetload','ramprate','cumstarttime','targetoperation','rampdown','coolrun','runout','isuccess']\n",
    "display(rde[vec].describe().round(2))\n",
    "dfigsize = (28,12)\n",
    "dset = [\n",
    "    {'col':['cumstarttime'],'_ylim':(-600,800), 'color':'darkblue'},\n",
    "    {'col':['runout'],'_ylim':(0,100) },\n",
    "    {'col':['targetload'],'_ylim':(-4000,26000) },\n",
    "    {'col':['ramprate'],'_ylim':(-5,7)},\n",
    "    {'col':['loadramp'],'_ylim':(-150,900), 'color':'red'},\n",
    "    {'col':['speedup'],'_ylim':(-100,200), 'color':'orange'},\n",
    "    {'col':['synchronize'],'_ylim':(-20,400)},\n",
    "    {'col':['startpreparation'],'_ylim':(-1000,800)},\n",
    "    {'col':['count_warnings','count_alarms','isuccess'],'_ylim':(-1,200), 'color':['rgba(255,165,0,0.3)','rgba(255,0,0,0.3)','rgba(0,128,0,0.2)'] },\n",
    "    {'col':['no'],'_ylim':(0,1000), 'color':['rgba(0,0,0,0.1)'] },\n",
    "    #{'col':['count_warnings','count_alarms','no'],'ylim':(-1,200), 'color':['rgba(255,165,0,0.3)','rgba(255,0,0,0.3)','rgba(0,0,0,0.1)'] }\n",
    "    ]\n",
    "dset = equal_adjust(dset, rde, do_not_adjust=[-1], debug=True)\n",
    "ftitle = f\"{fsm._e}\"\n",
    "fig = dbokeh_chart(rde, dset, style='both', figsize=dfigsize ,title=ftitle);\n",
    "bokeh_show(fig)"
   ]
  },
  {
   "cell_type": "code",
   "execution_count": null,
   "metadata": {
    "jupyter": {
     "source_hidden": true
    },
    "tags": []
   },
   "outputs": [],
   "source": [
    "out = widgets.Output()\n",
    "pfigsize=(18,10)\n",
    "\n",
    "def myfigures(e):\n",
    "    return {\n",
    "    'actors' : [\n",
    "        {'col':['Power_SetPower','Power_PowerAct'], 'ylim':(0,5000), 'color':['lightblue','red'], 'unit':'kW'},\n",
    "        {'col':['Various_Values_SpeedAct'],'ylim': [0, 2500], 'color':'blue', 'unit':'rpm'},\n",
    "        {'col':['Ignition_ITPAvg'],'ylim': [-10, 30], 'color':'rgba(255,0,255,0.4)', 'unit':'°KW'},\n",
    "        {'col':['TecJet_Lambda1'],'ylim': [0, 3], 'color':'rgba(255,165,0,0.4)', 'unit':'-'},\n",
    "        {'col':['TecJet_GasPress1'],'_ylim': [0, 3], 'color':'rgba(255,0,0,0.4)', 'unit':'mbar'},\n",
    "        {'col':['TecJet_GasTemp1'],'_ylim': [0, 3], 'color':'rgba(255,0,255,0.4)', 'unit':'°C'},\n",
    "        {'col':['TecJet_GasDiffPress'],'_ylim': [0, 3], 'color':'rgba(0,255,0,0.4)', 'unit':'mbar'},\n",
    "        {'col':['Various_Values_PosThrottle','Various_Values_PosTurboBypass'],'ylim': [-10, 110], 'color':['rgba(105,105,105,0.6)','rgba(165,42,42,0.4)'], 'unit':'%'},\n",
    "        ],\n",
    "        'tecjet' : [\n",
    "        {'col':['Power_SetPower','Power_PowerAct'], 'ylim':(0,5000), 'color':['lightblue','red'], 'unit':'kW'},\n",
    "        {'col':['Various_Values_SpeedAct'],'ylim': [0, 2500], 'color':'blue', 'unit':'rpm'},\n",
    "        {'col':['TecJet_Lambda1'],'ylim': [0, 3], 'color':'rgba(255,165,0,0.4)', 'unit':'-'},\n",
    "        {'col':['TecJet_GasPress1'],'_ylim': [0, 3], 'color':'rgba(255,0,0,0.4)', 'unit':'mbar'},\n",
    "        {'col':['TecJet_GasTemp1'],'_ylim': [0, 3], 'color':'rgba(255,0,255,0.4)', 'unit':'°C'},\n",
    "        {'col':['TecJet_GasDiffPress'],'_ylim': [0, 3], 'color':'rgba(0,255,0,0.4)', 'unit':'mbar'},\n",
    "        ],\n",
    "        'lubrication' : [\n",
    "        {'col':['Power_SetPower','Power_PowerAct'], 'ylim':(0,5000), 'color':['lightblue','red'], 'unit':'kW'},\n",
    "        {'col':['Various_Values_SpeedAct'],'ylim': [0, 2500], 'color':'blue', 'unit':'rpm'},\n",
    "        {'col':['Hyd_PressCrankCase'],'ylim': [-100, 100], 'color':'orange', 'unit':'mbar'},\n",
    "        {'col':['Hyd_PressOilDif'],'ylim': [0, 3], 'color':'black', 'unit': 'bar'},\n",
    "        {'col':['Hyd_PressOil'],'ylim': [0, 10], 'color':'brown', 'unit': 'bar'},\n",
    "        {'col':['Hyd_TempOil','Hyd_TempCoolWat','Hyd_TempWatRetCoolOut'],'ylim': [0, 110], 'color':['#2171b5','orangered','hotpink'], 'unit':'°C'},\n",
    "        ],\n",
    "        'exhaust' : [\n",
    "        {'col':['Power_SetPower','Power_PowerAct'], 'ylim':(0,5000), 'color':['lightblue','red'], 'unit':'kW'},\n",
    "        {'col':['Various_Values_SpeedAct'],'ylim': [0, 2500], 'color':'blue', 'unit':'rpm'},\n",
    "        {'col':['TecJet_Lambda1'],'ylim': [0, 3], 'color':'rgba(255,165,0,0.4)', 'unit':'-'},\n",
    "        {'col':e.dataItemsCyl('Exhaust_TempCyl*'),'ylim': [400, 700], 'unit':'°C'},\n",
    "        {'col':e.dataItemsCyl('Knock_Valve_Noise_Cyl*'),'ylim': [0, 12000], 'unit':'mV'},\n",
    "        ],\n",
    "        'ignition' : [\n",
    "        {'col':['Power_SetPower','Power_PowerAct'], 'ylim':(0,5000), 'color':['lightblue','red'], 'unit':'kW'},\n",
    "        {'col':['Various_Values_SpeedAct'],'ylim': [0, 2500], 'color':'blue', 'unit':'rpm'},\n",
    "        {'col':['TecJet_Lambda1'],'ylim': [0, 3], 'color':'rgba(255,165,0,0.4)', 'unit':'-'},\n",
    "        {'col':e.dataItemsCyl('Monic_VoltCyl*'),'ylim': [0, 100], 'unit':'kV'},\n",
    "        {'col':e.dataItemsCyl('Ignition_ITPCyl*'),'ylim': [0, 40], 'unit':'°KW'},\n",
    "        {'col':e.dataItemsCyl('Knock_KLS98_IntKnock_Cyl*'),'ylim': [-30, 60], 'unit':'%'},\n",
    "        ],    \n",
    "    }\n",
    "\n",
    "def update_fig(x=0):\n",
    "    global vv; \n",
    "    rdbs = rdb[rdb.no == x]\n",
    "    if not rdbs.empty:\n",
    "        startversuch = rdbs.iloc[0]\n",
    "        #startversuch = rdb.iloc[x]\n",
    "        vv = startversuch.no; \n",
    "        #ftitle = f\"{fsm._e} ----- Start {startversuch['no']} {startversuch['mode']} | {'SUCCESS' if startversuch['success'] else 'FAILED'} | {startversuch['starttime'].round('S')} CumStart: {startversuch['cumstarttime']:0.1f}\"\n",
    "        #display(HTML(ftitle));\n",
    "        disp_result(startversuch)\n",
    "\n",
    "        # PLotter\n",
    "        lfigures = myfigures(fsm._e)\n",
    "        plotdef, vset = cplotdef(mp, lfigures)\n",
    "        #dmaxlength = 1800\n",
    "        dmaxlength = None\n",
    "        dminlength = None\n",
    "        #startversuch = rdb.iloc[vv]\n",
    "        ftitle = f\"{fsm._e} ----- Start {startversuch['no']} {startversuch['mode']} | {'SUCCESS' if startversuch['success'] else 'FAILED'} | {startversuch['starttime'].round('S')}\"\n",
    "        data = get_cycle_data2(fsm, startversuch, max_length=dmaxlength, min_length=dminlength, cycletime=1, silent=True, p_data=vset)\n",
    "        data['power_diff'] = pd.Series(np.gradient(data['Power_PowerAct']))\n",
    "        fig_handles = []\n",
    "        for doplot in plotdef:\n",
    "            dset = lfigures[doplot]\n",
    "            ltitle = f\"{ftitle} | {doplot}\"\n",
    "            if count_columns(dset) > 12: # no legend, if too many lines.\n",
    "                fig = FSM_splot(fsm, startversuch, data, dset, title=ltitle, legend=False, figsize=pfigsize)\n",
    "            else:\n",
    "                fig = FSM_splot(fsm, startversuch, data, dset, title=ltitle, figsize=pfigsize)\n",
    "\n",
    "            fig = FSM_add_Notations(fig, fsm, startversuch)\n",
    "            disp_alarms(startversuch)\n",
    "            disp_warnings(startversuch)\n",
    "            fig = FSM_add_Alarms(fig, fsm, startversuch)\n",
    "            fig = FSM_add_Warnings(fig, fsm, startversuch)\n",
    "            fig_handles.append(bokeh_show(fig, notebook_handle=True))\n",
    "        for h in fig_handles:\n",
    "            push_notebook(handle=h)\n",
    "    else:\n",
    "        print(f\"Start No {x} is not in the filtered results. please consider changing filters, if you want to access it.\")\n"
   ]
  },
  {
   "cell_type": "code",
   "execution_count": null,
   "metadata": {
    "jupyter": {
     "source_hidden": true
    },
    "tags": []
   },
   "outputs": [],
   "source": [
    "vv = 0\n",
    "@out.capture(clear_output=True)\n",
    "def cb(but):\n",
    "    global vv; vv = a.value; update_fig(a.value)\n",
    "\n",
    "a = widgets.IntText(description='No: ',layout=widgets.Layout(width='10%'))\n",
    "b = widgets.IntSlider(0, 0, rdf.shape[0]-1 , 1, layout=widgets.Layout(width='70%'))\n",
    "mylink = widgets.jslink((a, 'value'), (b, 'value'))\n",
    "d = widgets.Button(description='Show Plots',disabled=False, button_style='primary')\n",
    "d.on_click(cb)\n",
    "display( widgets.VBox([widgets.HBox([b, a, d]), out]));"
   ]
  },
  {
   "cell_type": "code",
   "execution_count": null,
   "metadata": {},
   "outputs": [],
   "source": [
    "#update_fig(vv)"
   ]
  },
  {
   "cell_type": "code",
   "execution_count": null,
   "metadata": {},
   "outputs": [],
   "source": [
    "startversuch = rdf.iloc[vv]\n",
    "print(\"messages leading to state Switches:\")\n",
    "print(\"-----------------------------------\")\n",
    "for i, v in enumerate(fsm.runlogdetail(startversuch, statechanges_only=True)):\n",
    "    print(f\"{i:3} {v}\")\n",
    "print(f\"\\nall messages during start attempt No.:{vv:4d} leading to state Switches:\")\n",
    "print(\"---------------------------------------------------------------------\")\n",
    "for i, v in enumerate(fsm.runlogdetail(startversuch, statechanges_only=False)):\n",
    "    print(f\"{i:3} {v}\")"
   ]
  },
  {
   "cell_type": "code",
   "execution_count": null,
   "metadata": {},
   "outputs": [],
   "source": [
    "mfn = e._fname + '_messages.txt'\n",
    "#fsm.save_messages(mfn)\n",
    "print(mfn)"
   ]
  },
  {
   "cell_type": "code",
   "execution_count": null,
   "metadata": {},
   "outputs": [],
   "source": [
    "vv = 0\n",
    "\n",
    "'''\n",
    "z = widgets.Combobox(\n",
    "    value=ddl[0],\n",
    "    placeholder='Select Engine',\n",
    "    options=ddl,\n",
    "    description='Engine:',\n",
    "    ensure_option=True,\n",
    "    disabled=False,\n",
    "    layout=widgets.Layout(width='60%')\n",
    ")\n",
    "'''\n",
    "\n",
    "a = widgets.IntText(description='No: ',layout=widgets.Layout(width='10%'))\n",
    "b = widgets.IntSlider(0, 0, rdf.shape[0]-1 , 1, layout=widgets.Layout(width='50%'))\n",
    "mylink = widgets.jslink((a, 'value'), (b, 'value'))\n",
    "\n",
    "'''\n",
    "b1 = widgets.DatePicker(\n",
    "    value=pd.to_datetime(e['Commissioning Date']),\n",
    "    description='From: ',\n",
    "    disabled=False\n",
    ")\n",
    "\n",
    "b2 =widgets.DatePicker(\n",
    "    value = date.today(),\n",
    "    description='To:',\n",
    "    disabled=False\n",
    ")\n",
    "\n",
    "#c = widgets.SelectMultiple(\n",
    "#    options=['Apples', 'Oranges', 'Pears'],\n",
    "#    value=['Oranges'],\n",
    "#    #rows=10,\n",
    "#    description='Fruits',\n",
    "#    disabled=False\n",
    "#)\n",
    "'''\n",
    "\n",
    "d = widgets.Button(\n",
    "    description='Show Figures',\n",
    "    disabled=False,\n",
    "    button_style='primary', # 'success', 'info', 'warning', 'danger' or ''\n",
    "    tooltip='Click me',\n",
    "    #icon='check', # (FontAwesome names without the `fa-` prefix)\n",
    ")\n",
    "\n",
    "\n",
    "@out.capture(clear_output=True)\n",
    "def cb(but):\n",
    "    #print(b.value, but)\n",
    "    global vv\n",
    "    vv = a.value\n",
    "    update_fig(a.value)\n",
    "d.on_click(cb)\n",
    "\n",
    "display(\n",
    "    widgets.VBox(\n",
    "        [\n",
    "        #z, \n",
    "        #widgets.HBox([b1, b2]),\n",
    "        widgets.HBox([b, a, d]), \n",
    "        out\n",
    "        ]\n",
    "    )\n",
    ");"
   ]
  }
 ],
 "metadata": {
  "kernelspec": {
   "display_name": "Python 3 (ipykernel)",
   "language": "python",
   "name": "python3"
  },
  "language_info": {
   "codemirror_mode": {
    "name": "ipython",
    "version": 3
   },
   "file_extension": ".py",
   "mimetype": "text/x-python",
   "name": "python",
   "nbconvert_exporter": "python",
   "pygments_lexer": "ipython3",
   "version": "3.9.7"
  }
 },
 "nbformat": 4,
 "nbformat_minor": 4
}
